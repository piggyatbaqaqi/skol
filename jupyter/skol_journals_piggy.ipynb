{
 "cells": [
  {
   "cell_type": "code",
   "execution_count": 7,
   "metadata": {},
   "outputs": [],
   "source": [
    "import glob\n",
    "import pandas as pd\n",
    "import matplotlib.pyplot as plt\n",
    "\n",
    "import sys\n",
    "sys.path.append('..')\n",
    "\n",
    "from finder import read_files, parse_annotated, target_classes\n",
    "from label import Label"
   ]
  },
  {
   "cell_type": "code",
   "execution_count": 8,
   "metadata": {},
   "outputs": [],
   "source": [
    "SEED=12345\n",
    "default_label = Label('Misc-exposition')\n",
    "keep_labels = [Label('Description'), Label('Nomenclature')]"
   ]
  },
  {
   "cell_type": "code",
   "execution_count": 9,
   "metadata": {},
   "outputs": [],
   "source": [
    "training_files = [f for g in [\n",
    "    '../data/annotated/journals/Mycotaxon/Vol*/*.ann'\n",
    "] for f in glob.glob(g)]\n"
   ]
  },
  {
   "cell_type": "code",
   "execution_count": 13,
   "metadata": {},
   "outputs": [
    {
     "data": {
      "text/plain": [
       "169"
      ]
     },
     "execution_count": 13,
     "metadata": {},
     "output_type": "execute_result"
    }
   ],
   "source": [
    "len(training_files)"
   ]
  },
  {
   "cell_type": "code",
   "execution_count": 10,
   "metadata": {},
   "outputs": [],
   "source": [
    "paragraphs = list(parse_annotated(read_files(training_files)))"
   ]
  },
  {
   "cell_type": "code",
   "execution_count": 11,
   "metadata": {},
   "outputs": [],
   "source": [
    "relabeled = list(target_classes(default=default_label, keep=keep_labels, paragraphs=paragraphs))"
   ]
  },
  {
   "cell_type": "code",
   "execution_count": 16,
   "metadata": {},
   "outputs": [
    {
     "name": "stdout",
     "output_type": "stream",
     "text": [
      "79192 paragraphs\n",
      "[Labels([Label('Misc-exposition')]), Paragraph('\\n'), Pending(None)\n",
      ", Labels([Label('Misc-exposition')]), Paragraph('ISSN (print) 0093-4666\\n'), Pending(None)\n",
      ", Labels([Label('Misc-exposition')]), Paragraph('\\n'), Pending(None)\n",
      ", Labels([Label('Misc-exposition')]), Paragraph('© 2012. Mycotaxon, Ltd.\\n'), Pending(None)\n",
      ", Labels([Label('Misc-exposition')]), Paragraph('\\n'), Pending(None)\n",
      "]\n"
     ]
    }
   ],
   "source": [
    "print(len(relabeled), \"paragraphs\")\n",
    "print(relabeled[:5])"
   ]
  },
  {
   "cell_type": "code",
   "execution_count": 34,
   "metadata": {},
   "outputs": [
    {
     "name": "stdout",
     "output_type": "stream",
     "text": [
      "pp.filename: ../data/annotated/journals/Mycotaxon/Vol119/s19.txt.ann\n",
      "pp.paragraph_number: 2000\n",
      "pp.top_label().label: Misc-exposition\n",
      "pp.empirical_page_number: 4666\n",
      "str(pp): There are 114 Mycena species so far recorded in Argentina. Most have been\n",
      "found in the Andino-Patagonic forest and the Yungas region of northwestern\n",
      "Argentina, with only six species known from the Paranaense forest (Spegazzini\n",
      "1926, Wright et al. 2008, Lechner et al. 2006, Wright & Wright 2005, Niveiro\n",
      "et al. 2010).\n",
      "\n",
      "len(str(pp)): 318\n"
     ]
    }
   ],
   "source": [
    "pp=relabeled[2000]\n",
    "dir(pp)\n",
    "print(f\"pp.filename: {pp.filename}\")\n",
    "print(f\"pp.paragraph_number: {pp.paragraph_number}\")\n",
    "print(f\"pp.top_label().label: {pp.top_label().label}\")\n",
    "print(f\"pp.empirical_page_number: {pp.empirical_page_number}\")\n",
    "print(f\"str(pp): {str(pp)}\")\n",
    "print(f\"len(str(pp)): {len(str(pp))}\")"
   ]
  },
  {
   "cell_type": "code",
   "execution_count": 22,
   "metadata": {},
   "outputs": [],
   "source": [
    "df = pd.DataFrame({\n",
    "    'filename': [pp.filename for pp in relabeled],\n",
    "    'label': [pp.top_label().label if pp.top_label() else None for pp in relabeled],\n",
    "    'paragraph_number': [pp.paragraph_number for pp in relabeled],\n",
    "    'page_number': [pp.page_number for pp in relabeled],\n",
    "    'empirical_page_number': [pp.empirical_page_number for pp in relabeled],\n",
    "    'line_number': [pp.first_line.line_number if pp.first_line else None for pp in relabeled],\n",
    "    'body': [str(pp) for pp in relabeled]\n",
    "})\n",
    "df.label = pd.Categorical(df.label)\n",
    "df['label_code'] = df.label.cat.codes"
   ]
  },
  {
   "cell_type": "code",
   "execution_count": 24,
   "metadata": {},
   "outputs": [
    {
     "data": {
      "text/html": [
       "<div>\n",
       "<style scoped>\n",
       "    .dataframe tbody tr th:only-of-type {\n",
       "        vertical-align: middle;\n",
       "    }\n",
       "\n",
       "    .dataframe tbody tr th {\n",
       "        vertical-align: top;\n",
       "    }\n",
       "\n",
       "    .dataframe thead th {\n",
       "        text-align: right;\n",
       "    }\n",
       "</style>\n",
       "<table border=\"1\" class=\"dataframe\">\n",
       "  <thead>\n",
       "    <tr style=\"text-align: right;\">\n",
       "      <th></th>\n",
       "      <th>paragraph_number</th>\n",
       "      <th>page_number</th>\n",
       "      <th>line_number</th>\n",
       "      <th>label_code</th>\n",
       "    </tr>\n",
       "  </thead>\n",
       "  <tbody>\n",
       "    <tr>\n",
       "      <th>count</th>\n",
       "      <td>79192.000000</td>\n",
       "      <td>79192.000000</td>\n",
       "      <td>79191.000000</td>\n",
       "      <td>79192.000000</td>\n",
       "    </tr>\n",
       "    <tr>\n",
       "      <th>mean</th>\n",
       "      <td>39595.500000</td>\n",
       "      <td>233.063415</td>\n",
       "      <td>31.672652</td>\n",
       "      <td>0.990479</td>\n",
       "    </tr>\n",
       "    <tr>\n",
       "      <th>std</th>\n",
       "      <td>22860.905596</td>\n",
       "      <td>192.882065</td>\n",
       "      <td>29.156364</td>\n",
       "      <td>0.319322</td>\n",
       "    </tr>\n",
       "    <tr>\n",
       "      <th>min</th>\n",
       "      <td>0.000000</td>\n",
       "      <td>0.000000</td>\n",
       "      <td>1.000000</td>\n",
       "      <td>0.000000</td>\n",
       "    </tr>\n",
       "    <tr>\n",
       "      <th>25%</th>\n",
       "      <td>19797.750000</td>\n",
       "      <td>24.000000</td>\n",
       "      <td>10.000000</td>\n",
       "      <td>1.000000</td>\n",
       "    </tr>\n",
       "    <tr>\n",
       "      <th>50%</th>\n",
       "      <td>39595.500000</td>\n",
       "      <td>216.000000</td>\n",
       "      <td>25.000000</td>\n",
       "      <td>1.000000</td>\n",
       "    </tr>\n",
       "    <tr>\n",
       "      <th>75%</th>\n",
       "      <td>59393.250000</td>\n",
       "      <td>416.000000</td>\n",
       "      <td>43.000000</td>\n",
       "      <td>1.000000</td>\n",
       "    </tr>\n",
       "    <tr>\n",
       "      <th>max</th>\n",
       "      <td>79191.000000</td>\n",
       "      <td>572.000000</td>\n",
       "      <td>292.000000</td>\n",
       "      <td>2.000000</td>\n",
       "    </tr>\n",
       "  </tbody>\n",
       "</table>\n",
       "</div>"
      ],
      "text/plain": [
       "       paragraph_number   page_number   line_number    label_code\n",
       "count      79192.000000  79192.000000  79191.000000  79192.000000\n",
       "mean       39595.500000    233.063415     31.672652      0.990479\n",
       "std        22860.905596    192.882065     29.156364      0.319322\n",
       "min            0.000000      0.000000      1.000000      0.000000\n",
       "25%        19797.750000     24.000000     10.000000      1.000000\n",
       "50%        39595.500000    216.000000     25.000000      1.000000\n",
       "75%        59393.250000    416.000000     43.000000      1.000000\n",
       "max        79191.000000    572.000000    292.000000      2.000000"
      ]
     },
     "execution_count": 24,
     "metadata": {},
     "output_type": "execute_result"
    }
   ],
   "source": [
    "df.describe()"
   ]
  },
  {
   "cell_type": "code",
   "execution_count": 25,
   "metadata": {},
   "outputs": [
    {
     "data": {
      "text/plain": [
       "Index(['filename', 'label', 'paragraph_number', 'page_number',\n",
       "       'empirical_page_number', 'line_number', 'body', 'label_code'],\n",
       "      dtype='object')"
      ]
     },
     "execution_count": 25,
     "metadata": {},
     "output_type": "execute_result"
    }
   ],
   "source": [
    "df.keys()"
   ]
  },
  {
   "cell_type": "code",
   "execution_count": 35,
   "metadata": {},
   "outputs": [
    {
     "name": "stderr",
     "output_type": "stream",
     "text": [
      "/tmp/ipykernel_1713312/3741156644.py:1: FutureWarning: The default of observed=False is deprecated and will be changed to True in a future version of pandas. Pass observed=False to retain current behavior or observed=True to adopt the future default and silence this warning.\n",
      "  df.groupby('label').nunique()\n"
     ]
    },
    {
     "data": {
      "text/html": [
       "<div>\n",
       "<style scoped>\n",
       "    .dataframe tbody tr th:only-of-type {\n",
       "        vertical-align: middle;\n",
       "    }\n",
       "\n",
       "    .dataframe tbody tr th {\n",
       "        vertical-align: top;\n",
       "    }\n",
       "\n",
       "    .dataframe thead th {\n",
       "        text-align: right;\n",
       "    }\n",
       "</style>\n",
       "<table border=\"1\" class=\"dataframe\">\n",
       "  <thead>\n",
       "    <tr style=\"text-align: right;\">\n",
       "      <th></th>\n",
       "      <th>filename</th>\n",
       "      <th>paragraph_number</th>\n",
       "      <th>page_number</th>\n",
       "      <th>empirical_page_number</th>\n",
       "      <th>line_number</th>\n",
       "      <th>body</th>\n",
       "      <th>label_code</th>\n",
       "    </tr>\n",
       "    <tr>\n",
       "      <th>label</th>\n",
       "      <th></th>\n",
       "      <th></th>\n",
       "      <th></th>\n",
       "      <th></th>\n",
       "      <th></th>\n",
       "      <th></th>\n",
       "      <th></th>\n",
       "    </tr>\n",
       "  </thead>\n",
       "  <tbody>\n",
       "    <tr>\n",
       "      <th>Description</th>\n",
       "      <td>149</td>\n",
       "      <td>4418</td>\n",
       "      <td>497</td>\n",
       "      <td>501</td>\n",
       "      <td>80</td>\n",
       "      <td>3014</td>\n",
       "      <td>1</td>\n",
       "    </tr>\n",
       "    <tr>\n",
       "      <th>Misc-exposition</th>\n",
       "      <td>169</td>\n",
       "      <td>71110</td>\n",
       "      <td>573</td>\n",
       "      <td>579</td>\n",
       "      <td>192</td>\n",
       "      <td>40173</td>\n",
       "      <td>1</td>\n",
       "    </tr>\n",
       "    <tr>\n",
       "      <th>Nomenclature</th>\n",
       "      <td>152</td>\n",
       "      <td>3664</td>\n",
       "      <td>437</td>\n",
       "      <td>449</td>\n",
       "      <td>83</td>\n",
       "      <td>3551</td>\n",
       "      <td>1</td>\n",
       "    </tr>\n",
       "  </tbody>\n",
       "</table>\n",
       "</div>"
      ],
      "text/plain": [
       "                 filename  paragraph_number  page_number  \\\n",
       "label                                                      \n",
       "Description           149              4418          497   \n",
       "Misc-exposition       169             71110          573   \n",
       "Nomenclature          152              3664          437   \n",
       "\n",
       "                 empirical_page_number  line_number   body  label_code  \n",
       "label                                                                   \n",
       "Description                        501           80   3014           1  \n",
       "Misc-exposition                    579          192  40173           1  \n",
       "Nomenclature                       449           83   3551           1  "
      ]
     },
     "execution_count": 35,
     "metadata": {},
     "output_type": "execute_result"
    }
   ],
   "source": [
    "df.groupby('label').nunique()"
   ]
  },
  {
   "cell_type": "code",
   "execution_count": 36,
   "metadata": {},
   "outputs": [
    {
     "data": {
      "image/png": "[encoded data removed]",
      "text/plain": [
       "<Figure size 640x480 with 1 Axes>"
      ]
     },
     "metadata": {},
     "output_type": "display_data"
    }
   ],
   "source": [
    "df.plot(kind='line', x='paragraph_number', y='label_code', style='-o')\n",
    "x = 185\n",
    "plt.xlim(x,x+40)\n",
    "plt.show()"
   ]
  },
  {
   "cell_type": "code",
   "execution_count": 37,
   "metadata": {},
   "outputs": [
    {
     "data": {
      "text/plain": [
       "(filename                 ../data/annotated/journals/Mycotaxon/Vol119/s4...\n",
       " label                                                      Misc-exposition\n",
       " paragraph_number                                                       187\n",
       " page_number                                                              7\n",
       " empirical_page_number                                                  411\n",
       " line_number                                                           46.0\n",
       " body                     Singer R. 1976. Marasmieae (Basidiomycetes – T...\n",
       " label_code                                                               1\n",
       " Name: 187, dtype: object,\n",
       " filename                 ../data/annotated/journals/Mycotaxon/Vol119/s4...\n",
       " label                                                      Misc-exposition\n",
       " paragraph_number                                                       188\n",
       " page_number                                                              7\n",
       " empirical_page_number                                                  411\n",
       " line_number                                                           47.0\n",
       " body                                                                    \\n\n",
       " label_code                                                               1\n",
       " Name: 188, dtype: object,\n",
       " filename                 ../data/annotated/journals/Mycotaxon/Vol119/s2...\n",
       " label                                                      Misc-exposition\n",
       " paragraph_number                                                       194\n",
       " page_number                                                              1\n",
       " empirical_page_number                                                 4666\n",
       " line_number                                                            5.0\n",
       " body                                             ISSN (online) 2154-8889\\n\n",
       " label_code                                                               1\n",
       " Name: 194, dtype: object)"
      ]
     },
     "execution_count": 37,
     "metadata": {},
     "output_type": "execute_result"
    }
   ],
   "source": [
    "df.loc[187], df.loc[188], df.loc[194]"
   ]
  },
  {
   "cell_type": "markdown",
   "metadata": {},
   "source": [
    "We're only interested in Nomeclature and Description paragraphs.\n",
    "\n",
    "The long list of Nomenclatures followed by a single Nomenclature is an article with just Nomenclatures, and then the next article has a Nomenclature and two Descriptions."
   ]
  },
  {
   "cell_type": "code",
   "execution_count": 38,
   "metadata": {},
   "outputs": [
    {
     "data": {
      "text/plain": [
       "8082"
      ]
     },
     "execution_count": 38,
     "metadata": {},
     "output_type": "execute_result"
    }
   ],
   "source": [
    "df2 = df.loc[df['label'].isin(['Nomenclature', 'Description'])]\n",
    "len(df2)"
   ]
  },
  {
   "cell_type": "code",
   "execution_count": 42,
   "metadata": {},
   "outputs": [
    {
     "data": {
      "image/png": "[encoded data removed]",
      "text/plain": [
       "<Figure size 640x480 with 1 Axes>"
      ]
     },
     "metadata": {},
     "output_type": "display_data"
    }
   ],
   "source": [
    "df2.plot(kind='line', x='paragraph_number', y='label_code', style='-o')\n",
    "x = 300\n",
    "plt.xlim(x,x+1000)\n",
    "plt.show()"
   ]
  },
  {
   "cell_type": "markdown",
   "metadata": {},
   "source": [
    "Sensible cutoffs for max distance from Nomenclature to Description appear to be above 6 or maybe above 13."
   ]
  },
  {
   "cell_type": "code",
   "execution_count": 43,
   "metadata": {},
   "outputs": [
    {
     "data": {
      "text/plain": [
       "np.float64(6313.0)"
      ]
     },
     "execution_count": 43,
     "metadata": {},
     "output_type": "execute_result"
    },
    {
     "data": {
      "image/png": "[encoded data removed]",
      "text/plain": [
       "<Figure size 640x480 with 1 Axes>"
      ]
     },
     "metadata": {},
     "output_type": "display_data"
    }
   ],
   "source": [
    "diffs = df2['paragraph_number'].diff()\n",
    "diffs[diffs < 20].hist(bins=40)\n",
    "diffs.max()"
   ]
  },
  {
   "cell_type": "markdown",
   "metadata": {},
   "source": [
    "I have confirmed that the highest paragraph distance is the first nomenclature in a volume. The first and last few articles in Mycotaxon typically have no Nomenclatures."
   ]
  },
  {
   "cell_type": "code",
   "execution_count": 16,
   "metadata": {},
   "outputs": [
    {
     "data": {
      "text/html": [
       "<div>\n",
       "<style scoped>\n",
       "    .dataframe tbody tr th:only-of-type {\n",
       "        vertical-align: middle;\n",
       "    }\n",
       "\n",
       "    .dataframe tbody tr th {\n",
       "        vertical-align: top;\n",
       "    }\n",
       "\n",
       "    .dataframe thead th {\n",
       "        text-align: right;\n",
       "    }\n",
       "</style>\n",
       "<table border=\"1\" class=\"dataframe\">\n",
       "  <thead>\n",
       "    <tr style=\"text-align: right;\">\n",
       "      <th></th>\n",
       "      <th>filename</th>\n",
       "      <th>label</th>\n",
       "      <th>paragraph_number</th>\n",
       "      <th>page_number</th>\n",
       "      <th>empirical_page_number</th>\n",
       "      <th>line_number</th>\n",
       "      <th>body</th>\n",
       "      <th>label_code</th>\n",
       "    </tr>\n",
       "  </thead>\n",
       "  <tbody>\n",
       "    <tr>\n",
       "      <th>57414</th>\n",
       "      <td>data/annotated/journals/Mycotaxon/Vol057/n1.tx...</td>\n",
       "      <td>Nomenclature</td>\n",
       "      <td>57414</td>\n",
       "      <td>96</td>\n",
       "      <td>88</td>\n",
       "      <td>21.0</td>\n",
       "      <td>Appendiculella mauensis R. K. Mibey sp. nov. F...</td>\n",
       "      <td>2</td>\n",
       "    </tr>\n",
       "  </tbody>\n",
       "</table>\n",
       "</div>"
      ],
      "text/plain": [
       "                                                filename         label  \\\n",
       "57414  data/annotated/journals/Mycotaxon/Vol057/n1.tx...  Nomenclature   \n",
       "\n",
       "       paragraph_number  page_number empirical_page_number  line_number  \\\n",
       "57414             57414           96                    88         21.0   \n",
       "\n",
       "                                                    body  label_code  \n",
       "57414  Appendiculella mauensis R. K. Mibey sp. nov. F...           2  "
      ]
     },
     "execution_count": 16,
     "metadata": {},
     "output_type": "execute_result"
    }
   ],
   "source": [
    "df2.loc[diffs.index[diffs == 3958.0]]"
   ]
  },
  {
   "cell_type": "code",
   "execution_count": 17,
   "metadata": {},
   "outputs": [
    {
     "data": {
      "text/plain": [
       "filename                 data/annotated/journals/Mycotaxon/Vol057/n1.tx...\n",
       "label                                                         Nomenclature\n",
       "paragraph_number                                                     57414\n",
       "page_number                                                             96\n",
       "empirical_page_number                                                   88\n",
       "line_number                                                             21\n",
       "body                     Appendiculella mauensis R. K. Mibey sp. nov. F...\n",
       "label_code                                                               2\n",
       "Name: 57414, dtype: object"
      ]
     },
     "execution_count": 17,
     "metadata": {},
     "output_type": "execute_result"
    }
   ],
   "source": [
    "df2.loc[57414]"
   ]
  }
 ],
 "metadata": {
  "kernelspec": {
   "display_name": "ist664",
   "language": "python",
   "name": "python3"
  },
  "language_info": {
   "codemirror_mode": {
    "name": "ipython",
    "version": 3
   },
   "file_extension": ".py",
   "mimetype": "text/x-python",
   "name": "python",
   "nbconvert_exporter": "python",
   "pygments_lexer": "ipython3",
   "version": "3.12.5"
  }
 },
 "nbformat": 4,
 "nbformat_minor": 4
}
