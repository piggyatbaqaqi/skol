{
  "nbformat": 4,
  "nbformat_minor": 0,
  "metadata": {
    "colab": {
      "provenance": [],
      "machine_shape": "hm",
      "gpuType": "A100",
      "include_colab_link": true
    },
    "kernelspec": {
      "name": "python3",
      "display_name": "Python 3"
    },
    "language_info": {
      "name": "python"
    },
    "accelerator": "GPU",
    "widgets": {
      "application/vnd.jupyter.widget-state+json": {
        "71edade0a7fc4f99b16e3cd85d7f0cec": {
          "model_module": "@jupyter-widgets/controls",
          "model_name": "HBoxModel",
          "model_module_version": "1.5.0",
          "state": {
            "_dom_classes": [],
            "_model_module": "@jupyter-widgets/controls",
            "_model_module_version": "1.5.0",
            "_model_name": "HBoxModel",
            "_view_count": null,
            "_view_module": "@jupyter-widgets/controls",
            "_view_module_version": "1.5.0",
            "_view_name": "HBoxView",
            "box_style": "",
            "children": [
              "IPY_MODEL_f5bddfb434544ac5bde905f2829d9dbf",
              "IPY_MODEL_0ed86c075a794a29859d05f28ef97545",
              "IPY_MODEL_faf45f956b74408caa714057b9d8c740"
            ],
            "layout": "IPY_MODEL_3402435e871c490295e806a9d4177680"
          }
        },
        "f5bddfb434544ac5bde905f2829d9dbf": {
          "model_module": "@jupyter-widgets/controls",
          "model_name": "HTMLModel",
          "model_module_version": "1.5.0",
          "state": {
            "_dom_classes": [],
            "_model_module": "@jupyter-widgets/controls",
            "_model_module_version": "1.5.0",
            "_model_name": "HTMLModel",
            "_view_count": null,
            "_view_module": "@jupyter-widgets/controls",
            "_view_module_version": "1.5.0",
            "_view_name": "HTMLView",
            "description": "",
            "description_tooltip": null,
            "layout": "IPY_MODEL_dc4585e0499c40c18bc5be47285baa1f",
            "placeholder": "​",
            "style": "IPY_MODEL_90824219059c498c8ce3be3655b77aed",
            "value": "Loading checkpoint shards: 100%"
          }
        },
        "0ed86c075a794a29859d05f28ef97545": {
          "model_module": "@jupyter-widgets/controls",
          "model_name": "FloatProgressModel",
          "model_module_version": "1.5.0",
          "state": {
            "_dom_classes": [],
            "_model_module": "@jupyter-widgets/controls",
            "_model_module_version": "1.5.0",
            "_model_name": "FloatProgressModel",
            "_view_count": null,
            "_view_module": "@jupyter-widgets/controls",
            "_view_module_version": "1.5.0",
            "_view_name": "ProgressView",
            "bar_style": "success",
            "description": "",
            "description_tooltip": null,
            "layout": "IPY_MODEL_3caa5216f5364e5fa0020fa5496bdc2a",
            "max": 3,
            "min": 0,
            "orientation": "horizontal",
            "style": "IPY_MODEL_a43c1fd4474243979f1ab47ae50d5702",
            "value": 3
          }
        },
        "faf45f956b74408caa714057b9d8c740": {
          "model_module": "@jupyter-widgets/controls",
          "model_name": "HTMLModel",
          "model_module_version": "1.5.0",
          "state": {
            "_dom_classes": [],
            "_model_module": "@jupyter-widgets/controls",
            "_model_module_version": "1.5.0",
            "_model_name": "HTMLModel",
            "_view_count": null,
            "_view_module": "@jupyter-widgets/controls",
            "_view_module_version": "1.5.0",
            "_view_name": "HTMLView",
            "description": "",
            "description_tooltip": null,
            "layout": "IPY_MODEL_57ff04fd2c8e4d4a83236ab62e273174",
            "placeholder": "​",
            "style": "IPY_MODEL_1b46fff5d284411da0c6f125af642158",
            "value": " 3/3 [00:10&lt;00:00,  3.57s/it]"
          }
        },
        "3402435e871c490295e806a9d4177680": {
          "model_module": "@jupyter-widgets/base",
          "model_name": "LayoutModel",
          "model_module_version": "1.2.0",
          "state": {
            "_model_module": "@jupyter-widgets/base",
            "_model_module_version": "1.2.0",
            "_model_name": "LayoutModel",
            "_view_count": null,
            "_view_module": "@jupyter-widgets/base",
            "_view_module_version": "1.2.0",
            "_view_name": "LayoutView",
            "align_content": null,
            "align_items": null,
            "align_self": null,
            "border": null,
            "bottom": null,
            "display": null,
            "flex": null,
            "flex_flow": null,
            "grid_area": null,
            "grid_auto_columns": null,
            "grid_auto_flow": null,
            "grid_auto_rows": null,
            "grid_column": null,
            "grid_gap": null,
            "grid_row": null,
            "grid_template_areas": null,
            "grid_template_columns": null,
            "grid_template_rows": null,
            "height": null,
            "justify_content": null,
            "justify_items": null,
            "left": null,
            "margin": null,
            "max_height": null,
            "max_width": null,
            "min_height": null,
            "min_width": null,
            "object_fit": null,
            "object_position": null,
            "order": null,
            "overflow": null,
            "overflow_x": null,
            "overflow_y": null,
            "padding": null,
            "right": null,
            "top": null,
            "visibility": null,
            "width": null
          }
        },
        "dc4585e0499c40c18bc5be47285baa1f": {
          "model_module": "@jupyter-widgets/base",
          "model_name": "LayoutModel",
          "model_module_version": "1.2.0",
          "state": {
            "_model_module": "@jupyter-widgets/base",
            "_model_module_version": "1.2.0",
            "_model_name": "LayoutModel",
            "_view_count": null,
            "_view_module": "@jupyter-widgets/base",
            "_view_module_version": "1.2.0",
            "_view_name": "LayoutView",
            "align_content": null,
            "align_items": null,
            "align_self": null,
            "border": null,
            "bottom": null,
            "display": null,
            "flex": null,
            "flex_flow": null,
            "grid_area": null,
            "grid_auto_columns": null,
            "grid_auto_flow": null,
            "grid_auto_rows": null,
            "grid_column": null,
            "grid_gap": null,
            "grid_row": null,
            "grid_template_areas": null,
            "grid_template_columns": null,
            "grid_template_rows": null,
            "height": null,
            "justify_content": null,
            "justify_items": null,
            "left": null,
            "margin": null,
            "max_height": null,
            "max_width": null,
            "min_height": null,
            "min_width": null,
            "object_fit": null,
            "object_position": null,
            "order": null,
            "overflow": null,
            "overflow_x": null,
            "overflow_y": null,
            "padding": null,
            "right": null,
            "top": null,
            "visibility": null,
            "width": null
          }
        },
        "90824219059c498c8ce3be3655b77aed": {
          "model_module": "@jupyter-widgets/controls",
          "model_name": "DescriptionStyleModel",
          "model_module_version": "1.5.0",
          "state": {
            "_model_module": "@jupyter-widgets/controls",
            "_model_module_version": "1.5.0",
            "_model_name": "DescriptionStyleModel",
            "_view_count": null,
            "_view_module": "@jupyter-widgets/base",
            "_view_module_version": "1.2.0",
            "_view_name": "StyleView",
            "description_width": ""
          }
        },
        "3caa5216f5364e5fa0020fa5496bdc2a": {
          "model_module": "@jupyter-widgets/base",
          "model_name": "LayoutModel",
          "model_module_version": "1.2.0",
          "state": {
            "_model_module": "@jupyter-widgets/base",
            "_model_module_version": "1.2.0",
            "_model_name": "LayoutModel",
            "_view_count": null,
            "_view_module": "@jupyter-widgets/base",
            "_view_module_version": "1.2.0",
            "_view_name": "LayoutView",
            "align_content": null,
            "align_items": null,
            "align_self": null,
            "border": null,
            "bottom": null,
            "display": null,
            "flex": null,
            "flex_flow": null,
            "grid_area": null,
            "grid_auto_columns": null,
            "grid_auto_flow": null,
            "grid_auto_rows": null,
            "grid_column": null,
            "grid_gap": null,
            "grid_row": null,
            "grid_template_areas": null,
            "grid_template_columns": null,
            "grid_template_rows": null,
            "height": null,
            "justify_content": null,
            "justify_items": null,
            "left": null,
            "margin": null,
            "max_height": null,
            "max_width": null,
            "min_height": null,
            "min_width": null,
            "object_fit": null,
            "object_position": null,
            "order": null,
            "overflow": null,
            "overflow_x": null,
            "overflow_y": null,
            "padding": null,
            "right": null,
            "top": null,
            "visibility": null,
            "width": null
          }
        },
        "a43c1fd4474243979f1ab47ae50d5702": {
          "model_module": "@jupyter-widgets/controls",
          "model_name": "ProgressStyleModel",
          "model_module_version": "1.5.0",
          "state": {
            "_model_module": "@jupyter-widgets/controls",
            "_model_module_version": "1.5.0",
            "_model_name": "ProgressStyleModel",
            "_view_count": null,
            "_view_module": "@jupyter-widgets/base",
            "_view_module_version": "1.2.0",
            "_view_name": "StyleView",
            "bar_color": null,
            "description_width": ""
          }
        },
        "57ff04fd2c8e4d4a83236ab62e273174": {
          "model_module": "@jupyter-widgets/base",
          "model_name": "LayoutModel",
          "model_module_version": "1.2.0",
          "state": {
            "_model_module": "@jupyter-widgets/base",
            "_model_module_version": "1.2.0",
            "_model_name": "LayoutModel",
            "_view_count": null,
            "_view_module": "@jupyter-widgets/base",
            "_view_module_version": "1.2.0",
            "_view_name": "LayoutView",
            "align_content": null,
            "align_items": null,
            "align_self": null,
            "border": null,
            "bottom": null,
            "display": null,
            "flex": null,
            "flex_flow": null,
            "grid_area": null,
            "grid_auto_columns": null,
            "grid_auto_flow": null,
            "grid_auto_rows": null,
            "grid_column": null,
            "grid_gap": null,
            "grid_row": null,
            "grid_template_areas": null,
            "grid_template_columns": null,
            "grid_template_rows": null,
            "height": null,
            "justify_content": null,
            "justify_items": null,
            "left": null,
            "margin": null,
            "max_height": null,
            "max_width": null,
            "min_height": null,
            "min_width": null,
            "object_fit": null,
            "object_position": null,
            "order": null,
            "overflow": null,
            "overflow_x": null,
            "overflow_y": null,
            "padding": null,
            "right": null,
            "top": null,
            "visibility": null,
            "width": null
          }
        },
        "1b46fff5d284411da0c6f125af642158": {
          "model_module": "@jupyter-widgets/controls",
          "model_name": "DescriptionStyleModel",
          "model_module_version": "1.5.0",
          "state": {
            "_model_module": "@jupyter-widgets/controls",
            "_model_module_version": "1.5.0",
            "_model_name": "DescriptionStyleModel",
            "_view_count": null,
            "_view_module": "@jupyter-widgets/base",
            "_view_module_version": "1.2.0",
            "_view_name": "StyleView",
            "description_width": ""
          }
        },
        "b15ff03b8c42419c9546c22848a4c67a": {
          "model_module": "@jupyter-widgets/controls",
          "model_name": "HBoxModel",
          "model_module_version": "1.5.0",
          "state": {
            "_dom_classes": [],
            "_model_module": "@jupyter-widgets/controls",
            "_model_module_version": "1.5.0",
            "_model_name": "HBoxModel",
            "_view_count": null,
            "_view_module": "@jupyter-widgets/controls",
            "_view_module_version": "1.5.0",
            "_view_name": "HBoxView",
            "box_style": "",
            "children": [
              "IPY_MODEL_10e584e4e4f643d19452f3c307710861",
              "IPY_MODEL_fa17756bd9d1474fa1c55c2909fecd01",
              "IPY_MODEL_5b27a360090c42ae9d81f07bdf819baa"
            ],
            "layout": "IPY_MODEL_ff939a7fee334daea29500510aaa11b9"
          }
        },
        "10e584e4e4f643d19452f3c307710861": {
          "model_module": "@jupyter-widgets/controls",
          "model_name": "HTMLModel",
          "model_module_version": "1.5.0",
          "state": {
            "_dom_classes": [],
            "_model_module": "@jupyter-widgets/controls",
            "_model_module_version": "1.5.0",
            "_model_name": "HTMLModel",
            "_view_count": null,
            "_view_module": "@jupyter-widgets/controls",
            "_view_module_version": "1.5.0",
            "_view_name": "HTMLView",
            "description": "",
            "description_tooltip": null,
            "layout": "IPY_MODEL_7a2b3db597954a0ebd2c1a33d15e48e9",
            "placeholder": "​",
            "style": "IPY_MODEL_fd4d2163d6564b1787e4bd6430f68719",
            "value": "Map: 100%"
          }
        },
        "fa17756bd9d1474fa1c55c2909fecd01": {
          "model_module": "@jupyter-widgets/controls",
          "model_name": "FloatProgressModel",
          "model_module_version": "1.5.0",
          "state": {
            "_dom_classes": [],
            "_model_module": "@jupyter-widgets/controls",
            "_model_module_version": "1.5.0",
            "_model_name": "FloatProgressModel",
            "_view_count": null,
            "_view_module": "@jupyter-widgets/controls",
            "_view_module_version": "1.5.0",
            "_view_name": "ProgressView",
            "bar_style": "success",
            "description": "",
            "description_tooltip": null,
            "layout": "IPY_MODEL_43c2d1e5be144354a0ae5be8df104863",
            "max": 14,
            "min": 0,
            "orientation": "horizontal",
            "style": "IPY_MODEL_f7b1cf32462e41a59412c730d51dabbf",
            "value": 14
          }
        },
        "5b27a360090c42ae9d81f07bdf819baa": {
          "model_module": "@jupyter-widgets/controls",
          "model_name": "HTMLModel",
          "model_module_version": "1.5.0",
          "state": {
            "_dom_classes": [],
            "_model_module": "@jupyter-widgets/controls",
            "_model_module_version": "1.5.0",
            "_model_name": "HTMLModel",
            "_view_count": null,
            "_view_module": "@jupyter-widgets/controls",
            "_view_module_version": "1.5.0",
            "_view_name": "HTMLView",
            "description": "",
            "description_tooltip": null,
            "layout": "IPY_MODEL_58d1efdc1e6f40f1b29ea296c939bec1",
            "placeholder": "​",
            "style": "IPY_MODEL_520da93476ce413484bfb66cf90b8471",
            "value": " 14/14 [00:00&lt;00:00, 198.86 examples/s]"
          }
        },
        "ff939a7fee334daea29500510aaa11b9": {
          "model_module": "@jupyter-widgets/base",
          "model_name": "LayoutModel",
          "model_module_version": "1.2.0",
          "state": {
            "_model_module": "@jupyter-widgets/base",
            "_model_module_version": "1.2.0",
            "_model_name": "LayoutModel",
            "_view_count": null,
            "_view_module": "@jupyter-widgets/base",
            "_view_module_version": "1.2.0",
            "_view_name": "LayoutView",
            "align_content": null,
            "align_items": null,
            "align_self": null,
            "border": null,
            "bottom": null,
            "display": null,
            "flex": null,
            "flex_flow": null,
            "grid_area": null,
            "grid_auto_columns": null,
            "grid_auto_flow": null,
            "grid_auto_rows": null,
            "grid_column": null,
            "grid_gap": null,
            "grid_row": null,
            "grid_template_areas": null,
            "grid_template_columns": null,
            "grid_template_rows": null,
            "height": null,
            "justify_content": null,
            "justify_items": null,
            "left": null,
            "margin": null,
            "max_height": null,
            "max_width": null,
            "min_height": null,
            "min_width": null,
            "object_fit": null,
            "object_position": null,
            "order": null,
            "overflow": null,
            "overflow_x": null,
            "overflow_y": null,
            "padding": null,
            "right": null,
            "top": null,
            "visibility": null,
            "width": null
          }
        },
        "7a2b3db597954a0ebd2c1a33d15e48e9": {
          "model_module": "@jupyter-widgets/base",
          "model_name": "LayoutModel",
          "model_module_version": "1.2.0",
          "state": {
            "_model_module": "@jupyter-widgets/base",
            "_model_module_version": "1.2.0",
            "_model_name": "LayoutModel",
            "_view_count": null,
            "_view_module": "@jupyter-widgets/base",
            "_view_module_version": "1.2.0",
            "_view_name": "LayoutView",
            "align_content": null,
            "align_items": null,
            "align_self": null,
            "border": null,
            "bottom": null,
            "display": null,
            "flex": null,
            "flex_flow": null,
            "grid_area": null,
            "grid_auto_columns": null,
            "grid_auto_flow": null,
            "grid_auto_rows": null,
            "grid_column": null,
            "grid_gap": null,
            "grid_row": null,
            "grid_template_areas": null,
            "grid_template_columns": null,
            "grid_template_rows": null,
            "height": null,
            "justify_content": null,
            "justify_items": null,
            "left": null,
            "margin": null,
            "max_height": null,
            "max_width": null,
            "min_height": null,
            "min_width": null,
            "object_fit": null,
            "object_position": null,
            "order": null,
            "overflow": null,
            "overflow_x": null,
            "overflow_y": null,
            "padding": null,
            "right": null,
            "top": null,
            "visibility": null,
            "width": null
          }
        },
        "fd4d2163d6564b1787e4bd6430f68719": {
          "model_module": "@jupyter-widgets/controls",
          "model_name": "DescriptionStyleModel",
          "model_module_version": "1.5.0",
          "state": {
            "_model_module": "@jupyter-widgets/controls",
            "_model_module_version": "1.5.0",
            "_model_name": "DescriptionStyleModel",
            "_view_count": null,
            "_view_module": "@jupyter-widgets/base",
            "_view_module_version": "1.2.0",
            "_view_name": "StyleView",
            "description_width": ""
          }
        },
        "43c2d1e5be144354a0ae5be8df104863": {
          "model_module": "@jupyter-widgets/base",
          "model_name": "LayoutModel",
          "model_module_version": "1.2.0",
          "state": {
            "_model_module": "@jupyter-widgets/base",
            "_model_module_version": "1.2.0",
            "_model_name": "LayoutModel",
            "_view_count": null,
            "_view_module": "@jupyter-widgets/base",
            "_view_module_version": "1.2.0",
            "_view_name": "LayoutView",
            "align_content": null,
            "align_items": null,
            "align_self": null,
            "border": null,
            "bottom": null,
            "display": null,
            "flex": null,
            "flex_flow": null,
            "grid_area": null,
            "grid_auto_columns": null,
            "grid_auto_flow": null,
            "grid_auto_rows": null,
            "grid_column": null,
            "grid_gap": null,
            "grid_row": null,
            "grid_template_areas": null,
            "grid_template_columns": null,
            "grid_template_rows": null,
            "height": null,
            "justify_content": null,
            "justify_items": null,
            "left": null,
            "margin": null,
            "max_height": null,
            "max_width": null,
            "min_height": null,
            "min_width": null,
            "object_fit": null,
            "object_position": null,
            "order": null,
            "overflow": null,
            "overflow_x": null,
            "overflow_y": null,
            "padding": null,
            "right": null,
            "top": null,
            "visibility": null,
            "width": null
          }
        },
        "f7b1cf32462e41a59412c730d51dabbf": {
          "model_module": "@jupyter-widgets/controls",
          "model_name": "ProgressStyleModel",
          "model_module_version": "1.5.0",
          "state": {
            "_model_module": "@jupyter-widgets/controls",
            "_model_module_version": "1.5.0",
            "_model_name": "ProgressStyleModel",
            "_view_count": null,
            "_view_module": "@jupyter-widgets/base",
            "_view_module_version": "1.2.0",
            "_view_name": "StyleView",
            "bar_color": null,
            "description_width": ""
          }
        },
        "58d1efdc1e6f40f1b29ea296c939bec1": {
          "model_module": "@jupyter-widgets/base",
          "model_name": "LayoutModel",
          "model_module_version": "1.2.0",
          "state": {
            "_model_module": "@jupyter-widgets/base",
            "_model_module_version": "1.2.0",
            "_model_name": "LayoutModel",
            "_view_count": null,
            "_view_module": "@jupyter-widgets/base",
            "_view_module_version": "1.2.0",
            "_view_name": "LayoutView",
            "align_content": null,
            "align_items": null,
            "align_self": null,
            "border": null,
            "bottom": null,
            "display": null,
            "flex": null,
            "flex_flow": null,
            "grid_area": null,
            "grid_auto_columns": null,
            "grid_auto_flow": null,
            "grid_auto_rows": null,
            "grid_column": null,
            "grid_gap": null,
            "grid_row": null,
            "grid_template_areas": null,
            "grid_template_columns": null,
            "grid_template_rows": null,
            "height": null,
            "justify_content": null,
            "justify_items": null,
            "left": null,
            "margin": null,
            "max_height": null,
            "max_width": null,
            "min_height": null,
            "min_width": null,
            "object_fit": null,
            "object_position": null,
            "order": null,
            "overflow": null,
            "overflow_x": null,
            "overflow_y": null,
            "padding": null,
            "right": null,
            "top": null,
            "visibility": null,
            "width": null
          }
        },
        "520da93476ce413484bfb66cf90b8471": {
          "model_module": "@jupyter-widgets/controls",
          "model_name": "DescriptionStyleModel",
          "model_module_version": "1.5.0",
          "state": {
            "_model_module": "@jupyter-widgets/controls",
            "_model_module_version": "1.5.0",
            "_model_name": "DescriptionStyleModel",
            "_view_count": null,
            "_view_module": "@jupyter-widgets/base",
            "_view_module_version": "1.2.0",
            "_view_name": "StyleView",
            "description_width": ""
          }
        },
        "1a05b512652e439a9a93da2ee3f9eb8a": {
          "model_module": "@jupyter-widgets/controls",
          "model_name": "HBoxModel",
          "model_module_version": "1.5.0",
          "state": {
            "_dom_classes": [],
            "_model_module": "@jupyter-widgets/controls",
            "_model_module_version": "1.5.0",
            "_model_name": "HBoxModel",
            "_view_count": null,
            "_view_module": "@jupyter-widgets/controls",
            "_view_module_version": "1.5.0",
            "_view_name": "HBoxView",
            "box_style": "",
            "children": [
              "IPY_MODEL_464b572f4f5643079925cc5c03b213e4",
              "IPY_MODEL_561383d2f67748f68b53a94c7d598841",
              "IPY_MODEL_eb4f45890fe047e79d67d4ac9e023714"
            ],
            "layout": "IPY_MODEL_303c038f59bb4d1a8009b6b106429fc3"
          }
        },
        "464b572f4f5643079925cc5c03b213e4": {
          "model_module": "@jupyter-widgets/controls",
          "model_name": "HTMLModel",
          "model_module_version": "1.5.0",
          "state": {
            "_dom_classes": [],
            "_model_module": "@jupyter-widgets/controls",
            "_model_module_version": "1.5.0",
            "_model_name": "HTMLModel",
            "_view_count": null,
            "_view_module": "@jupyter-widgets/controls",
            "_view_module_version": "1.5.0",
            "_view_name": "HTMLView",
            "description": "",
            "description_tooltip": null,
            "layout": "IPY_MODEL_07962226315d414c9a199ee77075b9d0",
            "placeholder": "​",
            "style": "IPY_MODEL_9752c6d476af46d99b55b7e83baad15a",
            "value": "Map: 100%"
          }
        },
        "561383d2f67748f68b53a94c7d598841": {
          "model_module": "@jupyter-widgets/controls",
          "model_name": "FloatProgressModel",
          "model_module_version": "1.5.0",
          "state": {
            "_dom_classes": [],
            "_model_module": "@jupyter-widgets/controls",
            "_model_module_version": "1.5.0",
            "_model_name": "FloatProgressModel",
            "_view_count": null,
            "_view_module": "@jupyter-widgets/controls",
            "_view_module_version": "1.5.0",
            "_view_name": "ProgressView",
            "bar_style": "success",
            "description": "",
            "description_tooltip": null,
            "layout": "IPY_MODEL_d0d4b4ca4bef4e36951aadecbc4e9af9",
            "max": 1,
            "min": 0,
            "orientation": "horizontal",
            "style": "IPY_MODEL_b9ee8c341fc542fcacaef2f97be47420",
            "value": 1
          }
        },
        "eb4f45890fe047e79d67d4ac9e023714": {
          "model_module": "@jupyter-widgets/controls",
          "model_name": "HTMLModel",
          "model_module_version": "1.5.0",
          "state": {
            "_dom_classes": [],
            "_model_module": "@jupyter-widgets/controls",
            "_model_module_version": "1.5.0",
            "_model_name": "HTMLModel",
            "_view_count": null,
            "_view_module": "@jupyter-widgets/controls",
            "_view_module_version": "1.5.0",
            "_view_name": "HTMLView",
            "description": "",
            "description_tooltip": null,
            "layout": "IPY_MODEL_5b67f814d4344bfb8f9dca5f0d41e2bd",
            "placeholder": "​",
            "style": "IPY_MODEL_7ee8b8d61a0647dd84a0e7f055ad6a09",
            "value": " 1/1 [00:00&lt;00:00, 50.19 examples/s]"
          }
        },
        "303c038f59bb4d1a8009b6b106429fc3": {
          "model_module": "@jupyter-widgets/base",
          "model_name": "LayoutModel",
          "model_module_version": "1.2.0",
          "state": {
            "_model_module": "@jupyter-widgets/base",
            "_model_module_version": "1.2.0",
            "_model_name": "LayoutModel",
            "_view_count": null,
            "_view_module": "@jupyter-widgets/base",
            "_view_module_version": "1.2.0",
            "_view_name": "LayoutView",
            "align_content": null,
            "align_items": null,
            "align_self": null,
            "border": null,
            "bottom": null,
            "display": null,
            "flex": null,
            "flex_flow": null,
            "grid_area": null,
            "grid_auto_columns": null,
            "grid_auto_flow": null,
            "grid_auto_rows": null,
            "grid_column": null,
            "grid_gap": null,
            "grid_row": null,
            "grid_template_areas": null,
            "grid_template_columns": null,
            "grid_template_rows": null,
            "height": null,
            "justify_content": null,
            "justify_items": null,
            "left": null,
            "margin": null,
            "max_height": null,
            "max_width": null,
            "min_height": null,
            "min_width": null,
            "object_fit": null,
            "object_position": null,
            "order": null,
            "overflow": null,
            "overflow_x": null,
            "overflow_y": null,
            "padding": null,
            "right": null,
            "top": null,
            "visibility": null,
            "width": null
          }
        },
        "07962226315d414c9a199ee77075b9d0": {
          "model_module": "@jupyter-widgets/base",
          "model_name": "LayoutModel",
          "model_module_version": "1.2.0",
          "state": {
            "_model_module": "@jupyter-widgets/base",
            "_model_module_version": "1.2.0",
            "_model_name": "LayoutModel",
            "_view_count": null,
            "_view_module": "@jupyter-widgets/base",
            "_view_module_version": "1.2.0",
            "_view_name": "LayoutView",
            "align_content": null,
            "align_items": null,
            "align_self": null,
            "border": null,
            "bottom": null,
            "display": null,
            "flex": null,
            "flex_flow": null,
            "grid_area": null,
            "grid_auto_columns": null,
            "grid_auto_flow": null,
            "grid_auto_rows": null,
            "grid_column": null,
            "grid_gap": null,
            "grid_row": null,
            "grid_template_areas": null,
            "grid_template_columns": null,
            "grid_template_rows": null,
            "height": null,
            "justify_content": null,
            "justify_items": null,
            "left": null,
            "margin": null,
            "max_height": null,
            "max_width": null,
            "min_height": null,
            "min_width": null,
            "object_fit": null,
            "object_position": null,
            "order": null,
            "overflow": null,
            "overflow_x": null,
            "overflow_y": null,
            "padding": null,
            "right": null,
            "top": null,
            "visibility": null,
            "width": null
          }
        },
        "9752c6d476af46d99b55b7e83baad15a": {
          "model_module": "@jupyter-widgets/controls",
          "model_name": "DescriptionStyleModel",
          "model_module_version": "1.5.0",
          "state": {
            "_model_module": "@jupyter-widgets/controls",
            "_model_module_version": "1.5.0",
            "_model_name": "DescriptionStyleModel",
            "_view_count": null,
            "_view_module": "@jupyter-widgets/base",
            "_view_module_version": "1.2.0",
            "_view_name": "StyleView",
            "description_width": ""
          }
        },
        "d0d4b4ca4bef4e36951aadecbc4e9af9": {
          "model_module": "@jupyter-widgets/base",
          "model_name": "LayoutModel",
          "model_module_version": "1.2.0",
          "state": {
            "_model_module": "@jupyter-widgets/base",
            "_model_module_version": "1.2.0",
            "_model_name": "LayoutModel",
            "_view_count": null,
            "_view_module": "@jupyter-widgets/base",
            "_view_module_version": "1.2.0",
            "_view_name": "LayoutView",
            "align_content": null,
            "align_items": null,
            "align_self": null,
            "border": null,
            "bottom": null,
            "display": null,
            "flex": null,
            "flex_flow": null,
            "grid_area": null,
            "grid_auto_columns": null,
            "grid_auto_flow": null,
            "grid_auto_rows": null,
            "grid_column": null,
            "grid_gap": null,
            "grid_row": null,
            "grid_template_areas": null,
            "grid_template_columns": null,
            "grid_template_rows": null,
            "height": null,
            "justify_content": null,
            "justify_items": null,
            "left": null,
            "margin": null,
            "max_height": null,
            "max_width": null,
            "min_height": null,
            "min_width": null,
            "object_fit": null,
            "object_position": null,
            "order": null,
            "overflow": null,
            "overflow_x": null,
            "overflow_y": null,
            "padding": null,
            "right": null,
            "top": null,
            "visibility": null,
            "width": null
          }
        },
        "b9ee8c341fc542fcacaef2f97be47420": {
          "model_module": "@jupyter-widgets/controls",
          "model_name": "ProgressStyleModel",
          "model_module_version": "1.5.0",
          "state": {
            "_model_module": "@jupyter-widgets/controls",
            "_model_module_version": "1.5.0",
            "_model_name": "ProgressStyleModel",
            "_view_count": null,
            "_view_module": "@jupyter-widgets/base",
            "_view_module_version": "1.2.0",
            "_view_name": "StyleView",
            "bar_color": null,
            "description_width": ""
          }
        },
        "5b67f814d4344bfb8f9dca5f0d41e2bd": {
          "model_module": "@jupyter-widgets/base",
          "model_name": "LayoutModel",
          "model_module_version": "1.2.0",
          "state": {
            "_model_module": "@jupyter-widgets/base",
            "_model_module_version": "1.2.0",
            "_model_name": "LayoutModel",
            "_view_count": null,
            "_view_module": "@jupyter-widgets/base",
            "_view_module_version": "1.2.0",
            "_view_name": "LayoutView",
            "align_content": null,
            "align_items": null,
            "align_self": null,
            "border": null,
            "bottom": null,
            "display": null,
            "flex": null,
            "flex_flow": null,
            "grid_area": null,
            "grid_auto_columns": null,
            "grid_auto_flow": null,
            "grid_auto_rows": null,
            "grid_column": null,
            "grid_gap": null,
            "grid_row": null,
            "grid_template_areas": null,
            "grid_template_columns": null,
            "grid_template_rows": null,
            "height": null,
            "justify_content": null,
            "justify_items": null,
            "left": null,
            "margin": null,
            "max_height": null,
            "max_width": null,
            "min_height": null,
            "min_width": null,
            "object_fit": null,
            "object_position": null,
            "order": null,
            "overflow": null,
            "overflow_x": null,
            "overflow_y": null,
            "padding": null,
            "right": null,
            "top": null,
            "visibility": null,
            "width": null
          }
        },
        "7ee8b8d61a0647dd84a0e7f055ad6a09": {
          "model_module": "@jupyter-widgets/controls",
          "model_name": "DescriptionStyleModel",
          "model_module_version": "1.5.0",
          "state": {
            "_model_module": "@jupyter-widgets/controls",
            "_model_module_version": "1.5.0",
            "_model_name": "DescriptionStyleModel",
            "_view_count": null,
            "_view_module": "@jupyter-widgets/base",
            "_view_module_version": "1.2.0",
            "_view_name": "StyleView",
            "description_width": ""
          }
        },
        "6b53aee7c7674a7dac4d754f03ce57ac": {
          "model_module": "@jupyter-widgets/controls",
          "model_name": "HBoxModel",
          "model_module_version": "1.5.0",
          "state": {
            "_dom_classes": [],
            "_model_module": "@jupyter-widgets/controls",
            "_model_module_version": "1.5.0",
            "_model_name": "HBoxModel",
            "_view_count": null,
            "_view_module": "@jupyter-widgets/controls",
            "_view_module_version": "1.5.0",
            "_view_name": "HBoxView",
            "box_style": "",
            "children": [
              "IPY_MODEL_c13f2c42d6a4483f93eaedccde407bc5",
              "IPY_MODEL_1db7cbf060884afda26b518a0164ef98",
              "IPY_MODEL_aed12b9d6c2e4f14a7b3504e6f49d25c"
            ],
            "layout": "IPY_MODEL_2d6e5d8af8864227a1c1e486a2bbdc8c"
          }
        },
        "c13f2c42d6a4483f93eaedccde407bc5": {
          "model_module": "@jupyter-widgets/controls",
          "model_name": "HTMLModel",
          "model_module_version": "1.5.0",
          "state": {
            "_dom_classes": [],
            "_model_module": "@jupyter-widgets/controls",
            "_model_module_version": "1.5.0",
            "_model_name": "HTMLModel",
            "_view_count": null,
            "_view_module": "@jupyter-widgets/controls",
            "_view_module_version": "1.5.0",
            "_view_name": "HTMLView",
            "description": "",
            "description_tooltip": null,
            "layout": "IPY_MODEL_2242c78f365a468b8ce79edf688c912c",
            "placeholder": "​",
            "style": "IPY_MODEL_c52bf87318834527a7c4f25fb7e9f036",
            "value": "Map: 100%"
          }
        },
        "1db7cbf060884afda26b518a0164ef98": {
          "model_module": "@jupyter-widgets/controls",
          "model_name": "FloatProgressModel",
          "model_module_version": "1.5.0",
          "state": {
            "_dom_classes": [],
            "_model_module": "@jupyter-widgets/controls",
            "_model_module_version": "1.5.0",
            "_model_name": "FloatProgressModel",
            "_view_count": null,
            "_view_module": "@jupyter-widgets/controls",
            "_view_module_version": "1.5.0",
            "_view_name": "ProgressView",
            "bar_style": "success",
            "description": "",
            "description_tooltip": null,
            "layout": "IPY_MODEL_85d9447a325e42b89074ce97380278aa",
            "max": 1,
            "min": 0,
            "orientation": "horizontal",
            "style": "IPY_MODEL_089a5cfc905844b2976fbcde15419877",
            "value": 1
          }
        },
        "aed12b9d6c2e4f14a7b3504e6f49d25c": {
          "model_module": "@jupyter-widgets/controls",
          "model_name": "HTMLModel",
          "model_module_version": "1.5.0",
          "state": {
            "_dom_classes": [],
            "_model_module": "@jupyter-widgets/controls",
            "_model_module_version": "1.5.0",
            "_model_name": "HTMLModel",
            "_view_count": null,
            "_view_module": "@jupyter-widgets/controls",
            "_view_module_version": "1.5.0",
            "_view_name": "HTMLView",
            "description": "",
            "description_tooltip": null,
            "layout": "IPY_MODEL_022995eaf93d4c1baa079ea0c8fd0f29",
            "placeholder": "​",
            "style": "IPY_MODEL_473bd7a8cb284fe5b3b3e588437ae623",
            "value": " 1/1 [00:00&lt;00:00, 51.87 examples/s]"
          }
        },
        "2d6e5d8af8864227a1c1e486a2bbdc8c": {
          "model_module": "@jupyter-widgets/base",
          "model_name": "LayoutModel",
          "model_module_version": "1.2.0",
          "state": {
            "_model_module": "@jupyter-widgets/base",
            "_model_module_version": "1.2.0",
            "_model_name": "LayoutModel",
            "_view_count": null,
            "_view_module": "@jupyter-widgets/base",
            "_view_module_version": "1.2.0",
            "_view_name": "LayoutView",
            "align_content": null,
            "align_items": null,
            "align_self": null,
            "border": null,
            "bottom": null,
            "display": null,
            "flex": null,
            "flex_flow": null,
            "grid_area": null,
            "grid_auto_columns": null,
            "grid_auto_flow": null,
            "grid_auto_rows": null,
            "grid_column": null,
            "grid_gap": null,
            "grid_row": null,
            "grid_template_areas": null,
            "grid_template_columns": null,
            "grid_template_rows": null,
            "height": null,
            "justify_content": null,
            "justify_items": null,
            "left": null,
            "margin": null,
            "max_height": null,
            "max_width": null,
            "min_height": null,
            "min_width": null,
            "object_fit": null,
            "object_position": null,
            "order": null,
            "overflow": null,
            "overflow_x": null,
            "overflow_y": null,
            "padding": null,
            "right": null,
            "top": null,
            "visibility": null,
            "width": null
          }
        },
        "2242c78f365a468b8ce79edf688c912c": {
          "model_module": "@jupyter-widgets/base",
          "model_name": "LayoutModel",
          "model_module_version": "1.2.0",
          "state": {
            "_model_module": "@jupyter-widgets/base",
            "_model_module_version": "1.2.0",
            "_model_name": "LayoutModel",
            "_view_count": null,
            "_view_module": "@jupyter-widgets/base",
            "_view_module_version": "1.2.0",
            "_view_name": "LayoutView",
            "align_content": null,
            "align_items": null,
            "align_self": null,
            "border": null,
            "bottom": null,
            "display": null,
            "flex": null,
            "flex_flow": null,
            "grid_area": null,
            "grid_auto_columns": null,
            "grid_auto_flow": null,
            "grid_auto_rows": null,
            "grid_column": null,
            "grid_gap": null,
            "grid_row": null,
            "grid_template_areas": null,
            "grid_template_columns": null,
            "grid_template_rows": null,
            "height": null,
            "justify_content": null,
            "justify_items": null,
            "left": null,
            "margin": null,
            "max_height": null,
            "max_width": null,
            "min_height": null,
            "min_width": null,
            "object_fit": null,
            "object_position": null,
            "order": null,
            "overflow": null,
            "overflow_x": null,
            "overflow_y": null,
            "padding": null,
            "right": null,
            "top": null,
            "visibility": null,
            "width": null
          }
        },
        "c52bf87318834527a7c4f25fb7e9f036": {
          "model_module": "@jupyter-widgets/controls",
          "model_name": "DescriptionStyleModel",
          "model_module_version": "1.5.0",
          "state": {
            "_model_module": "@jupyter-widgets/controls",
            "_model_module_version": "1.5.0",
            "_model_name": "DescriptionStyleModel",
            "_view_count": null,
            "_view_module": "@jupyter-widgets/base",
            "_view_module_version": "1.2.0",
            "_view_name": "StyleView",
            "description_width": ""
          }
        },
        "85d9447a325e42b89074ce97380278aa": {
          "model_module": "@jupyter-widgets/base",
          "model_name": "LayoutModel",
          "model_module_version": "1.2.0",
          "state": {
            "_model_module": "@jupyter-widgets/base",
            "_model_module_version": "1.2.0",
            "_model_name": "LayoutModel",
            "_view_count": null,
            "_view_module": "@jupyter-widgets/base",
            "_view_module_version": "1.2.0",
            "_view_name": "LayoutView",
            "align_content": null,
            "align_items": null,
            "align_self": null,
            "border": null,
            "bottom": null,
            "display": null,
            "flex": null,
            "flex_flow": null,
            "grid_area": null,
            "grid_auto_columns": null,
            "grid_auto_flow": null,
            "grid_auto_rows": null,
            "grid_column": null,
            "grid_gap": null,
            "grid_row": null,
            "grid_template_areas": null,
            "grid_template_columns": null,
            "grid_template_rows": null,
            "height": null,
            "justify_content": null,
            "justify_items": null,
            "left": null,
            "margin": null,
            "max_height": null,
            "max_width": null,
            "min_height": null,
            "min_width": null,
            "object_fit": null,
            "object_position": null,
            "order": null,
            "overflow": null,
            "overflow_x": null,
            "overflow_y": null,
            "padding": null,
            "right": null,
            "top": null,
            "visibility": null,
            "width": null
          }
        },
        "089a5cfc905844b2976fbcde15419877": {
          "model_module": "@jupyter-widgets/controls",
          "model_name": "ProgressStyleModel",
          "model_module_version": "1.5.0",
          "state": {
            "_model_module": "@jupyter-widgets/controls",
            "_model_module_version": "1.5.0",
            "_model_name": "ProgressStyleModel",
            "_view_count": null,
            "_view_module": "@jupyter-widgets/base",
            "_view_module_version": "1.2.0",
            "_view_name": "StyleView",
            "bar_color": null,
            "description_width": ""
          }
        },
        "022995eaf93d4c1baa079ea0c8fd0f29": {
          "model_module": "@jupyter-widgets/base",
          "model_name": "LayoutModel",
          "model_module_version": "1.2.0",
          "state": {
            "_model_module": "@jupyter-widgets/base",
            "_model_module_version": "1.2.0",
            "_model_name": "LayoutModel",
            "_view_count": null,
            "_view_module": "@jupyter-widgets/base",
            "_view_module_version": "1.2.0",
            "_view_name": "LayoutView",
            "align_content": null,
            "align_items": null,
            "align_self": null,
            "border": null,
            "bottom": null,
            "display": null,
            "flex": null,
            "flex_flow": null,
            "grid_area": null,
            "grid_auto_columns": null,
            "grid_auto_flow": null,
            "grid_auto_rows": null,
            "grid_column": null,
            "grid_gap": null,
            "grid_row": null,
            "grid_template_areas": null,
            "grid_template_columns": null,
            "grid_template_rows": null,
            "height": null,
            "justify_content": null,
            "justify_items": null,
            "left": null,
            "margin": null,
            "max_height": null,
            "max_width": null,
            "min_height": null,
            "min_width": null,
            "object_fit": null,
            "object_position": null,
            "order": null,
            "overflow": null,
            "overflow_x": null,
            "overflow_y": null,
            "padding": null,
            "right": null,
            "top": null,
            "visibility": null,
            "width": null
          }
        },
        "473bd7a8cb284fe5b3b3e588437ae623": {
          "model_module": "@jupyter-widgets/controls",
          "model_name": "DescriptionStyleModel",
          "model_module_version": "1.5.0",
          "state": {
            "_model_module": "@jupyter-widgets/controls",
            "_model_module_version": "1.5.0",
            "_model_name": "DescriptionStyleModel",
            "_view_count": null,
            "_view_module": "@jupyter-widgets/base",
            "_view_module_version": "1.2.0",
            "_view_name": "StyleView",
            "description_width": ""
          }
        }
      }
    }
  },
  "cells": [
    {
      "cell_type": "markdown",
      "metadata": {
        "id": "view-in-github",
        "colab_type": "text"
      },
      "source": [
        "<a href=\"https://colab.research.google.com/github/piggyatbaqaqi/skol/blob/main/IST691/mistral_transfer_learning.ipynb\" target=\"_parent\"><img src=\"https://colab.research.google.com/assets/colab-badge.svg\" alt=\"Open In Colab\"/></a>"
      ]
    },
    {
      "cell_type": "code",
      "source": [
        "import os, sys\n",
        "import json\n",
        "from pathlib import Path\n",
        "import random\n",
        "from typing import Any, Dict, List\n",
        "import glob\n",
        "from google.colab import drive\n",
        "%cd /content\n",
        "content = Path('/content')\n",
        "skol = content / 'drive/My Drive/SKOL'\n",
        "piggyatbaqaqi = skol / 'github.com/piggyatbaqaqi'\n",
        "drive.mount(str(content / \"drive\"), force_remount=True)\n",
        "cache_path = content / 'cache'\n",
        "ollama_cache_path = content / 'ollama_cache'\n",
        "skol_client = content / 'skol'\n",
        "if not os.path.exists(skol_client):\n",
        "  skol_client.symlink_to(piggyatbaqaqi / 'skol')\n",
        "if not os.path.exists(cache_path):\n",
        "  cache_path.symlink_to(skol / 'pip_cache')\n",
        "if not os.path.exists(ollama_cache_path):\n",
        "  ollama_cache_path.symlink_to(skol / 'ollama_cache')\n",
        "os.environ['OLLAMA_MODELS'] = str(ollama_cache_path)\n",
        "ist691 = skol_client / 'IST691'\n",
        "\n",
        "sys.path.insert(0, str(piggyatbaqaqi / 'skol'))"
      ],
      "metadata": {
        "id": "hlOljOtteCqp",
        "outputId": "5d90e772-9a74-427c-89c6-5fdf6745e9b6",
        "colab": {
          "base_uri": "https://localhost:8080/"
        }
      },
      "execution_count": 50,
      "outputs": [
        {
          "output_type": "stream",
          "name": "stdout",
          "text": [
            "/content\n",
            "Mounted at /content/drive\n"
          ]
        }
      ]
    },
    {
      "cell_type": "code",
      "execution_count": 51,
      "metadata": {
        "id": "iLYJrbHqo-kA"
      },
      "outputs": [],
      "source": [
        "# You only need to run this once per machine\n",
        "try:\n",
        "  import bitsandbytes\n",
        "except ImportError:\n",
        "  !pip install bitsandbytes\n",
        "try:\n",
        "  import transformers\n",
        "except ImportError:\n",
        "  !pip install transformers\n",
        "try:\n",
        "  import peft\n",
        "except ImportError:\n",
        "  !pip install peft\n",
        "try:\n",
        "  import accelerate\n",
        "except ImportError:\n",
        "  !pip install accelerate\n",
        "try:\n",
        "  import datasets\n",
        "  import ipywidgets\n",
        "  import fsspec\n",
        "except ImportError:\n",
        "  !pip install datasets scipy ipywidgets\n",
        "  !pip install fsspec==2023.9.2\n"
      ]
    },
    {
      "cell_type": "markdown",
      "source": [
        "### Set up git clients"
      ],
      "metadata": {
        "id": "E__XYLffpHzT"
      }
    },
    {
      "cell_type": "code",
      "source": [
        "if not os.path.exists(piggyatbaqaqi):\n",
        "  %mkdir -p $piggyatbaqaqi\n",
        "if not os.path.exists(piggyatbaqaqi / 'skol'):\n",
        "  %cd $piggyatbaqaqi\n",
        "  !git clone https://github.com/piggyatbaqaqi/skol.git\n",
        "sys.path.insert(0, piggyatbaqaqi / 'skol')\n",
        "if not os.path.exists(piggyatbaqaqi / 'dr-drafts-mycosearch'):\n",
        "  %cd $piggyatbaqaqi\n",
        "  !git clone https://github.com/piggyatbaqaqi/dr-drafts-mycosearch.git\n",
        "workdir = skol / 'IST691'\n",
        "%cd $workdir"
      ],
      "metadata": {
        "colab": {
          "base_uri": "https://localhost:8080/"
        },
        "id": "1rYX5QaXpGV6",
        "outputId": "86f77699-aad8-4c43-a63b-411ea5aec52b"
      },
      "execution_count": 52,
      "outputs": [
        {
          "output_type": "stream",
          "name": "stdout",
          "text": [
            "/content/drive/My Drive/SKOL/IST691\n"
          ]
        }
      ]
    },
    {
      "cell_type": "markdown",
      "source": [
        "### Set up SKOL-specific code"
      ],
      "metadata": {
        "id": "DFo4kEViphJQ"
      }
    },
    {
      "cell_type": "code",
      "source": [
        "from finder import read_files, parse_annotated, target_classes\n",
        "from label import Label\n",
        "from taxon import Taxon, group_paragraphs\n",
        "\n",
        "SEED=12345\n",
        "default_label = Label('Misc-exposition')\n",
        "keep_labels = [Label('Description'), Label('Nomenclature')]"
      ],
      "metadata": {
        "id": "cRttKoCqpfYW"
      },
      "execution_count": 53,
      "outputs": []
    },
    {
      "cell_type": "code",
      "source": [
        "raw_directory_path = skol / 'raw_2025_02_05/'\n",
        "ann_directory_path = skol / 'annotated_2025_02_27/journals'"
      ],
      "metadata": {
        "id": "P9ThmwE6pr6N"
      },
      "execution_count": 54,
      "outputs": []
    },
    {
      "cell_type": "code",
      "source": [
        "# Function that reports all the txt files under a Google Drive folder path\n",
        "def listFiles(folder: str) -> List[str]:\n",
        "  # List all files in the folder\n",
        "  try:\n",
        "      files = [file for file in glob.glob(f'{folder}/**/*.txt*', recursive=True) if 'Sydowia' not in file]\n",
        "      return files\n",
        "  except FileNotFoundError:\n",
        "      print(f\"Folder '{folder}' not found.\")\n",
        "  except PermissionError:\n",
        "      print(f\"Permission denied to access folder '{folder}'.\")"
      ],
      "metadata": {
        "id": "APuMWCKxqz9R"
      },
      "execution_count": 55,
      "outputs": []
    },
    {
      "cell_type": "code",
      "source": [
        "# check files in annotated directory\n",
        "training_files = listFiles(ann_directory_path)\n",
        "training_files[:10]"
      ],
      "metadata": {
        "id": "L_YI-34aq8u3",
        "colab": {
          "base_uri": "https://localhost:8080/"
        },
        "outputId": "1ef3cbdf-a955-492d-95ea-9ca620d40f70"
      },
      "execution_count": 56,
      "outputs": [
        {
          "output_type": "execute_result",
          "data": {
            "text/plain": [
              "['/content/drive/My Drive/SKOL/annotated_2025_02_27/journals/Mycotaxon/Vol057/n1.txt.ann',\n",
              " '/content/drive/My Drive/SKOL/annotated_2025_02_27/journals/Mycotaxon/Vol054/n1.txt.ann',\n",
              " '/content/drive/My Drive/SKOL/annotated_2025_02_27/journals/Mycotaxon/Vol118/s17.txt.ann',\n",
              " '/content/drive/My Drive/SKOL/annotated_2025_02_27/journals/Mycotaxon/Vol118/s29.txt.ann',\n",
              " '/content/drive/My Drive/SKOL/annotated_2025_02_27/journals/Mycotaxon/Vol118/s30.txt.ann',\n",
              " '/content/drive/My Drive/SKOL/annotated_2025_02_27/journals/Mycotaxon/Vol118/s7.txt.ann',\n",
              " '/content/drive/My Drive/SKOL/annotated_2025_02_27/journals/Mycotaxon/Vol118/s21.txt.ann',\n",
              " '/content/drive/My Drive/SKOL/annotated_2025_02_27/journals/Mycotaxon/Vol118/s13.txt.ann',\n",
              " '/content/drive/My Drive/SKOL/annotated_2025_02_27/journals/Mycotaxon/Vol118/s1.txt.ann',\n",
              " '/content/drive/My Drive/SKOL/annotated_2025_02_27/journals/Mycotaxon/Vol118/s46.txt.ann']"
            ]
          },
          "metadata": {},
          "execution_count": 56
        }
      ]
    },
    {
      "cell_type": "code",
      "source": [
        "paragraphs = list(parse_annotated(read_files(random.sample(training_files, 100))))\n",
        "relabeled = list(target_classes(default=default_label, keep=keep_labels, paragraphs=paragraphs))"
      ],
      "metadata": {
        "id": "3fBkvAzXptoJ"
      },
      "execution_count": 57,
      "outputs": []
    },
    {
      "cell_type": "code",
      "source": [
        "prompt = '''Please extract features, subfeatures, optional subsubfeatures, and values from the following species description.\n",
        "Format the output as JSON.\n",
        "The top level of the JSON is feature names. The next level in is subfeature names . The optional next level in is subsubfeature names.\n",
        "The innermost layer is lists of string-valued values.\n",
        "Lists are only present at the innermost level of the JSON.\n",
        "Feature values that are comma-separated strings should be broken down into separate values.\n",
        "Translate Latin paragraphs to English.\n",
        "'''\n",
        "# prompt = '''Format the output as JSON.\n",
        "# Please extract features, subfeatures, optional subsubfeatures, and values from the following species description.\n",
        "# The innermost layer must be formated as lists of string-valued values..\n",
        "# Translate. if any, Latin paragraphs to English.\n",
        "# '''\n",
        "\n",
        "\n",
        "description = \"\"\"Fungus anamorphicus. Coloniae in substrato naturali eﬀusae, nigrae. Mycelium\n",
        "superﬁciale, ex hyphis ramosis, septatis, pallide brunneis vel brunneis, laevibus, 1.5–3\n",
        "μm crassis compositum. Conidiophora nulla vel brevis, 1–3-septata, brunnea vel\n",
        "atrobrunnea, 11–28 × 4.5–5 μm. Cellula conidiogena monoblastica, determinatae,\n",
        "solitaria, simplicia, lageniformia vel ampulliformia, brunnea vel atrobrunnea, laevia,\n",
        "4.5–6.5 × 3.5–5 μm, ad apicem 3–4.5 μm crassa et truncatae. Conidiorum secessio\n",
        "schizolytica. Conidia holoblastica, solitaria, acrogena, recta vel curvata, obclavata vel\n",
        "obclavata-rostrata, atrobrunnea vel brunnea, laevia, 13–19-distoseptata, 130–190 μm\n",
        "longa, 7–9 μm crassa, apicem versus ad 2–3 μm attenuata; cellula apicalis rotundata;\n",
        "cellula basalis cylindrica vel conico-truncata, ad basim 3.5–4.5 μm crassa; Appendicibus\n",
        "lateralibus 0–2, brunneae, septata, cylindricae, surgentibus ex cellulla e apicem 2nd vel\n",
        "3rd.\n",
        "\n",
        "Anamorphic fungi. Colonies on natural substrate eﬀuse, black. Mycelium\n",
        "superﬁcial, composed of branched, septate, pale brown to brown, smoothwalled hyphae, 1.5–3 μm thick. Conidiophores absent or short, 1–3-septate,\n",
        "brown to dark brown, 11–28 × 4.5–5 μm. Conidiogenous cells monoblastic,\n",
        "determinate, solitary, simple, lageniform or ampulliform, brown to dark brown,\n",
        "smooth, 4.5–6.5 × 3.5–5 μm, 3–4.5 μm wide at the truncate apex. Conidial\n",
        "secession schizolytic. Conidia holoblastic, solitary, acrogenous, straight or\n",
        "curved, obclavate to obclavate-rostrate, dark brown to brown, smooth, 13–19distoseptate, 130–190 μm long, 7–9 μm thick in the broadest part, tapering\n",
        "to 2–3 μm near the apex; apical cells rounded; basal cell cylindrical, truncate,\n",
        "3.5–4.5 μm wide; lateral appendages 0–2, brown, septate, cylindrical, arising\n",
        "from the 2nd or 3rd cells from the apex.\n",
        "\"\"\""
      ],
      "metadata": {
        "id": "vU4jj_ZoqFM4"
      },
      "execution_count": 58,
      "outputs": []
    },
    {
      "cell_type": "code",
      "source": [
        "def load_json_training(filename: str) -> List[Dict[str, Any]]:\n",
        "  retval = []\n",
        "  def val(description: str, result: Dict[str, Any]) -> Dict[str, str]:\n",
        "    return {'description': description,\n",
        "            'result': json.dumps(result, indent=4, ensure_ascii=False)}\n",
        "  state = 'START'  # 'description', 'result'\n",
        "  with open(filename, \"r\", encoding=\"utf-8\") as file:\n",
        "    lines = []\n",
        "    description = ''\n",
        "    for line in file:\n",
        "      if line.startswith('Send to LLM:'):\n",
        "        if state == \"result\":\n",
        "          result = ''.join(lines)\n",
        "          try:\n",
        "            result_dict = json.loads(result)\n",
        "          except json.JSONDecodeError as err:\n",
        "            print(f'Err: {err}\\n{result}')\n",
        "\n",
        "          retval.append(val(description, result_dict))\n",
        "        lines = []\n",
        "        state = 'description'\n",
        "      elif line.startswith('Result:'):\n",
        "        if state == \"description\":\n",
        "          description = ''.join(lines)\n",
        "          lines = []\n",
        "        state = 'result'\n",
        "      else:\n",
        "        lines.append(line)\n",
        "    if state == 'result' and len(lines) > 0:\n",
        "      result = ''.join(lines)\n",
        "      try:\n",
        "        result_dict = json.loads(result)\n",
        "      except json.JSONDecodeError as err:\n",
        "        print(f'Err: {err}\\n{result}')\n",
        "      retval.append(val(description, result_dict))\n",
        "  return retval\n"
      ],
      "metadata": {
        "id": "H2Jp6N6lrmn5"
      },
      "execution_count": 59,
      "outputs": []
    },
    {
      "cell_type": "code",
      "source": [
        "json_training = load_json_training(workdir / 'json_training.txt')\n",
        "print(json_training[0])"
      ],
      "metadata": {
        "id": "7drlK-hLrusz",
        "colab": {
          "base_uri": "https://localhost:8080/"
        },
        "outputId": "0979532d-9f59-4000-f660-8880048d2353"
      },
      "execution_count": 60,
      "outputs": [
        {
          "output_type": "stream",
          "name": "stdout",
          "text": [
            "{'description': '\\n\\nSaprobic on stems. Ascomata, superﬁcial, thyriothecial; in section conical,\\nrelatively small, opening with a minute ﬂat or slightly papillate ostiole. Asci 8spored, bitunicate, ﬁssitunicate, cylindrical or obclavate. Ascospores, 1-septate,\\nlight brown.\\nAnamorphs: None reported for the genus (Hyde et al. 2011).\\n\\n\\n', 'result': '{\\n    \"habit\": [\\n        \"saprobic\"\\n    ],\\n    \"habitat\": [\\n        \"on stems\"\\n    ],\\n    \"ascomata\": [\\n        \"superficial\",\\n        \"thyriothecial\",\\n        \"conical\",\\n        \"relatively small\",\\n        \"opening with a minute flat or slightly papillate ostiole\"\\n    ],\\n    \"asci\": {\\n        \"number of spores\": [\\n            \"8-spored\"\\n        ],\\n        \"shape\": [\\n            \"bitunicate\",\\n            \"fissitunicate\",\\n            \"cylindrical or obclavate\"\\n        ]\\n    },\\n    \"ascospores\": {\\n        \"septation\": [\\n            \"1-septate\"\\n        ],\\n        \"color\": [\\n            \"light brown\"\\n        ]\\n    },\\n    \"anamorphs\": {\\n        \"presence\": [\\n            \"none reported for the genus (hyde et al. 2011)\"\\n        ]\\n    }\\n}'}\n"
          ]
        }
      ]
    },
    {
      "cell_type": "code",
      "source": [
        "import datasets\n",
        "\n",
        "dataset = datasets.Dataset.from_list(json_training)\n",
        "\n",
        "new_dataset = datasets.Dataset.train_test_split(dataset, int(1), shuffle=False)\n",
        "temp_dataset = new_dataset[\"train\"]\n",
        "test_dataset = new_dataset[\"test\"]\n",
        "new_dataset2 = datasets.Dataset.train_test_split(temp_dataset,int(1), shuffle=False)\n",
        "train_dataset = new_dataset2[\"train\"]\n",
        "eval_dataset = new_dataset2[\"test\"]\n",
        "\n",
        "print(train_dataset, eval_dataset, test_dataset)"
      ],
      "metadata": {
        "id": "9-2thC0IsGLw",
        "colab": {
          "base_uri": "https://localhost:8080/"
        },
        "outputId": "6db3252b-38bd-4850-b89d-88342c319a32"
      },
      "execution_count": 61,
      "outputs": [
        {
          "output_type": "stream",
          "name": "stdout",
          "text": [
            "Dataset({\n",
            "    features: ['description', 'result'],\n",
            "    num_rows: 14\n",
            "}) Dataset({\n",
            "    features: ['description', 'result'],\n",
            "    num_rows: 1\n",
            "}) Dataset({\n",
            "    features: ['description', 'result'],\n",
            "    num_rows: 1\n",
            "})\n"
          ]
        }
      ]
    },
    {
      "cell_type": "code",
      "source": [
        "from accelerate import FullyShardedDataParallelPlugin, Accelerator\n",
        "from torch.distributed.fsdp.fully_sharded_data_parallel import FullOptimStateDictConfig, FullStateDictConfig\n",
        "fsdp_plugin = FullyShardedDataParallelPlugin(\n",
        "    state_dict_config=FullStateDictConfig(offload_to_cpu=True, rank0_only=False),\n",
        "    optim_state_dict_config=FullOptimStateDictConfig(offload_to_cpu=True, rank0_only=False),\n",
        ")\n",
        "accelerator = Accelerator(fsdp_plugin=fsdp_plugin)\n"
      ],
      "metadata": {
        "id": "jOMDIGtFqKDz"
      },
      "execution_count": 62,
      "outputs": []
    },
    {
      "cell_type": "code",
      "source": [
        "import torch\n",
        "from transformers import AutoTokenizer, AutoModelForCausalLM, BitsAndBytesConfig\n",
        "from huggingface_hub import login\n",
        "from google.colab import userdata\n",
        "token = userdata.get('HF_TOKEN')\n",
        "\n",
        "login(token=token)\n",
        "base_model_id = \"mistralai/Mistral-7B-Instruct-v0.3\"\n",
        "bnb_config = BitsAndBytesConfig(\n",
        "    load_in_4bit=True,\n",
        "    bnb_4bit_use_double_quant=True,\n",
        "    bnb_4bit_quant_type=\"nf4\",\n",
        "    bnb_4bit_compute_dtype=torch.bfloat16\n",
        ")\n",
        "base_model = AutoModelForCausalLM.from_pretrained(base_model_id, quantization_config=bnb_config)\n",
        "\n"
      ],
      "metadata": {
        "id": "ZoT-zXovqtKD",
        "colab": {
          "base_uri": "https://localhost:8080/",
          "height": 49,
          "referenced_widgets": [
            "71edade0a7fc4f99b16e3cd85d7f0cec",
            "f5bddfb434544ac5bde905f2829d9dbf",
            "0ed86c075a794a29859d05f28ef97545",
            "faf45f956b74408caa714057b9d8c740",
            "3402435e871c490295e806a9d4177680",
            "dc4585e0499c40c18bc5be47285baa1f",
            "90824219059c498c8ce3be3655b77aed",
            "3caa5216f5364e5fa0020fa5496bdc2a",
            "a43c1fd4474243979f1ab47ae50d5702",
            "57ff04fd2c8e4d4a83236ab62e273174",
            "1b46fff5d284411da0c6f125af642158"
          ]
        },
        "outputId": "a0478a56-dcae-475d-e208-7c2a90445eef"
      },
      "execution_count": 63,
      "outputs": [
        {
          "output_type": "display_data",
          "data": {
            "text/plain": [
              "Loading checkpoint shards:   0%|          | 0/3 [00:00<?, ?it/s]"
            ],
            "application/vnd.jupyter.widget-view+json": {
              "version_major": 2,
              "version_minor": 0,
              "model_id": "71edade0a7fc4f99b16e3cd85d7f0cec"
            }
          },
          "metadata": {}
        }
      ]
    },
    {
      "cell_type": "code",
      "source": [
        "tokenizer = AutoTokenizer.from_pretrained(\n",
        "    base_model_id,\n",
        "    model_max_length=1024,\n",
        "    padding_side=\"left\",\n",
        "    add_eos_token=True)\n",
        "tokenizer.pad_token = tokenizer.eos_token\n"
      ],
      "metadata": {
        "id": "2zzAZ5NXrTbC"
      },
      "execution_count": 64,
      "outputs": []
    },
    {
      "cell_type": "code",
      "source": [
        "\n",
        "def tokenize(prompt):\n",
        "    result = tokenizer(\n",
        "        prompt,\n",
        "        truncation=True,\n",
        "        max_length=1024,\n",
        "        padding=\"max_length\",\n",
        "    )\n",
        "    result[\"labels\"] = result[\"input_ids\"].copy()\n",
        "    return result"
      ],
      "metadata": {
        "id": "wHEQXBGnrYf8"
      },
      "execution_count": 65,
      "outputs": []
    },
    {
      "cell_type": "code",
      "source": [
        "def generate_and_tokenize_prompt(data_point):\n",
        "    full_prompt =f\"\"\"<s>[INST]{prompt}\n",
        "Here is the description:\n",
        "{data_point[\"description\"]}[/INST]\n",
        "Result:\n",
        "```json\n",
        "{data_point[\"result\"]}\n",
        "```</s>\n",
        "\"\"\"\n",
        "    return tokenize(full_prompt)\n"
      ],
      "metadata": {
        "id": "jbAK_AcRrllt"
      },
      "execution_count": 66,
      "outputs": []
    },
    {
      "cell_type": "code",
      "source": [
        "\n",
        "tokenized_train_dataset = train_dataset.map(generate_and_tokenize_prompt)\n",
        "tokenized_val_dataset = eval_dataset.map(generate_and_tokenize_prompt)\n",
        "tokenized_test_dataset = test_dataset.map(generate_and_tokenize_prompt)"
      ],
      "metadata": {
        "id": "sAn_rMANteUj",
        "colab": {
          "base_uri": "https://localhost:8080/",
          "height": 113,
          "referenced_widgets": [
            "b15ff03b8c42419c9546c22848a4c67a",
            "10e584e4e4f643d19452f3c307710861",
            "fa17756bd9d1474fa1c55c2909fecd01",
            "5b27a360090c42ae9d81f07bdf819baa",
            "ff939a7fee334daea29500510aaa11b9",
            "7a2b3db597954a0ebd2c1a33d15e48e9",
            "fd4d2163d6564b1787e4bd6430f68719",
            "43c2d1e5be144354a0ae5be8df104863",
            "f7b1cf32462e41a59412c730d51dabbf",
            "58d1efdc1e6f40f1b29ea296c939bec1",
            "520da93476ce413484bfb66cf90b8471",
            "1a05b512652e439a9a93da2ee3f9eb8a",
            "464b572f4f5643079925cc5c03b213e4",
            "561383d2f67748f68b53a94c7d598841",
            "eb4f45890fe047e79d67d4ac9e023714",
            "303c038f59bb4d1a8009b6b106429fc3",
            "07962226315d414c9a199ee77075b9d0",
            "9752c6d476af46d99b55b7e83baad15a",
            "d0d4b4ca4bef4e36951aadecbc4e9af9",
            "b9ee8c341fc542fcacaef2f97be47420",
            "5b67f814d4344bfb8f9dca5f0d41e2bd",
            "7ee8b8d61a0647dd84a0e7f055ad6a09",
            "6b53aee7c7674a7dac4d754f03ce57ac",
            "c13f2c42d6a4483f93eaedccde407bc5",
            "1db7cbf060884afda26b518a0164ef98",
            "aed12b9d6c2e4f14a7b3504e6f49d25c",
            "2d6e5d8af8864227a1c1e486a2bbdc8c",
            "2242c78f365a468b8ce79edf688c912c",
            "c52bf87318834527a7c4f25fb7e9f036",
            "85d9447a325e42b89074ce97380278aa",
            "089a5cfc905844b2976fbcde15419877",
            "022995eaf93d4c1baa079ea0c8fd0f29",
            "473bd7a8cb284fe5b3b3e588437ae623"
          ]
        },
        "outputId": "6c637aeb-f27b-48e8-d76c-308881f64098"
      },
      "execution_count": 67,
      "outputs": [
        {
          "output_type": "display_data",
          "data": {
            "text/plain": [
              "Map:   0%|          | 0/14 [00:00<?, ? examples/s]"
            ],
            "application/vnd.jupyter.widget-view+json": {
              "version_major": 2,
              "version_minor": 0,
              "model_id": "b15ff03b8c42419c9546c22848a4c67a"
            }
          },
          "metadata": {}
        },
        {
          "output_type": "display_data",
          "data": {
            "text/plain": [
              "Map:   0%|          | 0/1 [00:00<?, ? examples/s]"
            ],
            "application/vnd.jupyter.widget-view+json": {
              "version_major": 2,
              "version_minor": 0,
              "model_id": "1a05b512652e439a9a93da2ee3f9eb8a"
            }
          },
          "metadata": {}
        },
        {
          "output_type": "display_data",
          "data": {
            "text/plain": [
              "Map:   0%|          | 0/1 [00:00<?, ? examples/s]"
            ],
            "application/vnd.jupyter.widget-view+json": {
              "version_major": 2,
              "version_minor": 0,
              "model_id": "6b53aee7c7674a7dac4d754f03ce57ac"
            }
          },
          "metadata": {}
        }
      ]
    },
    {
      "cell_type": "code",
      "source": [
        "print(tokenized_train_dataset[4]['input_ids'])\n",
        "print(len(tokenized_train_dataset[4]['input_ids']))\n",
        "print(\"\\n\" + test_dataset[0]['description'])\n",
        "print(\"Result: \\n```json\\n\" + test_dataset[0]['result'] + \"\\n```\\n\")\n"
      ],
      "metadata": {
        "id": "JdrHjz2gtiGh",
        "colab": {
          "base_uri": "https://localhost:8080/"
        },
        "outputId": "4224ad60-a33d-4a85-e820-7f470ceffe49"
      },
      "execution_count": 68,
      "outputs": [
        {
          "output_type": "stream",
          "name": "stdout",
          "text": [
            "[2, 2, 2, 2, 2, 2, 2, 2, 2, 2, 2, 2, 2, 2, 2, 2, 2, 2, 2, 2, 2, 2, 2, 2, 2, 2, 2, 2, 2, 2, 2, 2, 2, 2, 2, 2, 2, 2, 2, 2, 2, 2, 2, 2, 2, 2, 2, 2, 2, 2, 2, 2, 2, 2, 2, 2, 2, 2, 2, 2, 2, 2, 2, 2, 2, 2, 2, 2, 2, 2, 2, 2, 2, 2, 2, 2, 2, 2, 2, 2, 2, 2, 2, 2, 2, 2, 2, 2, 2, 2, 2, 2, 2, 2, 2, 2, 2, 2, 2, 2, 2, 2, 2, 2, 2, 2, 2, 2, 2, 2, 2, 2, 2, 2, 2, 2, 2, 2, 2, 2, 2, 2, 2, 2, 2, 2, 2, 2, 2, 2, 2, 2, 2, 2, 2, 2, 2, 2, 2, 2, 2, 2, 2, 2, 2, 2, 2, 2, 2, 2, 2, 2, 2, 2, 2, 2, 2, 2, 2, 2, 2, 2, 2, 2, 2, 2, 2, 2, 2, 2, 2, 2, 2, 2, 2, 2, 2, 2, 2, 2, 2, 2, 2, 2, 2, 2, 2, 2, 2, 2, 2, 2, 2, 2, 2, 2, 2, 2, 2, 2, 2, 2, 2, 2, 2, 2, 2, 2, 2, 2, 2, 2, 2, 2, 2, 2, 2, 2, 2, 2, 2, 2, 2, 2, 2, 2, 2, 2, 2, 2, 2, 2, 2, 2, 2, 2, 2, 2, 2, 2, 2, 2, 2, 2, 2, 2, 2, 2, 2, 2, 2, 2, 2, 2, 2, 2, 2, 2, 2, 2, 2, 2, 2, 2, 2, 2, 2, 2, 2, 2, 2, 2, 2, 2, 2, 2, 2, 2, 2, 2, 2, 2, 2, 2, 2, 2, 2, 2, 2, 2, 2, 2, 2, 2, 2, 2, 2, 2, 2, 2, 2, 2, 2, 2, 2, 2, 2, 2, 2, 2, 2, 2, 2, 2, 2, 2, 2, 2, 2, 2, 2, 2, 2, 2, 2, 2, 2, 2, 2, 2, 2, 2, 2, 2, 2, 2, 2, 2, 2, 2, 2, 2, 2, 2, 2, 2, 1, 1, 3, 12837, 9899, 4958, 29493, 1851, 15431, 29493, 12052, 1851, 2434, 15431, 29493, 1072, 3837, 1245, 1040, 3064, 7786, 6204, 29491, 781, 5824, 1040, 4593, 1158, 10060, 29491, 781, 1782, 2598, 2952, 1070, 1040, 10060, 1117, 5248, 3723, 29491, 1183, 2447, 2952, 1065, 1117, 1851, 11221, 3723, 1610, 1183, 12052, 2447, 2952, 1065, 1117, 1851, 2434, 11221, 3723, 29491, 781, 1782, 5551, 1626, 1272, 8255, 1117, 14519, 1070, 2191, 29501, 1820, 3233, 3837, 29491, 781, 2013, 29481, 1228, 1633, 2937, 1206, 1040, 5551, 1626, 1272, 2952, 1070, 1040, 10060, 29491, 781, 12404, 3837, 1137, 1228, 1200, 1473, 29501, 18287, 1369, 12040, 1791, 1115, 7866, 1828, 1546, 8449, 3837, 29491, 781, 3899, 10788, 14497, 19206, 29481, 1066, 5068, 29491, 781, 781, 16191, 1117, 1040, 6204, 29515, 781, 781, 781, 11604, 10832, 1293, 29473, 29508, 29502, 29501, 29518, 29502, 6788, 1065, 23408, 29493, 16505, 1413, 29491, 2297, 3783, 1081, 2730, 9491, 1254, 781, 10078, 3750, 27479, 1329, 1375, 2197, 1319, 3359, 29474, 29493, 15101, 3226, 1070, 7289, 1489, 1050, 5944, 29491, 6532, 3783, 1081, 2730, 781, 19997, 1322, 1178, 1145, 5137, 1329, 1375, 29493, 3402, 1035, 29501, 29494, 4097, 1065, 3949, 29491, 27564, 3943, 1117, 25171, 9828, 29491, 5846, 7045, 3943, 781, 3854, 1340, 29491, 781, 4123, 13365, 1980, 2826, 1193, 1047, 2730, 29493, 7289, 2787, 29474, 29473, 29549, 29501, 29550, 29473, 29785, 29487, 29493, 1163, 2509, 2395, 1179, 29493, 2439, 781, 1099, 1215, 29476, 1210, 23555, 1413, 1215, 29476, 29491, 3084, 1091, 1145, 1193, 1047, 2730, 21079, 29491, 2438, 4394, 29473, 29538, 29491, 29550, 29501, 29550, 29473, 29785, 29487, 29493, 16505, 1413, 29493, 781, 1111, 1319, 3088, 1413, 29493, 1163, 1032, 3253, 9003, 1062, 1069, 29491, 781, 781, 781, 4, 781, 3484, 29515, 781, 14708, 29600, 4139, 781, 29519, 781, 3055, 1113, 9220, 10832, 1293, 2032, 1139, 781, 6158, 1113, 7783, 2032, 1501, 781, 18190, 1113, 24438, 1413, 29507, 781, 6158, 12820, 781, 6158, 1113, 2196, 2032, 1501, 781, 18190, 1113, 29508, 29502, 29501, 29518, 29502, 6788, 1065, 23408, 29507, 781, 6158, 5477, 781, 3055, 2398, 781, 3055, 1113, 1488, 3783, 1081, 2730, 2032, 1139, 781, 6158, 1113, 1442, 2032, 1501, 781, 18190, 1113, 13682, 1254, 2509, 3750, 27479, 1329, 1375, 2197, 1319, 3359, 29474, 29507, 781, 6158, 12820, 781, 6158, 1113, 1443, 4408, 2032, 1501, 781, 18190, 1113, 1443, 1551, 3226, 1070, 7289, 1489, 1050, 5944, 29507, 781, 6158, 5477, 781, 3055, 2398, 781, 3055, 1113, 1184, 3783, 1081, 2730, 2032, 1139, 781, 6158, 1113, 1891, 2032, 1501, 781, 18190, 1113, 19997, 1322, 1178, 1145, 5137, 1329, 1375, 29507, 781, 6158, 12820, 781, 6158, 1113, 4224, 2032, 1501, 781, 18190, 1113, 4810, 1035, 29501, 29494, 4097, 29507, 781, 6158, 5477, 781, 3055, 2398, 781, 3055, 1113, 7045, 3943, 2032, 1139, 781, 6158, 1113, 4224, 2032, 1113, 1096, 1263, 9828, 29507, 781, 3055, 2398, 781, 3055, 1113, 2434, 7045, 3943, 2032, 1501, 781, 6158, 1113, 3854, 1340, 29507, 781, 3055, 12820, 781, 3055, 1113, 5764, 1193, 1047, 2730, 2032, 1139, 781, 6158, 1113, 1891, 2032, 1113, 2414, 13365, 1316, 781, 6158, 1113, 6710, 2787, 29474, 2437, 2032, 1113, 29549, 29501, 29550, 29473, 29785, 29487, 1316, 781, 6158, 1113, 29488, 1199, 7471, 2032, 1113, 4183, 2509, 2395, 1179, 1316, 781, 6158, 1113, 1099, 1215, 1120, 2032, 1501, 781, 18190, 1113, 5505, 1076, 29507, 781, 6158, 12820, 781, 6158, 1113, 19997, 1322, 1413, 1215, 29476, 2032, 1501, 781, 18190, 1113, 5505, 1076, 29507, 781, 6158, 5477, 781, 3055, 2398, 781, 3055, 1113, 2157, 1091, 1145, 1193, 1047, 2730, 2032, 1501, 781, 6158, 1113, 5505, 1076, 29507, 781, 3055, 12820, 781, 3055, 1113, 1654, 4394, 2032, 1139, 781, 6158, 1113, 7783, 2032, 1501, 781, 18190, 1113, 24438, 1413, 29507, 781, 6158, 12820, 781, 6158, 1113, 2196, 2032, 1501, 781, 18190, 1113, 29538, 29491, 29550, 29473, 29785, 29487, 29501, 29550, 29473, 29785, 29487, 29507, 781, 6158, 12820, 781, 6158, 1113, 21710, 14792, 2032, 1113, 1111, 1319, 3088, 1413, 1316, 781, 6158, 1113, 2741, 1062, 1069, 2032, 1501, 781, 18190, 1113, 4183, 1032, 3253, 9003, 1062, 1069, 29507, 781, 6158, 5477, 781, 3055, 1211, 781, 29520, 781, 14708, 29600, 2, 781, 2]\n",
            "1024\n",
            "\n",
            "\n",
            "Synnemata 200-337.5 µm longa, ex stromatibus oriunda. Stromata bene evoluta, globosa,\n",
            "subglobosa vel irregularia, atrobrunnea. 50-72 µm diam., ex cellulis oblongis, cylindraceis\n",
            "composita. Conidiophora 130-263 × 5-6 µm, modice brunnea vel atrobrunnea,\n",
            "crassitunicata, pluriseptata. Conidia solitaria, sicca, in multitudine atro-brunnea, 25-57.5\n",
            "× 5.5-8 µm, laevia, raro verruculosa, crassitunicata, 2-7 septis crassis, basi truncate.\n",
            "\n",
            "Leaf spots necrotic, amphigenous, circular, angular or irregular, forming\n",
            "concentric dark and pale brown patterns on the spots, spreading eventually\n",
            "covering most of the leaf, but not vein limited, 1-3 cm diam. Conidiomata\n",
            "synnematous and caespituli either exclusively hypogenous or amphigenous,\n",
            "synnemata blackish brown 200-337.5 µm long, arising from well developed\n",
            "stroma, globose, subglobose or irregular, dark brown or blackish brown, 50-72\n",
            "µm diam, formed of elongated cylindrical cells. Conidiophores medium to\n",
            "dark brown, thick and dark-walled, formed as a continuation of stromatic cells,\n",
            "130-263 µm long and 5-6 µm wide, 8-10 to multiseptate. Conidiogenous\n",
            "cells integrated, terminal, cylindrical or sometime doliiform, geniculate,\n",
            "slightly wider and paler towards truncate apex, which at times can be obtusely\n",
            "rounded; conidial scars 1-2 in number, 2-3 µm diam, slightly thicker and dark,\n",
            "conidial loci not usually protuberant. Conidia solitary, holoblastic, dry, dark\n",
            "brown to blackish brown in mass, pale brown when immature, later turning to\n",
            "medium to dark brown, 25-57.5 × 5.5-8 µm, straight or slightly curved, mostly\n",
            "smooth, rarely minutely verruculose, thick-walled, thick septate, 2-7-septate,\n",
            "conidial wall and septations are thicker and darker in the basal part, and pale\n",
            "and thin towards apex, conidial base truncate, 2.0-2.2 µm, and apex obtuse or\n",
            "subacute 2.5-3.5 µm\n",
            "\n",
            "Teleomorph: not observed.\n",
            "\n",
            "Colonies on MEA (Fig. 5) very slow growing, 0.5 to 0.8 mm diam after 7\n",
            "days, grayish white or white initially, later turning dark grayish black to blackish\n",
            "brown, velutinous, reverse blackish to dark blackish brown. Colonies become\n",
            "2 to 2.3 mm after 30 days, forming a sulcate pattern, and sectored on MEA.\n",
            "\n",
            "\n",
            "Result: \n",
            "```json\n",
            "{\n",
            "    \"Stoma\": {\n",
            "        \"Development\": [\n",
            "            \"well developed\"\n",
            "        ],\n",
            "        \"Shape\": [\n",
            "            \"globose\",\n",
            "            \"subglobose\",\n",
            "            \"irregular\"\n",
            "        ],\n",
            "        \"Color\": [\n",
            "            \"dark brown\",\n",
            "            \"blackish brown\"\n",
            "        ],\n",
            "        \"Size\": [\n",
            "            \"50-72 µm diam.\"\n",
            "        ],\n",
            "        \"Formation\": [\n",
            "            \"elongated cylindrical cells\"\n",
            "        ]\n",
            "    },\n",
            "    \"Conidiophora\": {\n",
            "        \"Color\": [\n",
            "            \"medium brown\",\n",
            "            \"dark brown\"\n",
            "        ],\n",
            "        \"Shape\": [\n",
            "            \"crassitunicate\"\n",
            "        ],\n",
            "        \"Length\": [\n",
            "            \"130-263 × 5-6 µm\"\n",
            "        ],\n",
            "        \"Septation\": [\n",
            "            \"pluriseptate\"\n",
            "        ],\n",
            "        \"Additional Features\": [\n",
            "            \"thick and dark-walled\"\n",
            "        ]\n",
            "    },\n",
            "    \"Conidia\": {\n",
            "        \"Habit\": [\n",
            "            \"solitary\",\n",
            "            \"dry\"\n",
            "        ],\n",
            "        \"Color\": [\n",
            "            \"dark brown\"\n",
            "        ],\n",
            "        \"Size\": [\n",
            "            \"25-57.5 × 5.5-8 µm\"\n",
            "        ],\n",
            "        \"Shape\": [\n",
            "            \"laevia\"\n",
            "        ],\n",
            "        \"Rarity\": [\n",
            "            \"raro verruculosa\"\n",
            "        ],\n",
            "        \"Wall Characteristics\": [\n",
            "            \"crassitunicata\"\n",
            "        ],\n",
            "        \"Septation\": [\n",
            "            \"2-7 septis crassis\"\n",
            "        ],\n",
            "        \"Base\": [\n",
            "            \"truncate\"\n",
            "        ],\n",
            "        \"Apex\": [\n",
            "            \"obtuse or subacute\"\n",
            "        ]\n",
            "    },\n",
            "    \"Leaf Spot\": {\n",
            "        \"Nature\": [\n",
            "            \"necrotic\"\n",
            "        ],\n",
            "        \"Location\": [\n",
            "            \"amphigenous\"\n",
            "        ],\n",
            "        \"Shape\": [\n",
            "            \"circular\",\n",
            "            \"angular\",\n",
            "            \"irregular\"\n",
            "        ],\n",
            "        \"Pattern\": [\n",
            "            \"forming concentric dark and pale brown patterns\"\n",
            "        ],\n",
            "        \"Spreading\": [\n",
            "            \"eventually covering most of the leaf\"\n",
            "        ],\n",
            "        \"Size\": [\n",
            "            \"1-3 cm diam.\"\n",
            "        ],\n",
            "        \"Limitation\": [\n",
            "            \"not vein limited\"\n",
            "        ]\n",
            "    },\n",
            "    \"Conidiomata\": {\n",
            "        \"Type\": [\n",
            "            \"synnematous\",\n",
            "            \"caespituli\"\n",
            "        ],\n",
            "        \"Development Position\": [\n",
            "            \"exclusively hypogenous or amphigenous\"\n",
            "        ],\n",
            "        \"Color\": [\n",
            "            \"blackish brown\"\n",
            "        ],\n",
            "        \"Size\": [\n",
            "            \"200-337.5 µm long\"\n",
            "        ],\n",
            "        \"Shape\": [\n",
            "            \"globose\",\n",
            "            \"subglobose\",\n",
            "            \"irregular\"\n",
            "        ]\n",
            "    },\n",
            "    \"Colony Characteristics (MEA)\": {\n",
            "        \"Growth Rate\": [\n",
            "            \"very slow growing\"\n",
            "        ],\n",
            "        \"Size (after 7 days)\": [\n",
            "            \"0.5 to 0.8 mm diam\"\n",
            "        ],\n",
            "        \"Initial Color\": [\n",
            "            \"grayish white\",\n",
            "            \"white initially\"\n",
            "        ],\n",
            "        \"Later Color\": [\n",
            "            \"turning dark grayish black\",\n",
            "            \"blackish brown\"\n",
            "        ],\n",
            "        \"Texture\": [\n",
            "            \"velutinous\"\n",
            "        ],\n",
            "        \"Reverse Color\": [\n",
            "            \"blackish\",\n",
            "            \"dark blackish brown\"\n",
            "        ],\n",
            "        \"Shape (after 30 days)\": [\n",
            "            \"forming a sulcate pattern\",\n",
            "            \"sectored on MEA\"\n",
            "        ],\n",
            "        \"Size (after 30 days)\": [\n",
            "            \"Colonies become 2 to 2.3 mm.\"\n",
            "        ]\n",
            "    },\n",
            "    \"Teleomorph\": [\n",
            "        \"not observed\"\n",
            "    ]\n",
            "}\n",
            "```\n",
            "\n"
          ]
        }
      ]
    },
    {
      "cell_type": "code",
      "source": [
        "eval_prompt = f\"\"\"<s>[INST]{prompt}\n",
        "\n",
        "Here is the description:\n",
        "{description}[/INST]\n",
        "Result:\n",
        "\"\"\"\n",
        "\n"
      ],
      "metadata": {
        "id": "6ft_ML-1tr6B"
      },
      "execution_count": 69,
      "outputs": []
    },
    {
      "cell_type": "code",
      "source": [
        "print(eval_prompt)"
      ],
      "metadata": {
        "id": "RsKNRxgG46eN",
        "colab": {
          "base_uri": "https://localhost:8080/"
        },
        "outputId": "673e147c-0e92-492b-da64-fae628b673d1"
      },
      "execution_count": 70,
      "outputs": [
        {
          "output_type": "stream",
          "name": "stdout",
          "text": [
            "<s>[INST]Please extract features, subfeatures, optional subsubfeatures, and values from the following species description.\n",
            "Format the output as JSON.\n",
            "The top level of the JSON is feature names. The next level in is subfeature names . The optional next level in is subsubfeature names.\n",
            "The innermost layer is lists of string-valued values.\n",
            "Lists are only present at the innermost level of the JSON.\n",
            "Feature values that are comma-separated strings should be broken down into separate values.\n",
            "Translate Latin paragraphs to English.\n",
            "\n",
            "\n",
            "Here is the description:\n",
            "Fungus anamorphicus. Coloniae in substrato naturali eﬀusae, nigrae. Mycelium\n",
            "superﬁciale, ex hyphis ramosis, septatis, pallide brunneis vel brunneis, laevibus, 1.5–3\n",
            "μm crassis compositum. Conidiophora nulla vel brevis, 1–3-septata, brunnea vel\n",
            "atrobrunnea, 11–28 × 4.5–5 μm. Cellula conidiogena monoblastica, determinatae,\n",
            "solitaria, simplicia, lageniformia vel ampulliformia, brunnea vel atrobrunnea, laevia,\n",
            "4.5–6.5 × 3.5–5 μm, ad apicem 3–4.5 μm crassa et truncatae. Conidiorum secessio\n",
            "schizolytica. Conidia holoblastica, solitaria, acrogena, recta vel curvata, obclavata vel\n",
            "obclavata-rostrata, atrobrunnea vel brunnea, laevia, 13–19-distoseptata, 130–190 μm\n",
            "longa, 7–9 μm crassa, apicem versus ad 2–3 μm attenuata; cellula apicalis rotundata;\n",
            "cellula basalis cylindrica vel conico-truncata, ad basim 3.5–4.5 μm crassa; Appendicibus\n",
            "lateralibus 0–2, brunneae, septata, cylindricae, surgentibus ex cellulla e apicem 2nd vel\n",
            "3rd.\n",
            "\n",
            "Anamorphic fungi. Colonies on natural substrate eﬀuse, black. Mycelium\n",
            "superﬁcial, composed of branched, septate, pale brown to brown, smoothwalled hyphae, 1.5–3 μm thick. Conidiophores absent or short, 1–3-septate,\n",
            "brown to dark brown, 11–28 × 4.5–5 μm. Conidiogenous cells monoblastic,\n",
            "determinate, solitary, simple, lageniform or ampulliform, brown to dark brown,\n",
            "smooth, 4.5–6.5 × 3.5–5 μm, 3–4.5 μm wide at the truncate apex. Conidial\n",
            "secession schizolytic. Conidia holoblastic, solitary, acrogenous, straight or\n",
            "curved, obclavate to obclavate-rostrate, dark brown to brown, smooth, 13–19distoseptate, 130–190 μm long, 7–9 μm thick in the broadest part, tapering\n",
            "to 2–3 μm near the apex; apical cells rounded; basal cell cylindrical, truncate,\n",
            "3.5–4.5 μm wide; lateral appendages 0–2, brown, septate, cylindrical, arising\n",
            "from the 2nd or 3rd cells from the apex.\n",
            "[/INST]\n",
            "Result:\n",
            "\n"
          ]
        }
      ]
    },
    {
      "cell_type": "code",
      "source": [
        "base_model_input = tokenizer(eval_prompt, return_tensors=\"pt\").to(\"cuda\")\n",
        "base_model.eval()\n",
        "with torch.no_grad():\n",
        "    print(tokenizer.decode(base_model.generate(**base_model_input, max_new_tokens=2048, pad_token_id=2)[0], skip_special_tokens=True))\n"
      ],
      "metadata": {
        "id": "x5sJOjUnt0Va",
        "colab": {
          "base_uri": "https://localhost:8080/"
        },
        "outputId": "1a41e0f5-2ea5-486b-f7f4-12966ebafa38"
      },
      "execution_count": 71,
      "outputs": [
        {
          "output_type": "stream",
          "name": "stdout",
          "text": [
            "Please extract features, subfeatures, optional subsubfeatures, and values from the following species description.\n",
            "Format the output as JSON.\n",
            "The top level of the JSON is feature names. The next level in is subfeature names . The optional next level in is subsubfeature names.\n",
            "The innermost layer is lists of string-valued values.\n",
            "Lists are only present at the innermost level of the JSON.\n",
            "Feature values that are comma-separated strings should be broken down into separate values.\n",
            "Translate Latin paragraphs to English.\n",
            "\n",
            "\n",
            "Here is the description:\n",
            "Fungus anamorphicus. Coloniae in substrato naturali eﬀusae, nigrae. Mycelium\n",
            "superﬁciale, ex hyphis ramosis, septatis, pallide brunneis vel brunneis, laevibus, 1.5–3\n",
            "μm crassis compositum. Conidiophora nulla vel brevis, 1–3-septata, brunnea vel\n",
            "atrobrunnea, 11–28 × 4.5–5 μm. Cellula conidiogena monoblastica, determinatae,\n",
            "solitaria, simplicia, lageniformia vel ampulliformia, brunnea vel atrobrunnea, laevia,\n",
            "4.5–6.5 × 3.5–5 μm, ad apicem 3–4.5 μm crassa et truncatae. Conidiorum secessio\n",
            "schizolytica. Conidia holoblastica, solitaria, acrogena, recta vel curvata, obclavata vel\n",
            "obclavata-rostrata, atrobrunnea vel brunnea, laevia, 13–19-distoseptata, 130–190 μm\n",
            "longa, 7–9 μm crassa, apicem versus ad 2–3 μm attenuata; cellula apicalis rotundata;\n",
            "cellula basalis cylindrica vel conico-truncata, ad basim 3.5–4.5 μm crassa; Appendicibus\n",
            "lateralibus 0–2, brunneae, septata, cylindricae, surgentibus ex cellulla e apicem 2nd vel\n",
            "3rd.\n",
            "\n",
            "Anamorphic fungi. Colonies on natural substrate eﬀuse, black. Mycelium\n",
            "superﬁcial, composed of branched, septate, pale brown to brown, smoothwalled hyphae, 1.5–3 μm thick. Conidiophores absent or short, 1–3-septate,\n",
            "brown to dark brown, 11–28 × 4.5–5 μm. Conidiogenous cells monoblastic,\n",
            "determinate, solitary, simple, lageniform or ampulliform, brown to dark brown,\n",
            "smooth, 4.5–6.5 × 3.5–5 μm, 3–4.5 μm wide at the truncate apex. Conidial\n",
            "secession schizolytic. Conidia holoblastic, solitary, acrogenous, straight or\n",
            "curved, obclavate to obclavate-rostrate, dark brown to brown, smooth, 13–19distoseptate, 130–190 μm long, 7–9 μm thick in the broadest part, tapering\n",
            "to 2–3 μm near the apex; apical cells rounded; basal cell cylindrical, truncate,\n",
            "3.5–4.5 μm wide; lateral appendages 0–2, brown, septate, cylindrical, arising\n",
            "from the 2nd or 3rd cells from the apex.\n",
            "\n",
            "Result:\n",
            "\n",
            "```json\n",
            "{\n",
            "  \"Fungus\": {\n",
            "    \"Anamorphicus\": {\n",
            "      \"Colony\": {\n",
            "        \"Natural_substrate\": [\"eﬀuse\"],\n",
            "        \"Color\": [\"black\"]\n",
            "      },\n",
            "      \"Mycelium\": {\n",
            "        \"Type\": [\"superﬁcial\"],\n",
            "        \"Hypha_characteristics\": {\n",
            "          \"Branching\": [\"branched\"],\n",
            "          \"Septation\": [\"septate\"],\n",
            "          \"Color\": [\"pale brown\", \"brown\"],\n",
            "          \"Smoothness\": [\"smooth\"],\n",
            "          \"Thickness\": [\"1.5–3 μm\"]\n",
            "        }\n",
            "      },\n",
            "      \"Conidiophore\": {\n",
            "        \"Presence\": [\"absent\", \"short\"],\n",
            "        \"Septation\": [\"1–3-septate\"],\n",
            "        \"Color\": [\"brown\", \"dark brown\"],\n",
            "        \"Dimensions\": [\"11–28 × 4.5–5 μm\"]\n",
            "      },\n",
            "      \"Conidiogenous_cell\": {\n",
            "        \"Type\": [\"monoblastic\", \"determinate\", \"solitary\", \"simple\"],\n",
            "        \"Shape\": [\"lageniform\", \"ampulliform\"],\n",
            "        \"Color\": [\"brown\", \"dark brown\"],\n",
            "        \"Smoothness\": [\"smooth\"],\n",
            "        \"Dimensions\": [\"4.5–6.5 × 3.5–5 μm\"],\n",
            "        \"Apex_characteristics\": {\n",
            "          \"Width\": [\"3–4.5 μm\"],\n",
            "          \"Shape\": [\"truncate\"]\n",
            "        }\n",
            "      },\n",
            "      \"Conidial_secession\": [\"schizolytic\"],\n",
            "      \"Conidium\": {\n",
            "        \"Type\": [\"holoblastic\", \"acrogenous\"],\n",
            "        \"Shape\": [\"straight\", \"curved\", \"obclavate\", \"obclavate-rostrate\"],\n",
            "        \"Septation\": [\"13–19-distoseptate\"],\n",
            "        \"Length\": [\"130–190 μm\"],\n",
            "        \"Thickness\": [\"7–9 μm\"],\n",
            "        \"Apex_characteristics\": {\n",
            "          \"Tapering\": [\"2–3 μm\"],\n",
            "          \"Shape\": [\"rounded\"],\n",
            "          \"Width_at_broadest_part\": [\"3.5–4.5 μm\"]\n",
            "        },\n",
            "        \"Basal_cell_characteristics\": {\n",
            "          \"Shape\": [\"cylindrical\", \"conico-truncate\"],\n",
            "          \"Width\": [\"3.5–4.5 μm\"]\n",
            "        },\n",
            "        \"Lateral_appendages\": {\n",
            "          \"Presence\": [\"0–2\"],\n",
            "          \"Color\": [\"brown\"],\n",
            "          \"Septation\": [\"septate\"],\n",
            "          \"Shape\": [\"cylindrical\"],\n",
            "          \"Origin\": [\"from the 2nd cells\", \"from the 3rd cells\", \"from the apex\"]\n",
            "        }\n",
            "      }\n",
            "    }\n",
            "  }\n",
            "}\n",
            "```\n",
            "\n",
            "This JSON represents the features, subfeatures, and values of the given species description. The top level is the feature name \"Fungus\", and the next level is the subfeature \"Anamorphicus\". The subfeatures and their respective values are listed under the \"Anamorphicus\" level. The optional subsubfeatures are represented as lists, and the innermost layer is a list of string-valued values.\n"
          ]
        }
      ]
    },
    {
      "cell_type": "markdown",
      "source": [
        "## Run the base model on an assortment of annotated files"
      ],
      "metadata": {
        "id": "Kfe6dKWdT1fQ"
      }
    },
    {
      "cell_type": "code",
      "source": [
        "grouped = group_paragraphs(relabeled)\n",
        "with open(workdir / 'json_training2.txt', 'w', encoding='utf-8') as f:\n",
        "  for i, tax in enumerate(grouped):\n",
        "    eval_prompt(f'<s>[INST]\\n{tax.as_row()[\"description\"]}')\n",
        "    base_model_input = tokenizer(eval_prompt, return_tensors=\"pt\").to(\"cuda\")\n",
        "    base_model.eval()\n",
        "    with torch.no_grad():\n",
        "        print(tokenizer.decode(base_model.generate(**base_model_input, max_new_tokens=2048, pad_token_id=2)[0], skip_special_tokens=True), file=f)\n",
        "\n",
        "  print(response['message']['content'])"
      ],
      "metadata": {
        "id": "bJeBLyAZWH8r",
        "outputId": "5d7b506b-b014-4167-dfb0-30434a810e98",
        "colab": {
          "base_uri": "https://localhost:8080/",
          "height": 106
        }
      },
      "execution_count": 72,
      "outputs": [
        {
          "output_type": "error",
          "ename": "SyntaxError",
          "evalue": "invalid syntax (<ipython-input-72-1178551163>, line 2)",
          "traceback": [
            "\u001b[0;36m  File \u001b[0;32m\"<ipython-input-72-1178551163>\"\u001b[0;36m, line \u001b[0;32m2\u001b[0m\n\u001b[0;31m    with f = open(workdir / 'json_training2.txt', 'w', encoding='utf-8') as f:\u001b[0m\n\u001b[0m           ^\u001b[0m\n\u001b[0;31mSyntaxError\u001b[0m\u001b[0;31m:\u001b[0m invalid syntax\n"
          ]
        }
      ]
    },
    {
      "cell_type": "code",
      "source": [
        "from peft import prepare_model_for_kbit_training\n",
        "base_model.gradient_checkpointing_enable()\n",
        "base_model = prepare_model_for_kbit_training(base_model)\n",
        "def print_trainable_parameters(model):\n",
        "    \"\"\"\n",
        "    Prints the number of trainable parameters in the model.\n",
        "    \"\"\"\n",
        "    trainable_params = 0\n",
        "    all_param = 0\n",
        "    for _, param in model.named_parameters():\n",
        "        all_param += param.numel()\n",
        "        if param.requires_grad:\n",
        "            trainable_params += param.numel()\n",
        "    print(\n",
        "        f\"trainable params: {trainable_params} || all params: {all_param} || trainable%: {100 * trainable_params / all_param}\"\n",
        "    )\n",
        "\n",
        "\n"
      ],
      "metadata": {
        "id": "9ipKj0pTugn8"
      },
      "execution_count": null,
      "outputs": []
    },
    {
      "cell_type": "code",
      "source": [
        "from peft import LoraConfig, get_peft_model\n",
        "config = LoraConfig(\n",
        "    r=8,\n",
        "    lora_alpha=16,\n",
        "    target_modules=[\n",
        "        \"q_proj\",\n",
        "        \"k_proj\",\n",
        "        \"v_proj\",\n",
        "        \"o_proj\",\n",
        "        \"gate_proj\",\n",
        "        \"up_proj\",\n",
        "        \"down_proj\",\n",
        "        \"lm_head\",\n",
        "    ],\n",
        "    bias=\"none\",\n",
        "    lora_dropout=0.05,  # Conventional\n",
        "    task_type=\"CAUSAL_LM\",\n",
        ")\n",
        "base_model = get_peft_model(base_model, config)\n",
        "print_trainable_parameters(base_model)\n",
        "base_model = accelerator.prepare_model(base_model)\n",
        "\n"
      ],
      "metadata": {
        "id": "x7sYF8ceusBn"
      },
      "execution_count": null,
      "outputs": []
    },
    {
      "cell_type": "code",
      "source": [
        "print(base_model)\n"
      ],
      "metadata": {
        "id": "EFAC_FU_u53l"
      },
      "execution_count": null,
      "outputs": []
    },
    {
      "cell_type": "code",
      "source": [
        "if torch.cuda.device_count() > 1: # If more than 1 GPU\n",
        "    base_model.is_parallelizable = True\n",
        "    base_model.model_parallel = True\n"
      ],
      "metadata": {
        "id": "nPKZus-Cu-gK"
      },
      "execution_count": null,
      "outputs": []
    },
    {
      "cell_type": "code",
      "source": [
        "!nvidia-smi"
      ],
      "metadata": {
        "id": "Ya-fYP70FgeN"
      },
      "execution_count": null,
      "outputs": []
    },
    {
      "cell_type": "markdown",
      "source": [
        "## Fine tune the model"
      ],
      "metadata": {
        "id": "EYZ951IYUSNb"
      }
    },
    {
      "cell_type": "code",
      "source": [
        "import transformers\n",
        "from datetime import datetime\n",
        "import wandb\n",
        "project = \"skol-finetune\"\n",
        "base_model_name = \"mistral\"\n",
        "run_name = base_model_name + \"-\" + project\n",
        "output_dir = \"./\" + run_name\n",
        "tokenizer.pad_token = tokenizer.eos_token\n",
        "wandb_token = userdata.get('WANDB_TOKEN')\n",
        "wandb.login(key=wandb_token)\n",
        "trainer = transformers.Trainer(\n",
        "    model=base_model,\n",
        "    train_dataset=tokenized_train_dataset,\n",
        "    eval_dataset=tokenized_val_dataset,\n",
        "    args=transformers.TrainingArguments(\n",
        "        output_dir=output_dir,\n",
        "        warmup_steps=5,\n",
        "        per_device_train_batch_size=2,\n",
        "        gradient_accumulation_steps=4,\n",
        "        # max_steps=1000,\n",
        "        max_steps=100,\n",
        "        learning_rate=2.5e-5, # Want about 10x smaller than the Mistral learning rate\n",
        "        logging_steps=10,\n",
        "        bf16=True,\n",
        "        optim=\"paged_adamw_8bit\",\n",
        "        logging_dir=\"./logs\",        # Directory for storing logs\n",
        "        save_strategy=\"steps\",       # Save the model checkpoint every logging step\n",
        "        save_steps=10,                # Save checkpoints every 50 steps\n",
        "        eval_strategy=\"steps\", # Evaluate the model every logging step\n",
        "        eval_steps=10,               # Evaluate and save checkpoints every 50 steps\n",
        "        do_eval=True,                # Perform evaluation at the end of training\n",
        "        report_to=\"wandb\",           # Comment this out if you don't want to use weights & baises\n",
        "        run_name=f\"{run_name}-{datetime.now().strftime('%Y-%m-%d-%H-%M')}\"          # Name of the W&B run (optional)\n",
        "    ),\n",
        "    data_collator=transformers.DataCollatorForLanguageModeling(tokenizer, mlm=False),\n",
        ")\n",
        "base_model.config.use_cache = False  # silence the warnings. Please re-enable for inference!\n",
        "trainer.train()\n",
        "\n"
      ],
      "metadata": {
        "id": "CxiMD_1evHOA"
      },
      "execution_count": null,
      "outputs": []
    },
    {
      "cell_type": "code",
      "source": [
        "base_model = AutoModelForCausalLM.from_pretrained(\n",
        "    base_model_id,  # Mistral, same as before\n",
        "    quantization_config=bnb_config,  # Same quantization config as before\n",
        "    device_map=\"auto\",\n",
        "    trust_remote_code=True,\n",
        "    use_auth_token=True\n",
        ")\n",
        "base_tokenizer = AutoTokenizer.from_pretrained(base_model_id, trust_remote_code=True)\n",
        "base_tokenizer.pad_token = tokenizer.eos_token\n"
      ],
      "metadata": {
        "id": "tiQKEr07w5aQ"
      },
      "execution_count": null,
      "outputs": []
    },
    {
      "cell_type": "code",
      "source": [
        "from peft import PeftModel\n",
        "ft_model = PeftModel.from_pretrained(base_model, \"mistral-skol-finetune/checkpoint-200\")\n",
        "ft_model.eval()\n",
        "with torch.no_grad():\n",
        "    print(tokenizer.decode(ft_model.generate(**base_model_input, max_new_tokens=2048, pad_token_id=2)[0], skip_special_tokens=True))\n"
      ],
      "metadata": {
        "id": "p_k1K85_54NX"
      },
      "execution_count": null,
      "outputs": []
    },
    {
      "cell_type": "markdown",
      "source": [
        "## Save the finetuned model and tokenizer\n"
      ],
      "metadata": {
        "id": "1qKcVt8kU1WR"
      }
    },
    {
      "cell_type": "code",
      "source": [
        "ft_model.save_pretrained(str(ist691 / 'mistral-skol-finetune'))\n",
        "tokenizer.save_pretrained(str(ist691 / 'mistral-skol-finetune'))"
      ],
      "metadata": {
        "id": "0Q3MDfza_lcB"
      },
      "execution_count": null,
      "outputs": []
    },
    {
      "cell_type": "markdown",
      "source": [
        "## Prompt engineering cell\n",
        "Currently disabled."
      ],
      "metadata": {
        "id": "TrZT8FnGVQ-l"
      }
    },
    {
      "cell_type": "markdown",
      "source": [
        "prompt = '''Please extract features, subfeatures, optional subsubfeatures, and values from the following species description.\n",
        "Format the output as JSON.\n",
        "The top level of the JSON is feature names. The next level in is subfeature names . The optional next level in is subsubfeature names.\n",
        "The innermost layer is lists of string-valued values.\n",
        "Lists are only present at the innermost level of the JSON.\n",
        "Feature values that are comma-separated strings should be broken down into separate values.\n",
        "Translate Latin paragraphs to English.\n",
        "'''\n",
        "\n",
        "description = \"\"\"Fungus anamorphicus. Coloniae in substrato naturali eﬀusae, nigrae. Mycelium\n",
        "superﬁciale, ex hyphis ramosis, septatis, pallide brunneis vel brunneis, laevibus, 1.5–3\n",
        "μm crassis compositum. Conidiophora nulla vel brevis, 1–3-septata, brunnea vel\n",
        "atrobrunnea, 11–28 × 4.5–5 μm. Cellula conidiogena monoblastica, determinatae,\n",
        "solitaria, simplicia, lageniformia vel ampulliformia, brunnea vel atrobrunnea, laevia,\n",
        "4.5–6.5 × 3.5–5 μm, ad apicem 3–4.5 μm crassa et truncatae. Conidiorum secessio\n",
        "schizolytica. Conidia holoblastica, solitaria, acrogena, recta vel curvata, obclavata vel\n",
        "obclavata-rostrata, atrobrunnea vel brunnea, laevia, 13–19-distoseptata, 130–190 μm\n",
        "longa, 7–9 μm crassa, apicem versus ad 2–3 μm attenuata; cellula apicalis rotundata;\n",
        "cellula basalis cylindrica vel conico-truncata, ad basim 3.5–4.5 μm crassa; Appendicibus\n",
        "lateralibus 0–2, brunneae, septata, cylindricae, surgentibus ex cellulla e apicem 2nd vel\n",
        "3rd.\n",
        "\n",
        "Anamorphic fungi. Colonies on natural substrate eﬀuse, black. Mycelium\n",
        "superﬁcial, composed of branched, septate, pale brown to brown, smoothwalled hyphae, 1.5–3 μ\n",
        "m thick. Conidiophores absent or short, 1–3-septate,\n",
        "brown to dark brown, 11–28 × 4.5–5 μm. Conidiogenous cells monoblastic,\n",
        "determinate, solitary, simple, lageniform or ampulliform, brown to dark brown,\n",
        "smooth, 4.5–6.5 × 3.5–5 μm, 3–4.5 μm wide at the truncate apex. Conidial\n",
        "secession schizolytic. Conidia holoblastic, solitary, acrogenous, straight or\n",
        "curved, obclavate to obclavate-rostrate, dark brown to brown, smooth, 13–19distoseptate, 130–190 μm long, 7–9 μm thick in the broadest part, tapering\n",
        "to 2–3 μm near the apex; apical cells rounded; basal cell cylindrical, truncate,\n",
        "3.5–4.5 μm wide; lateral appendages 0–2, brown, septate, cylindrical, arising\n",
        "from the 2nd or 3rd cells from the apex.\n",
        "\"\"\"\n",
        "\n",
        "eval_prompt = f\"\"\"{prompt}\n",
        "\n",
        "{description}\n",
        "Result:\n",
        "\"\"\"\n",
        "\n",
        "base_model_input = tokenizer(eval_prompt, return_tensors=\"pt\").to(\"cuda\")\n",
        "base_model.eval()\n",
        "with torch.no_grad():\n",
        "    print(tokenizer.decode(base_model.generate(**base_model_input, max_new_tokens=2048, pad_token_id=2)[0], skip_special_tokens=True))\n"
      ],
      "metadata": {
        "id": "LRVrCQshHcZj"
      }
    },
    {
      "cell_type": "code",
      "source": [
        "# Initial implementation came from a Google search of\n",
        "# \"cosine similarity of two JSON objects python\".\n",
        "# We need to adjust this to handle a 3 level structure of\n",
        "# (feature, subfeature, value), where the values may be list based, and\n",
        "# may be categorical. We need to build a dictionary of known features,\n",
        "# subfeatures, and values to be used to assign numerical values.\n",
        "import json\n",
        "import numpy as np\n",
        "from numpy.linalg import norm\n",
        "\n",
        "def key_value_sets(json_obj):\n",
        "  keys = set()\n",
        "  values = set()\n",
        "  if isinstance(json_obj, dict):\n",
        "    for key, value in json_obj.items():\n",
        "      keys.add(key)\n",
        "      subkeys, subvalues = key_value_sets(value)\n",
        "      keys.update(subkeys)\n",
        "      values.update(subvalues)\n",
        "  elif isinstance(json_obj, list):\n",
        "    values.update(json_obj)\n",
        "  elif isinstance(json_obj, str):\n",
        "    values.add(json_obj)\n",
        "  else:\n",
        "    raise ValueError(f\"Not a valid type:{type(json_obj)}-#{json_obj}\")\n",
        "  return (keys,values)\n",
        "\n",
        "# Credit to Google search of \"jaccard distance set python\" which generated this code.\n",
        "def jaccard_distance(set1, set2):\n",
        "    intersection = set1.intersection(set2)\n",
        "    union = set1.union(set2)\n",
        "    jaccard_index = len(intersection) / len(union)\n",
        "    jaccard_distance = 1 - jaccard_index\n",
        "    return jaccard_distance\n",
        "\n",
        "def jaccard_distance_json(json1, json2):\n",
        "    \"\"\"\n",
        "    Calculates the cosine similarity between two JSON objects.\n",
        "\n",
        "    Args:\n",
        "        json1 (dict): The first JSON object.\n",
        "        json2 (dict): The second JSON object.\n",
        "\n",
        "    Returns:\n",
        "        float: The cosine similarity between the two JSON objects.\n",
        "    \"\"\"\n",
        "\n",
        "    json1_keys, json1_vals = key_value_sets(json1)\n",
        "    json2_keys, json2_vals = key_value_sets(json2)\n",
        "    j_key = jaccard_distance(json1_keys, json2_keys)\n",
        "    j_val = jaccard_distance(json1_vals, json2_vals)\n",
        "\n",
        "    avg_jaccard_distance = (j_key + j_val)/2\n",
        "\n",
        "    return avg_jaccard_distance\n",
        "\n",
        "# Example Usage\n",
        "json_training_0 = json.loads(json_training[0]['result'])\n",
        "json_training_1 = json.loads(json_training[1]['result'])\n",
        "#print(json_training[0]['result'])\n",
        "#print(json_training[1][\"result\"])\n",
        "print(jaccard_distance_json(json_training_0, json_training_0))\n",
        "print(jaccard_distance_json(json_training_0, json_training_1))\n"
      ],
      "metadata": {
        "id": "gv4BAcz_P5px"
      },
      "execution_count": null,
      "outputs": []
    },
    {
      "cell_type": "code",
      "source": [
        "import io\n",
        "\n",
        "def extract_json(astr):\n",
        "  state = \"START\"\n",
        "  lines = []\n",
        "  with io.StringIO(astr) as f:\n",
        "    for line in f:\n",
        "      if line.startswith('```json'):\n",
        "        state = \"RECORDING\"\n",
        "      elif line.startswith('```'):\n",
        "        state = \"END\"\n",
        "        return json.loads(\"\\n\".join(lines))\n",
        "      elif state == \"RECORDING\":\n",
        "        lines.append(line)\n",
        "\n"
      ],
      "metadata": {
        "id": "KGi-FtiXmNcI"
      },
      "execution_count": null,
      "outputs": []
    },
    {
      "cell_type": "code",
      "source": [
        "description = test_dataset[0]['description']\n",
        "ground_truth = json.loads(test_dataset[0]['result'].lower())\n",
        "test_prompt = f\"\"\"<s>[INST]{prompt}\n",
        "\n",
        "Here is the description:\n",
        "{description}[/INST]\n",
        "Result:\n",
        "\"\"\""
      ],
      "metadata": {
        "id": "xysX-EZylEym"
      },
      "execution_count": null,
      "outputs": []
    },
    {
      "cell_type": "code",
      "source": [
        "base_model_input = tokenizer(test_prompt, return_tensors=\"pt\").to(\"cuda\")\n",
        "base_model.eval()\n",
        "base_model_id = \"mistralai/Mistral-7B-Instruct-v0.3\"\n",
        "bnb_config = BitsAndBytesConfig(\n",
        "    load_in_4bit=True,\n",
        "    bnb_4bit_use_double_quant=True,\n",
        "    bnb_4bit_quant_type=\"nf4\",\n",
        "    bnb_4bit_compute_dtype=torch.bfloat16\n",
        ")\n",
        "base_model = AutoModelForCausalLM.from_pretrained(base_model_id, quantization_config=bnb_config)"
      ],
      "metadata": {
        "id": "5B3fKzyGetsQ"
      },
      "execution_count": null,
      "outputs": []
    },
    {
      "cell_type": "code",
      "source": [
        "ft_path = str(ist691 / 'mistral-skol-finetune')\n",
        "ft_tokenizer = AutoTokenizer.from_pretrained(ft_path, trust_remote_code=True)\n",
        "ft_model_input = ft_tokenizer(test_prompt, return_tensors=\"pt\").to(\"cuda\")\n",
        "ft_model = AutoModelForCausalLM.from_pretrained(ft_path, quantization_config=bnb_config)"
      ],
      "metadata": {
        "id": "1y-66lnUesB4"
      },
      "execution_count": null,
      "outputs": []
    },
    {
      "cell_type": "code",
      "source": [
        "with torch.no_grad():\n",
        "  base_model_result = extract_json(tokenizer.decode(base_model.generate(**base_model_input, max_new_tokens=2048, pad_token_id=2)[0], skip_special_tokens=True).lower())\n",
        "  ft_model_result = extract_json(tokenizer.decode(ft_model.generate(**ft_model_input, max_new_tokens=2048, pad_token_id=2)[0], skip_special_tokens=True).lower())\n"
      ],
      "metadata": {
        "id": "NzaR6NMTg9qd"
      },
      "execution_count": null,
      "outputs": []
    },
    {
      "cell_type": "code",
      "source": [
        "print(\"Base Model Result\")\n",
        "print(type(base_model_result))\n",
        "print(base_model_result)\n",
        "print(\"Fine-Tuned Model Result\")\n",
        "print(type(ft_model_result))\n",
        "print(ft_model_result)\n",
        "print(\"Ground Truth\")\n",
        "print(type(ground_truth))\n",
        "print(ground_truth)"
      ],
      "metadata": {
        "id": "3EBAUPkPhck9"
      },
      "execution_count": null,
      "outputs": []
    },
    {
      "cell_type": "code",
      "source": [
        "print(\"Base Model Jaccard Distance\")\n",
        "print(jaccard_distance_json(base_model_result, ground_truth))\n",
        "print(\"Fine-Tuned Model Jaccard Distance\")\n",
        "print(jaccard_distance_json(ft_model_result, ground_truth))\n",
        "#"
      ],
      "metadata": {
        "id": "9ORdPJRchn_C"
      },
      "execution_count": null,
      "outputs": []
    }
  ]
}