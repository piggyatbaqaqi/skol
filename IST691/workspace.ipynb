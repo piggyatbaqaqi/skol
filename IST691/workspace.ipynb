{
  "cells": [
    {
      "cell_type": "markdown",
      "metadata": {
        "id": "view-in-github",
        "colab_type": "text"
      },
      "source": [
        "<a href=\"https://colab.research.google.com/github/piggyatbaqaqi/skol/blob/master/IST691/workspace.ipynb\" target=\"_parent\"><img src=\"https://colab.research.google.com/assets/colab-badge.svg\" alt=\"Open In Colab\"/></a>"
      ]
    },
    {
      "cell_type": "markdown",
      "source": [
        "# SKOL III: Feature extraction\n",
        "\n",
        "created by:\n",
        "* La Monte Yarroll\n",
        "* Padmaja Kurmaddali\n",
        "* Patrick Le"
      ],
      "metadata": {
        "id": "vdUfyeOEulxm"
      }
    },
    {
      "cell_type": "markdown",
      "metadata": {
        "id": "tn6VsuAXrh7D"
      },
      "source": [
        "# **Mapping Data Files: Google Drive**"
      ]
    },
    {
      "cell_type": "code",
      "execution_count": 6,
      "metadata": {
        "colab": {
          "base_uri": "https://localhost:8080/"
        },
        "id": "r5jGKzUfrwaV",
        "outputId": "265d938b-8338-4d52-ea2a-15fb7ddd5642"
      },
      "outputs": [
        {
          "output_type": "stream",
          "name": "stdout",
          "text": [
            "/content\n",
            "Mounted at /content/drive\n"
          ]
        }
      ],
      "source": [
        "import os, sys\n",
        "from pathlib import Path\n",
        "from google.colab import drive\n",
        "%cd /content\n",
        "skol = Path('/content/drive/My Drive/SKOL')\n",
        "piggyatbaqaqi = skol / 'github.com/piggyatbaqaqi'\n",
        "drive.mount(\"/content/drive\", force_remount=True)\n",
        "cache_path = '/content/cache'\n",
        "nb_path = '/content/packages'\n",
        "if not os.path.exists(nb_path):\n",
        "  os.symlink(skol / 'packages', nb_path)\n",
        "skol_path = '/content/skol'\n",
        "if not os.path.exists(skol_path):\n",
        "  os.symlink(piggyatbaqaqi / 'skol', skol_path)\n",
        "if not os.path.exists(cache_path):\n",
        "  os.symlink(piggyatbaqaqi / 'pip_cache', cache_path)\n",
        "sys.path.insert(0, nb_path)\n",
        "sys.path.insert(0, str(piggyatbaqaqi / 'skol'))"
      ]
    },
    {
      "cell_type": "code",
      "source": [
        "!ls /content/drive/MyDrive/SKOL/"
      ],
      "metadata": {
        "colab": {
          "base_uri": "https://localhost:8080/"
        },
        "id": "6CsjgFhE-A3s",
        "outputId": "ce05cc8e-b57d-4e74-c19a-3992d5b9d481"
      },
      "execution_count": 7,
      "outputs": [
        {
          "output_type": "stream",
          "name": "stdout",
          "text": [
            "annotated_2025_02_27  github.com  IST718    raw_2025_02_05\n",
            "Annotated_Raw\t      IST691\t  packages  Test_Data\n"
          ]
        }
      ]
    },
    {
      "cell_type": "markdown",
      "source": [
        "## Set up git clients"
      ],
      "metadata": {
        "id": "7cAPsvOTUUKh"
      }
    },
    {
      "cell_type": "code",
      "source": [
        "if not os.path.exists(piggyatbaqaqi):\n",
        "  %mkdir -p $piggyatbaqaqi\n",
        "if not os.path.exists(piggyatbaqaqi / 'skol'):\n",
        "  %cd $piggyatbaqaqi\n",
        "  !git clone https://github.com/piggyatbaqaqi/skol.git\n",
        "sys.path.insert(0, piggyatbaqaqi / 'skol')\n",
        "if not os.path.exists(piggyatbaqaqi / 'dr-drfts-mycosearch'):\n",
        "  %cd $piggyatbaqaqi\n",
        "  !git clone https://github.com/piggyatbaqaqi/dr-drafts-mycosearch.git\n",
        "workdir = skol / 'IST691'\n",
        "%cd $workdir"
      ],
      "metadata": {
        "colab": {
          "base_uri": "https://localhost:8080/"
        },
        "id": "jtP_WaRJDT3U",
        "outputId": "499f69db-032f-4dd7-bd35-15f496a234fb"
      },
      "execution_count": 2,
      "outputs": [
        {
          "output_type": "stream",
          "name": "stdout",
          "text": [
            "/content/drive/.shortcut-targets-by-id/1oRBBGLhTLr9k0-7Qy5rCh8TSd-zhH2mz/SKOL/IST691\n"
          ]
        }
      ]
    },
    {
      "cell_type": "code",
      "execution_count": 8,
      "metadata": {
        "id": "5tda4LKZUtUu",
        "colab": {
          "base_uri": "https://localhost:8080/"
        },
        "outputId": "34016305-6d38-4125-8fb2-babcf3c1105e"
      },
      "outputs": [
        {
          "output_type": "stream",
          "name": "stdout",
          "text": [
            "Collecting pyspark\n",
            "  Downloading pyspark-3.5.5.tar.gz (317.2 MB)\n",
            "\u001b[2K     \u001b[90m━━━━━━━━━━━━━━━━━━━━━━━━━━━━━━━━━━━━━━━\u001b[0m \u001b[32m317.2/317.2 MB\u001b[0m \u001b[31m4.0 MB/s\u001b[0m eta \u001b[36m0:00:00\u001b[0m\n",
            "\u001b[?25h  Preparing metadata (setup.py) ... \u001b[?25l\u001b[?25hdone\n",
            "Collecting sparknlp\n",
            "  Downloading sparknlp-1.0.0-py3-none-any.whl.metadata (1.2 kB)\n",
            "Collecting py4j==0.10.9.7 (from pyspark)\n",
            "  Downloading py4j-0.10.9.7-py2.py3-none-any.whl.metadata (1.5 kB)\n",
            "Collecting spark-nlp (from sparknlp)\n",
            "  Downloading spark_nlp-6.0.0-py2.py3-none-any.whl.metadata (19 kB)\n",
            "Collecting numpy (from sparknlp)\n",
            "  Downloading numpy-2.2.5-cp311-cp311-manylinux_2_17_x86_64.manylinux2014_x86_64.whl.metadata (62 kB)\n",
            "\u001b[2K     \u001b[90m━━━━━━━━━━━━━━━━━━━━━━━━━━━━━━━━━━━━━━━━\u001b[0m \u001b[32m62.0/62.0 kB\u001b[0m \u001b[31m1.6 MB/s\u001b[0m eta \u001b[36m0:00:00\u001b[0m\n",
            "\u001b[?25hDownloading py4j-0.10.9.7-py2.py3-none-any.whl (200 kB)\n",
            "\u001b[2K   \u001b[90m━━━━━━━━━━━━━━━━━━━━━━━━━━━━━━━━━━━━━━━━\u001b[0m \u001b[32m200.5/200.5 kB\u001b[0m \u001b[31m6.1 MB/s\u001b[0m eta \u001b[36m0:00:00\u001b[0m\n",
            "\u001b[?25hDownloading sparknlp-1.0.0-py3-none-any.whl (1.4 kB)\n",
            "Downloading numpy-2.2.5-cp311-cp311-manylinux_2_17_x86_64.manylinux2014_x86_64.whl (16.4 MB)\n",
            "\u001b[2K   \u001b[90m━━━━━━━━━━━━━━━━━━━━━━━━━━━━━━━━━━━━━━━━\u001b[0m \u001b[32m16.4/16.4 MB\u001b[0m \u001b[31m15.5 MB/s\u001b[0m eta \u001b[36m0:00:00\u001b[0m\n",
            "\u001b[?25hDownloading spark_nlp-6.0.0-py2.py3-none-any.whl (684 kB)\n",
            "\u001b[2K   \u001b[90m━━━━━━━━━━━━━━━━━━━━━━━━━━━━━━━━━━━━━━━━\u001b[0m \u001b[32m684.9/684.9 kB\u001b[0m \u001b[31m16.3 MB/s\u001b[0m eta \u001b[36m0:00:00\u001b[0m\n",
            "\u001b[?25hBuilding wheels for collected packages: pyspark\n",
            "  Building wheel for pyspark (setup.py) ... \u001b[?25l\u001b[?25hdone\n",
            "  Created wheel for pyspark: filename=pyspark-3.5.5-py2.py3-none-any.whl size=317747862 sha256=739a75be1f8c04316d2513ae37f729fa94794c001f1ef30ef95285750112f6ba\n",
            "  Stored in directory: /content/drive/.shortcut-targets-by-id/1oRBBGLhTLr9k0-7Qy5rCh8TSd-zhH2mz/SKOL/github.com/piggyatbaqaqi/pip_cache/wheels/0c/7f/b4/0e68c6d8d89d2e582e5498ad88616c16d7c19028680e9d3840\n",
            "Successfully built pyspark\n",
            "Installing collected packages: spark-nlp, py4j, pyspark, numpy, sparknlp\n",
            "\u001b[31mERROR: pip's dependency resolver does not currently take into account all the packages that are installed. This behaviour is the source of the following dependency conflicts.\n",
            "numba 0.60.0 requires numpy<2.1,>=1.22, but you have numpy 2.2.5 which is incompatible.\n",
            "tensorflow 2.18.0 requires numpy<2.1.0,>=1.26.0, but you have numpy 2.2.5 which is incompatible.\u001b[0m\u001b[31m\n",
            "\u001b[0mSuccessfully installed numpy-2.2.5 py4j-0.10.9.7 pyspark-3.5.5 spark-nlp-6.0.0 sparknlp-1.0.0\n"
          ]
        }
      ],
      "source": [
        "# install PySpark\n",
        "! pip install --cache-dir=$cache_path --target=$nb_path --upgrade pyspark sparknlp"
      ]
    },
    {
      "cell_type": "code",
      "execution_count": 34,
      "metadata": {
        "id": "IeMBGpu8rYXf"
      },
      "outputs": [],
      "source": [
        "#import needed modules\n",
        "import os\n",
        "import glob\n",
        "from typing import List\n",
        "from pathlib import Path\n",
        "import random\n",
        "\n",
        "import numpy as np\n",
        "import pandas as pd\n",
        "import matplotlib.pyplot as plt\n",
        "import seaborn as sns\n",
        "\n",
        "import sparknlp\n",
        "from sparknlp.pretrained import PretrainedPipeline\n",
        "from pyspark.sql.functions import (\n",
        "    input_file_name, collect_list, concat_ws, col, udf,\n",
        "    explode, collect_list, regexp_extract, regexp_replace,\n",
        "    split, flatten, transform, concat)\n",
        "from pyspark.sql.types import ArrayType, StringType\n",
        "\n",
        "from pyspark.ml import Pipeline, Transformer\n",
        "from pyspark.ml.feature import (\n",
        "    Tokenizer, HashingTF, IDF, StringIndexer, CountVectorizer,\n",
        "    PCA, VectorAssembler)\n",
        "from pyspark.ml.classification import LogisticRegression, RandomForestClassifier, GBTClassifier\n",
        "from pyspark.ml.evaluation import MulticlassClassificationEvaluator\n",
        "from pyspark.sql.functions import split, row_number, min, expr, struct\n",
        "from pyspark.ml.linalg import Vectors, VectorUDT, DenseVector\n",
        "from pyspark.sql.types import DoubleType, StructField, StructType"
      ]
    },
    {
      "cell_type": "markdown",
      "source": [
        "SKOL Data manipulation library"
      ],
      "metadata": {
        "id": "uXgY1VO8Sw_q"
      }
    },
    {
      "cell_type": "code",
      "source": [
        "from finder import read_files, parse_annotated, target_classes\n",
        "from label import Label\n",
        "from taxon import Taxon, group_paragraphs\n",
        "\n",
        "SEED=12345\n",
        "default_label = Label('Misc-exposition')\n",
        "keep_labels = [Label('Description'), Label('Nomenclature')]"
      ],
      "metadata": {
        "id": "BIoHo7jTRMwG"
      },
      "execution_count": 45,
      "outputs": []
    },
    {
      "cell_type": "markdown",
      "metadata": {
        "id": "YUT4tUcDu4qR"
      },
      "source": [
        "# **Checking the file counts in the directories**"
      ]
    },
    {
      "cell_type": "code",
      "execution_count": 13,
      "metadata": {
        "id": "oFPefKgUuAWv"
      },
      "outputs": [],
      "source": [
        "raw_directory_path = skol / 'raw_2025_02_05/'\n",
        "ann_directory_path = skol / 'annotated_2025_02_27/journals'"
      ]
    },
    {
      "cell_type": "markdown",
      "metadata": {
        "id": "puPtns5oiHJr"
      },
      "source": [
        "## Checking the file counts in the directories"
      ]
    },
    {
      "cell_type": "code",
      "execution_count": 14,
      "metadata": {
        "id": "bsnHqX23dsxV"
      },
      "outputs": [],
      "source": [
        "# Function that reports all the txt files under a Google Drive folder path\n",
        "def listFiles(folder: str) -> List[str]:\n",
        "  # List all files in the folder\n",
        "  try:\n",
        "      files = [file for file in glob.glob(f'{folder}/**/*.txt*', recursive=True) if 'Sydowia' not in file]\n",
        "      return files\n",
        "  except FileNotFoundError:\n",
        "      print(f\"Folder '{folder}' not found.\")\n",
        "  except PermissionError:\n",
        "      print(f\"Permission denied to access folder '{folder}'.\")"
      ]
    },
    {
      "cell_type": "code",
      "execution_count": 15,
      "metadata": {
        "colab": {
          "base_uri": "https://localhost:8080/"
        },
        "id": "85IAP2WKhQYp",
        "outputId": "295cb06d-3545-496b-c785-75d9dd8bd404"
      },
      "outputs": [
        {
          "output_type": "execute_result",
          "data": {
            "text/plain": [
              "['/content/drive/My Drive/SKOL/raw_2025_02_05/authors/FungalNameAuthors.txt',\n",
              " '/content/drive/My Drive/SKOL/raw_2025_02_05/Mycologia/3753420.txt',\n",
              " '/content/drive/My Drive/SKOL/raw_2025_02_05/Mycologia/3753372.txt',\n",
              " '/content/drive/My Drive/SKOL/raw_2025_02_05/Mycologia/3753466.txt',\n",
              " '/content/drive/My Drive/SKOL/raw_2025_02_05/Mycologia/3753104.txt',\n",
              " '/content/drive/My Drive/SKOL/raw_2025_02_05/Mycologia/3753322.txt',\n",
              " '/content/drive/My Drive/SKOL/raw_2025_02_05/Mycologia/mycologiaeuropa00persgoog.txt',\n",
              " '/content/drive/My Drive/SKOL/raw_2025_02_05/Mycologia/3753038.txt',\n",
              " '/content/drive/My Drive/SKOL/raw_2025_02_05/Mycologia/3753160.txt',\n",
              " '/content/drive/My Drive/SKOL/raw_2025_02_05/Mycologia/3753583.txt']"
            ]
          },
          "metadata": {},
          "execution_count": 15
        }
      ],
      "source": [
        "# check files in raw directory\n",
        "listFiles(raw_directory_path)[:10]"
      ]
    },
    {
      "cell_type": "code",
      "execution_count": 30,
      "metadata": {
        "colab": {
          "base_uri": "https://localhost:8080/"
        },
        "id": "aLYkfNVyR_lR",
        "outputId": "fcd8f498-0d90-410c-98d7-a759a4933bc6"
      },
      "outputs": [
        {
          "output_type": "execute_result",
          "data": {
            "text/plain": [
              "['/content/drive/My Drive/SKOL/annotated_2025_02_27/journals/Mycotaxon/Vol057/n1.txt.ann',\n",
              " '/content/drive/My Drive/SKOL/annotated_2025_02_27/journals/Mycotaxon/Vol054/n1.txt.ann',\n",
              " '/content/drive/My Drive/SKOL/annotated_2025_02_27/journals/Mycotaxon/Vol118/s17.txt.ann',\n",
              " '/content/drive/My Drive/SKOL/annotated_2025_02_27/journals/Mycotaxon/Vol118/s29.txt.ann',\n",
              " '/content/drive/My Drive/SKOL/annotated_2025_02_27/journals/Mycotaxon/Vol118/s30.txt.ann',\n",
              " '/content/drive/My Drive/SKOL/annotated_2025_02_27/journals/Mycotaxon/Vol118/s7.txt.ann',\n",
              " '/content/drive/My Drive/SKOL/annotated_2025_02_27/journals/Mycotaxon/Vol118/s21.txt.ann',\n",
              " '/content/drive/My Drive/SKOL/annotated_2025_02_27/journals/Mycotaxon/Vol118/s13.txt.ann',\n",
              " '/content/drive/My Drive/SKOL/annotated_2025_02_27/journals/Mycotaxon/Vol118/s1.txt.ann',\n",
              " '/content/drive/My Drive/SKOL/annotated_2025_02_27/journals/Mycotaxon/Vol118/s46.txt.ann']"
            ]
          },
          "metadata": {},
          "execution_count": 30
        }
      ],
      "source": [
        "# check files in annotated directory\n",
        "training_files = listFiles(ann_directory_path)\n",
        "training_files[:10]"
      ]
    },
    {
      "cell_type": "code",
      "execution_count": 31,
      "metadata": {
        "id": "zBswbvOcVmRo",
        "colab": {
          "base_uri": "https://localhost:8080/"
        },
        "outputId": "9b729574-2c26-44e8-fc82-a230ad4570c8"
      },
      "outputs": [
        {
          "output_type": "execute_result",
          "data": {
            "text/plain": [
              "190"
            ]
          },
          "metadata": {},
          "execution_count": 31
        }
      ],
      "source": [
        "len(training_files)"
      ]
    },
    {
      "cell_type": "code",
      "source": [
        "paragraphs = list(parse_annotated(read_files(random.sample(training_files, 5))))"
      ],
      "metadata": {
        "id": "T3MOeHDSaf_L"
      },
      "execution_count": 35,
      "outputs": []
    },
    {
      "cell_type": "code",
      "source": [
        "relabeled = list(target_classes(default=default_label, keep=keep_labels, paragraphs=paragraphs))"
      ],
      "metadata": {
        "id": "5v56N-_Gaj2V"
      },
      "execution_count": 36,
      "outputs": []
    },
    {
      "cell_type": "code",
      "source": [
        "print(f'len(relabeled): {len(relabeled)}')"
      ],
      "metadata": {
        "colab": {
          "base_uri": "https://localhost:8080/"
        },
        "id": "rZo29oZ-fpcs",
        "outputId": "5ce9e044-e2a0-4fdd-8687-beab95d97479"
      },
      "execution_count": 41,
      "outputs": [
        {
          "output_type": "stream",
          "name": "stdout",
          "text": [
            "len(relabeled): 13333\n"
          ]
        }
      ]
    },
    {
      "cell_type": "code",
      "source": [
        "df = pd.DataFrame({\n",
        "    'filename': [pp.filename for pp in relabeled],\n",
        "    'label': [pp.top_label().label if pp.top_label() else None for pp in relabeled],\n",
        "    'paragraph_number': [pp.paragraph_number for pp in relabeled],\n",
        "    'page_number': [pp.page_number for pp in relabeled],\n",
        "    'empirical_page_number': [pp.empirical_page_number for pp in relabeled],\n",
        "    'line_number': [pp.first_line.line_number if pp.first_line else None for pp in relabeled],\n",
        "    'body': [str(pp) for pp in relabeled]\n",
        "})\n",
        "df.label = pd.Categorical(df.label)\n",
        "df['label_code'] = df.label.cat.codes"
      ],
      "metadata": {
        "id": "WefPFrKugSLT"
      },
      "execution_count": 42,
      "outputs": []
    },
    {
      "cell_type": "markdown",
      "source": [],
      "metadata": {
        "id": "AgzgywofgWsT"
      }
    },
    {
      "cell_type": "code",
      "source": [
        "df.groupby('label', observed=True).nunique()"
      ],
      "metadata": {
        "colab": {
          "base_uri": "https://localhost:8080/",
          "height": 175
        },
        "id": "sE7cRbJ-g2eA",
        "outputId": "a0d8d7d3-85db-4b38-dfcb-b5f044c8c969"
      },
      "execution_count": 44,
      "outputs": [
        {
          "output_type": "execute_result",
          "data": {
            "text/plain": [
              "                 filename  paragraph_number  ...  body  label_code\n",
              "label                                        ...                  \n",
              "Description             5               550  ...   550           1\n",
              "Misc-exposition         5             12351  ...  6900           1\n",
              "Nomenclature            5               432  ...   431           1\n",
              "\n",
              "[3 rows x 7 columns]"
            ],
            "text/html": [
              "\n",
              "  <div id=\"df-4dc8fdf1-a5c2-451b-811b-ce46cf7731ca\" class=\"colab-df-container\">\n",
              "    <div>\n",
              "<style scoped>\n",
              "    .dataframe tbody tr th:only-of-type {\n",
              "        vertical-align: middle;\n",
              "    }\n",
              "\n",
              "    .dataframe tbody tr th {\n",
              "        vertical-align: top;\n",
              "    }\n",
              "\n",
              "    .dataframe thead th {\n",
              "        text-align: right;\n",
              "    }\n",
              "</style>\n",
              "<table border=\"1\" class=\"dataframe\">\n",
              "  <thead>\n",
              "    <tr style=\"text-align: right;\">\n",
              "      <th></th>\n",
              "      <th>filename</th>\n",
              "      <th>paragraph_number</th>\n",
              "      <th>page_number</th>\n",
              "      <th>empirical_page_number</th>\n",
              "      <th>line_number</th>\n",
              "      <th>body</th>\n",
              "      <th>label_code</th>\n",
              "    </tr>\n",
              "    <tr>\n",
              "      <th>label</th>\n",
              "      <th></th>\n",
              "      <th></th>\n",
              "      <th></th>\n",
              "      <th></th>\n",
              "      <th></th>\n",
              "      <th></th>\n",
              "      <th></th>\n",
              "    </tr>\n",
              "  </thead>\n",
              "  <tbody>\n",
              "    <tr>\n",
              "      <th>Description</th>\n",
              "      <td>5</td>\n",
              "      <td>550</td>\n",
              "      <td>194</td>\n",
              "      <td>172</td>\n",
              "      <td>67</td>\n",
              "      <td>550</td>\n",
              "      <td>1</td>\n",
              "    </tr>\n",
              "    <tr>\n",
              "      <th>Misc-exposition</th>\n",
              "      <td>5</td>\n",
              "      <td>12351</td>\n",
              "      <td>572</td>\n",
              "      <td>446</td>\n",
              "      <td>163</td>\n",
              "      <td>6900</td>\n",
              "      <td>1</td>\n",
              "    </tr>\n",
              "    <tr>\n",
              "      <th>Nomenclature</th>\n",
              "      <td>5</td>\n",
              "      <td>432</td>\n",
              "      <td>167</td>\n",
              "      <td>154</td>\n",
              "      <td>64</td>\n",
              "      <td>431</td>\n",
              "      <td>1</td>\n",
              "    </tr>\n",
              "  </tbody>\n",
              "</table>\n",
              "</div>\n",
              "    <div class=\"colab-df-buttons\">\n",
              "\n",
              "  <div class=\"colab-df-container\">\n",
              "    <button class=\"colab-df-convert\" onclick=\"convertToInteractive('df-4dc8fdf1-a5c2-451b-811b-ce46cf7731ca')\"\n",
              "            title=\"Convert this dataframe to an interactive table.\"\n",
              "            style=\"display:none;\">\n",
              "\n",
              "  <svg xmlns=\"http://www.w3.org/2000/svg\" height=\"24px\" viewBox=\"0 -960 960 960\">\n",
              "    <path d=\"M120-120v-720h720v720H120Zm60-500h600v-160H180v160Zm220 220h160v-160H400v160Zm0 220h160v-160H400v160ZM180-400h160v-160H180v160Zm440 0h160v-160H620v160ZM180-180h160v-160H180v160Zm440 0h160v-160H620v160Z\"/>\n",
              "  </svg>\n",
              "    </button>\n",
              "\n",
              "  <style>\n",
              "    .colab-df-container {\n",
              "      display:flex;\n",
              "      gap: 12px;\n",
              "    }\n",
              "\n",
              "    .colab-df-convert {\n",
              "      background-color: #E8F0FE;\n",
              "      border: none;\n",
              "      border-radius: 50%;\n",
              "      cursor: pointer;\n",
              "      display: none;\n",
              "      fill: #1967D2;\n",
              "      height: 32px;\n",
              "      padding: 0 0 0 0;\n",
              "      width: 32px;\n",
              "    }\n",
              "\n",
              "    .colab-df-convert:hover {\n",
              "      background-color: #E2EBFA;\n",
              "      box-shadow: 0px 1px 2px rgba(60, 64, 67, 0.3), 0px 1px 3px 1px rgba(60, 64, 67, 0.15);\n",
              "      fill: #174EA6;\n",
              "    }\n",
              "\n",
              "    .colab-df-buttons div {\n",
              "      margin-bottom: 4px;\n",
              "    }\n",
              "\n",
              "    [theme=dark] .colab-df-convert {\n",
              "      background-color: #3B4455;\n",
              "      fill: #D2E3FC;\n",
              "    }\n",
              "\n",
              "    [theme=dark] .colab-df-convert:hover {\n",
              "      background-color: #434B5C;\n",
              "      box-shadow: 0px 1px 3px 1px rgba(0, 0, 0, 0.15);\n",
              "      filter: drop-shadow(0px 1px 2px rgba(0, 0, 0, 0.3));\n",
              "      fill: #FFFFFF;\n",
              "    }\n",
              "  </style>\n",
              "\n",
              "    <script>\n",
              "      const buttonEl =\n",
              "        document.querySelector('#df-4dc8fdf1-a5c2-451b-811b-ce46cf7731ca button.colab-df-convert');\n",
              "      buttonEl.style.display =\n",
              "        google.colab.kernel.accessAllowed ? 'block' : 'none';\n",
              "\n",
              "      async function convertToInteractive(key) {\n",
              "        const element = document.querySelector('#df-4dc8fdf1-a5c2-451b-811b-ce46cf7731ca');\n",
              "        const dataTable =\n",
              "          await google.colab.kernel.invokeFunction('convertToInteractive',\n",
              "                                                    [key], {});\n",
              "        if (!dataTable) return;\n",
              "\n",
              "        const docLinkHtml = 'Like what you see? Visit the ' +\n",
              "          '<a target=\"_blank\" href=https://colab.research.google.com/notebooks/data_table.ipynb>data table notebook</a>'\n",
              "          + ' to learn more about interactive tables.';\n",
              "        element.innerHTML = '';\n",
              "        dataTable['output_type'] = 'display_data';\n",
              "        await google.colab.output.renderOutput(dataTable, element);\n",
              "        const docLink = document.createElement('div');\n",
              "        docLink.innerHTML = docLinkHtml;\n",
              "        element.appendChild(docLink);\n",
              "      }\n",
              "    </script>\n",
              "  </div>\n",
              "\n",
              "\n",
              "    <div id=\"df-a6f59937-9444-4b66-84fa-abdd59dcd6a3\">\n",
              "      <button class=\"colab-df-quickchart\" onclick=\"quickchart('df-a6f59937-9444-4b66-84fa-abdd59dcd6a3')\"\n",
              "                title=\"Suggest charts\"\n",
              "                style=\"display:none;\">\n",
              "\n",
              "<svg xmlns=\"http://www.w3.org/2000/svg\" height=\"24px\"viewBox=\"0 0 24 24\"\n",
              "     width=\"24px\">\n",
              "    <g>\n",
              "        <path d=\"M19 3H5c-1.1 0-2 .9-2 2v14c0 1.1.9 2 2 2h14c1.1 0 2-.9 2-2V5c0-1.1-.9-2-2-2zM9 17H7v-7h2v7zm4 0h-2V7h2v10zm4 0h-2v-4h2v4z\"/>\n",
              "    </g>\n",
              "</svg>\n",
              "      </button>\n",
              "\n",
              "<style>\n",
              "  .colab-df-quickchart {\n",
              "      --bg-color: #E8F0FE;\n",
              "      --fill-color: #1967D2;\n",
              "      --hover-bg-color: #E2EBFA;\n",
              "      --hover-fill-color: #174EA6;\n",
              "      --disabled-fill-color: #AAA;\n",
              "      --disabled-bg-color: #DDD;\n",
              "  }\n",
              "\n",
              "  [theme=dark] .colab-df-quickchart {\n",
              "      --bg-color: #3B4455;\n",
              "      --fill-color: #D2E3FC;\n",
              "      --hover-bg-color: #434B5C;\n",
              "      --hover-fill-color: #FFFFFF;\n",
              "      --disabled-bg-color: #3B4455;\n",
              "      --disabled-fill-color: #666;\n",
              "  }\n",
              "\n",
              "  .colab-df-quickchart {\n",
              "    background-color: var(--bg-color);\n",
              "    border: none;\n",
              "    border-radius: 50%;\n",
              "    cursor: pointer;\n",
              "    display: none;\n",
              "    fill: var(--fill-color);\n",
              "    height: 32px;\n",
              "    padding: 0;\n",
              "    width: 32px;\n",
              "  }\n",
              "\n",
              "  .colab-df-quickchart:hover {\n",
              "    background-color: var(--hover-bg-color);\n",
              "    box-shadow: 0 1px 2px rgba(60, 64, 67, 0.3), 0 1px 3px 1px rgba(60, 64, 67, 0.15);\n",
              "    fill: var(--button-hover-fill-color);\n",
              "  }\n",
              "\n",
              "  .colab-df-quickchart-complete:disabled,\n",
              "  .colab-df-quickchart-complete:disabled:hover {\n",
              "    background-color: var(--disabled-bg-color);\n",
              "    fill: var(--disabled-fill-color);\n",
              "    box-shadow: none;\n",
              "  }\n",
              "\n",
              "  .colab-df-spinner {\n",
              "    border: 2px solid var(--fill-color);\n",
              "    border-color: transparent;\n",
              "    border-bottom-color: var(--fill-color);\n",
              "    animation:\n",
              "      spin 1s steps(1) infinite;\n",
              "  }\n",
              "\n",
              "  @keyframes spin {\n",
              "    0% {\n",
              "      border-color: transparent;\n",
              "      border-bottom-color: var(--fill-color);\n",
              "      border-left-color: var(--fill-color);\n",
              "    }\n",
              "    20% {\n",
              "      border-color: transparent;\n",
              "      border-left-color: var(--fill-color);\n",
              "      border-top-color: var(--fill-color);\n",
              "    }\n",
              "    30% {\n",
              "      border-color: transparent;\n",
              "      border-left-color: var(--fill-color);\n",
              "      border-top-color: var(--fill-color);\n",
              "      border-right-color: var(--fill-color);\n",
              "    }\n",
              "    40% {\n",
              "      border-color: transparent;\n",
              "      border-right-color: var(--fill-color);\n",
              "      border-top-color: var(--fill-color);\n",
              "    }\n",
              "    60% {\n",
              "      border-color: transparent;\n",
              "      border-right-color: var(--fill-color);\n",
              "    }\n",
              "    80% {\n",
              "      border-color: transparent;\n",
              "      border-right-color: var(--fill-color);\n",
              "      border-bottom-color: var(--fill-color);\n",
              "    }\n",
              "    90% {\n",
              "      border-color: transparent;\n",
              "      border-bottom-color: var(--fill-color);\n",
              "    }\n",
              "  }\n",
              "</style>\n",
              "\n",
              "      <script>\n",
              "        async function quickchart(key) {\n",
              "          const quickchartButtonEl =\n",
              "            document.querySelector('#' + key + ' button');\n",
              "          quickchartButtonEl.disabled = true;  // To prevent multiple clicks.\n",
              "          quickchartButtonEl.classList.add('colab-df-spinner');\n",
              "          try {\n",
              "            const charts = await google.colab.kernel.invokeFunction(\n",
              "                'suggestCharts', [key], {});\n",
              "          } catch (error) {\n",
              "            console.error('Error during call to suggestCharts:', error);\n",
              "          }\n",
              "          quickchartButtonEl.classList.remove('colab-df-spinner');\n",
              "          quickchartButtonEl.classList.add('colab-df-quickchart-complete');\n",
              "        }\n",
              "        (() => {\n",
              "          let quickchartButtonEl =\n",
              "            document.querySelector('#df-a6f59937-9444-4b66-84fa-abdd59dcd6a3 button');\n",
              "          quickchartButtonEl.style.display =\n",
              "            google.colab.kernel.accessAllowed ? 'block' : 'none';\n",
              "        })();\n",
              "      </script>\n",
              "    </div>\n",
              "\n",
              "    </div>\n",
              "  </div>\n"
            ],
            "application/vnd.google.colaboratory.intrinsic+json": {
              "type": "dataframe",
              "summary": "{\n  \"name\": \"df\",\n  \"rows\": 3,\n  \"fields\": [\n    {\n      \"column\": \"label\",\n      \"properties\": {\n        \"dtype\": \"category\",\n        \"num_unique_values\": 3,\n        \"samples\": [\n          \"Description\",\n          \"Misc-exposition\",\n          \"Nomenclature\"\n        ],\n        \"semantic_type\": \"\",\n        \"description\": \"\"\n      }\n    },\n    {\n      \"column\": \"filename\",\n      \"properties\": {\n        \"dtype\": \"number\",\n        \"std\": 0,\n        \"min\": 5,\n        \"max\": 5,\n        \"num_unique_values\": 1,\n        \"samples\": [\n          5\n        ],\n        \"semantic_type\": \"\",\n        \"description\": \"\"\n      }\n    },\n    {\n      \"column\": \"paragraph_number\",\n      \"properties\": {\n        \"dtype\": \"number\",\n        \"std\": 6847,\n        \"min\": 432,\n        \"max\": 12351,\n        \"num_unique_values\": 3,\n        \"samples\": [\n          550\n        ],\n        \"semantic_type\": \"\",\n        \"description\": \"\"\n      }\n    },\n    {\n      \"column\": \"page_number\",\n      \"properties\": {\n        \"dtype\": \"number\",\n        \"std\": 226,\n        \"min\": 167,\n        \"max\": 572,\n        \"num_unique_values\": 3,\n        \"samples\": [\n          194\n        ],\n        \"semantic_type\": \"\",\n        \"description\": \"\"\n      }\n    },\n    {\n      \"column\": \"empirical_page_number\",\n      \"properties\": {\n        \"dtype\": \"number\",\n        \"std\": 163,\n        \"min\": 154,\n        \"max\": 446,\n        \"num_unique_values\": 3,\n        \"samples\": [\n          172\n        ],\n        \"semantic_type\": \"\",\n        \"description\": \"\"\n      }\n    },\n    {\n      \"column\": \"line_number\",\n      \"properties\": {\n        \"dtype\": \"number\",\n        \"std\": 56,\n        \"min\": 64,\n        \"max\": 163,\n        \"num_unique_values\": 3,\n        \"samples\": [\n          67\n        ],\n        \"semantic_type\": \"\",\n        \"description\": \"\"\n      }\n    },\n    {\n      \"column\": \"body\",\n      \"properties\": {\n        \"dtype\": \"number\",\n        \"std\": 3701,\n        \"min\": 431,\n        \"max\": 6900,\n        \"num_unique_values\": 3,\n        \"samples\": [\n          550\n        ],\n        \"semantic_type\": \"\",\n        \"description\": \"\"\n      }\n    },\n    {\n      \"column\": \"label_code\",\n      \"properties\": {\n        \"dtype\": \"number\",\n        \"std\": 0,\n        \"min\": 1,\n        \"max\": 1,\n        \"num_unique_values\": 1,\n        \"samples\": [\n          1\n        ],\n        \"semantic_type\": \"\",\n        \"description\": \"\"\n      }\n    }\n  ]\n}"
            }
          },
          "metadata": {},
          "execution_count": 44
        }
      ]
    },
    {
      "cell_type": "code",
      "source": [
        "grouped = group_paragraphs(relabeled)\n",
        "for i, tax in enumerate(grouped):\n",
        "  if i > 10:\n",
        "    break\n",
        "  print(f'Send to LLM:\\n\\n{tax.as_row()[\"description\"]}')"
      ],
      "metadata": {
        "colab": {
          "base_uri": "https://localhost:8080/"
        },
        "id": "UHO9EXYTiLD9",
        "outputId": "84f93b6d-7fe4-4b4e-e17d-84ffabcdde48"
      },
      "execution_count": 55,
      "outputs": [
        {
          "output_type": "stream",
          "name": "stdout",
          "text": [
            "Send to LLM:\n",
            "\n",
            "Maculae hypogenae, atro-brunneae vel nigrae. Coloniae hypophyllae, eﬀusae. Mycelium\n",
            "internum. Stromata parva. Conidiophora macronematosa, ex hyphis oriunda singulata vel\n",
            "2–6-fasciculata, simplicia, erecta vel procumbentia, recta vel ﬂexuosa, geniculata, laevia,\n",
            "crassitunicata, pallide brunnea vel atro-brunnea, 2–7-septata, 22–105 × 3–6 µm. Cellulae\n",
            "conidiogenae integratae, terminales vel intercalares, polyblasticae, cicatricatae, cicatrices\n",
            "incrassatae. Conidia simplicia, sicca, acropleurogena, solitaria, cylindricata, 3–11-septata,\n",
            "recta vel leniter curvata, olivacea vel olivaceo-brunnea, laevia, tenui-tunicata, apices\n",
            "obtusae, ad basim obconicotruncata, hila incrassata, 35–82 × 2–6 µm, hila 1.5–2.5 µm\n",
            "lata.\n",
            "\n",
            "Infection spots hypogenous, minute, dark brown to black. Colonies\n",
            "hyphophyllous, eﬀuse. Mycelium internal. Stromata absent or poorly developed.\n",
            "Conidiophores macronematous, arising singly from internal hyphae or in a\n",
            "fascicle of 2–6 from poorly developed stromata, simple, erect to procumbent,\n",
            "straight to ﬂexuous, geniculate, smooth, thick-walled, light to dark brown,\n",
            "2–7-septate, 22–105 × 3–6 µm. Conidiogenous cells integrated, terminal,\n",
            "becoming intercalary, polyblastic, cicatrized with thickened conidial scars.\n",
            "Conidia simple, dry, acropleurogenous, solitary, cylindrical, 3–11-septate,\n",
            "straight to slightly curved, olivaceous to olivaceous-brown, smooth, thinwalled, apex obtuse, base obconico-truncate, hila thickened, 35–82 µm long\n",
            "and 2–6 µm thick, germinating conidia present, hila 1.5–2.5 µm wide.\n",
            "\n",
            "Send to LLM:\n",
            "\n",
            "Maculae amphigenae, primo discretae, venulis deﬁnitae, demum coalescentes, irregulares\n",
            "et plus minusve, nigrae vel brunneae, 1–21 mm in diam. Coloniae hypophyllae,\n",
            "eﬀusae, brunneae. Mycelium internum. Stromata subepidermalia vel erumpentia,\n",
            "pseudoparenchymatica, 17–21 × 36–42 µm. Conidiophora ex hyphis oriunda singulata\n",
            "vel 2–50-fasciculata, macronematosa, simplicia, cylindricata, erecta vel procumbentia,\n",
            "recta vel curvata, laevia, crassitunicata, ramosa, pallide brunnea, 1–2-septata, 10–70\n",
            "× 2–5 µm. Cellulae conidiogenae integratae, terminales, monoblasticae, cicatrices non\n",
            "incrassatae. Conidia simplicia, tenui-tunicata, sicca, acropleurogena, recta vel curvata,\n",
            "non ramosa, cylindricata vel obclavata, 0–4-septata, apices subacuta vel acuta, ad basim\n",
            "obconicotruncata vel rotundata, pallide brunnea, 20–58 × 2–3 µm, hila non incrassata,\n",
            "1–1.5 µm lata.\n",
            "\n",
            "Infection spots amphigenous, discrete and vein-limited in the beginning but\n",
            "coalescing to become irregular and more or less necrotic afterwards, black to\n",
            "brown, 1–21 mm in diam. Colonies hypophyllous, eﬀuse, brown. Mycelium\n",
            "internal. Stromata subepidermal to erumpent, pseudoparenchymatous, 17–21\n",
            "× 36–42 µm. Conidiophores arising singly from internal hyphae or in a fascicle\n",
            "of 2–50 from subepidermal or erumpent stromata, macronematous, simple,\n",
            "erect to procumbent, cylindrical, smooth-walled, thick-walled, branched,\n",
            "light brown, 1–2-septate, 10–70 × 2–5 µm. Conidiogenous cells integrated,\n",
            "terminal, monoblastic, scars unthickened. Conidia simple, thin-walled, dry,\n",
            "acropleurogenous, straight to curved, unbranched, cylindrical to obclavate,\n",
            "0–4-septate, apex subacute to acute, base obconicotruncate to rounded, light\n",
            "brown, 20–58 × 2–3 µm, hila unthickened, 1–1.5 µm wide.\n",
            "\n",
            "Send to LLM:\n",
            "\n",
            "Emended description: Spores form terminally on or intercalary in hyphae\n",
            "or within the necks of sporiferous saccules in soil (or sometimes roots) singly\n",
            "or (when glomoid) also in spore clusters or multi-spored loose to compact\n",
            "sporocarps; when in compact sporocarps (with or without peridium), spores\n",
            "randomly distributed or organized around a central hyphal plexus. Glomoid\n",
            "spores with one single or multiple-layered wall. Entrophosporoid spores with\n",
            "two walls: outer structural wall and inner (germinal) wall. In glomoid spores,\n",
            "wall of the subtending hyphae (sh) conspicuously continuous with the spore\n",
            "wall, sh funnel-shaped, cylindrical, or constricted and concolorous with\n",
            "\n",
            "Send to LLM:\n",
            "\n",
            "Emended description: Spore formation is of glomoid or entrophosporoid\n",
            "type. Glomoid spores form in soil or (rarely) in roots singly, in clusters with\n",
            "few spores, or (extremely rarely) in sporocarps; sh hyaline to white, rarely\n",
            "subhyaline, often conspicuously funnel- or bill-shaped. Spores with one wall\n",
            "of 1–4 layers; spore base pore closure often with a septum that arises from the\n",
            "structural layer, an adherent thin inner layer, or both layers. Entrophosporoid\n",
            "spores form singly in soils or rarely in roots, subterminally or intercalary within\n",
            "the neck of a tightly attached sporiferous saccule that generally is larger in size\n",
            "than the underlying spore; they have two walls: outer and inner. Outer, hyaline,\n",
            "semi-persistent to evanescent layers of the outer spore wall are the hyphal neck\n",
            "and sporiferous saccule wall layers. The pigmented structural layer does not\n",
            "continue within the hyphal wall but only within the saccule terminus for some\n",
            "distance. Pore closed by a plug towards the saccule. The inner wall is generally\n",
            "thick, ﬁnely laminated and forms de novo. No inner wall layer has a beaded\n",
            "appearance or stains in Melzer’s reagent. Fungal structures in roots stain blue\n",
            "with trypan blue; forming vesicular-arbuscular mycorrhizae.\n",
            "\n",
            "Send to LLM:\n",
            "\n",
            "Sporae singulariter eﬀormatae; tunica sporarum cum tunica hypharum coniuncta; hyphae\n",
            "albae, tunica hyphae 1.2–2.0 maior ad basem sporarum quam in 10-20 µm distantia\n",
            "basae sporarum; porum sporarum occlusum septa tunicae sporarum, rarum apertum.\n",
            "Mycorrhizas vesiculares-arbusculares formans caeruleas colorantes cum ‘trypan blue’.\n",
            "\n",
            "Key characters: Spores formed generally singly in soil or rarely in roots;\n",
            "sh white, rarely subhyaline, 1.2–2.0 times wider at spore base than their width\n",
            "10–20 µm distance from the spore, giving a slightly funnel-shaped or cylindrical\n",
            "appearance. Spores with one wall of 1–4 layers; spore base pore closure often\n",
            "with a septum that may arise from the structural layer, an adherent innermost,\n",
            "(semi-)ﬂexible layer, or both innermost layers.\n",
            "\n",
            "Send to LLM:\n",
            "\n",
            "Emended description: Spore formation diversisporoid, otosporoid, or\n",
            "entrophosporoid sensu lato (‘tricisporoid’ sensu stricto). Diversisporoid spores\n",
            "formed singly, in clusters, or in large disorganized sporocarps with high spore\n",
            "numbers. In pigmented spores, subtending hyphae (sh) conspicuously change\n",
            "color, becoming hyaline to white behind the septum, (immediately or at a very\n",
            "short distance from this septum); sh generally straight, cylindrical, in some\n",
            "species constricted or inﬂated. Spores with 1–3 wall layers; pore often closed\n",
            "with a septum that may arise from innermost wall lamina, an overlaying\n",
            "laminate layer, or from both; sh pore rarely open. Otosporoid and tricisporoid\n",
            "spores with two multiple-layered walls; otosporoid spores formed laterally on\n",
            "the persistent neck of a terminal or intercalary sporiferous saccule at some\n",
            "distance from the saccule terminus; spore pore generally closed by a septum at\n",
            "spore base. Tricisporoid spores formed within the evanescent neck of a tightly\n",
            "attached terminal or intercalary sporiferous saccule, closely attached to the\n",
            "saccule terminus which is often smaller in size than the mature spores attached,\n",
            "rarely equal in size; tricisporoid spores with two cicatrices formed by the outer\n",
            "wall pigmented structural layer.\n",
            "\n",
            "Send to LLM:\n",
            "\n",
            "Sporocarpia ignota. Sporae singulatim eﬀormatae subterminaliter vel intercalariter in\n",
            "hypha inﬂata anguste adiacetum ad sacculum sporiferum terminalem vel intercalarem.\n",
            "Sacculus sporiferus frequenter minor quam sporae globosae vel subglobosae; sporae duabus\n",
            "tunicis stratis pluribus. Stratum exterior tunicae exterioris coniunctum tunica hyphae et\n",
            "sacculi. Stratum interiorem tunicae exterioris laminatum, duas poras sporae occludens.\n",
            "Stratum exterior tunicae interioris non granulatum. Formans mycorrhizas vesiculararbusculares. Structurae fungorum colorantes caeruleae cum ‘trypan blue’.\n",
            "\n",
            "Key characters: Sporocarps unknown. Spores formed within the hyphal\n",
            "neck of closely adherent terminal or intercalary sporiferous saccules. The\n",
            "globose saccule terminus generally is substantially smaller than the attached\n",
            "mature spore. Spores have an outer and an inner wall. At least two layers\n",
            "(including the outer wall structural layer) are continuous with the sporiferous\n",
            "saccule wall. The outer layer of the outer wall is evanescent, the inner layers are\n",
            "permanent. After the hyphal neck connections break oﬀ, spores show two, often\n",
            "opposite, cicatrices that are closed by the permanent sublayers of the outer wall\n",
            "structural layer. The inner wall forms de novo, consists of several layers without\n",
            "granular (‘beaded’) appearance and does not stain with Melzer’s reagent. The\n",
            "fungal structures in the roots stain blue to dark blue with trypan blue; forming\n",
            "vesicular-arbuscular mycorrhiza.\n",
            "\n",
            "Send to LLM:\n",
            "\n",
            "Sporae singulatim eﬀormatae in hypha inﬂata anguste adiacetum ad sacculum sporiferum\n",
            "terminalem vel intercalarem. Sporae tribus tunicis stratis pluribus. Stratum interiorem\n",
            "tunicae exterioris laminatum, duas poras sporae occludens. Stratum exterior tunicae\n",
            "interioris non granulatum.\n",
            "\n",
            "Key characters: Sporocarps unknown. Spores formed within the hyphal neck\n",
            "of closely adherent terminal or intercalary sporiferous saccules. Spores have\n",
            "three walls: outer, middle and inner. At least two layers (including the outer\n",
            "wall structural layer) are continuous with the sporiferous saccule wall. After the\n",
            "\n",
            "hyphal neck connections break oﬀ, spores show two, often opposite, cicatrices\n",
            "that are closed by the permanent sublayers of the outer wall structural layer.\n",
            "Middle and inner wall form de novo. Middle wall is 1–2-layered. Inner wall\n",
            "consists of several layers, none of which has a granular (‘beaded’) appearance,\n",
            "and does not stain in Melzer’s reagent.\n",
            "\n",
            "Send to LLM:\n",
            "\n",
            "Sporocarpia ignota. Sporae singulatim eﬀormatae subterminaliter vel intercalariter in hypha\n",
            "inﬂata anguste adiacetum ad sacculum sporiferum terminalem vel intercalarem. Sporae\n",
            "globosae vel subglobosae, tribus tunicis stratis pluribus. Stratum exterior tunicae exterioris\n",
            "coniunctum tunica hyphae et sacculi. Stratum interiorem tunicae exterioris laminatum,\n",
            "duas poras sporae occludens. Stratum exterior tunicae interioris non granulatum.\n",
            "\n",
            "Key characters: Sporocarps unknown. Spores formed within the hyphal neck\n",
            "of closely adherent, terminal or intercalary sporiferous saccules. Spores have\n",
            "three walls: outer, middle and inner. At least two layers (including the outer\n",
            "wall structural layer) are continuous with the sporiferous saccule wall. Inner\n",
            "layers of the outer spore wall are permanent. After the hyphal neck connections\n",
            "break oﬀ, spores show two, often opposite, cicatrices that are closed by the\n",
            "permanent sublayers of the outer wall structural layer. Middle and inner wall\n",
            "form de novo. Middle wall is 1–2-layered. Inner wall consists of several layers,\n",
            "none of which have a granular (‘beaded’) appearance (Fig. 18–19), and does\n",
            "not stain in Melzer’s reagent. The inner wall may be germinal in function, but a\n",
            "germination structure has not yet been found.\n",
            "\n",
            "Send to LLM:\n",
            "\n",
            "Carpophorum annuum, resupinatum. Facies pororum cremeum vel bubalinum; pori\n",
            "angulati, 5–6 per mm. Systema hypharum dimiticum, hyphae generatoriae ﬁbulatae,\n",
            "hyphae skeletales subiculi 2–4 µm diam. Sporae hyalinae, ellipsoideae, 2.7–3 × 1.9–2.2\n",
            "µm.\n",
            "\n",
            "Fruitbody — Basidiocarps annual, resupinate, coriaceous, without special\n",
            "odor or taste when fresh, corky when dry, up to 15 cm long, 1 cm wide and\n",
            "1 mm thick; sterile margin thinning out, membranous, cream, up to 3 mm\n",
            "wide. Pore surface cream to pale buﬀ-yellow upon drying; pores angular, 5–6\n",
            "per mm, dissepiments thin, slightly lacerate. Subiculum very thin to almost\n",
            "lacking, cream to pale buﬀ, ca. 0.1 mm thick. Tubes concolorous with pore\n",
            "surface, corky, ca. 0.4 mm long.\n",
            "\n",
            "Hyphal structure — Hyphal system dimitic; generative hyphae bearing\n",
            "clamp connections, skeletal hyphae IKI–, CB+; tissue unchanged in KOH.\n",
            "\n",
            "Subiculum — Dominated by skeletal hyphae; generative hyphae hyaline,\n",
            "thin-walled, occasionally branched, 1.8–3.5 µm diam; skeletal hyphae hyaline,\n",
            "thick-walled with a distinct lumen to subsolid, straight to ﬂexuous, occasionally\n",
            "branched, interwoven, 2–4 µm diam.\n",
            "\n",
            "Tubes — Generative hyphae infrequent, hyaline, thin-walled, occasionally\n",
            "branched, 1.5–2.5 μm diam; skeletal hyphae dominant, hyaline, thick-walled\n",
            "with a distinct lumen to subsolid, occasionally branched, interwoven, 1.8–2.8\n",
            "\n",
            "μm diam. Skeletocystidia numerous, clavate, thick-walled, originated from\n",
            "trama, embedded or projecting, heavily encrusted, 15–50 × 6–11 µm (with\n",
            "encrustation); basidia clavate, bearing four sterigmata and a clamp connection\n",
            "at the base, 9–12 × 4–5 μm; basidioles in shape similar to basidia, but slightly\n",
            "smaller.\n",
            "\n",
            "Spores — Basidiospores small, ellipsoid, hyaline, thin-walled, smooth,\n",
            "IKI–, CB–, (2.5–)2.7–3 × (1.8–)1.9–2.2(–2.3) μm, L = 2.85 μm, W = 2.04 μm,\n",
            "Q = 1.38–1.41 (n=60/2).\n",
            "\n",
            "Type of rot — White rot.\n",
            "\n",
            "Send to LLM:\n",
            "\n",
            "Cellulae conidiogenae primo monoblasticae, deinde polyblasticae, indeterminatae,\n",
            "cum, cicatricibus primo apicalibus, deinde lateralibus, discoidibus, protuberantibus,\n",
            "nigris, incrassatis. Conidia alveariformia, muriformia, distoseptata, cum appendicibus\n",
            "cellularibus, praedita.\n",
            "\n",
            "Anamorphic fungi. Colonies on the natural substrate eﬀuse, hairy, brown,\n",
            "olivaceous or black. Mycelium partly superﬁcial and immersed. Conidiophores\n",
            "distinct, single, unbranched, septate, brown or olivaceous, smooth. Conidiogenous\n",
            "cells integrated, terminal, at ﬁrst with a single terminal conidiogenous locus,\n",
            "then indeterminate, polyblastic, with successive sympodial but rectilinear\n",
            "proliferation, rupturing the outer wall around each scar, resulting in a lateral\n",
            "displacement of scars, leaving conspicuous circumferential annular fringes of\n",
            "the torn wall. Conidiogenous loci evident, lenticular, protuberant, thickened\n",
            "and black, conidial secession schizolytic. Conidia solitary, ellipsoidal, oval to\n",
            "broadly navicular, dictyoseptate, distoseptate, verruculose or smooth, brown or\n",
            "dark brown, conspicuously cicatrized at the base, with a cellular, cylindrical or\n",
            "subulate, brown apical appendage.\n",
            "\n"
          ]
        }
      ]
    }
  ],
  "metadata": {
    "colab": {
      "provenance": [],
      "gpuType": "T4",
      "include_colab_link": true
    },
    "kernelspec": {
      "display_name": "Python 3",
      "name": "python3"
    },
    "language_info": {
      "name": "python"
    },
    "accelerator": "GPU"
  },
  "nbformat": 4,
  "nbformat_minor": 0
}