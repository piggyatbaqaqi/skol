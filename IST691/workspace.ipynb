{
  "cells": [
    {
      "cell_type": "markdown",
      "metadata": {
        "id": "view-in-github",
        "colab_type": "text"
      },
      "source": [
        "<a href=\"https://colab.research.google.com/github/piggyatbaqaqi/skol/blob/master/IST691/workspace.ipynb\" target=\"_parent\"><img src=\"https://colab.research.google.com/assets/colab-badge.svg\" alt=\"Open In Colab\"/></a>"
      ]
    },
    {
      "cell_type": "markdown",
      "source": [
        "# SKOL III: Feature extraction\n",
        "\n",
        "created by:\n",
        "* La Monte Yarroll\n",
        "* Padmaja Kurmaddali\n",
        "* Patrick Le"
      ],
      "metadata": {
        "id": "vdUfyeOEulxm"
      }
    },
    {
      "cell_type": "markdown",
      "metadata": {
        "id": "tn6VsuAXrh7D"
      },
      "source": [
        "# **Mapping Data Files: Google Drive**"
      ]
    },
    {
      "cell_type": "code",
      "execution_count": 1,
      "metadata": {
        "colab": {
          "base_uri": "https://localhost:8080/"
        },
        "id": "r5jGKzUfrwaV",
        "outputId": "48aee817-c0c6-474e-871d-00749b4cd5e6"
      },
      "outputs": [
        {
          "output_type": "stream",
          "name": "stdout",
          "text": [
            "/content\n",
            "Mounted at /content/drive\n"
          ]
        }
      ],
      "source": [
        "import os, sys\n",
        "from pathlib import Path\n",
        "from google.colab import drive\n",
        "%cd /content\n",
        "content = Path('/content')\n",
        "skol = content / 'drive/My Drive/SKOL'\n",
        "piggyatbaqaqi = skol / 'github.com/piggyatbaqaqi'\n",
        "drive.mount(str(content / \"drive\"), force_remount=True)\n",
        "cache_path = content / 'cache'\n",
        "ollama_cache_path = content / 'ollama_cache'\n",
        "nb_path = content / 'packages'\n",
        "if not os.path.exists(nb_path):\n",
        "  nb_path.symlink_to(skol / 'packages')\n",
        "skol_client = content / 'skol'\n",
        "if not os.path.exists(skol_client):\n",
        "  skol_client.symlink_to(piggyatbaqaqi / 'skol')\n",
        "if not os.path.exists(cache_path):\n",
        "  cache_path.symlink_to(skol / 'pip_cache')\n",
        "if not os.path.exists(ollama_cache_path):\n",
        "  ollama_cache_path.symlink_to(skol / 'ollama_cache')\n",
        "os.environ['OLLAMA_MODELS'] = str(ollama_cache_path)\n",
        "sys.path.insert(0, str(nb_path))\n",
        "sys.path.insert(0, str(piggyatbaqaqi / 'skol'))"
      ]
    },
    {
      "cell_type": "code",
      "source": [
        "!ls -l /content/\n",
        "!file /content\n",
        "print(sys.path)"
      ],
      "metadata": {
        "colab": {
          "base_uri": "https://localhost:8080/"
        },
        "id": "6CsjgFhE-A3s",
        "outputId": "4cebcbe3-4264-44f6-d242-b597868e412c"
      },
      "execution_count": 2,
      "outputs": [
        {
          "output_type": "stream",
          "name": "stdout",
          "text": [
            "total 8\n",
            "lrwxrwxrwx 1 root root   38 May 19 20:18 cache -> '/content/drive/My Drive/SKOL/pip_cache'\n",
            "drwx------ 7 root root 4096 May 19 20:18 drive\n",
            "lrwxrwxrwx 1 root root   41 May 19 20:18 ollama_cache -> '/content/drive/My Drive/SKOL/ollama_cache'\n",
            "lrwxrwxrwx 1 root root   37 May 19 20:18 packages -> '/content/drive/My Drive/SKOL/packages'\n",
            "drwxr-xr-x 1 root root 4096 May 14 13:38 sample_data\n",
            "lrwxrwxrwx 1 root root   58 May 19 20:18 skol -> '/content/drive/My Drive/SKOL/github.com/piggyatbaqaqi/skol'\n",
            "/content: directory\n",
            "['/content/drive/My Drive/SKOL/github.com/piggyatbaqaqi/skol', '/content/packages', '/content', '/env/python', '/usr/lib/python311.zip', '/usr/lib/python3.11', '/usr/lib/python3.11/lib-dynload', '', '/usr/local/lib/python3.11/dist-packages', '/usr/lib/python3/dist-packages', '/usr/local/lib/python3.11/dist-packages/IPython/extensions', '/usr/local/lib/python3.11/dist-packages/setuptools/_vendor', '/root/.ipython']\n"
          ]
        }
      ]
    },
    {
      "cell_type": "markdown",
      "source": [
        "## Set up git clients"
      ],
      "metadata": {
        "id": "7cAPsvOTUUKh"
      }
    },
    {
      "cell_type": "code",
      "source": [
        "if not os.path.exists(piggyatbaqaqi):\n",
        "  %mkdir -p $piggyatbaqaqi\n",
        "if not os.path.exists(piggyatbaqaqi / 'skol'):\n",
        "  %cd $piggyatbaqaqi\n",
        "  !git clone https://github.com/piggyatbaqaqi/skol.git\n",
        "sys.path.insert(0, piggyatbaqaqi / 'skol')\n",
        "if not os.path.exists(piggyatbaqaqi / 'dr-drafts-mycosearch'):\n",
        "  %cd $piggyatbaqaqi\n",
        "  !git clone https://github.com/piggyatbaqaqi/dr-drafts-mycosearch.git\n",
        "workdir = skol / 'IST691'\n",
        "%cd $workdir"
      ],
      "metadata": {
        "colab": {
          "base_uri": "https://localhost:8080/"
        },
        "id": "jtP_WaRJDT3U",
        "outputId": "a242cea5-abc8-43d6-eddb-860d70814b17"
      },
      "execution_count": 3,
      "outputs": [
        {
          "output_type": "stream",
          "name": "stdout",
          "text": [
            "/content/drive/My Drive/SKOL/IST691\n"
          ]
        }
      ]
    },
    {
      "cell_type": "code",
      "execution_count": 4,
      "metadata": {
        "id": "5tda4LKZUtUu",
        "colab": {
          "base_uri": "https://localhost:8080/",
          "height": 1000
        },
        "outputId": "101e1a4e-f472-415f-acaf-2f4bc505dad8"
      },
      "outputs": [
        {
          "output_type": "stream",
          "name": "stdout",
          "text": [
            "Collecting pyspark\n",
            "  Using cached pyspark-3.5.5-py2.py3-none-any.whl\n",
            "Collecting py4j==0.10.9.7 (from pyspark)\n",
            "  Using cached py4j-0.10.9.7-py2.py3-none-any.whl.metadata (1.5 kB)\n",
            "Using cached py4j-0.10.9.7-py2.py3-none-any.whl (200 kB)\n",
            "Installing collected packages: py4j, pyspark\n",
            "Successfully installed py4j-0.10.9.7 pyspark-3.5.5\n",
            "\u001b[33mWARNING: Target directory /content/packages/pyspark already exists. Specify --upgrade to force replacement.\u001b[0m\u001b[33m\n",
            "\u001b[0m\u001b[33mWARNING: Target directory /content/packages/py4j already exists. Specify --upgrade to force replacement.\u001b[0m\u001b[33m\n",
            "\u001b[0m\u001b[33mWARNING: Target directory /content/packages/py4j-0.10.9.7.dist-info already exists. Specify --upgrade to force replacement.\u001b[0m\u001b[33m\n",
            "\u001b[0m\u001b[33mWARNING: Target directory /content/packages/pyspark-3.5.5.dist-info already exists. Specify --upgrade to force replacement.\u001b[0m\u001b[33m\n",
            "\u001b[0m\u001b[33mWARNING: Target directory /content/packages/share already exists. Specify --upgrade to force replacement.\u001b[0m\u001b[33m\n",
            "\u001b[0m\u001b[33mWARNING: Target directory /content/packages/bin already exists. Specify --upgrade to force replacement.\u001b[0m\u001b[33m\n",
            "\u001b[0mCollecting sparknlp\n",
            "  Using cached sparknlp-1.0.0-py3-none-any.whl.metadata (1.2 kB)\n",
            "Collecting ollama\n",
            "  Using cached ollama-0.4.8-py3-none-any.whl.metadata (4.7 kB)\n",
            "Collecting spark-nlp (from sparknlp)\n",
            "  Using cached spark_nlp-6.0.1-py2.py3-none-any.whl.metadata (19 kB)\n",
            "Collecting numpy (from sparknlp)\n",
            "  Using cached numpy-2.2.6-cp311-cp311-manylinux_2_17_x86_64.manylinux2014_x86_64.whl.metadata (62 kB)\n",
            "Collecting httpx<0.29,>=0.27 (from ollama)\n",
            "  Using cached httpx-0.28.1-py3-none-any.whl.metadata (7.1 kB)\n",
            "Collecting pydantic<3.0.0,>=2.9.0 (from ollama)\n",
            "  Using cached pydantic-2.11.4-py3-none-any.whl.metadata (66 kB)\n",
            "Collecting anyio (from httpx<0.29,>=0.27->ollama)\n",
            "  Using cached anyio-4.9.0-py3-none-any.whl.metadata (4.7 kB)\n",
            "Collecting certifi (from httpx<0.29,>=0.27->ollama)\n",
            "  Using cached certifi-2025.4.26-py3-none-any.whl.metadata (2.5 kB)\n",
            "Collecting httpcore==1.* (from httpx<0.29,>=0.27->ollama)\n",
            "  Using cached httpcore-1.0.9-py3-none-any.whl.metadata (21 kB)\n",
            "Collecting idna (from httpx<0.29,>=0.27->ollama)\n",
            "  Using cached idna-3.10-py3-none-any.whl.metadata (10 kB)\n",
            "Collecting h11>=0.16 (from httpcore==1.*->httpx<0.29,>=0.27->ollama)\n",
            "  Using cached h11-0.16.0-py3-none-any.whl.metadata (8.3 kB)\n",
            "Collecting annotated-types>=0.6.0 (from pydantic<3.0.0,>=2.9.0->ollama)\n",
            "  Using cached annotated_types-0.7.0-py3-none-any.whl.metadata (15 kB)\n",
            "Collecting pydantic-core==2.33.2 (from pydantic<3.0.0,>=2.9.0->ollama)\n",
            "  Using cached pydantic_core-2.33.2-cp311-cp311-manylinux_2_17_x86_64.manylinux2014_x86_64.whl.metadata (6.8 kB)\n",
            "Collecting typing-extensions>=4.12.2 (from pydantic<3.0.0,>=2.9.0->ollama)\n",
            "  Using cached typing_extensions-4.13.2-py3-none-any.whl.metadata (3.0 kB)\n",
            "Collecting typing-inspection>=0.4.0 (from pydantic<3.0.0,>=2.9.0->ollama)\n",
            "  Using cached typing_inspection-0.4.0-py3-none-any.whl.metadata (2.6 kB)\n",
            "Collecting sniffio>=1.1 (from anyio->httpx<0.29,>=0.27->ollama)\n",
            "  Using cached sniffio-1.3.1-py3-none-any.whl.metadata (3.9 kB)\n",
            "Using cached sparknlp-1.0.0-py3-none-any.whl (1.4 kB)\n",
            "Using cached ollama-0.4.8-py3-none-any.whl (13 kB)\n",
            "Using cached httpx-0.28.1-py3-none-any.whl (73 kB)\n",
            "Using cached httpcore-1.0.9-py3-none-any.whl (78 kB)\n",
            "Using cached pydantic-2.11.4-py3-none-any.whl (443 kB)\n",
            "Using cached pydantic_core-2.33.2-cp311-cp311-manylinux_2_17_x86_64.manylinux2014_x86_64.whl (2.0 MB)\n",
            "Using cached numpy-2.2.6-cp311-cp311-manylinux_2_17_x86_64.manylinux2014_x86_64.whl (16.8 MB)\n",
            "Using cached spark_nlp-6.0.1-py2.py3-none-any.whl (697 kB)\n",
            "Using cached annotated_types-0.7.0-py3-none-any.whl (13 kB)\n",
            "Using cached typing_extensions-4.13.2-py3-none-any.whl (45 kB)\n",
            "Using cached typing_inspection-0.4.0-py3-none-any.whl (14 kB)\n",
            "Using cached anyio-4.9.0-py3-none-any.whl (100 kB)\n",
            "Using cached idna-3.10-py3-none-any.whl (70 kB)\n",
            "Using cached certifi-2025.4.26-py3-none-any.whl (159 kB)\n",
            "Using cached h11-0.16.0-py3-none-any.whl (37 kB)\n",
            "Using cached sniffio-1.3.1-py3-none-any.whl (10 kB)\n",
            "Installing collected packages: spark-nlp, typing-extensions, sniffio, numpy, idna, h11, certifi, annotated-types, typing-inspection, sparknlp, pydantic-core, httpcore, anyio, pydantic, httpx, ollama\n",
            "\u001b[31mERROR: pip's dependency resolver does not currently take into account all the packages that are installed. This behaviour is the source of the following dependency conflicts.\n",
            "numba 0.60.0 requires numpy<2.1,>=1.22, but you have numpy 2.2.6 which is incompatible.\n",
            "tensorflow 2.18.0 requires numpy<2.1.0,>=1.26.0, but you have numpy 2.2.6 which is incompatible.\n",
            "torch 2.6.0+cu124 requires nvidia-cublas-cu12==12.4.5.8; platform_system == \"Linux\" and platform_machine == \"x86_64\", but you have nvidia-cublas-cu12 12.5.3.2 which is incompatible.\n",
            "torch 2.6.0+cu124 requires nvidia-cuda-cupti-cu12==12.4.127; platform_system == \"Linux\" and platform_machine == \"x86_64\", but you have nvidia-cuda-cupti-cu12 12.5.82 which is incompatible.\n",
            "torch 2.6.0+cu124 requires nvidia-cuda-nvrtc-cu12==12.4.127; platform_system == \"Linux\" and platform_machine == \"x86_64\", but you have nvidia-cuda-nvrtc-cu12 12.5.82 which is incompatible.\n",
            "torch 2.6.0+cu124 requires nvidia-cuda-runtime-cu12==12.4.127; platform_system == \"Linux\" and platform_machine == \"x86_64\", but you have nvidia-cuda-runtime-cu12 12.5.82 which is incompatible.\n",
            "torch 2.6.0+cu124 requires nvidia-cudnn-cu12==9.1.0.70; platform_system == \"Linux\" and platform_machine == \"x86_64\", but you have nvidia-cudnn-cu12 9.3.0.75 which is incompatible.\n",
            "torch 2.6.0+cu124 requires nvidia-cufft-cu12==11.2.1.3; platform_system == \"Linux\" and platform_machine == \"x86_64\", but you have nvidia-cufft-cu12 11.2.3.61 which is incompatible.\n",
            "torch 2.6.0+cu124 requires nvidia-curand-cu12==10.3.5.147; platform_system == \"Linux\" and platform_machine == \"x86_64\", but you have nvidia-curand-cu12 10.3.6.82 which is incompatible.\n",
            "torch 2.6.0+cu124 requires nvidia-cusolver-cu12==11.6.1.9; platform_system == \"Linux\" and platform_machine == \"x86_64\", but you have nvidia-cusolver-cu12 11.6.3.83 which is incompatible.\n",
            "torch 2.6.0+cu124 requires nvidia-cusparse-cu12==12.3.1.170; platform_system == \"Linux\" and platform_machine == \"x86_64\", but you have nvidia-cusparse-cu12 12.5.1.3 which is incompatible.\n",
            "torch 2.6.0+cu124 requires nvidia-nvjitlink-cu12==12.4.127; platform_system == \"Linux\" and platform_machine == \"x86_64\", but you have nvidia-nvjitlink-cu12 12.5.82 which is incompatible.\u001b[0m\u001b[31m\n",
            "\u001b[0mSuccessfully installed annotated-types-0.7.0 anyio-4.9.0 certifi-2025.4.26 h11-0.16.0 httpcore-1.0.9 httpx-0.28.1 idna-3.10 numpy-2.2.6 ollama-0.4.8 pydantic-2.11.4 pydantic-core-2.33.2 sniffio-1.3.1 spark-nlp-6.0.1 sparknlp-1.0.0 typing-extensions-4.13.2 typing-inspection-0.4.0\n",
            "\u001b[33mWARNING: Target directory /content/packages/anyio-4.9.0.dist-info already exists. Specify --upgrade to force replacement.\u001b[0m\u001b[33m\n",
            "\u001b[0m\u001b[33mWARNING: Target directory /content/packages/httpcore-1.0.9.dist-info already exists. Specify --upgrade to force replacement.\u001b[0m\u001b[33m\n",
            "\u001b[0m\u001b[33mWARNING: Target directory /content/packages/ollama already exists. Specify --upgrade to force replacement.\u001b[0m\u001b[33m\n",
            "\u001b[0m\u001b[33mWARNING: Target directory /content/packages/typing_inspection-0.4.0.dist-info already exists. Specify --upgrade to force replacement.\u001b[0m\u001b[33m\n",
            "\u001b[0m\u001b[33mWARNING: Target directory /content/packages/h11-0.16.0.dist-info already exists. Specify --upgrade to force replacement.\u001b[0m\u001b[33m\n",
            "\u001b[0m\u001b[33mWARNING: Target directory /content/packages/ollama-0.4.8.dist-info already exists. Specify --upgrade to force replacement.\u001b[0m\u001b[33m\n",
            "\u001b[0m\u001b[33mWARNING: Target directory /content/packages/numpy.libs already exists. Specify --upgrade to force replacement.\u001b[0m\u001b[33m\n",
            "\u001b[0m\u001b[33mWARNING: Target directory /content/packages/typing_extensions-4.13.2.dist-info already exists. Specify --upgrade to force replacement.\u001b[0m\u001b[33m\n",
            "\u001b[0m\u001b[33mWARNING: Target directory /content/packages/numpy-2.2.6.dist-info already exists. Specify --upgrade to force replacement.\u001b[0m\u001b[33m\n",
            "\u001b[0m\u001b[33mWARNING: Target directory /content/packages/numpy already exists. Specify --upgrade to force replacement.\u001b[0m\u001b[33m\n",
            "\u001b[0m\u001b[33mWARNING: Target directory /content/packages/sparknlp already exists. Specify --upgrade to force replacement.\u001b[0m\u001b[33m\n",
            "\u001b[0m\u001b[33mWARNING: Target directory /content/packages/anyio already exists. Specify --upgrade to force replacement.\u001b[0m\u001b[33m\n",
            "\u001b[0m\u001b[33mWARNING: Target directory /content/packages/spark_nlp-6.0.1.dist-info already exists. Specify --upgrade to force replacement.\u001b[0m\u001b[33m\n",
            "\u001b[0m\u001b[33mWARNING: Target directory /content/packages/certifi already exists. Specify --upgrade to force replacement.\u001b[0m\u001b[33m\n",
            "\u001b[0m\u001b[33mWARNING: Target directory /content/packages/__pycache__ already exists. Specify --upgrade to force replacement.\u001b[0m\u001b[33m\n",
            "\u001b[0m\u001b[33mWARNING: Target directory /content/packages/httpx-0.28.1.dist-info already exists. Specify --upgrade to force replacement.\u001b[0m\u001b[33m\n",
            "\u001b[0m\u001b[33mWARNING: Target directory /content/packages/com already exists. Specify --upgrade to force replacement.\u001b[0m\u001b[33m\n",
            "\u001b[0m\u001b[33mWARNING: Target directory /content/packages/pydantic_core already exists. Specify --upgrade to force replacement.\u001b[0m\u001b[33m\n",
            "\u001b[0m\u001b[33mWARNING: Target directory /content/packages/idna already exists. Specify --upgrade to force replacement.\u001b[0m\u001b[33m\n",
            "\u001b[0m\u001b[33mWARNING: Target directory /content/packages/annotated_types already exists. Specify --upgrade to force replacement.\u001b[0m\u001b[33m\n",
            "\u001b[0m\u001b[33mWARNING: Target directory /content/packages/annotated_types-0.7.0.dist-info already exists. Specify --upgrade to force replacement.\u001b[0m\u001b[33m\n",
            "\u001b[0m\u001b[33mWARNING: Target directory /content/packages/typing_inspection already exists. Specify --upgrade to force replacement.\u001b[0m\u001b[33m\n",
            "\u001b[0m\u001b[33mWARNING: Target directory /content/packages/sniffio already exists. Specify --upgrade to force replacement.\u001b[0m\u001b[33m\n",
            "\u001b[0m\u001b[33mWARNING: Target directory /content/packages/pydantic already exists. Specify --upgrade to force replacement.\u001b[0m\u001b[33m\n",
            "\u001b[0m\u001b[33mWARNING: Target directory /content/packages/httpx already exists. Specify --upgrade to force replacement.\u001b[0m\u001b[33m\n",
            "\u001b[0m\u001b[33mWARNING: Target directory /content/packages/pydantic-2.11.4.dist-info already exists. Specify --upgrade to force replacement.\u001b[0m\u001b[33m\n",
            "\u001b[0m\u001b[33mWARNING: Target directory /content/packages/pydantic_core-2.33.2.dist-info already exists. Specify --upgrade to force replacement.\u001b[0m\u001b[33m\n",
            "\u001b[0m\u001b[33mWARNING: Target directory /content/packages/idna-3.10.dist-info already exists. Specify --upgrade to force replacement.\u001b[0m\u001b[33m\n",
            "\u001b[0m\u001b[33mWARNING: Target directory /content/packages/sparknlp-1.0.0.dist-info already exists. Specify --upgrade to force replacement.\u001b[0m\u001b[33m\n",
            "\u001b[0m\u001b[33mWARNING: Target directory /content/packages/httpcore already exists. Specify --upgrade to force replacement.\u001b[0m\u001b[33m\n",
            "\u001b[0m\u001b[33mWARNING: Target directory /content/packages/typing_extensions.py already exists. Specify --upgrade to force replacement.\u001b[0m\u001b[33m\n",
            "\u001b[0m\u001b[33mWARNING: Target directory /content/packages/sniffio-1.3.1.dist-info already exists. Specify --upgrade to force replacement.\u001b[0m\u001b[33m\n",
            "\u001b[0m\u001b[33mWARNING: Target directory /content/packages/h11 already exists. Specify --upgrade to force replacement.\u001b[0m\u001b[33m\n",
            "\u001b[0m\u001b[33mWARNING: Target directory /content/packages/certifi-2025.4.26.dist-info already exists. Specify --upgrade to force replacement.\u001b[0m\u001b[33m\n",
            "\u001b[0m\u001b[33mWARNING: Target directory /content/packages/bin already exists. Specify --upgrade to force replacement.\u001b[0m\u001b[33m\n",
            "\u001b[0m"
          ]
        },
        {
          "output_type": "display_data",
          "data": {
            "application/vnd.colab-display-data+json": {
              "pip_warning": {
                "packages": [
                  "certifi"
                ]
              },
              "id": "8d19029937a74ad4aa896346d0e0ccea"
            }
          },
          "metadata": {}
        }
      ],
      "source": [
        "# install PySpark\n",
        "! pip install --cache-dir=$cache_path --target=$nb_path pyspark\n",
        "! pip install --cache-dir=$cache_path --target=$nb_path sparknlp ollama"
      ]
    },
    {
      "cell_type": "code",
      "execution_count": 5,
      "metadata": {
        "id": "IeMBGpu8rYXf"
      },
      "outputs": [],
      "source": [
        "#import needed modules\n",
        "import os\n",
        "import glob\n",
        "from typing import List\n",
        "from pathlib import Path\n",
        "import random\n",
        "\n",
        "import numpy as np\n",
        "import pandas as pd\n",
        "import matplotlib.pyplot as plt\n",
        "import seaborn as sns\n",
        "\n",
        "import sparknlp\n",
        "from sparknlp.pretrained import PretrainedPipeline\n",
        "from pyspark.sql.functions import (\n",
        "    input_file_name, collect_list, concat_ws, col, udf,\n",
        "    explode, collect_list, regexp_extract, regexp_replace,\n",
        "    split, flatten, transform, concat)\n",
        "from pyspark.sql.types import ArrayType, StringType\n",
        "\n",
        "from pyspark.ml import Pipeline, Transformer\n",
        "from pyspark.ml.feature import (\n",
        "    Tokenizer, HashingTF, IDF, StringIndexer, CountVectorizer,\n",
        "    PCA, VectorAssembler)\n",
        "from pyspark.ml.classification import LogisticRegression, RandomForestClassifier, GBTClassifier\n",
        "from pyspark.ml.evaluation import MulticlassClassificationEvaluator\n",
        "from pyspark.sql.functions import split, row_number, min, expr, struct\n",
        "from pyspark.ml.linalg import Vectors, VectorUDT, DenseVector\n",
        "from pyspark.sql.types import DoubleType, StructField, StructType"
      ]
    },
    {
      "cell_type": "markdown",
      "source": [
        "SKOL Data manipulation library"
      ],
      "metadata": {
        "id": "uXgY1VO8Sw_q"
      }
    },
    {
      "cell_type": "code",
      "source": [
        "from finder import read_files, parse_annotated, target_classes\n",
        "from label import Label\n",
        "from taxon import Taxon, group_paragraphs\n",
        "\n",
        "SEED=12345\n",
        "default_label = Label('Misc-exposition')\n",
        "keep_labels = [Label('Description'), Label('Nomenclature')]"
      ],
      "metadata": {
        "id": "BIoHo7jTRMwG"
      },
      "execution_count": 6,
      "outputs": []
    },
    {
      "cell_type": "markdown",
      "metadata": {
        "id": "YUT4tUcDu4qR"
      },
      "source": [
        "# **Checking the file counts in the directories**"
      ]
    },
    {
      "cell_type": "code",
      "execution_count": 7,
      "metadata": {
        "id": "oFPefKgUuAWv"
      },
      "outputs": [],
      "source": [
        "raw_directory_path = skol / 'raw_2025_02_05/'\n",
        "ann_directory_path = skol / 'annotated_2025_02_27/journals'"
      ]
    },
    {
      "cell_type": "markdown",
      "metadata": {
        "id": "puPtns5oiHJr"
      },
      "source": [
        "## Checking the file counts in the directories"
      ]
    },
    {
      "cell_type": "code",
      "execution_count": 8,
      "metadata": {
        "id": "bsnHqX23dsxV"
      },
      "outputs": [],
      "source": [
        "# Function that reports all the txt files under a Google Drive folder path\n",
        "def listFiles(folder: str) -> List[str]:\n",
        "  # List all files in the folder\n",
        "  try:\n",
        "      files = [file for file in glob.glob(f'{folder}/**/*.txt*', recursive=True) if 'Sydowia' not in file]\n",
        "      return files\n",
        "  except FileNotFoundError:\n",
        "      print(f\"Folder '{folder}' not found.\")\n",
        "  except PermissionError:\n",
        "      print(f\"Permission denied to access folder '{folder}'.\")"
      ]
    },
    {
      "cell_type": "code",
      "execution_count": 9,
      "metadata": {
        "colab": {
          "base_uri": "https://localhost:8080/"
        },
        "id": "85IAP2WKhQYp",
        "outputId": "01bec733-1ca6-461c-eed0-b3203832f0c8"
      },
      "outputs": [
        {
          "output_type": "execute_result",
          "data": {
            "text/plain": [
              "['/content/drive/My Drive/SKOL/raw_2025_02_05/authors/FungalNameAuthors.txt',\n",
              " '/content/drive/My Drive/SKOL/raw_2025_02_05/Mycologia/3753420.txt',\n",
              " '/content/drive/My Drive/SKOL/raw_2025_02_05/Mycologia/3753372.txt',\n",
              " '/content/drive/My Drive/SKOL/raw_2025_02_05/Mycologia/3753466.txt',\n",
              " '/content/drive/My Drive/SKOL/raw_2025_02_05/Mycologia/3753104.txt',\n",
              " '/content/drive/My Drive/SKOL/raw_2025_02_05/Mycologia/3753322.txt',\n",
              " '/content/drive/My Drive/SKOL/raw_2025_02_05/Mycologia/mycologiaeuropa00persgoog.txt',\n",
              " '/content/drive/My Drive/SKOL/raw_2025_02_05/Mycologia/3753038.txt',\n",
              " '/content/drive/My Drive/SKOL/raw_2025_02_05/Mycologia/3753160.txt',\n",
              " '/content/drive/My Drive/SKOL/raw_2025_02_05/Mycologia/3753583.txt']"
            ]
          },
          "metadata": {},
          "execution_count": 9
        }
      ],
      "source": [
        "# check files in raw directory\n",
        "listFiles(raw_directory_path)[:10]"
      ]
    },
    {
      "cell_type": "code",
      "execution_count": 10,
      "metadata": {
        "colab": {
          "base_uri": "https://localhost:8080/"
        },
        "id": "aLYkfNVyR_lR",
        "outputId": "185cdfb2-8f8c-4166-8665-d740f7e49b3c"
      },
      "outputs": [
        {
          "output_type": "execute_result",
          "data": {
            "text/plain": [
              "['/content/drive/My Drive/SKOL/annotated_2025_02_27/journals/Mycotaxon/Vol057/n1.txt.ann',\n",
              " '/content/drive/My Drive/SKOL/annotated_2025_02_27/journals/Mycotaxon/Vol054/n1.txt.ann',\n",
              " '/content/drive/My Drive/SKOL/annotated_2025_02_27/journals/Mycotaxon/Vol118/s17.txt.ann',\n",
              " '/content/drive/My Drive/SKOL/annotated_2025_02_27/journals/Mycotaxon/Vol118/s29.txt.ann',\n",
              " '/content/drive/My Drive/SKOL/annotated_2025_02_27/journals/Mycotaxon/Vol118/s30.txt.ann',\n",
              " '/content/drive/My Drive/SKOL/annotated_2025_02_27/journals/Mycotaxon/Vol118/s7.txt.ann',\n",
              " '/content/drive/My Drive/SKOL/annotated_2025_02_27/journals/Mycotaxon/Vol118/s21.txt.ann',\n",
              " '/content/drive/My Drive/SKOL/annotated_2025_02_27/journals/Mycotaxon/Vol118/s13.txt.ann',\n",
              " '/content/drive/My Drive/SKOL/annotated_2025_02_27/journals/Mycotaxon/Vol118/s1.txt.ann',\n",
              " '/content/drive/My Drive/SKOL/annotated_2025_02_27/journals/Mycotaxon/Vol118/s46.txt.ann']"
            ]
          },
          "metadata": {},
          "execution_count": 10
        }
      ],
      "source": [
        "# check files in annotated directory\n",
        "training_files = listFiles(ann_directory_path)\n",
        "training_files[:10]"
      ]
    },
    {
      "cell_type": "code",
      "execution_count": 11,
      "metadata": {
        "id": "zBswbvOcVmRo",
        "colab": {
          "base_uri": "https://localhost:8080/"
        },
        "outputId": "5e5d5dc5-316c-4ac4-e6c4-3d009790bd8f"
      },
      "outputs": [
        {
          "output_type": "execute_result",
          "data": {
            "text/plain": [
              "190"
            ]
          },
          "metadata": {},
          "execution_count": 11
        }
      ],
      "source": [
        "len(training_files)"
      ]
    },
    {
      "cell_type": "code",
      "source": [
        "paragraphs = list(parse_annotated(read_files(random.sample(training_files, 5))))"
      ],
      "metadata": {
        "id": "T3MOeHDSaf_L"
      },
      "execution_count": 12,
      "outputs": []
    },
    {
      "cell_type": "code",
      "source": [
        "relabeled = list(target_classes(default=default_label, keep=keep_labels, paragraphs=paragraphs))"
      ],
      "metadata": {
        "id": "5v56N-_Gaj2V"
      },
      "execution_count": 13,
      "outputs": []
    },
    {
      "cell_type": "code",
      "source": [
        "print(f'len(relabeled): {len(relabeled)}')"
      ],
      "metadata": {
        "colab": {
          "base_uri": "https://localhost:8080/"
        },
        "id": "rZo29oZ-fpcs",
        "outputId": "17887917-e7ce-4a10-b01c-226642e5caca"
      },
      "execution_count": 14,
      "outputs": [
        {
          "output_type": "stream",
          "name": "stdout",
          "text": [
            "len(relabeled): 324\n"
          ]
        }
      ]
    },
    {
      "cell_type": "code",
      "source": [
        "df = pd.DataFrame({\n",
        "    'filename': [pp.filename for pp in relabeled],\n",
        "    'label': [pp.top_label().label if pp.top_label() else None for pp in relabeled],\n",
        "    'paragraph_number': [pp.paragraph_number for pp in relabeled],\n",
        "    'page_number': [pp.page_number for pp in relabeled],\n",
        "    'empirical_page_number': [pp.empirical_page_number for pp in relabeled],\n",
        "    'line_number': [pp.first_line.line_number if pp.first_line else None for pp in relabeled],\n",
        "    'body': [str(pp) for pp in relabeled]\n",
        "})\n",
        "df.label = pd.Categorical(df.label)\n",
        "df['label_code'] = df.label.cat.codes"
      ],
      "metadata": {
        "id": "WefPFrKugSLT"
      },
      "execution_count": 15,
      "outputs": []
    },
    {
      "cell_type": "code",
      "source": [
        "df.groupby('label', observed=True).nunique()"
      ],
      "metadata": {
        "colab": {
          "base_uri": "https://localhost:8080/",
          "height": 175
        },
        "id": "sE7cRbJ-g2eA",
        "outputId": "3a264e58-0b67-4766-d89e-8d42273cbdc4"
      },
      "execution_count": 16,
      "outputs": [
        {
          "output_type": "execute_result",
          "data": {
            "text/plain": [
              "                 filename  paragraph_number  page_number  \\\n",
              "label                                                      \n",
              "Description             5                17            4   \n",
              "Misc-exposition         5               301            9   \n",
              "Nomenclature            5                 6            4   \n",
              "\n",
              "                 empirical_page_number  line_number  body  label_code  \n",
              "label                                                                  \n",
              "Description                         13           11    12           1  \n",
              "Misc-exposition                     27           64   216           1  \n",
              "Nomenclature                         5            6     6           1  "
            ],
            "text/html": [
              "\n",
              "  <div id=\"df-09589763-93c8-47f6-b31e-e921578ef74f\" class=\"colab-df-container\">\n",
              "    <div>\n",
              "<style scoped>\n",
              "    .dataframe tbody tr th:only-of-type {\n",
              "        vertical-align: middle;\n",
              "    }\n",
              "\n",
              "    .dataframe tbody tr th {\n",
              "        vertical-align: top;\n",
              "    }\n",
              "\n",
              "    .dataframe thead th {\n",
              "        text-align: right;\n",
              "    }\n",
              "</style>\n",
              "<table border=\"1\" class=\"dataframe\">\n",
              "  <thead>\n",
              "    <tr style=\"text-align: right;\">\n",
              "      <th></th>\n",
              "      <th>filename</th>\n",
              "      <th>paragraph_number</th>\n",
              "      <th>page_number</th>\n",
              "      <th>empirical_page_number</th>\n",
              "      <th>line_number</th>\n",
              "      <th>body</th>\n",
              "      <th>label_code</th>\n",
              "    </tr>\n",
              "    <tr>\n",
              "      <th>label</th>\n",
              "      <th></th>\n",
              "      <th></th>\n",
              "      <th></th>\n",
              "      <th></th>\n",
              "      <th></th>\n",
              "      <th></th>\n",
              "      <th></th>\n",
              "    </tr>\n",
              "  </thead>\n",
              "  <tbody>\n",
              "    <tr>\n",
              "      <th>Description</th>\n",
              "      <td>5</td>\n",
              "      <td>17</td>\n",
              "      <td>4</td>\n",
              "      <td>13</td>\n",
              "      <td>11</td>\n",
              "      <td>12</td>\n",
              "      <td>1</td>\n",
              "    </tr>\n",
              "    <tr>\n",
              "      <th>Misc-exposition</th>\n",
              "      <td>5</td>\n",
              "      <td>301</td>\n",
              "      <td>9</td>\n",
              "      <td>27</td>\n",
              "      <td>64</td>\n",
              "      <td>216</td>\n",
              "      <td>1</td>\n",
              "    </tr>\n",
              "    <tr>\n",
              "      <th>Nomenclature</th>\n",
              "      <td>5</td>\n",
              "      <td>6</td>\n",
              "      <td>4</td>\n",
              "      <td>5</td>\n",
              "      <td>6</td>\n",
              "      <td>6</td>\n",
              "      <td>1</td>\n",
              "    </tr>\n",
              "  </tbody>\n",
              "</table>\n",
              "</div>\n",
              "    <div class=\"colab-df-buttons\">\n",
              "\n",
              "  <div class=\"colab-df-container\">\n",
              "    <button class=\"colab-df-convert\" onclick=\"convertToInteractive('df-09589763-93c8-47f6-b31e-e921578ef74f')\"\n",
              "            title=\"Convert this dataframe to an interactive table.\"\n",
              "            style=\"display:none;\">\n",
              "\n",
              "  <svg xmlns=\"http://www.w3.org/2000/svg\" height=\"24px\" viewBox=\"0 -960 960 960\">\n",
              "    <path d=\"M120-120v-720h720v720H120Zm60-500h600v-160H180v160Zm220 220h160v-160H400v160Zm0 220h160v-160H400v160ZM180-400h160v-160H180v160Zm440 0h160v-160H620v160ZM180-180h160v-160H180v160Zm440 0h160v-160H620v160Z\"/>\n",
              "  </svg>\n",
              "    </button>\n",
              "\n",
              "  <style>\n",
              "    .colab-df-container {\n",
              "      display:flex;\n",
              "      gap: 12px;\n",
              "    }\n",
              "\n",
              "    .colab-df-convert {\n",
              "      background-color: #E8F0FE;\n",
              "      border: none;\n",
              "      border-radius: 50%;\n",
              "      cursor: pointer;\n",
              "      display: none;\n",
              "      fill: #1967D2;\n",
              "      height: 32px;\n",
              "      padding: 0 0 0 0;\n",
              "      width: 32px;\n",
              "    }\n",
              "\n",
              "    .colab-df-convert:hover {\n",
              "      background-color: #E2EBFA;\n",
              "      box-shadow: 0px 1px 2px rgba(60, 64, 67, 0.3), 0px 1px 3px 1px rgba(60, 64, 67, 0.15);\n",
              "      fill: #174EA6;\n",
              "    }\n",
              "\n",
              "    .colab-df-buttons div {\n",
              "      margin-bottom: 4px;\n",
              "    }\n",
              "\n",
              "    [theme=dark] .colab-df-convert {\n",
              "      background-color: #3B4455;\n",
              "      fill: #D2E3FC;\n",
              "    }\n",
              "\n",
              "    [theme=dark] .colab-df-convert:hover {\n",
              "      background-color: #434B5C;\n",
              "      box-shadow: 0px 1px 3px 1px rgba(0, 0, 0, 0.15);\n",
              "      filter: drop-shadow(0px 1px 2px rgba(0, 0, 0, 0.3));\n",
              "      fill: #FFFFFF;\n",
              "    }\n",
              "  </style>\n",
              "\n",
              "    <script>\n",
              "      const buttonEl =\n",
              "        document.querySelector('#df-09589763-93c8-47f6-b31e-e921578ef74f button.colab-df-convert');\n",
              "      buttonEl.style.display =\n",
              "        google.colab.kernel.accessAllowed ? 'block' : 'none';\n",
              "\n",
              "      async function convertToInteractive(key) {\n",
              "        const element = document.querySelector('#df-09589763-93c8-47f6-b31e-e921578ef74f');\n",
              "        const dataTable =\n",
              "          await google.colab.kernel.invokeFunction('convertToInteractive',\n",
              "                                                    [key], {});\n",
              "        if (!dataTable) return;\n",
              "\n",
              "        const docLinkHtml = 'Like what you see? Visit the ' +\n",
              "          '<a target=\"_blank\" href=https://colab.research.google.com/notebooks/data_table.ipynb>data table notebook</a>'\n",
              "          + ' to learn more about interactive tables.';\n",
              "        element.innerHTML = '';\n",
              "        dataTable['output_type'] = 'display_data';\n",
              "        await google.colab.output.renderOutput(dataTable, element);\n",
              "        const docLink = document.createElement('div');\n",
              "        docLink.innerHTML = docLinkHtml;\n",
              "        element.appendChild(docLink);\n",
              "      }\n",
              "    </script>\n",
              "  </div>\n",
              "\n",
              "\n",
              "    <div id=\"df-c701675b-19e8-4fc1-b133-9e8131020dd6\">\n",
              "      <button class=\"colab-df-quickchart\" onclick=\"quickchart('df-c701675b-19e8-4fc1-b133-9e8131020dd6')\"\n",
              "                title=\"Suggest charts\"\n",
              "                style=\"display:none;\">\n",
              "\n",
              "<svg xmlns=\"http://www.w3.org/2000/svg\" height=\"24px\"viewBox=\"0 0 24 24\"\n",
              "     width=\"24px\">\n",
              "    <g>\n",
              "        <path d=\"M19 3H5c-1.1 0-2 .9-2 2v14c0 1.1.9 2 2 2h14c1.1 0 2-.9 2-2V5c0-1.1-.9-2-2-2zM9 17H7v-7h2v7zm4 0h-2V7h2v10zm4 0h-2v-4h2v4z\"/>\n",
              "    </g>\n",
              "</svg>\n",
              "      </button>\n",
              "\n",
              "<style>\n",
              "  .colab-df-quickchart {\n",
              "      --bg-color: #E8F0FE;\n",
              "      --fill-color: #1967D2;\n",
              "      --hover-bg-color: #E2EBFA;\n",
              "      --hover-fill-color: #174EA6;\n",
              "      --disabled-fill-color: #AAA;\n",
              "      --disabled-bg-color: #DDD;\n",
              "  }\n",
              "\n",
              "  [theme=dark] .colab-df-quickchart {\n",
              "      --bg-color: #3B4455;\n",
              "      --fill-color: #D2E3FC;\n",
              "      --hover-bg-color: #434B5C;\n",
              "      --hover-fill-color: #FFFFFF;\n",
              "      --disabled-bg-color: #3B4455;\n",
              "      --disabled-fill-color: #666;\n",
              "  }\n",
              "\n",
              "  .colab-df-quickchart {\n",
              "    background-color: var(--bg-color);\n",
              "    border: none;\n",
              "    border-radius: 50%;\n",
              "    cursor: pointer;\n",
              "    display: none;\n",
              "    fill: var(--fill-color);\n",
              "    height: 32px;\n",
              "    padding: 0;\n",
              "    width: 32px;\n",
              "  }\n",
              "\n",
              "  .colab-df-quickchart:hover {\n",
              "    background-color: var(--hover-bg-color);\n",
              "    box-shadow: 0 1px 2px rgba(60, 64, 67, 0.3), 0 1px 3px 1px rgba(60, 64, 67, 0.15);\n",
              "    fill: var(--button-hover-fill-color);\n",
              "  }\n",
              "\n",
              "  .colab-df-quickchart-complete:disabled,\n",
              "  .colab-df-quickchart-complete:disabled:hover {\n",
              "    background-color: var(--disabled-bg-color);\n",
              "    fill: var(--disabled-fill-color);\n",
              "    box-shadow: none;\n",
              "  }\n",
              "\n",
              "  .colab-df-spinner {\n",
              "    border: 2px solid var(--fill-color);\n",
              "    border-color: transparent;\n",
              "    border-bottom-color: var(--fill-color);\n",
              "    animation:\n",
              "      spin 1s steps(1) infinite;\n",
              "  }\n",
              "\n",
              "  @keyframes spin {\n",
              "    0% {\n",
              "      border-color: transparent;\n",
              "      border-bottom-color: var(--fill-color);\n",
              "      border-left-color: var(--fill-color);\n",
              "    }\n",
              "    20% {\n",
              "      border-color: transparent;\n",
              "      border-left-color: var(--fill-color);\n",
              "      border-top-color: var(--fill-color);\n",
              "    }\n",
              "    30% {\n",
              "      border-color: transparent;\n",
              "      border-left-color: var(--fill-color);\n",
              "      border-top-color: var(--fill-color);\n",
              "      border-right-color: var(--fill-color);\n",
              "    }\n",
              "    40% {\n",
              "      border-color: transparent;\n",
              "      border-right-color: var(--fill-color);\n",
              "      border-top-color: var(--fill-color);\n",
              "    }\n",
              "    60% {\n",
              "      border-color: transparent;\n",
              "      border-right-color: var(--fill-color);\n",
              "    }\n",
              "    80% {\n",
              "      border-color: transparent;\n",
              "      border-right-color: var(--fill-color);\n",
              "      border-bottom-color: var(--fill-color);\n",
              "    }\n",
              "    90% {\n",
              "      border-color: transparent;\n",
              "      border-bottom-color: var(--fill-color);\n",
              "    }\n",
              "  }\n",
              "</style>\n",
              "\n",
              "      <script>\n",
              "        async function quickchart(key) {\n",
              "          const quickchartButtonEl =\n",
              "            document.querySelector('#' + key + ' button');\n",
              "          quickchartButtonEl.disabled = true;  // To prevent multiple clicks.\n",
              "          quickchartButtonEl.classList.add('colab-df-spinner');\n",
              "          try {\n",
              "            const charts = await google.colab.kernel.invokeFunction(\n",
              "                'suggestCharts', [key], {});\n",
              "          } catch (error) {\n",
              "            console.error('Error during call to suggestCharts:', error);\n",
              "          }\n",
              "          quickchartButtonEl.classList.remove('colab-df-spinner');\n",
              "          quickchartButtonEl.classList.add('colab-df-quickchart-complete');\n",
              "        }\n",
              "        (() => {\n",
              "          let quickchartButtonEl =\n",
              "            document.querySelector('#df-c701675b-19e8-4fc1-b133-9e8131020dd6 button');\n",
              "          quickchartButtonEl.style.display =\n",
              "            google.colab.kernel.accessAllowed ? 'block' : 'none';\n",
              "        })();\n",
              "      </script>\n",
              "    </div>\n",
              "\n",
              "    </div>\n",
              "  </div>\n"
            ],
            "application/vnd.google.colaboratory.intrinsic+json": {
              "type": "dataframe",
              "summary": "{\n  \"name\": \"df\",\n  \"rows\": 3,\n  \"fields\": [\n    {\n      \"column\": \"label\",\n      \"properties\": {\n        \"dtype\": \"category\",\n        \"num_unique_values\": 3,\n        \"samples\": [\n          \"Description\",\n          \"Misc-exposition\",\n          \"Nomenclature\"\n        ],\n        \"semantic_type\": \"\",\n        \"description\": \"\"\n      }\n    },\n    {\n      \"column\": \"filename\",\n      \"properties\": {\n        \"dtype\": \"number\",\n        \"std\": 0,\n        \"min\": 5,\n        \"max\": 5,\n        \"num_unique_values\": 1,\n        \"samples\": [\n          5\n        ],\n        \"semantic_type\": \"\",\n        \"description\": \"\"\n      }\n    },\n    {\n      \"column\": \"paragraph_number\",\n      \"properties\": {\n        \"dtype\": \"number\",\n        \"std\": 167,\n        \"min\": 6,\n        \"max\": 301,\n        \"num_unique_values\": 3,\n        \"samples\": [\n          17\n        ],\n        \"semantic_type\": \"\",\n        \"description\": \"\"\n      }\n    },\n    {\n      \"column\": \"page_number\",\n      \"properties\": {\n        \"dtype\": \"number\",\n        \"std\": 2,\n        \"min\": 4,\n        \"max\": 9,\n        \"num_unique_values\": 2,\n        \"samples\": [\n          9\n        ],\n        \"semantic_type\": \"\",\n        \"description\": \"\"\n      }\n    },\n    {\n      \"column\": \"empirical_page_number\",\n      \"properties\": {\n        \"dtype\": \"number\",\n        \"std\": 11,\n        \"min\": 5,\n        \"max\": 27,\n        \"num_unique_values\": 3,\n        \"samples\": [\n          13\n        ],\n        \"semantic_type\": \"\",\n        \"description\": \"\"\n      }\n    },\n    {\n      \"column\": \"line_number\",\n      \"properties\": {\n        \"dtype\": \"number\",\n        \"std\": 32,\n        \"min\": 6,\n        \"max\": 64,\n        \"num_unique_values\": 3,\n        \"samples\": [\n          11\n        ],\n        \"semantic_type\": \"\",\n        \"description\": \"\"\n      }\n    },\n    {\n      \"column\": \"body\",\n      \"properties\": {\n        \"dtype\": \"number\",\n        \"std\": 119,\n        \"min\": 6,\n        \"max\": 216,\n        \"num_unique_values\": 3,\n        \"samples\": [\n          12\n        ],\n        \"semantic_type\": \"\",\n        \"description\": \"\"\n      }\n    },\n    {\n      \"column\": \"label_code\",\n      \"properties\": {\n        \"dtype\": \"number\",\n        \"std\": 0,\n        \"min\": 1,\n        \"max\": 1,\n        \"num_unique_values\": 1,\n        \"samples\": [\n          1\n        ],\n        \"semantic_type\": \"\",\n        \"description\": \"\"\n      }\n    }\n  ]\n}"
            }
          },
          "metadata": {},
          "execution_count": 16
        }
      ]
    },
    {
      "cell_type": "code",
      "source": [
        "#load in library to open terminal inside google colab\n",
        "# !pip install  --cache-dir=$cache_path --target=$nb_path colab-xterm\n",
        "# %load_ext colabxterm\n"
      ],
      "metadata": {
        "id": "8Pg0ssXT274o"
      },
      "execution_count": 17,
      "outputs": []
    },
    {
      "cell_type": "code",
      "source": [
        "!ls /usr/local/lib/ollama"
      ],
      "metadata": {
        "colab": {
          "base_uri": "https://localhost:8080/"
        },
        "id": "C04SAEHlFs6S",
        "outputId": "2f9c963a-770b-474f-c703-ba94ccd70b79"
      },
      "execution_count": 31,
      "outputs": [
        {
          "output_type": "stream",
          "name": "stdout",
          "text": [
            "cuda_v11\t\t  libggml-cpu-haswell.so      libggml-cpu-sse42.so\n",
            "cuda_v12\t\t  libggml-cpu-icelake.so      libggml-cpu-x64.so\n",
            "libggml-base.so\t\t  libggml-cpu-sandybridge.so\n",
            "libggml-cpu-alderlake.so  libggml-cpu-skylakex.so\n"
          ]
        }
      ]
    },
    {
      "cell_type": "code",
      "source": [
        "import subprocess\n",
        "import time\n",
        "\n",
        "import ollama\n",
        "#open up terminal\n",
        "# %xterm\n",
        "#once open, first time do:\n",
        "if not os.path.exists(\"/usr/local/lib/ollama\"):\n",
        "  !curl https://ollama.ai/install.sh | sh\n",
        "ollama_server = subprocess.Popen([\"ollama\", \"serve\"])\n",
        "time.sleep(5)  # Let the server come all the way up.\n",
        "#then start the server with ollama serve &\n",
        "#first time also will need to pull in a ollama version using ollama pull mistral\n",
        "# preferred_model = 'gemma3:12b'\n",
        "preferred_model = 'mistral'\n",
        "found = False\n",
        "for _, l in ollama.list():\n",
        "  for m in l:\n",
        "    if m.model.startswith(preferred_model):\n",
        "      found = True\n",
        "      break\n",
        "if not found:\n",
        "  print(f\"Pulling model {preferred_model}\")\n",
        "  !ollama pull $preferred_model\n"
      ],
      "metadata": {
        "id": "4dYgPWsg3dHB"
      },
      "execution_count": 37,
      "outputs": []
    },
    {
      "cell_type": "code",
      "source": [
        "#check here if ollama has a version and can be used, will say model you pulled\n",
        "!ollama list\n",
        "# !ollama pull mistral\n",
        "# !ollama pull gemma3:12b"
      ],
      "metadata": {
        "id": "8h3pM0E51IbY",
        "outputId": "491ce85e-b326-4e42-aecb-3abed45dda66",
        "colab": {
          "base_uri": "https://localhost:8080/"
        }
      },
      "execution_count": 38,
      "outputs": [
        {
          "output_type": "stream",
          "name": "stdout",
          "text": [
            "NAME              ID              SIZE      MODIFIED       \n",
            "mistral:latest    f974a74358d6    4.1 GB    36 seconds ago    \n",
            "gemma3:12b        f4031aab637d    8.1 GB    19 hours ago      \n"
          ]
        }
      ]
    },
    {
      "cell_type": "code",
      "source": [],
      "metadata": {
        "id": "TksUL6vfSpWH"
      },
      "execution_count": 34,
      "outputs": []
    },
    {
      "cell_type": "code",
      "source": [
        "    import ollama\n",
        "\n",
        "    response = ollama.generate(\n",
        "        model=\"gemma3:12b\",\n",
        "        prompt=\"What is the capital of France?\"\n",
        "    )\n",
        "    print(response[\"response\"])"
      ],
      "metadata": {
        "id": "PSiIZYTiSouw",
        "outputId": "4818d6a9-9bb7-436e-e2db-790b2c990411",
        "colab": {
          "base_uri": "https://localhost:8080/",
          "height": 356
        }
      },
      "execution_count": 39,
      "outputs": [
        {
          "output_type": "error",
          "ename": "ResponseError",
          "evalue": "\"gemma3:12b\" does not support generate (status code: 400)",
          "traceback": [
            "\u001b[0;31m---------------------------------------------------------------------------\u001b[0m",
            "\u001b[0;31mResponseError\u001b[0m                             Traceback (most recent call last)",
            "\u001b[0;32m<ipython-input-39-f9c5faeca4a5>\u001b[0m in \u001b[0;36m<cell line: 0>\u001b[0;34m()\u001b[0m\n\u001b[1;32m      1\u001b[0m \u001b[0;32mimport\u001b[0m \u001b[0mollama\u001b[0m\u001b[0;34m\u001b[0m\u001b[0;34m\u001b[0m\u001b[0m\n\u001b[1;32m      2\u001b[0m \u001b[0;34m\u001b[0m\u001b[0m\n\u001b[0;32m----> 3\u001b[0;31m response = ollama.generate(\n\u001b[0m\u001b[1;32m      4\u001b[0m     \u001b[0mmodel\u001b[0m\u001b[0;34m=\u001b[0m\u001b[0;34m\"gemma3:12b\"\u001b[0m\u001b[0;34m,\u001b[0m\u001b[0;34m\u001b[0m\u001b[0;34m\u001b[0m\u001b[0m\n\u001b[1;32m      5\u001b[0m     \u001b[0mprompt\u001b[0m\u001b[0;34m=\u001b[0m\u001b[0;34m\"What is the capital of France?\"\u001b[0m\u001b[0;34m\u001b[0m\u001b[0;34m\u001b[0m\u001b[0m\n",
            "\u001b[0;32m/content/packages/ollama/_client.py\u001b[0m in \u001b[0;36mgenerate\u001b[0;34m(self, model, prompt, suffix, system, template, context, stream, raw, format, images, options, keep_alive)\u001b[0m\n\u001b[1;32m    240\u001b[0m     \"\"\"\n\u001b[1;32m    241\u001b[0m \u001b[0;34m\u001b[0m\u001b[0m\n\u001b[0;32m--> 242\u001b[0;31m     return self._request(\n\u001b[0m\u001b[1;32m    243\u001b[0m       \u001b[0mGenerateResponse\u001b[0m\u001b[0;34m,\u001b[0m\u001b[0;34m\u001b[0m\u001b[0;34m\u001b[0m\u001b[0m\n\u001b[1;32m    244\u001b[0m       \u001b[0;34m'POST'\u001b[0m\u001b[0;34m,\u001b[0m\u001b[0;34m\u001b[0m\u001b[0;34m\u001b[0m\u001b[0m\n",
            "\u001b[0;32m/content/packages/ollama/_client.py\u001b[0m in \u001b[0;36m_request\u001b[0;34m(self, cls, stream, *args, **kwargs)\u001b[0m\n\u001b[1;32m    176\u001b[0m       \u001b[0;32mreturn\u001b[0m \u001b[0minner\u001b[0m\u001b[0;34m(\u001b[0m\u001b[0;34m)\u001b[0m\u001b[0;34m\u001b[0m\u001b[0;34m\u001b[0m\u001b[0m\n\u001b[1;32m    177\u001b[0m \u001b[0;34m\u001b[0m\u001b[0m\n\u001b[0;32m--> 178\u001b[0;31m     \u001b[0;32mreturn\u001b[0m \u001b[0mcls\u001b[0m\u001b[0;34m(\u001b[0m\u001b[0;34m**\u001b[0m\u001b[0mself\u001b[0m\u001b[0;34m.\u001b[0m\u001b[0m_request_raw\u001b[0m\u001b[0;34m(\u001b[0m\u001b[0;34m*\u001b[0m\u001b[0margs\u001b[0m\u001b[0;34m,\u001b[0m \u001b[0;34m**\u001b[0m\u001b[0mkwargs\u001b[0m\u001b[0;34m)\u001b[0m\u001b[0;34m.\u001b[0m\u001b[0mjson\u001b[0m\u001b[0;34m(\u001b[0m\u001b[0;34m)\u001b[0m\u001b[0;34m)\u001b[0m\u001b[0;34m\u001b[0m\u001b[0;34m\u001b[0m\u001b[0m\n\u001b[0m\u001b[1;32m    179\u001b[0m \u001b[0;34m\u001b[0m\u001b[0m\n\u001b[1;32m    180\u001b[0m   \u001b[0;34m@\u001b[0m\u001b[0moverload\u001b[0m\u001b[0;34m\u001b[0m\u001b[0;34m\u001b[0m\u001b[0m\n",
            "\u001b[0;32m/content/packages/ollama/_client.py\u001b[0m in \u001b[0;36m_request_raw\u001b[0;34m(self, *args, **kwargs)\u001b[0m\n\u001b[1;32m    120\u001b[0m       \u001b[0;32mreturn\u001b[0m \u001b[0mr\u001b[0m\u001b[0;34m\u001b[0m\u001b[0;34m\u001b[0m\u001b[0m\n\u001b[1;32m    121\u001b[0m     \u001b[0;32mexcept\u001b[0m \u001b[0mhttpx\u001b[0m\u001b[0;34m.\u001b[0m\u001b[0mHTTPStatusError\u001b[0m \u001b[0;32mas\u001b[0m \u001b[0me\u001b[0m\u001b[0;34m:\u001b[0m\u001b[0;34m\u001b[0m\u001b[0;34m\u001b[0m\u001b[0m\n\u001b[0;32m--> 122\u001b[0;31m       \u001b[0;32mraise\u001b[0m \u001b[0mResponseError\u001b[0m\u001b[0;34m(\u001b[0m\u001b[0me\u001b[0m\u001b[0;34m.\u001b[0m\u001b[0mresponse\u001b[0m\u001b[0;34m.\u001b[0m\u001b[0mtext\u001b[0m\u001b[0;34m,\u001b[0m \u001b[0me\u001b[0m\u001b[0;34m.\u001b[0m\u001b[0mresponse\u001b[0m\u001b[0;34m.\u001b[0m\u001b[0mstatus_code\u001b[0m\u001b[0;34m)\u001b[0m \u001b[0;32mfrom\u001b[0m \u001b[0;32mNone\u001b[0m\u001b[0;34m\u001b[0m\u001b[0;34m\u001b[0m\u001b[0m\n\u001b[0m\u001b[1;32m    123\u001b[0m     \u001b[0;32mexcept\u001b[0m \u001b[0mhttpx\u001b[0m\u001b[0;34m.\u001b[0m\u001b[0mConnectError\u001b[0m\u001b[0;34m:\u001b[0m\u001b[0;34m\u001b[0m\u001b[0;34m\u001b[0m\u001b[0m\n\u001b[1;32m    124\u001b[0m       \u001b[0;32mraise\u001b[0m \u001b[0mConnectionError\u001b[0m\u001b[0;34m(\u001b[0m\u001b[0mCONNECTION_ERROR_MESSAGE\u001b[0m\u001b[0;34m)\u001b[0m \u001b[0;32mfrom\u001b[0m \u001b[0;32mNone\u001b[0m\u001b[0;34m\u001b[0m\u001b[0;34m\u001b[0m\u001b[0m\n",
            "\u001b[0;31mResponseError\u001b[0m: \"gemma3:12b\" does not support generate (status code: 400)"
          ]
        }
      ]
    },
    {
      "cell_type": "code",
      "source": [
        "#test if ollama call works\n",
        "import ollama\n",
        "response = ollama.generate(model=preferred_model, prompt='Why is the sky blue?')\n",
        "print(response['response'])"
      ],
      "metadata": {
        "id": "n9l04Xgx1Vmv",
        "outputId": "2241f95f-e8f7-4568-8664-5c7823d879a8",
        "colab": {
          "base_uri": "https://localhost:8080/"
        }
      },
      "execution_count": 40,
      "outputs": [
        {
          "output_type": "stream",
          "name": "stdout",
          "text": [
            " The sky appears blue due to a process called Rayleigh scattering. As sunlight reaches Earth, it is made up of different colors, each of which are different wavelengths of light. Shorter wavelengths, such as blue and violet, scatter more easily than longer ones, like red and yellow, because they have smaller wavelengths and more energetic photons.\n",
            "\n",
            "The molecules in the Earth's atmosphere mainly consist of nitrogen and oxygen, which are mostly diatomic (two atoms bonded together). These molecules scatter shorter-wavelength light much more than longer-wavelength light. When we look up at the sky, we see a blend of scattered blue and violet light that our eyes perceive as blue because humans are more sensitive to blue light and violet light has already been largely absorbed by the ozone layer before it reaches us.\n",
            "\n",
            "However, it's important to note that the sky may appear different colors at sunrise or sunset due to a separate phenomenon called scattering by dust, clouds, or molecules in the atmosphere. During these times, longer wavelengths of light, like red and yellow, are scattered more efficiently because the sunlight must pass through more of Earth's atmosphere, allowing us to witness beautiful sunrises and sunsets!\n"
          ]
        }
      ]
    },
    {
      "cell_type": "code",
      "source": [
        "grouped = group_paragraphs(relabeled)\n",
        "for i, tax in enumerate(grouped):\n",
        "  if i > 10:\n",
        "    break\n",
        "  print(f'Send to LLM:\\n\\n{tax.as_row()[\"description\"]}')\n",
        "  #sample message to turn data into json format\n",
        "  response = ollama.chat(model=preferred_model, messages=[{\n",
        "     'role': 'user',\n",
        "     'content': f'Please extract features, subfeatures, and values from the following species description. Format the response as json:\\n{tax.as_row()[\"description\"]}',},\n",
        "  ])\n",
        "  print('Result:')\n",
        "  print(response['message']['content'])"
      ],
      "metadata": {
        "colab": {
          "base_uri": "https://localhost:8080/"
        },
        "id": "UHO9EXYTiLD9",
        "outputId": "1b8af43b-c5c8-4ced-f39b-7ff4810dbb79"
      },
      "execution_count": 42,
      "outputs": [
        {
          "output_type": "stream",
          "name": "stdout",
          "text": [
            "Send to LLM:\n",
            "\n",
            "Basidiomata medium to large, ﬂeshy. Pileus 80 to 110 mm in diameter,\n",
            "subglobose or hemispherical when young, and becoming convex to applanate\n",
            "at maturity; pellicle brown (6E8) to coﬀee (6E5-6) or chocolate brown (6E5,\n",
            "6F5), thin to thick when young and somewhat brown to grayish brown (7E35) at maturity; the remaining surface covered with grayish brown (7E3-5)\n",
            "to vinaceous brown (6D8, 8E8) squamules, together with numerous, small,\n",
            "revolute and loosely ﬂoccose, brown squamules; context up to 9 mm thick\n",
            "in the center of the pileus, white, instantly turning reddish with exposure.\n",
            "Lamellae 47 × 10 mm, free and remote from stipe, white to dirty white when\n",
            "young, olive brown when mature, becoming red brown after bruising, crowded\n",
            "with lamellulae, margin entire, concolorous. Stipe 80−121 × (28−)31−47(−61)\n",
            "mm, central, subcylindrical, solid but ﬁstulose in aged specimens; surface dirty\n",
            "white to white at the apex, light brown to brown toward the base, glabrous\n",
            "above the annulus, lower half densely covered with minute, brown, furfuraceous\n",
            "squamules. Annulus present on the upper part of the stipe but not the top, up\n",
            "to 18 mm, thick and membranous and remaining up to the maturity, sometimes\n",
            "detached from the stipe when dry, adaxial part glabrous with ﬁne longitudinal\n",
            "striation but abaxial part rough with squamules. Volva present, grayish, dirty\n",
            "white to white, membranous, usually closely appressed to stipe and eventually\n",
            "inconspicuous. Spore deposit not obtained.\n",
            "Basidia 18−26 × 6−9 µm, mostly clavate to subclavate, thin-walled,\n",
            "tetrasporic (occasionally 2- or 3-spored), bearing four short sterigmata, 1.1−2.3\n",
            "× 0.8−1.2 µm, hyaline, smooth, lacking incrustations, clamp connection absent.\n",
            "Basidioles narrowly clavate to clavate. Hymenophoral trama interwoven,\n",
            "hyphae cylindrical to slightly inﬂated, up to 14 µm wide, thin-walled, hyaline, and\n",
            "without clamp connections. Basidiospores (Figs 3, 6−7) (5.0−)5.52−5.96(−6.8)\n",
            "× (3.4−)3.81−3.98(−4.3) µm, mean Q = (1.38−)1.42−1.54(−1.7), ovoid, sometimes\n",
            "broadly ellipsoid to ellipsoid, glabrous, thick-walled (up to 0.6 µm), apiculus\n",
            "\n",
            "\n",
            "\n",
            "\n",
            "\n",
            "\n",
            "\n",
            "\n",
            "\n",
            "\n",
            "\n",
            "eccentric, apex or germinating pore prominent and truncate with slightly\n",
            "depressed, olive brown to dark, umber brown in deposit and maintaining the\n",
            "same color after desiccation for 1.5 years at room temperature, dextrinoid\n",
            "in Melzer’s solution, not metachromatic in Cresyl blue. Cheilocystidia\n",
            "24−32 × 10−16 µm, abundant, scattered to more or less crowded, narrowly\n",
            "clavate, clavate to broadly clavate, obpyriform, hyaline, thin-walled, smooth,\n",
            "lacking incrustations, sometimes long pedicel and narrow up to 3.4 µm.\n",
            "Pleurocystidia absent. Pileipellis consisting of short branching chains of\n",
            "4−7 cells, slightly interwoven, terminal cells 12−22.5 × 8−14 µm, dull brown\n",
            "vacuolar pigment inside the cells in glycerin, water and 5% KOH solutions,\n",
            "thin-walled, clavate, cylindrical, obpyriform to fusiform or spindle-shaped in\n",
            "rare cases, occasionally branching with lateral cells that are mostly clavate, basal\n",
            "cells nearly subglobose to clavate or cylindrical.\n",
            "\n",
            "Result:\n",
            " {\n",
            "      \"Species_Description\": {\n",
            "         \"Basidiomata\": [\"medium to large\", \"80 to 110 mm in diameter\", \"subglobose or hemispherical when young\", \"convex to applanate at maturity\"],\n",
            "         \"Pileus_Subfeatures\": [\n",
            "            {\"Color\": [\"brown (6E8)\", \"coffee (6E5-6)\", \"chocolate brown (6E5, 6F5)\", \"grayish brown (7E35)\", \"vinaceous brown (6D8, 8E8)\"],\n",
            "             \"Squamules\": [\"present\", \"grayish brown (7E3-5) to vinaceous brown (6D8, 8E8)\", \"numerous\", \"revolute and loosely floccose\", \"brown\"],\n",
            "             \"Context\": [\"up to 9 mm thick in the center of the pileus\", \"white\", \"instantly turning reddish with exposure\"]},\n",
            "         \"Lamellae_Subfeatures\": [\n",
            "            {\"Size\": \"47 × 10 mm\", \"Shape\": \"free and remote from stipe\", \"Color\": [\"white to dirty white when young\", \"olive brown when mature\", \"red brown after bruising\"],\n",
            "             \"Crowdedness\": \"crowded with lamellulae\", \"Margin\": [\"entire\"], \"Concolority\": [\"concolorous\"]},\n",
            "         ],\n",
            "         \"Stipe_Subfeatures\": [\n",
            "            {\"Size\": \"80-121 × (28−)31−47(−61) mm\", \"Shape\": \"central, subcylindrical\", \"State\": [\"solid but ﬁstulose in aged specimens\"],\n",
            "             \"Surface_Apex\": [\"dirty white to white at the apex\"],\n",
            "             \"Surface_Base\": [\"light brown to brown toward the base\"],\n",
            "             \"Covering\": [\"glabrous above the annulus\", \"lower half densely covered with minute, brown, furfuraceous squamules\"],\n",
            "             \"Annulus\": [\"present on the upper part of the stipe but not the top\", \"up to 18 mm\", \"thick and membranous\", \"remaining up to the maturity\", \"sometimes detached from the stipe when dry\", \"adaxial part glabrous with fine longitudinal striation but abaxial part rough with squamules\"],\n",
            "             \"Volva\": [\"present\", \"grayish, dirty white to white\", \"membranous\", \"usually closely appressed to stipe and eventually inconspicuous\"]},\n",
            "         ],\n",
            "         \"Spore_Deposit\": \"not obtained\",\n",
            "         \"Basidia\": [\n",
            "            {\"Size\": \"18−26 × 6−9 µm\", \"Shape\": [\"clavate to subclavate\"], \"Wall\": [\"thin-walled\"],\n",
            "             \"Sporation\": [\"tetrasporic (occasionally 2- or 3-spored)\"], \"Sterigma\": [\"bearing four short sterigmata\"],\n",
            "             \"Color\": [\"hyaline\"], \"Surface\": [\"smooth\", \"lacking incrustations\"], \"Clamp_Connection\": \"absent\"],\n",
            "         ],\n",
            "         \"Basidioles\": [\"narrowly clavate to clavate\"],\n",
            "         \"Hymenophoral_Trama\": [\"interwoven\"],\n",
            "         \"Basidiospores\": [\n",
            "            {\"Size\": [\"(5.0−)5.52−5.96(−6.8) × (3.4−)3.81−3.98(−4.3) µm\"],\n",
            "             \"Shape\": [\"oid\", \"sometimes broadly ellipsoid to ellipsoid\"],\n",
            "             \"Wall_Thickness\": [\"up to 0.6 µm\"],\n",
            "             \"Apiculus\": [\"eccentric\", \"apex or germinating pore prominent and truncate\"],\n",
            "             \"Color\": [\"olive brown to dark, umber brown in deposit and maintaining the same color after desiccation for 1.5 years at room temperature\"],\n",
            "             \"Melzer's_Solution\": [\"dextrinoid\"], \"Cresyl_blue\": [\"not metachromatic\"]},\n",
            "         ],\n",
            "         \"Cheilocystidia\": [\n",
            "            {\"Size\": \"24−32 × 10−16 µm\", \"Shape\": [\"narrowly clavate\", \"clavate to broadly clavate\", \"obpyriform\"],\n",
            "             \"Color\": [\"hyaline\"], \"Wall\": [\"thin-walled\"], \"Surface\": [\"smooth\"], \"Lacking_Incrustations\": \"true\", \"Pedicel\": [\"sometimes long pedicel and narrow up to 3.4 µm\"]},\n",
            "         ],\n",
            "         \"Pleurocystidia\": [\"absent\"],\n",
            "         \"Pileipellis\": [\n",
            "            {\"Structure\": [\"consisting of short branching chains of 4−7 cells\"],\n",
            "             \"Interweaving\": [\"slightly interwoven\"],\n",
            "             \"Terminal_Cells\": [{\"Size\": \"12−22.5 × 8−14 µm\"}, {\"Color\": [\"dull brown vacuolar pigment inside the cells in glycerin, water and 5% KOH solutions\"]},\n",
            "             \"Shape\": [\"clavate\", \"cylindrical\", \"obpyriform to fusiform or spindle-shaped in rare cases\"],\n",
            "             \"Branching\": [\"occasionally branching with lateral cells that are mostly clavate\"],\n",
            "             \"Basal_Cells\": [\"basal cells nearly subglobose to clavate or cylindrical\"]}],\n",
            "      }\n",
            "   }\n",
            "Send to LLM:\n",
            "\n",
            "Ascomata 20–40 mm long, irregularly clavate, lanceolate or spathulate and\n",
            "consisting of a sterile zone (stipe) at the bottom and a fertile zone (hymenium)\n",
            "\n",
            "on the top; fertile zone 9–18 mm long, 3–8 mm wide, yellow to bright yellowish,\n",
            "smooth, sometimes longitudinally subplicate, with margin entire or slightly\n",
            "irregularly lobate; sterile zone 10–22 mm long, 2–4 mm wide at the fertile zone,\n",
            "pubescent or tomentose, whitish or pale yellow (Fig. 1A).\n",
            "Asci 55–75 µm long, 4–5.5 µm wide above, 3–3.5 µm wide below, cylindrical\n",
            "to cylindrical-clavate, 8-spored. Paraphyses absent. Ascospores uniseriate,\n",
            "unicellular, 5.5–8 × 3–4 µm, reniform, ellipsoid or ovoid, hyaline, smooth.\n",
            "Phialoconidia not found associated with ascospores.\n",
            "\n",
            "Result:\n",
            " {\n",
            "      \"Ascomata\": {\n",
            "         \"Shape\": [\"20-40 mm long\", \"irregularly clavate\", \"lanceolate\", \"spathulate\"],\n",
            "         \"Structure\": [\"consisting of a sterile zone (stipe) at the bottom and a fertile zone (hymenium) on the top\"]\n",
            "      },\n",
            "      \"Fertile Zone (Hymenium)\": {\n",
            "         \"Length\": [\"9-18 mm long\"],\n",
            "         \"Width\": [\"3-8 mm wide\"],\n",
            "         \"Color\": [\"yellow\", \"bright yellowish\"],\n",
            "         \"Texture\": [\"smooth\", \"sometimes longitudinally subplicate\"],\n",
            "         \"Margin\": [\"entire\", \"irregularly lobate\"]\n",
            "      },\n",
            "      \"Sterile Zone (Stipe)\": {\n",
            "         \"Length\": [\"10-22 mm long\"],\n",
            "         \"Width\": [\"2-4 mm wide at the fertile zone\"],\n",
            "         \"Texture\": [\"pubescent or tomentose\"],\n",
            "         \"Color\": [\"whitish\", \"pale yellow\"]\n",
            "      },\n",
            "      \"Asci\": {\n",
            "         \"Length\": [\"55–75 µm long\"],\n",
            "         \"Width\": [\"4–5.5 µm wide above\", \"3–3.5 µm wide below\"],\n",
            "         \"Shape\": [\"cylindrical to cylindrical-clavate\"],\n",
            "         \"Spore Count\": [\"8-spored\"],\n",
            "         \"Paraphyses\": [\"absent\"]\n",
            "      },\n",
            "      \"Ascospores\": {\n",
            "         \"Form\": [\"uniseriate\", \"unicellular\", \"reniform, ellipsoid or ovoid\"],\n",
            "         \"Size\": [\"5.5–8 × 3–4 µm\"],\n",
            "         \"Color\": [\"hyaline\"],\n",
            "         \"Texture\": [\"smooth\"]\n",
            "      },\n",
            "      \"Phialoconidia\": {\n",
            "         \"Association with Ascospores\": [\"not found associated with ascospores\"]\n",
            "      }\n",
            "   }\n",
            "Send to LLM:\n",
            "\n",
            "Pileo 60–220 mm lato, hemispherico, dein planoconvexo, planoconcavo, glutinoso,\n",
            "roseobrunneo, cum KOH purpureobrunneo, margine involuto. Lamellis emarginatis,\n",
            "caesiis dein ﬂavidis, purpureobrunneis, in statu senili. Stipite 50–140 mm longo, cylindrico,\n",
            "bulbo marginato, 30–50 mm lato. Velo universale roseobrunneo. Velo partiale copioso,\n",
            "ﬂavido. Carne caesio dein albido. Sapore miti. Sporis 10–13 × 6–7 µm, amygdaliformibus,\n",
            "verrucosis, basidiis 28–42 × 8–9 µm, tetrasporigeris, ﬁbulis praesentibus.\n",
            "\n",
            "Stature pileocarpous bulbopodium. Pileus 60–220 mm diam., hemispherical\n",
            "to convex when young, plano-convex to plano-concave at age; margin involute\n",
            "then straight; colors intense, mostly reddish to orange brown on the disk,\n",
            "varying from carmine brown to rose brown (10R 3/6–4/8), paler on the margin,\n",
            "copper brown to sulphur yellow (10R 6/8–7.5YR 7/8); surface very glutinous\n",
            "when wet, glabrous to dull glossy when dry. Lamellae crowded, 10–22 mm\n",
            "broad, blue (GLEY2 6/10G–8/10G) at ﬁrst, turning olive (5Y 6/4–8/4) then\n",
            "yellowish clay (5Y 8/6–8/8) with purplish tinges, then purplish brown as the\n",
            "spores mature; edge even; attachment sinuate; lamellulae abundant. Stipe\n",
            "50–140 mm long, 15–30 mm wide, cylindrical to subclavate above the bulb,\n",
            "pale yellow, with rose brown streaks from universal veil. Bulb 30–80 mm diam\n",
            "at the widest point, well-developed, abruptly emarginate, tapering below, rose\n",
            "to purplish brown around margin; the subterrestrial part with a pale to sulphur\n",
            "yellow cottony mycelial felt and rhizomorphs. Universal Veil rose to purplish\n",
            "brown, leaving copious remnants on the pileus and bulb margin. Cortina\n",
            "yellow, leaving an annular zone of dense ﬁbrils on the stipe. Context white to\n",
            "bluish at ﬁrst, paling to white at maturity with yellow tinges in the bulb. Odor\n",
            "earthy. Taste mild, earthy. Macrochemical Reactions 5% KOH strong and\n",
            "complex, dark purple red on the pileus; on the context pale olive at ﬁrst, soon\n",
            "lilac on pileus context, strongly purplish on bulb context and paler on stipe\n",
            "context. Spore Deposit deep rusty brown.\n",
            "Basidiospores (9.5–)10.5–13.2(–15.5) × (5.7–)6.2–7.2(–7.8) µm (mean 11.5\n",
            "× 6.7 µm), Q = 1.61–1.78, Qav = 1.72 (N = 178, 7 basidiomata, four collections),\n",
            "amygdaliform, some with apical papilla, strongly verrucose. Basidia 28–42\n",
            "× 8–9 µm, 4-spored, cylindro-clavate, clamped. Gill edge sparsely fertile.\n",
            "\n",
            "\n",
            "\n",
            "\n",
            "\n",
            "\n",
            "\n",
            "Cystidia not observed. Pileipellis an ixocutis, simplex, no hypodermium\n",
            "detected, composed of parallel to interwoven hyphae in a dense gelatinous\n",
            "matrix 230–300 µm thick, made up of 4–12 µm wide, irregular hyphae, with\n",
            "greenish to purplish intracellular pigment when mounted in 5% KOH. No\n",
            "distinct reactions to Melzer’s reagent were observed. Clamp connections\n",
            "common in all parts.\n",
            "\n",
            "Result:\n",
            " {\n",
            "     \"Species\": \"Pileo\",\n",
            "     \"Stature\": \"pileocarpous bulbopodium\",\n",
            "     \"Pileus\": {\n",
            "       \"Shape\": [\"hemispherical\", \"convex\", \"plano-convex\", \"plano-concave\"],\n",
            "       \"Size\": [\"60–220 mm diam.\"],\n",
            "       \"Color\": [\n",
            "         {\"HexCode\": \"10R 3/6–4/8\", \"Description\": \"intense, mostly reddish to orange brown on the disk\"},\n",
            "         {\"HexCode\": \"10R 6/8–7.5YR 7/8\", \"Description\": \"paler on the margin, copper brown to sulphur yellow\"}\n",
            "       ],\n",
            "       \"Surface_Properties\": [\n",
            "         \"very glutinous when wet\",\n",
            "         \"glabrous to dull glossy when dry\"\n",
            "       ],\n",
            "       \"Other_Features\": [\n",
            "         \"margin involute then straight\"\n",
            "       ]\n",
            "     },\n",
            "     \"Lamellae\": {\n",
            "       \"Crowdedness\": \"crowded\",\n",
            "       \"Width\": [\"10–22 mm\"],\n",
            "       \"Color_Stages\": [\n",
            "         {\"HexCode\": \"GLEY2 6/10G–8/10G\", \"Description\": \"blue at first\"},\n",
            "         {\"HexCode\": \"5Y 6/4–8/4\", \"Description\": \"turning olive then yellowish clay\"},\n",
            "         {\"HexCode\": \"5Y 8/6–8/8\", \"Description\": \"with purplish tinges, then purplish brown as the spores mature\"}\n",
            "       ],\n",
            "       \"Edge\": [\"even\"],\n",
            "       \"Attachment\": [\"sinuate\"],\n",
            "       \"Lamellulae\": [\"abundant\"]\n",
            "     },\n",
            "     \"Stipe\": {\n",
            "       \"Length\": [\"50–140 mm long\", \"15–30 mm wide\"],\n",
            "       \"Shape\": [\"cylindrical to subclavate above the bulb\"],\n",
            "       \"Color_Stages\": [\n",
            "         {\"HexCode\": \"pale yellow, with rose brown streaks from universal veil\"}\n",
            "       ],\n",
            "       \"Base\": {\n",
            "         \"Diameter\": [\"30–80 mm diam at the widest point\"],\n",
            "         \"Shape\": [\"well-developed\", \"abruptly emarginate\", \"tapering below\"],\n",
            "         \"Color\": [\"rose to purplish brown around margin\"]\n",
            "       }\n",
            "     },\n",
            "     \"Universal_Veil\": {\n",
            "       \"Color\": [\"rose to purplish brown\"],\n",
            "       \"Presence_on\": [\"leaving copious remnants on the pileus and bulb margin\"]\n",
            "     },\n",
            "     \"Cortina\": {\"Color\": [\"yellow\"], \"Effect\": [\"leaving an annular zone of dense fibers on the stipe\"]},\n",
            "     \"Context\": {\n",
            "       \"White_to_Bluish\": true,\n",
            "       \"Maturity_Color\": [\"white at maturity with yellow tinges in the bulb\"],\n",
            "       \"Odor\": [\"earthy\"],\n",
            "       \"Taste\": [\"mild, earthy\"]\n",
            "     },\n",
            "     \"Macrochemical_Reactions\": {\n",
            "       \"5%_KOH\": {\n",
            "         \"Pileus\": {\"Description\": \"dark purple red\"},\n",
            "         \"Context\": {\n",
            "           \"First_Color\": \"pale olive\",\n",
            "           \"Maturity_Colors\": [\n",
            "             {\"Location\": \"pileus context\", \"HexCode\": \"lilac on pileus context, strongly purplish\"},\n",
            "             {\"Location\": \"bulb context\", \"HexCode\": \"strongly purplish\"},\n",
            "             {\"Location\": \"stipe context\", \"HexCode\": \"paler\"}\n",
            "           ]\n",
            "         }\n",
            "       },\n",
            "     \"Sporal_Features\": {\n",
            "       \"Size\": [\"(9.5–)10.5–13.2(–15.5)\", \"(5.7–)6.2–7.2(–7.8)\"],\n",
            "       \"Shape\": \"amygdaliform\",\n",
            "       \"Ornamentation\": [\"strongly verrucose\"],\n",
            "       \"Basidia\": {\n",
            "         \"Size\": [\"28–42 × 8–9 µm\"],\n",
            "         \"Number_of_Spores\": \"4-spored\",\n",
            "         \"Shape\": [\"cylindro-clavate\"],\n",
            "         \"Clamp_Connections\": true\n",
            "       }\n",
            "     },\n",
            "     \"Pileipellis\": {\n",
            "       \"Structure\": \"ixocutis, simplex\",\n",
            "       \"Thickness\": [\"230–300 µm thick\"],\n",
            "       \"Hyphae\": [\n",
            "         {\"Width\": \"4–12 µm\", \"Shape\": \"irregular\"},\n",
            "         {\"Presence_of_Pigment\": true, \"Color_with_KOH\": \"greenish to purplish\"}\n",
            "       ],\n",
            "       \"Reaction_to_Melzer’s_reagent\": false\n",
            "     }\n",
            "   }\n",
            "Send to LLM:\n",
            "\n",
            "Diﬀert a Pseudocercospora odontoglossi conidiphoris non ramosae et brevioribus, 10–57\n",
            "× 2–6 µm; conidiis brevioribus 11–86 × 1–3 µm.\n",
            "\n",
            "Result:\n",
            " {\n",
            "      \"Species\": \"Pseudocercospora odontoglossi\",\n",
            "      \"Subfeatures\": [\n",
            "         {\n",
            "            \"Feature\": \"Conidiophore\",\n",
            "            \"Value\": [\n",
            "               \"Non ramosae (not branched)\",\n",
            "               \"Brevioribus (shorter)\",\n",
            "               \"10–57 × 2–6 µm\"\n",
            "            ]\n",
            "         },\n",
            "         {\n",
            "            \"Feature\": \"Conidia\",\n",
            "            \"Value\": [\n",
            "               \"Brevioribus (shorter)\",\n",
            "               \"11–86 × 1–3 µm\"\n",
            "            ]\n",
            "         }\n",
            "      ]\n",
            "   }\n"
          ]
        }
      ]
    },
    {
      "cell_type": "markdown",
      "source": [],
      "metadata": {
        "id": "0tXbuuIFVo9A"
      }
    }
  ],
  "metadata": {
    "colab": {
      "provenance": [],
      "gpuType": "A100",
      "machine_shape": "hm",
      "include_colab_link": true
    },
    "kernelspec": {
      "display_name": "Python 3",
      "name": "python3"
    },
    "language_info": {
      "name": "python"
    },
    "accelerator": "GPU"
  },
  "nbformat": 4,
  "nbformat_minor": 0
}