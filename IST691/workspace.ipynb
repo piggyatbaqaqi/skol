{
  "cells": [
    {
      "cell_type": "markdown",
      "metadata": {
        "id": "view-in-github",
        "colab_type": "text"
      },
      "source": [
        "<a href=\"https://colab.research.google.com/github/piggyatbaqaqi/skol/blob/master/IST691/workspace.ipynb\" target=\"_parent\"><img src=\"https://colab.research.google.com/assets/colab-badge.svg\" alt=\"Open In Colab\"/></a>"
      ]
    },
    {
      "cell_type": "markdown",
      "source": [
        "# SKOL III: Feature extraction\n",
        "\n",
        "created by:\n",
        "* La Monte Yarroll\n",
        "* Padmaja Kurmaddali\n",
        "* Patrick Le"
      ],
      "metadata": {
        "id": "vdUfyeOEulxm"
      }
    },
    {
      "cell_type": "markdown",
      "metadata": {
        "id": "tn6VsuAXrh7D"
      },
      "source": [
        "# **Mapping Data Files: Google Drive**"
      ]
    },
    {
      "cell_type": "code",
      "execution_count": 2,
      "metadata": {
        "colab": {
          "base_uri": "https://localhost:8080/"
        },
        "id": "r5jGKzUfrwaV",
        "outputId": "b8a5eb24-5f8b-48b2-cac5-b2009140153e"
      },
      "outputs": [
        {
          "output_type": "stream",
          "name": "stdout",
          "text": [
            "/content\n",
            "Mounted at /content/drive\n"
          ]
        }
      ],
      "source": [
        "import os, sys\n",
        "from pathlib import Path\n",
        "from google.colab import drive\n",
        "%cd /content\n",
        "content = Path('/content')\n",
        "skol = content / 'drive/My Drive/SKOL'\n",
        "piggyatbaqaqi = skol / 'github.com/piggyatbaqaqi'\n",
        "drive.mount(str(content / \"drive\"), force_remount=True)\n",
        "cache_path = content / 'cache'\n",
        "ollama_cache_path = content / 'ollama_cache'\n",
        "nb_path = content / 'packages'\n",
        "if not os.path.exists(nb_path):\n",
        "  nb_path.symlink_to(skol / 'packages')\n",
        "skol_client = content / 'skol'\n",
        "if not os.path.exists(skol_client):\n",
        "  skol_client.symlink_to(piggyatbaqaqi / 'skol')\n",
        "if not os.path.exists(cache_path):\n",
        "  cache_path.symlink_to(skol / 'pip_cache')\n",
        "if not os.path.exists(ollama_cache_path):\n",
        "  ollama_cache_path.symlink_to(skol / 'ollama_cache')\n",
        "os.environ['OLLAMA_MODELS'] = str(ollama_cache_path)\n",
        "sys.path.insert(0, str(nb_path))\n",
        "sys.path.insert(0, str(piggyatbaqaqi / 'skol'))"
      ]
    },
    {
      "cell_type": "code",
      "source": [
        "!ls -l /content/\n",
        "!file /content\n",
        "print(sys.path)"
      ],
      "metadata": {
        "colab": {
          "base_uri": "https://localhost:8080/"
        },
        "id": "6CsjgFhE-A3s",
        "outputId": "85cff105-7f93-41ac-9489-35f457651216"
      },
      "execution_count": 3,
      "outputs": [
        {
          "output_type": "stream",
          "name": "stdout",
          "text": [
            "total 8\n",
            "lrwxrwxrwx 1 root root   38 May 19 00:58 cache -> '/content/drive/My Drive/SKOL/pip_cache'\n",
            "drwx------ 6 root root 4096 May 19 00:58 drive\n",
            "lrwxrwxrwx 1 root root   41 May 19 00:58 ollama_cache -> '/content/drive/My Drive/SKOL/ollama_cache'\n",
            "lrwxrwxrwx 1 root root   37 May 19 00:58 packages -> '/content/drive/My Drive/SKOL/packages'\n",
            "drwxr-xr-x 1 root root 4096 May 14 13:32 sample_data\n",
            "lrwxrwxrwx 1 root root   58 May 19 00:58 skol -> '/content/drive/My Drive/SKOL/github.com/piggyatbaqaqi/skol'\n",
            "/content: directory\n",
            "['/content/drive/My Drive/SKOL/github.com/piggyatbaqaqi/skol', '/content/packages', '/content', '/env/python', '/usr/lib/python311.zip', '/usr/lib/python3.11', '/usr/lib/python3.11/lib-dynload', '', '/usr/local/lib/python3.11/dist-packages', '/usr/lib/python3/dist-packages', '/usr/local/lib/python3.11/dist-packages/IPython/extensions', '/root/.ipython', '/usr/local/lib/python3.11/dist-packages/setuptools/_vendor']\n"
          ]
        }
      ]
    },
    {
      "cell_type": "markdown",
      "source": [
        "## Set up git clients"
      ],
      "metadata": {
        "id": "7cAPsvOTUUKh"
      }
    },
    {
      "cell_type": "code",
      "source": [
        "if not os.path.exists(piggyatbaqaqi):\n",
        "  %mkdir -p $piggyatbaqaqi\n",
        "if not os.path.exists(piggyatbaqaqi / 'skol'):\n",
        "  %cd $piggyatbaqaqi\n",
        "  !git clone https://github.com/piggyatbaqaqi/skol.git\n",
        "sys.path.insert(0, piggyatbaqaqi / 'skol')\n",
        "if not os.path.exists(piggyatbaqaqi / 'dr-drafts-mycosearch'):\n",
        "  %cd $piggyatbaqaqi\n",
        "  !git clone https://github.com/piggyatbaqaqi/dr-drafts-mycosearch.git\n",
        "workdir = skol / 'IST691'\n",
        "%cd $workdir"
      ],
      "metadata": {
        "colab": {
          "base_uri": "https://localhost:8080/"
        },
        "id": "jtP_WaRJDT3U",
        "outputId": "00bea76b-2553-4b3b-edba-2e42d3b95d89"
      },
      "execution_count": 4,
      "outputs": [
        {
          "output_type": "stream",
          "name": "stdout",
          "text": [
            "/content/drive/.shortcut-targets-by-id/1oRBBGLhTLr9k0-7Qy5rCh8TSd-zhH2mz/SKOL/IST691\n"
          ]
        }
      ]
    },
    {
      "cell_type": "code",
      "execution_count": 5,
      "metadata": {
        "id": "5tda4LKZUtUu",
        "colab": {
          "base_uri": "https://localhost:8080/",
          "height": 1000
        },
        "outputId": "f28d8864-12d7-4c94-812f-85d6131e1bdb"
      },
      "outputs": [
        {
          "output_type": "stream",
          "name": "stdout",
          "text": [
            "Collecting pyspark\n",
            "  Using cached pyspark-3.5.5-py2.py3-none-any.whl\n",
            "Collecting py4j==0.10.9.7 (from pyspark)\n",
            "  Using cached py4j-0.10.9.7-py2.py3-none-any.whl.metadata (1.5 kB)\n",
            "Using cached py4j-0.10.9.7-py2.py3-none-any.whl (200 kB)\n",
            "Installing collected packages: py4j, pyspark\n",
            "Successfully installed py4j-0.10.9.7 pyspark-3.5.5\n",
            "Collecting sparknlp\n",
            "  Using cached sparknlp-1.0.0-py3-none-any.whl.metadata (1.2 kB)\n",
            "Collecting spark-nlp (from sparknlp)\n",
            "  Using cached spark_nlp-6.0.1-py2.py3-none-any.whl.metadata (19 kB)\n",
            "Collecting numpy (from sparknlp)\n",
            "  Using cached numpy-2.2.6-cp311-cp311-manylinux_2_17_x86_64.manylinux2014_x86_64.whl.metadata (62 kB)\n",
            "Using cached sparknlp-1.0.0-py3-none-any.whl (1.4 kB)\n",
            "Using cached numpy-2.2.6-cp311-cp311-manylinux_2_17_x86_64.manylinux2014_x86_64.whl (16.8 MB)\n",
            "Using cached spark_nlp-6.0.1-py2.py3-none-any.whl (697 kB)\n",
            "Installing collected packages: spark-nlp, numpy, sparknlp\n",
            "Successfully installed numpy-2.2.6 spark-nlp-6.0.1 sparknlp-1.0.0\n",
            "Collecting ollama\n",
            "  Downloading ollama-0.4.8-py3-none-any.whl.metadata (4.7 kB)\n",
            "Collecting httpx<0.29,>=0.27 (from ollama)\n",
            "  Downloading httpx-0.28.1-py3-none-any.whl.metadata (7.1 kB)\n",
            "Collecting pydantic<3.0.0,>=2.9.0 (from ollama)\n",
            "  Downloading pydantic-2.11.4-py3-none-any.whl.metadata (66 kB)\n",
            "\u001b[2K     \u001b[90m━━━━━━━━━━━━━━━━━━━━━━━━━━━━━━━━━━━━━━━\u001b[0m \u001b[32m66.6/66.6 kB\u001b[0m \u001b[31m809.2 kB/s\u001b[0m eta \u001b[36m0:00:00\u001b[0m\n",
            "\u001b[?25hCollecting anyio (from httpx<0.29,>=0.27->ollama)\n",
            "  Downloading anyio-4.9.0-py3-none-any.whl.metadata (4.7 kB)\n",
            "Collecting certifi (from httpx<0.29,>=0.27->ollama)\n",
            "  Downloading certifi-2025.4.26-py3-none-any.whl.metadata (2.5 kB)\n",
            "Collecting httpcore==1.* (from httpx<0.29,>=0.27->ollama)\n",
            "  Downloading httpcore-1.0.9-py3-none-any.whl.metadata (21 kB)\n",
            "Collecting idna (from httpx<0.29,>=0.27->ollama)\n",
            "  Downloading idna-3.10-py3-none-any.whl.metadata (10 kB)\n",
            "Collecting h11>=0.16 (from httpcore==1.*->httpx<0.29,>=0.27->ollama)\n",
            "  Downloading h11-0.16.0-py3-none-any.whl.metadata (8.3 kB)\n",
            "Collecting annotated-types>=0.6.0 (from pydantic<3.0.0,>=2.9.0->ollama)\n",
            "  Downloading annotated_types-0.7.0-py3-none-any.whl.metadata (15 kB)\n",
            "Collecting pydantic-core==2.33.2 (from pydantic<3.0.0,>=2.9.0->ollama)\n",
            "  Downloading pydantic_core-2.33.2-cp311-cp311-manylinux_2_17_x86_64.manylinux2014_x86_64.whl.metadata (6.8 kB)\n",
            "Collecting typing-extensions>=4.12.2 (from pydantic<3.0.0,>=2.9.0->ollama)\n",
            "  Downloading typing_extensions-4.13.2-py3-none-any.whl.metadata (3.0 kB)\n",
            "Collecting typing-inspection>=0.4.0 (from pydantic<3.0.0,>=2.9.0->ollama)\n",
            "  Downloading typing_inspection-0.4.0-py3-none-any.whl.metadata (2.6 kB)\n",
            "Collecting sniffio>=1.1 (from anyio->httpx<0.29,>=0.27->ollama)\n",
            "  Downloading sniffio-1.3.1-py3-none-any.whl.metadata (3.9 kB)\n",
            "Downloading ollama-0.4.8-py3-none-any.whl (13 kB)\n",
            "Downloading httpx-0.28.1-py3-none-any.whl (73 kB)\n",
            "\u001b[2K   \u001b[90m━━━━━━━━━━━━━━━━━━━━━━━━━━━━━━━━━━━━━━━━\u001b[0m \u001b[32m73.5/73.5 kB\u001b[0m \u001b[31m2.2 MB/s\u001b[0m eta \u001b[36m0:00:00\u001b[0m\n",
            "\u001b[?25hDownloading httpcore-1.0.9-py3-none-any.whl (78 kB)\n",
            "\u001b[2K   \u001b[90m━━━━━━━━━━━━━━━━━━━━━━━━━━━━━━━━━━━━━━━━\u001b[0m \u001b[32m78.8/78.8 kB\u001b[0m \u001b[31m3.6 MB/s\u001b[0m eta \u001b[36m0:00:00\u001b[0m\n",
            "\u001b[?25hDownloading pydantic-2.11.4-py3-none-any.whl (443 kB)\n",
            "\u001b[2K   \u001b[90m━━━━━━━━━━━━━━━━━━━━━━━━━━━━━━━━━━━━━━━━\u001b[0m \u001b[32m443.9/443.9 kB\u001b[0m \u001b[31m7.1 MB/s\u001b[0m eta \u001b[36m0:00:00\u001b[0m\n",
            "\u001b[?25hDownloading pydantic_core-2.33.2-cp311-cp311-manylinux_2_17_x86_64.manylinux2014_x86_64.whl (2.0 MB)\n",
            "\u001b[2K   \u001b[90m━━━━━━━━━━━━━━━━━━━━━━━━━━━━━━━━━━━━━━━━\u001b[0m \u001b[32m2.0/2.0 MB\u001b[0m \u001b[31m45.1 MB/s\u001b[0m eta \u001b[36m0:00:00\u001b[0m\n",
            "\u001b[?25hDownloading annotated_types-0.7.0-py3-none-any.whl (13 kB)\n",
            "Downloading typing_extensions-4.13.2-py3-none-any.whl (45 kB)\n",
            "\u001b[2K   \u001b[90m━━━━━━━━━━━━━━━━━━━━━━━━━━━━━━━━━━━━━━━━\u001b[0m \u001b[32m45.8/45.8 kB\u001b[0m \u001b[31m1.8 MB/s\u001b[0m eta \u001b[36m0:00:00\u001b[0m\n",
            "\u001b[?25hDownloading typing_inspection-0.4.0-py3-none-any.whl (14 kB)\n",
            "Downloading anyio-4.9.0-py3-none-any.whl (100 kB)\n",
            "\u001b[2K   \u001b[90m━━━━━━━━━━━━━━━━━━━━━━━━━━━━━━━━━━━━━━━━\u001b[0m \u001b[32m100.9/100.9 kB\u001b[0m \u001b[31m4.8 MB/s\u001b[0m eta \u001b[36m0:00:00\u001b[0m\n",
            "\u001b[?25hDownloading idna-3.10-py3-none-any.whl (70 kB)\n",
            "\u001b[2K   \u001b[90m━━━━━━━━━━━━━━━━━━━━━━━━━━━━━━━━━━━━━━━━\u001b[0m \u001b[32m70.4/70.4 kB\u001b[0m \u001b[31m3.5 MB/s\u001b[0m eta \u001b[36m0:00:00\u001b[0m\n",
            "\u001b[?25hDownloading certifi-2025.4.26-py3-none-any.whl (159 kB)\n",
            "\u001b[2K   \u001b[90m━━━━━━━━━━━━━━━━━━━━━━━━━━━━━━━━━━━━━━━━\u001b[0m \u001b[32m159.6/159.6 kB\u001b[0m \u001b[31m8.3 MB/s\u001b[0m eta \u001b[36m0:00:00\u001b[0m\n",
            "\u001b[?25hDownloading h11-0.16.0-py3-none-any.whl (37 kB)\n",
            "Downloading sniffio-1.3.1-py3-none-any.whl (10 kB)\n",
            "Installing collected packages: typing-extensions, sniffio, idna, h11, certifi, annotated-types, typing-inspection, pydantic-core, httpcore, anyio, pydantic, httpx, ollama\n",
            "Successfully installed annotated-types-0.7.0 anyio-4.9.0 certifi-2025.4.26 h11-0.16.0 httpcore-1.0.9 httpx-0.28.1 idna-3.10 ollama-0.4.8 pydantic-2.11.4 pydantic-core-2.33.2 sniffio-1.3.1 typing-extensions-4.13.2 typing-inspection-0.4.0\n"
          ]
        },
        {
          "output_type": "display_data",
          "data": {
            "application/vnd.colab-display-data+json": {
              "pip_warning": {
                "packages": [
                  "certifi"
                ]
              },
              "id": "7f084f09e4134e78a9835f1d6254bbfb"
            }
          },
          "metadata": {}
        }
      ],
      "source": [
        "# install PySpark\n",
        "! pip install --cache-dir=$cache_path --target=$nb_path --upgrade pyspark\n",
        "! pip install --cache-dir=$cache_path --target=$nb_path --upgrade sparknlp ollama"
      ]
    },
    {
      "cell_type": "code",
      "execution_count": 6,
      "metadata": {
        "id": "IeMBGpu8rYXf"
      },
      "outputs": [],
      "source": [
        "#import needed modules\n",
        "import os\n",
        "import glob\n",
        "from typing import List\n",
        "from pathlib import Path\n",
        "import random\n",
        "\n",
        "import numpy as np\n",
        "import pandas as pd\n",
        "import matplotlib.pyplot as plt\n",
        "import seaborn as sns\n",
        "\n",
        "import sparknlp\n",
        "from sparknlp.pretrained import PretrainedPipeline\n",
        "from pyspark.sql.functions import (\n",
        "    input_file_name, collect_list, concat_ws, col, udf,\n",
        "    explode, collect_list, regexp_extract, regexp_replace,\n",
        "    split, flatten, transform, concat)\n",
        "from pyspark.sql.types import ArrayType, StringType\n",
        "\n",
        "from pyspark.ml import Pipeline, Transformer\n",
        "from pyspark.ml.feature import (\n",
        "    Tokenizer, HashingTF, IDF, StringIndexer, CountVectorizer,\n",
        "    PCA, VectorAssembler)\n",
        "from pyspark.ml.classification import LogisticRegression, RandomForestClassifier, GBTClassifier\n",
        "from pyspark.ml.evaluation import MulticlassClassificationEvaluator\n",
        "from pyspark.sql.functions import split, row_number, min, expr, struct\n",
        "from pyspark.ml.linalg import Vectors, VectorUDT, DenseVector\n",
        "from pyspark.sql.types import DoubleType, StructField, StructType"
      ]
    },
    {
      "cell_type": "markdown",
      "source": [
        "SKOL Data manipulation library"
      ],
      "metadata": {
        "id": "uXgY1VO8Sw_q"
      }
    },
    {
      "cell_type": "code",
      "source": [
        "from finder import read_files, parse_annotated, target_classes\n",
        "from label import Label\n",
        "from taxon import Taxon, group_paragraphs\n",
        "\n",
        "SEED=12345\n",
        "default_label = Label('Misc-exposition')\n",
        "keep_labels = [Label('Description'), Label('Nomenclature')]"
      ],
      "metadata": {
        "id": "BIoHo7jTRMwG"
      },
      "execution_count": 7,
      "outputs": []
    },
    {
      "cell_type": "markdown",
      "metadata": {
        "id": "YUT4tUcDu4qR"
      },
      "source": [
        "# **Checking the file counts in the directories**"
      ]
    },
    {
      "cell_type": "code",
      "execution_count": 8,
      "metadata": {
        "id": "oFPefKgUuAWv"
      },
      "outputs": [],
      "source": [
        "raw_directory_path = skol / 'raw_2025_02_05/'\n",
        "ann_directory_path = skol / 'annotated_2025_02_27/journals'"
      ]
    },
    {
      "cell_type": "markdown",
      "metadata": {
        "id": "puPtns5oiHJr"
      },
      "source": [
        "## Checking the file counts in the directories"
      ]
    },
    {
      "cell_type": "code",
      "execution_count": 9,
      "metadata": {
        "id": "bsnHqX23dsxV"
      },
      "outputs": [],
      "source": [
        "# Function that reports all the txt files under a Google Drive folder path\n",
        "def listFiles(folder: str) -> List[str]:\n",
        "  # List all files in the folder\n",
        "  try:\n",
        "      files = [file for file in glob.glob(f'{folder}/**/*.txt*', recursive=True) if 'Sydowia' not in file]\n",
        "      return files\n",
        "  except FileNotFoundError:\n",
        "      print(f\"Folder '{folder}' not found.\")\n",
        "  except PermissionError:\n",
        "      print(f\"Permission denied to access folder '{folder}'.\")"
      ]
    },
    {
      "cell_type": "code",
      "execution_count": 10,
      "metadata": {
        "colab": {
          "base_uri": "https://localhost:8080/"
        },
        "id": "85IAP2WKhQYp",
        "outputId": "32064378-9b70-472d-b371-3d141a8a9b9d"
      },
      "outputs": [
        {
          "output_type": "execute_result",
          "data": {
            "text/plain": [
              "['/content/drive/My Drive/SKOL/raw_2025_02_05/authors/FungalNameAuthors.txt',\n",
              " '/content/drive/My Drive/SKOL/raw_2025_02_05/Mycologia/3753420.txt',\n",
              " '/content/drive/My Drive/SKOL/raw_2025_02_05/Mycologia/3753372.txt',\n",
              " '/content/drive/My Drive/SKOL/raw_2025_02_05/Mycologia/3753466.txt',\n",
              " '/content/drive/My Drive/SKOL/raw_2025_02_05/Mycologia/3753104.txt',\n",
              " '/content/drive/My Drive/SKOL/raw_2025_02_05/Mycologia/3753322.txt',\n",
              " '/content/drive/My Drive/SKOL/raw_2025_02_05/Mycologia/mycologiaeuropa00persgoog.txt',\n",
              " '/content/drive/My Drive/SKOL/raw_2025_02_05/Mycologia/3753038.txt',\n",
              " '/content/drive/My Drive/SKOL/raw_2025_02_05/Mycologia/3753160.txt',\n",
              " '/content/drive/My Drive/SKOL/raw_2025_02_05/Mycologia/3753583.txt']"
            ]
          },
          "metadata": {},
          "execution_count": 10
        }
      ],
      "source": [
        "# check files in raw directory\n",
        "listFiles(raw_directory_path)[:10]"
      ]
    },
    {
      "cell_type": "code",
      "execution_count": 12,
      "metadata": {
        "colab": {
          "base_uri": "https://localhost:8080/"
        },
        "id": "aLYkfNVyR_lR",
        "outputId": "7d4e225c-e3e3-443a-f74f-9c7d5b09afab"
      },
      "outputs": [
        {
          "output_type": "execute_result",
          "data": {
            "text/plain": [
              "['/content/drive/My Drive/SKOL/annotated_2025_02_27/journals/Mycotaxon/Vol057/n1.txt.ann',\n",
              " '/content/drive/My Drive/SKOL/annotated_2025_02_27/journals/Mycotaxon/Vol054/n1.txt.ann',\n",
              " '/content/drive/My Drive/SKOL/annotated_2025_02_27/journals/Mycotaxon/Vol118/s17.txt.ann',\n",
              " '/content/drive/My Drive/SKOL/annotated_2025_02_27/journals/Mycotaxon/Vol118/s29.txt.ann',\n",
              " '/content/drive/My Drive/SKOL/annotated_2025_02_27/journals/Mycotaxon/Vol118/s30.txt.ann',\n",
              " '/content/drive/My Drive/SKOL/annotated_2025_02_27/journals/Mycotaxon/Vol118/s7.txt.ann',\n",
              " '/content/drive/My Drive/SKOL/annotated_2025_02_27/journals/Mycotaxon/Vol118/s21.txt.ann',\n",
              " '/content/drive/My Drive/SKOL/annotated_2025_02_27/journals/Mycotaxon/Vol118/s13.txt.ann',\n",
              " '/content/drive/My Drive/SKOL/annotated_2025_02_27/journals/Mycotaxon/Vol118/s1.txt.ann',\n",
              " '/content/drive/My Drive/SKOL/annotated_2025_02_27/journals/Mycotaxon/Vol118/s46.txt.ann']"
            ]
          },
          "metadata": {},
          "execution_count": 12
        }
      ],
      "source": [
        "# check files in annotated directory\n",
        "training_files = listFiles(ann_directory_path)\n",
        "training_files[:10]"
      ]
    },
    {
      "cell_type": "code",
      "execution_count": 13,
      "metadata": {
        "id": "zBswbvOcVmRo",
        "colab": {
          "base_uri": "https://localhost:8080/"
        },
        "outputId": "4981bb67-a36e-4a03-a42b-5722c850f37f"
      },
      "outputs": [
        {
          "output_type": "execute_result",
          "data": {
            "text/plain": [
              "190"
            ]
          },
          "metadata": {},
          "execution_count": 13
        }
      ],
      "source": [
        "len(training_files)"
      ]
    },
    {
      "cell_type": "code",
      "source": [
        "paragraphs = list(parse_annotated(read_files(random.sample(training_files, 5))))"
      ],
      "metadata": {
        "id": "T3MOeHDSaf_L"
      },
      "execution_count": 14,
      "outputs": []
    },
    {
      "cell_type": "code",
      "source": [
        "relabeled = list(target_classes(default=default_label, keep=keep_labels, paragraphs=paragraphs))"
      ],
      "metadata": {
        "id": "5v56N-_Gaj2V"
      },
      "execution_count": 15,
      "outputs": []
    },
    {
      "cell_type": "code",
      "source": [
        "print(f'len(relabeled): {len(relabeled)}')"
      ],
      "metadata": {
        "colab": {
          "base_uri": "https://localhost:8080/"
        },
        "id": "rZo29oZ-fpcs",
        "outputId": "cc5667d0-0b9b-46c2-ed17-30ac9a7dccbc"
      },
      "execution_count": 16,
      "outputs": [
        {
          "output_type": "stream",
          "name": "stdout",
          "text": [
            "len(relabeled): 702\n"
          ]
        }
      ]
    },
    {
      "cell_type": "code",
      "source": [
        "df = pd.DataFrame({\n",
        "    'filename': [pp.filename for pp in relabeled],\n",
        "    'label': [pp.top_label().label if pp.top_label() else None for pp in relabeled],\n",
        "    'paragraph_number': [pp.paragraph_number for pp in relabeled],\n",
        "    'page_number': [pp.page_number for pp in relabeled],\n",
        "    'empirical_page_number': [pp.empirical_page_number for pp in relabeled],\n",
        "    'line_number': [pp.first_line.line_number if pp.first_line else None for pp in relabeled],\n",
        "    'body': [str(pp) for pp in relabeled]\n",
        "})\n",
        "df.label = pd.Categorical(df.label)\n",
        "df['label_code'] = df.label.cat.codes"
      ],
      "metadata": {
        "id": "WefPFrKugSLT"
      },
      "execution_count": 17,
      "outputs": []
    },
    {
      "cell_type": "code",
      "source": [
        "df.groupby('label', observed=True).nunique()"
      ],
      "metadata": {
        "colab": {
          "base_uri": "https://localhost:8080/",
          "height": 212
        },
        "id": "sE7cRbJ-g2eA",
        "outputId": "9e291e2d-78fc-45c5-e73b-c9f3f4483111"
      },
      "execution_count": 18,
      "outputs": [
        {
          "output_type": "execute_result",
          "data": {
            "text/plain": [
              "                 filename  paragraph_number  page_number  \\\n",
              "label                                                      \n",
              "Description             5                19            9   \n",
              "Misc-exposition         5               651           18   \n",
              "Nomenclature            5                32            8   \n",
              "\n",
              "                 empirical_page_number  line_number  body  label_code  \n",
              "label                                                                  \n",
              "Description                         12           15    19           1  \n",
              "Misc-exposition                     39           53   449           1  \n",
              "Nomenclature                        11           22    32           1  "
            ],
            "text/html": [
              "\n",
              "  <div id=\"df-20807b0b-84e6-4826-9d6e-b2a44011c320\" class=\"colab-df-container\">\n",
              "    <div>\n",
              "<style scoped>\n",
              "    .dataframe tbody tr th:only-of-type {\n",
              "        vertical-align: middle;\n",
              "    }\n",
              "\n",
              "    .dataframe tbody tr th {\n",
              "        vertical-align: top;\n",
              "    }\n",
              "\n",
              "    .dataframe thead th {\n",
              "        text-align: right;\n",
              "    }\n",
              "</style>\n",
              "<table border=\"1\" class=\"dataframe\">\n",
              "  <thead>\n",
              "    <tr style=\"text-align: right;\">\n",
              "      <th></th>\n",
              "      <th>filename</th>\n",
              "      <th>paragraph_number</th>\n",
              "      <th>page_number</th>\n",
              "      <th>empirical_page_number</th>\n",
              "      <th>line_number</th>\n",
              "      <th>body</th>\n",
              "      <th>label_code</th>\n",
              "    </tr>\n",
              "    <tr>\n",
              "      <th>label</th>\n",
              "      <th></th>\n",
              "      <th></th>\n",
              "      <th></th>\n",
              "      <th></th>\n",
              "      <th></th>\n",
              "      <th></th>\n",
              "      <th></th>\n",
              "    </tr>\n",
              "  </thead>\n",
              "  <tbody>\n",
              "    <tr>\n",
              "      <th>Description</th>\n",
              "      <td>5</td>\n",
              "      <td>19</td>\n",
              "      <td>9</td>\n",
              "      <td>12</td>\n",
              "      <td>15</td>\n",
              "      <td>19</td>\n",
              "      <td>1</td>\n",
              "    </tr>\n",
              "    <tr>\n",
              "      <th>Misc-exposition</th>\n",
              "      <td>5</td>\n",
              "      <td>651</td>\n",
              "      <td>18</td>\n",
              "      <td>39</td>\n",
              "      <td>53</td>\n",
              "      <td>449</td>\n",
              "      <td>1</td>\n",
              "    </tr>\n",
              "    <tr>\n",
              "      <th>Nomenclature</th>\n",
              "      <td>5</td>\n",
              "      <td>32</td>\n",
              "      <td>8</td>\n",
              "      <td>11</td>\n",
              "      <td>22</td>\n",
              "      <td>32</td>\n",
              "      <td>1</td>\n",
              "    </tr>\n",
              "  </tbody>\n",
              "</table>\n",
              "</div>\n",
              "    <div class=\"colab-df-buttons\">\n",
              "\n",
              "  <div class=\"colab-df-container\">\n",
              "    <button class=\"colab-df-convert\" onclick=\"convertToInteractive('df-20807b0b-84e6-4826-9d6e-b2a44011c320')\"\n",
              "            title=\"Convert this dataframe to an interactive table.\"\n",
              "            style=\"display:none;\">\n",
              "\n",
              "  <svg xmlns=\"http://www.w3.org/2000/svg\" height=\"24px\" viewBox=\"0 -960 960 960\">\n",
              "    <path d=\"M120-120v-720h720v720H120Zm60-500h600v-160H180v160Zm220 220h160v-160H400v160Zm0 220h160v-160H400v160ZM180-400h160v-160H180v160Zm440 0h160v-160H620v160ZM180-180h160v-160H180v160Zm440 0h160v-160H620v160Z\"/>\n",
              "  </svg>\n",
              "    </button>\n",
              "\n",
              "  <style>\n",
              "    .colab-df-container {\n",
              "      display:flex;\n",
              "      gap: 12px;\n",
              "    }\n",
              "\n",
              "    .colab-df-convert {\n",
              "      background-color: #E8F0FE;\n",
              "      border: none;\n",
              "      border-radius: 50%;\n",
              "      cursor: pointer;\n",
              "      display: none;\n",
              "      fill: #1967D2;\n",
              "      height: 32px;\n",
              "      padding: 0 0 0 0;\n",
              "      width: 32px;\n",
              "    }\n",
              "\n",
              "    .colab-df-convert:hover {\n",
              "      background-color: #E2EBFA;\n",
              "      box-shadow: 0px 1px 2px rgba(60, 64, 67, 0.3), 0px 1px 3px 1px rgba(60, 64, 67, 0.15);\n",
              "      fill: #174EA6;\n",
              "    }\n",
              "\n",
              "    .colab-df-buttons div {\n",
              "      margin-bottom: 4px;\n",
              "    }\n",
              "\n",
              "    [theme=dark] .colab-df-convert {\n",
              "      background-color: #3B4455;\n",
              "      fill: #D2E3FC;\n",
              "    }\n",
              "\n",
              "    [theme=dark] .colab-df-convert:hover {\n",
              "      background-color: #434B5C;\n",
              "      box-shadow: 0px 1px 3px 1px rgba(0, 0, 0, 0.15);\n",
              "      filter: drop-shadow(0px 1px 2px rgba(0, 0, 0, 0.3));\n",
              "      fill: #FFFFFF;\n",
              "    }\n",
              "  </style>\n",
              "\n",
              "    <script>\n",
              "      const buttonEl =\n",
              "        document.querySelector('#df-20807b0b-84e6-4826-9d6e-b2a44011c320 button.colab-df-convert');\n",
              "      buttonEl.style.display =\n",
              "        google.colab.kernel.accessAllowed ? 'block' : 'none';\n",
              "\n",
              "      async function convertToInteractive(key) {\n",
              "        const element = document.querySelector('#df-20807b0b-84e6-4826-9d6e-b2a44011c320');\n",
              "        const dataTable =\n",
              "          await google.colab.kernel.invokeFunction('convertToInteractive',\n",
              "                                                    [key], {});\n",
              "        if (!dataTable) return;\n",
              "\n",
              "        const docLinkHtml = 'Like what you see? Visit the ' +\n",
              "          '<a target=\"_blank\" href=https://colab.research.google.com/notebooks/data_table.ipynb>data table notebook</a>'\n",
              "          + ' to learn more about interactive tables.';\n",
              "        element.innerHTML = '';\n",
              "        dataTable['output_type'] = 'display_data';\n",
              "        await google.colab.output.renderOutput(dataTable, element);\n",
              "        const docLink = document.createElement('div');\n",
              "        docLink.innerHTML = docLinkHtml;\n",
              "        element.appendChild(docLink);\n",
              "      }\n",
              "    </script>\n",
              "  </div>\n",
              "\n",
              "\n",
              "    <div id=\"df-10bbb5a6-e30f-47b2-af8d-eba851130b77\">\n",
              "      <button class=\"colab-df-quickchart\" onclick=\"quickchart('df-10bbb5a6-e30f-47b2-af8d-eba851130b77')\"\n",
              "                title=\"Suggest charts\"\n",
              "                style=\"display:none;\">\n",
              "\n",
              "<svg xmlns=\"http://www.w3.org/2000/svg\" height=\"24px\"viewBox=\"0 0 24 24\"\n",
              "     width=\"24px\">\n",
              "    <g>\n",
              "        <path d=\"M19 3H5c-1.1 0-2 .9-2 2v14c0 1.1.9 2 2 2h14c1.1 0 2-.9 2-2V5c0-1.1-.9-2-2-2zM9 17H7v-7h2v7zm4 0h-2V7h2v10zm4 0h-2v-4h2v4z\"/>\n",
              "    </g>\n",
              "</svg>\n",
              "      </button>\n",
              "\n",
              "<style>\n",
              "  .colab-df-quickchart {\n",
              "      --bg-color: #E8F0FE;\n",
              "      --fill-color: #1967D2;\n",
              "      --hover-bg-color: #E2EBFA;\n",
              "      --hover-fill-color: #174EA6;\n",
              "      --disabled-fill-color: #AAA;\n",
              "      --disabled-bg-color: #DDD;\n",
              "  }\n",
              "\n",
              "  [theme=dark] .colab-df-quickchart {\n",
              "      --bg-color: #3B4455;\n",
              "      --fill-color: #D2E3FC;\n",
              "      --hover-bg-color: #434B5C;\n",
              "      --hover-fill-color: #FFFFFF;\n",
              "      --disabled-bg-color: #3B4455;\n",
              "      --disabled-fill-color: #666;\n",
              "  }\n",
              "\n",
              "  .colab-df-quickchart {\n",
              "    background-color: var(--bg-color);\n",
              "    border: none;\n",
              "    border-radius: 50%;\n",
              "    cursor: pointer;\n",
              "    display: none;\n",
              "    fill: var(--fill-color);\n",
              "    height: 32px;\n",
              "    padding: 0;\n",
              "    width: 32px;\n",
              "  }\n",
              "\n",
              "  .colab-df-quickchart:hover {\n",
              "    background-color: var(--hover-bg-color);\n",
              "    box-shadow: 0 1px 2px rgba(60, 64, 67, 0.3), 0 1px 3px 1px rgba(60, 64, 67, 0.15);\n",
              "    fill: var(--button-hover-fill-color);\n",
              "  }\n",
              "\n",
              "  .colab-df-quickchart-complete:disabled,\n",
              "  .colab-df-quickchart-complete:disabled:hover {\n",
              "    background-color: var(--disabled-bg-color);\n",
              "    fill: var(--disabled-fill-color);\n",
              "    box-shadow: none;\n",
              "  }\n",
              "\n",
              "  .colab-df-spinner {\n",
              "    border: 2px solid var(--fill-color);\n",
              "    border-color: transparent;\n",
              "    border-bottom-color: var(--fill-color);\n",
              "    animation:\n",
              "      spin 1s steps(1) infinite;\n",
              "  }\n",
              "\n",
              "  @keyframes spin {\n",
              "    0% {\n",
              "      border-color: transparent;\n",
              "      border-bottom-color: var(--fill-color);\n",
              "      border-left-color: var(--fill-color);\n",
              "    }\n",
              "    20% {\n",
              "      border-color: transparent;\n",
              "      border-left-color: var(--fill-color);\n",
              "      border-top-color: var(--fill-color);\n",
              "    }\n",
              "    30% {\n",
              "      border-color: transparent;\n",
              "      border-left-color: var(--fill-color);\n",
              "      border-top-color: var(--fill-color);\n",
              "      border-right-color: var(--fill-color);\n",
              "    }\n",
              "    40% {\n",
              "      border-color: transparent;\n",
              "      border-right-color: var(--fill-color);\n",
              "      border-top-color: var(--fill-color);\n",
              "    }\n",
              "    60% {\n",
              "      border-color: transparent;\n",
              "      border-right-color: var(--fill-color);\n",
              "    }\n",
              "    80% {\n",
              "      border-color: transparent;\n",
              "      border-right-color: var(--fill-color);\n",
              "      border-bottom-color: var(--fill-color);\n",
              "    }\n",
              "    90% {\n",
              "      border-color: transparent;\n",
              "      border-bottom-color: var(--fill-color);\n",
              "    }\n",
              "  }\n",
              "</style>\n",
              "\n",
              "      <script>\n",
              "        async function quickchart(key) {\n",
              "          const quickchartButtonEl =\n",
              "            document.querySelector('#' + key + ' button');\n",
              "          quickchartButtonEl.disabled = true;  // To prevent multiple clicks.\n",
              "          quickchartButtonEl.classList.add('colab-df-spinner');\n",
              "          try {\n",
              "            const charts = await google.colab.kernel.invokeFunction(\n",
              "                'suggestCharts', [key], {});\n",
              "          } catch (error) {\n",
              "            console.error('Error during call to suggestCharts:', error);\n",
              "          }\n",
              "          quickchartButtonEl.classList.remove('colab-df-spinner');\n",
              "          quickchartButtonEl.classList.add('colab-df-quickchart-complete');\n",
              "        }\n",
              "        (() => {\n",
              "          let quickchartButtonEl =\n",
              "            document.querySelector('#df-10bbb5a6-e30f-47b2-af8d-eba851130b77 button');\n",
              "          quickchartButtonEl.style.display =\n",
              "            google.colab.kernel.accessAllowed ? 'block' : 'none';\n",
              "        })();\n",
              "      </script>\n",
              "    </div>\n",
              "\n",
              "    </div>\n",
              "  </div>\n"
            ],
            "application/vnd.google.colaboratory.intrinsic+json": {
              "type": "dataframe",
              "summary": "{\n  \"name\": \"df\",\n  \"rows\": 3,\n  \"fields\": [\n    {\n      \"column\": \"label\",\n      \"properties\": {\n        \"dtype\": \"category\",\n        \"num_unique_values\": 3,\n        \"samples\": [\n          \"Description\",\n          \"Misc-exposition\",\n          \"Nomenclature\"\n        ],\n        \"semantic_type\": \"\",\n        \"description\": \"\"\n      }\n    },\n    {\n      \"column\": \"filename\",\n      \"properties\": {\n        \"dtype\": \"number\",\n        \"std\": 0,\n        \"min\": 5,\n        \"max\": 5,\n        \"num_unique_values\": 1,\n        \"samples\": [\n          5\n        ],\n        \"semantic_type\": \"\",\n        \"description\": \"\"\n      }\n    },\n    {\n      \"column\": \"paragraph_number\",\n      \"properties\": {\n        \"dtype\": \"number\",\n        \"std\": 361,\n        \"min\": 19,\n        \"max\": 651,\n        \"num_unique_values\": 3,\n        \"samples\": [\n          19\n        ],\n        \"semantic_type\": \"\",\n        \"description\": \"\"\n      }\n    },\n    {\n      \"column\": \"page_number\",\n      \"properties\": {\n        \"dtype\": \"number\",\n        \"std\": 5,\n        \"min\": 8,\n        \"max\": 18,\n        \"num_unique_values\": 3,\n        \"samples\": [\n          9\n        ],\n        \"semantic_type\": \"\",\n        \"description\": \"\"\n      }\n    },\n    {\n      \"column\": \"empirical_page_number\",\n      \"properties\": {\n        \"dtype\": \"number\",\n        \"std\": 15,\n        \"min\": 11,\n        \"max\": 39,\n        \"num_unique_values\": 3,\n        \"samples\": [\n          12\n        ],\n        \"semantic_type\": \"\",\n        \"description\": \"\"\n      }\n    },\n    {\n      \"column\": \"line_number\",\n      \"properties\": {\n        \"dtype\": \"number\",\n        \"std\": 20,\n        \"min\": 15,\n        \"max\": 53,\n        \"num_unique_values\": 3,\n        \"samples\": [\n          15\n        ],\n        \"semantic_type\": \"\",\n        \"description\": \"\"\n      }\n    },\n    {\n      \"column\": \"body\",\n      \"properties\": {\n        \"dtype\": \"number\",\n        \"std\": 244,\n        \"min\": 19,\n        \"max\": 449,\n        \"num_unique_values\": 3,\n        \"samples\": [\n          19\n        ],\n        \"semantic_type\": \"\",\n        \"description\": \"\"\n      }\n    },\n    {\n      \"column\": \"label_code\",\n      \"properties\": {\n        \"dtype\": \"number\",\n        \"std\": 0,\n        \"min\": 1,\n        \"max\": 1,\n        \"num_unique_values\": 1,\n        \"samples\": [\n          1\n        ],\n        \"semantic_type\": \"\",\n        \"description\": \"\"\n      }\n    }\n  ]\n}"
            }
          },
          "metadata": {},
          "execution_count": 18
        }
      ]
    },
    {
      "cell_type": "code",
      "source": [
        "#load in library to open terminal inside google colab\n",
        "# !pip install  --cache-dir=$cache_path --target=$nb_path colab-xterm\n",
        "# %load_ext colabxterm\n"
      ],
      "metadata": {
        "id": "8Pg0ssXT274o"
      },
      "execution_count": 19,
      "outputs": []
    },
    {
      "cell_type": "code",
      "source": [
        "!ls /usr/local/lib/ollama"
      ],
      "metadata": {
        "id": "C04SAEHlFs6S",
        "outputId": "3f59c7c0-5196-4339-fdfe-f709deb8192b",
        "colab": {
          "base_uri": "https://localhost:8080/"
        }
      },
      "execution_count": 24,
      "outputs": [
        {
          "output_type": "stream",
          "name": "stdout",
          "text": [
            "cuda_v11\t\t  libggml-cpu-haswell.so      libggml-cpu-sse42.so\n",
            "cuda_v12\t\t  libggml-cpu-icelake.so      libggml-cpu-x64.so\n",
            "libggml-base.so\t\t  libggml-cpu-sandybridge.so\n",
            "libggml-cpu-alderlake.so  libggml-cpu-skylakex.so\n"
          ]
        }
      ]
    },
    {
      "cell_type": "code",
      "source": [
        "import subprocess\n",
        "import time\n",
        "\n",
        "import ollama\n",
        "#open up terminal\n",
        "# %xterm\n",
        "#once open, first time do:\n",
        "if not os.path.exists(\"/usr/local/lib/ollama\"):\n",
        "  !curl https://ollama.ai/install.sh | sh\n",
        "ollama_server = subprocess.Popen([\"ollama\", \"serve\"])\n",
        "time.sleep(5)  # Let the server come all the way up.\n",
        "#then start the server with ollama serve &\n",
        "#first time also will need to pull in a ollama version using ollama pull mistral\n",
        "# preferred_model 'gema3:12b'\n",
        "preferred_model 'mistral'\n",
        "found = False\n",
        "for _, l in ollama.list():\n",
        "  for m in l:\n",
        "    if m.model == preferred_model:\n",
        "      found = True\n",
        "      break\n",
        "if not found:\n",
        "  !ollama pull $preferred_model\n"
      ],
      "metadata": {
        "id": "4dYgPWsg3dHB",
        "outputId": "fd96e711-1c57-4c50-d470-5d37f14d7457",
        "colab": {
          "base_uri": "https://localhost:8080/"
        }
      },
      "execution_count": 27,
      "outputs": [
        {
          "output_type": "stream",
          "name": "stdout",
          "text": [
            "\u001b[?2026h\u001b[?25l\u001b[1G\u001b[?25h\u001b[?2026l\u001b[?2026h\u001b[?25l\u001b[1G\u001b[?25h\u001b[?2026l\u001b[?2026h\u001b[?25l\u001b[1G\u001b[?25h\u001b[?2026l\n"
          ]
        }
      ]
    },
    {
      "cell_type": "code",
      "source": [
        "#check here if ollama has a version and can be used, will say model you pulled\n",
        "!ollama list\n",
        "!ollama pull mistral"
      ],
      "metadata": {
        "id": "8h3pM0E51IbY",
        "outputId": "24237024-f8c4-43c7-f7ee-9e543cdd1f7d",
        "colab": {
          "base_uri": "https://localhost:8080/"
        }
      },
      "execution_count": 30,
      "outputs": [
        {
          "output_type": "stream",
          "name": "stdout",
          "text": [
            "Error: could not connect to ollama app, is it running?\n",
            "Error: could not connect to ollama app, is it running?\n"
          ]
        }
      ]
    },
    {
      "cell_type": "code",
      "source": [
        "#test if ollama call works\n",
        "import ollama\n",
        "response = ollama.chat(model='gemma3:12b', messages=[{\n",
        "     'role': 'user',\n",
        "     'content': 'Why is the sky blue?',},\n",
        "])\n",
        "print(response['message']['content'])"
      ],
      "metadata": {
        "id": "n9l04Xgx1Vmv",
        "outputId": "c07a57c5-dc54-4e4a-c3ad-839378a16787",
        "colab": {
          "base_uri": "https://localhost:8080/",
          "height": 356
        }
      },
      "execution_count": 29,
      "outputs": [
        {
          "output_type": "error",
          "ename": "KeyboardInterrupt",
          "evalue": "",
          "traceback": [
            "\u001b[0;31m---------------------------------------------------------------------------\u001b[0m",
            "\u001b[0;31mKeyboardInterrupt\u001b[0m                         Traceback (most recent call last)",
            "\u001b[0;32m<ipython-input-29-6f8345a01af9>\u001b[0m in \u001b[0;36m<cell line: 0>\u001b[0;34m()\u001b[0m\n\u001b[1;32m      1\u001b[0m \u001b[0;31m#test if ollama call works\u001b[0m\u001b[0;34m\u001b[0m\u001b[0;34m\u001b[0m\u001b[0m\n\u001b[1;32m      2\u001b[0m \u001b[0;32mimport\u001b[0m \u001b[0mollama\u001b[0m\u001b[0;34m\u001b[0m\u001b[0;34m\u001b[0m\u001b[0m\n\u001b[0;32m----> 3\u001b[0;31m response = ollama.chat(model='gemma3:12b', messages=[{\n\u001b[0m\u001b[1;32m      4\u001b[0m      \u001b[0;34m'role'\u001b[0m\u001b[0;34m:\u001b[0m \u001b[0;34m'user'\u001b[0m\u001b[0;34m,\u001b[0m\u001b[0;34m\u001b[0m\u001b[0;34m\u001b[0m\u001b[0m\n\u001b[1;32m      5\u001b[0m      'content': 'Why is the sky blue?',},\n",
            "\u001b[0;32m/content/packages/ollama/_client.py\u001b[0m in \u001b[0;36mchat\u001b[0;34m(self, model, messages, tools, stream, format, options, keep_alive)\u001b[0m\n\u001b[1;32m    331\u001b[0m     \u001b[0mReturns\u001b[0m\u001b[0;31m \u001b[0m\u001b[0;31m`\u001b[0m\u001b[0mChatResponse\u001b[0m\u001b[0;31m`\u001b[0m \u001b[0;32mif\u001b[0m\u001b[0;31m \u001b[0m\u001b[0;31m`\u001b[0m\u001b[0mstream\u001b[0m\u001b[0;31m`\u001b[0m \u001b[0;32mis\u001b[0m\u001b[0;31m \u001b[0m\u001b[0;31m`\u001b[0m\u001b[0;32mFalse\u001b[0m\u001b[0;31m`\u001b[0m\u001b[0;34m,\u001b[0m \u001b[0motherwise\u001b[0m \u001b[0mreturns\u001b[0m \u001b[0ma\u001b[0m\u001b[0;31m \u001b[0m\u001b[0;31m`\u001b[0m\u001b[0mChatResponse\u001b[0m\u001b[0;31m`\u001b[0m \u001b[0mgenerator\u001b[0m\u001b[0;34m.\u001b[0m\u001b[0;34m\u001b[0m\u001b[0;34m\u001b[0m\u001b[0m\n\u001b[1;32m    332\u001b[0m     \"\"\"\n\u001b[0;32m--> 333\u001b[0;31m     return self._request(\n\u001b[0m\u001b[1;32m    334\u001b[0m       \u001b[0mChatResponse\u001b[0m\u001b[0;34m,\u001b[0m\u001b[0;34m\u001b[0m\u001b[0;34m\u001b[0m\u001b[0m\n\u001b[1;32m    335\u001b[0m       \u001b[0;34m'POST'\u001b[0m\u001b[0;34m,\u001b[0m\u001b[0;34m\u001b[0m\u001b[0;34m\u001b[0m\u001b[0m\n",
            "\u001b[0;32m/content/packages/ollama/_client.py\u001b[0m in \u001b[0;36m_request\u001b[0;34m(self, cls, stream, *args, **kwargs)\u001b[0m\n\u001b[1;32m    176\u001b[0m       \u001b[0;32mreturn\u001b[0m \u001b[0minner\u001b[0m\u001b[0;34m(\u001b[0m\u001b[0;34m)\u001b[0m\u001b[0;34m\u001b[0m\u001b[0;34m\u001b[0m\u001b[0m\n\u001b[1;32m    177\u001b[0m \u001b[0;34m\u001b[0m\u001b[0m\n\u001b[0;32m--> 178\u001b[0;31m     \u001b[0;32mreturn\u001b[0m \u001b[0mcls\u001b[0m\u001b[0;34m(\u001b[0m\u001b[0;34m**\u001b[0m\u001b[0mself\u001b[0m\u001b[0;34m.\u001b[0m\u001b[0m_request_raw\u001b[0m\u001b[0;34m(\u001b[0m\u001b[0;34m*\u001b[0m\u001b[0margs\u001b[0m\u001b[0;34m,\u001b[0m \u001b[0;34m**\u001b[0m\u001b[0mkwargs\u001b[0m\u001b[0;34m)\u001b[0m\u001b[0;34m.\u001b[0m\u001b[0mjson\u001b[0m\u001b[0;34m(\u001b[0m\u001b[0;34m)\u001b[0m\u001b[0;34m)\u001b[0m\u001b[0;34m\u001b[0m\u001b[0;34m\u001b[0m\u001b[0m\n\u001b[0m\u001b[1;32m    179\u001b[0m \u001b[0;34m\u001b[0m\u001b[0m\n\u001b[1;32m    180\u001b[0m   \u001b[0;34m@\u001b[0m\u001b[0moverload\u001b[0m\u001b[0;34m\u001b[0m\u001b[0;34m\u001b[0m\u001b[0m\n",
            "\u001b[0;32m/content/packages/ollama/_client.py\u001b[0m in \u001b[0;36m_request_raw\u001b[0;34m(self, *args, **kwargs)\u001b[0m\n\u001b[1;32m    116\u001b[0m   \u001b[0;32mdef\u001b[0m \u001b[0m_request_raw\u001b[0m\u001b[0;34m(\u001b[0m\u001b[0mself\u001b[0m\u001b[0;34m,\u001b[0m \u001b[0;34m*\u001b[0m\u001b[0margs\u001b[0m\u001b[0;34m,\u001b[0m \u001b[0;34m**\u001b[0m\u001b[0mkwargs\u001b[0m\u001b[0;34m)\u001b[0m\u001b[0;34m:\u001b[0m\u001b[0;34m\u001b[0m\u001b[0;34m\u001b[0m\u001b[0m\n\u001b[1;32m    117\u001b[0m     \u001b[0;32mtry\u001b[0m\u001b[0;34m:\u001b[0m\u001b[0;34m\u001b[0m\u001b[0;34m\u001b[0m\u001b[0m\n\u001b[0;32m--> 118\u001b[0;31m       \u001b[0mr\u001b[0m \u001b[0;34m=\u001b[0m \u001b[0mself\u001b[0m\u001b[0;34m.\u001b[0m\u001b[0m_client\u001b[0m\u001b[0;34m.\u001b[0m\u001b[0mrequest\u001b[0m\u001b[0;34m(\u001b[0m\u001b[0;34m*\u001b[0m\u001b[0margs\u001b[0m\u001b[0;34m,\u001b[0m \u001b[0;34m**\u001b[0m\u001b[0mkwargs\u001b[0m\u001b[0;34m)\u001b[0m\u001b[0;34m\u001b[0m\u001b[0;34m\u001b[0m\u001b[0m\n\u001b[0m\u001b[1;32m    119\u001b[0m       \u001b[0mr\u001b[0m\u001b[0;34m.\u001b[0m\u001b[0mraise_for_status\u001b[0m\u001b[0;34m(\u001b[0m\u001b[0;34m)\u001b[0m\u001b[0;34m\u001b[0m\u001b[0;34m\u001b[0m\u001b[0m\n\u001b[1;32m    120\u001b[0m       \u001b[0;32mreturn\u001b[0m \u001b[0mr\u001b[0m\u001b[0;34m\u001b[0m\u001b[0;34m\u001b[0m\u001b[0m\n",
            "\u001b[0;32m/content/packages/httpx/_client.py\u001b[0m in \u001b[0;36mrequest\u001b[0;34m(self, method, url, content, data, files, json, params, headers, cookies, auth, follow_redirects, timeout, extensions)\u001b[0m\n\u001b[1;32m    823\u001b[0m             \u001b[0mextensions\u001b[0m\u001b[0;34m=\u001b[0m\u001b[0mextensions\u001b[0m\u001b[0;34m,\u001b[0m\u001b[0;34m\u001b[0m\u001b[0;34m\u001b[0m\u001b[0m\n\u001b[1;32m    824\u001b[0m         )\n\u001b[0;32m--> 825\u001b[0;31m         \u001b[0;32mreturn\u001b[0m \u001b[0mself\u001b[0m\u001b[0;34m.\u001b[0m\u001b[0msend\u001b[0m\u001b[0;34m(\u001b[0m\u001b[0mrequest\u001b[0m\u001b[0;34m,\u001b[0m \u001b[0mauth\u001b[0m\u001b[0;34m=\u001b[0m\u001b[0mauth\u001b[0m\u001b[0;34m,\u001b[0m \u001b[0mfollow_redirects\u001b[0m\u001b[0;34m=\u001b[0m\u001b[0mfollow_redirects\u001b[0m\u001b[0;34m)\u001b[0m\u001b[0;34m\u001b[0m\u001b[0;34m\u001b[0m\u001b[0m\n\u001b[0m\u001b[1;32m    826\u001b[0m \u001b[0;34m\u001b[0m\u001b[0m\n\u001b[1;32m    827\u001b[0m     \u001b[0;34m@\u001b[0m\u001b[0mcontextmanager\u001b[0m\u001b[0;34m\u001b[0m\u001b[0;34m\u001b[0m\u001b[0m\n",
            "\u001b[0;32m/content/packages/httpx/_client.py\u001b[0m in \u001b[0;36msend\u001b[0;34m(self, request, stream, auth, follow_redirects)\u001b[0m\n\u001b[1;32m    912\u001b[0m         \u001b[0mauth\u001b[0m \u001b[0;34m=\u001b[0m \u001b[0mself\u001b[0m\u001b[0;34m.\u001b[0m\u001b[0m_build_request_auth\u001b[0m\u001b[0;34m(\u001b[0m\u001b[0mrequest\u001b[0m\u001b[0;34m,\u001b[0m \u001b[0mauth\u001b[0m\u001b[0;34m)\u001b[0m\u001b[0;34m\u001b[0m\u001b[0;34m\u001b[0m\u001b[0m\n\u001b[1;32m    913\u001b[0m \u001b[0;34m\u001b[0m\u001b[0m\n\u001b[0;32m--> 914\u001b[0;31m         response = self._send_handling_auth(\n\u001b[0m\u001b[1;32m    915\u001b[0m             \u001b[0mrequest\u001b[0m\u001b[0;34m,\u001b[0m\u001b[0;34m\u001b[0m\u001b[0;34m\u001b[0m\u001b[0m\n\u001b[1;32m    916\u001b[0m             \u001b[0mauth\u001b[0m\u001b[0;34m=\u001b[0m\u001b[0mauth\u001b[0m\u001b[0;34m,\u001b[0m\u001b[0;34m\u001b[0m\u001b[0;34m\u001b[0m\u001b[0m\n",
            "\u001b[0;32m/content/packages/httpx/_client.py\u001b[0m in \u001b[0;36m_send_handling_auth\u001b[0;34m(self, request, auth, follow_redirects, history)\u001b[0m\n\u001b[1;32m    940\u001b[0m \u001b[0;34m\u001b[0m\u001b[0m\n\u001b[1;32m    941\u001b[0m             \u001b[0;32mwhile\u001b[0m \u001b[0;32mTrue\u001b[0m\u001b[0;34m:\u001b[0m\u001b[0;34m\u001b[0m\u001b[0;34m\u001b[0m\u001b[0m\n\u001b[0;32m--> 942\u001b[0;31m                 response = self._send_handling_redirects(\n\u001b[0m\u001b[1;32m    943\u001b[0m                     \u001b[0mrequest\u001b[0m\u001b[0;34m,\u001b[0m\u001b[0;34m\u001b[0m\u001b[0;34m\u001b[0m\u001b[0m\n\u001b[1;32m    944\u001b[0m                     \u001b[0mfollow_redirects\u001b[0m\u001b[0;34m=\u001b[0m\u001b[0mfollow_redirects\u001b[0m\u001b[0;34m,\u001b[0m\u001b[0;34m\u001b[0m\u001b[0;34m\u001b[0m\u001b[0m\n",
            "\u001b[0;32m/content/packages/httpx/_client.py\u001b[0m in \u001b[0;36m_send_handling_redirects\u001b[0;34m(self, request, follow_redirects, history)\u001b[0m\n\u001b[1;32m    977\u001b[0m                 \u001b[0mhook\u001b[0m\u001b[0;34m(\u001b[0m\u001b[0mrequest\u001b[0m\u001b[0;34m)\u001b[0m\u001b[0;34m\u001b[0m\u001b[0;34m\u001b[0m\u001b[0m\n\u001b[1;32m    978\u001b[0m \u001b[0;34m\u001b[0m\u001b[0m\n\u001b[0;32m--> 979\u001b[0;31m             \u001b[0mresponse\u001b[0m \u001b[0;34m=\u001b[0m \u001b[0mself\u001b[0m\u001b[0;34m.\u001b[0m\u001b[0m_send_single_request\u001b[0m\u001b[0;34m(\u001b[0m\u001b[0mrequest\u001b[0m\u001b[0;34m)\u001b[0m\u001b[0;34m\u001b[0m\u001b[0;34m\u001b[0m\u001b[0m\n\u001b[0m\u001b[1;32m    980\u001b[0m             \u001b[0;32mtry\u001b[0m\u001b[0;34m:\u001b[0m\u001b[0;34m\u001b[0m\u001b[0;34m\u001b[0m\u001b[0m\n\u001b[1;32m    981\u001b[0m                 \u001b[0;32mfor\u001b[0m \u001b[0mhook\u001b[0m \u001b[0;32min\u001b[0m \u001b[0mself\u001b[0m\u001b[0;34m.\u001b[0m\u001b[0m_event_hooks\u001b[0m\u001b[0;34m[\u001b[0m\u001b[0;34m\"response\"\u001b[0m\u001b[0;34m]\u001b[0m\u001b[0;34m:\u001b[0m\u001b[0;34m\u001b[0m\u001b[0;34m\u001b[0m\u001b[0m\n",
            "\u001b[0;32m/content/packages/httpx/_client.py\u001b[0m in \u001b[0;36m_send_single_request\u001b[0;34m(self, request)\u001b[0m\n\u001b[1;32m   1012\u001b[0m \u001b[0;34m\u001b[0m\u001b[0m\n\u001b[1;32m   1013\u001b[0m         \u001b[0;32mwith\u001b[0m \u001b[0mrequest_context\u001b[0m\u001b[0;34m(\u001b[0m\u001b[0mrequest\u001b[0m\u001b[0;34m=\u001b[0m\u001b[0mrequest\u001b[0m\u001b[0;34m)\u001b[0m\u001b[0;34m:\u001b[0m\u001b[0;34m\u001b[0m\u001b[0;34m\u001b[0m\u001b[0m\n\u001b[0;32m-> 1014\u001b[0;31m             \u001b[0mresponse\u001b[0m \u001b[0;34m=\u001b[0m \u001b[0mtransport\u001b[0m\u001b[0;34m.\u001b[0m\u001b[0mhandle_request\u001b[0m\u001b[0;34m(\u001b[0m\u001b[0mrequest\u001b[0m\u001b[0;34m)\u001b[0m\u001b[0;34m\u001b[0m\u001b[0;34m\u001b[0m\u001b[0m\n\u001b[0m\u001b[1;32m   1015\u001b[0m \u001b[0;34m\u001b[0m\u001b[0m\n\u001b[1;32m   1016\u001b[0m         \u001b[0;32massert\u001b[0m \u001b[0misinstance\u001b[0m\u001b[0;34m(\u001b[0m\u001b[0mresponse\u001b[0m\u001b[0;34m.\u001b[0m\u001b[0mstream\u001b[0m\u001b[0;34m,\u001b[0m \u001b[0mSyncByteStream\u001b[0m\u001b[0;34m)\u001b[0m\u001b[0;34m\u001b[0m\u001b[0;34m\u001b[0m\u001b[0m\n",
            "\u001b[0;32m/content/packages/httpx/_transports/default.py\u001b[0m in \u001b[0;36mhandle_request\u001b[0;34m(self, request)\u001b[0m\n\u001b[1;32m    248\u001b[0m         )\n\u001b[1;32m    249\u001b[0m         \u001b[0;32mwith\u001b[0m \u001b[0mmap_httpcore_exceptions\u001b[0m\u001b[0;34m(\u001b[0m\u001b[0;34m)\u001b[0m\u001b[0;34m:\u001b[0m\u001b[0;34m\u001b[0m\u001b[0;34m\u001b[0m\u001b[0m\n\u001b[0;32m--> 250\u001b[0;31m             \u001b[0mresp\u001b[0m \u001b[0;34m=\u001b[0m \u001b[0mself\u001b[0m\u001b[0;34m.\u001b[0m\u001b[0m_pool\u001b[0m\u001b[0;34m.\u001b[0m\u001b[0mhandle_request\u001b[0m\u001b[0;34m(\u001b[0m\u001b[0mreq\u001b[0m\u001b[0;34m)\u001b[0m\u001b[0;34m\u001b[0m\u001b[0;34m\u001b[0m\u001b[0m\n\u001b[0m\u001b[1;32m    251\u001b[0m \u001b[0;34m\u001b[0m\u001b[0m\n\u001b[1;32m    252\u001b[0m         \u001b[0;32massert\u001b[0m \u001b[0misinstance\u001b[0m\u001b[0;34m(\u001b[0m\u001b[0mresp\u001b[0m\u001b[0;34m.\u001b[0m\u001b[0mstream\u001b[0m\u001b[0;34m,\u001b[0m \u001b[0mtyping\u001b[0m\u001b[0;34m.\u001b[0m\u001b[0mIterable\u001b[0m\u001b[0;34m)\u001b[0m\u001b[0;34m\u001b[0m\u001b[0;34m\u001b[0m\u001b[0m\n",
            "\u001b[0;32m/content/packages/httpcore/_sync/connection_pool.py\u001b[0m in \u001b[0;36mhandle_request\u001b[0;34m(self, request)\u001b[0m\n\u001b[1;32m    254\u001b[0m \u001b[0;34m\u001b[0m\u001b[0m\n\u001b[1;32m    255\u001b[0m             \u001b[0mself\u001b[0m\u001b[0;34m.\u001b[0m\u001b[0m_close_connections\u001b[0m\u001b[0;34m(\u001b[0m\u001b[0mclosing\u001b[0m\u001b[0;34m)\u001b[0m\u001b[0;34m\u001b[0m\u001b[0;34m\u001b[0m\u001b[0m\n\u001b[0;32m--> 256\u001b[0;31m             \u001b[0;32mraise\u001b[0m \u001b[0mexc\u001b[0m \u001b[0;32mfrom\u001b[0m \u001b[0;32mNone\u001b[0m\u001b[0;34m\u001b[0m\u001b[0;34m\u001b[0m\u001b[0m\n\u001b[0m\u001b[1;32m    257\u001b[0m \u001b[0;34m\u001b[0m\u001b[0m\n\u001b[1;32m    258\u001b[0m         \u001b[0;31m# Return the response. Note that in this case we still have to manage\u001b[0m\u001b[0;34m\u001b[0m\u001b[0;34m\u001b[0m\u001b[0m\n",
            "\u001b[0;32m/content/packages/httpcore/_sync/connection_pool.py\u001b[0m in \u001b[0;36mhandle_request\u001b[0;34m(self, request)\u001b[0m\n\u001b[1;32m    234\u001b[0m                 \u001b[0;32mtry\u001b[0m\u001b[0;34m:\u001b[0m\u001b[0;34m\u001b[0m\u001b[0;34m\u001b[0m\u001b[0m\n\u001b[1;32m    235\u001b[0m                     \u001b[0;31m# Send the request on the assigned connection.\u001b[0m\u001b[0;34m\u001b[0m\u001b[0;34m\u001b[0m\u001b[0m\n\u001b[0;32m--> 236\u001b[0;31m                     response = connection.handle_request(\n\u001b[0m\u001b[1;32m    237\u001b[0m                         \u001b[0mpool_request\u001b[0m\u001b[0;34m.\u001b[0m\u001b[0mrequest\u001b[0m\u001b[0;34m\u001b[0m\u001b[0;34m\u001b[0m\u001b[0m\n\u001b[1;32m    238\u001b[0m                     )\n",
            "\u001b[0;32m/content/packages/httpcore/_sync/connection.py\u001b[0m in \u001b[0;36mhandle_request\u001b[0;34m(self, request)\u001b[0m\n\u001b[1;32m    101\u001b[0m             \u001b[0;32mraise\u001b[0m \u001b[0mexc\u001b[0m\u001b[0;34m\u001b[0m\u001b[0;34m\u001b[0m\u001b[0m\n\u001b[1;32m    102\u001b[0m \u001b[0;34m\u001b[0m\u001b[0m\n\u001b[0;32m--> 103\u001b[0;31m         \u001b[0;32mreturn\u001b[0m \u001b[0mself\u001b[0m\u001b[0;34m.\u001b[0m\u001b[0m_connection\u001b[0m\u001b[0;34m.\u001b[0m\u001b[0mhandle_request\u001b[0m\u001b[0;34m(\u001b[0m\u001b[0mrequest\u001b[0m\u001b[0;34m)\u001b[0m\u001b[0;34m\u001b[0m\u001b[0;34m\u001b[0m\u001b[0m\n\u001b[0m\u001b[1;32m    104\u001b[0m \u001b[0;34m\u001b[0m\u001b[0m\n\u001b[1;32m    105\u001b[0m     \u001b[0;32mdef\u001b[0m \u001b[0m_connect\u001b[0m\u001b[0;34m(\u001b[0m\u001b[0mself\u001b[0m\u001b[0;34m,\u001b[0m \u001b[0mrequest\u001b[0m\u001b[0;34m:\u001b[0m \u001b[0mRequest\u001b[0m\u001b[0;34m)\u001b[0m \u001b[0;34m->\u001b[0m \u001b[0mNetworkStream\u001b[0m\u001b[0;34m:\u001b[0m\u001b[0;34m\u001b[0m\u001b[0;34m\u001b[0m\u001b[0m\n",
            "\u001b[0;32m/content/packages/httpcore/_sync/http11.py\u001b[0m in \u001b[0;36mhandle_request\u001b[0;34m(self, request)\u001b[0m\n\u001b[1;32m    134\u001b[0m                 \u001b[0;32mwith\u001b[0m \u001b[0mTrace\u001b[0m\u001b[0;34m(\u001b[0m\u001b[0;34m\"response_closed\"\u001b[0m\u001b[0;34m,\u001b[0m \u001b[0mlogger\u001b[0m\u001b[0;34m,\u001b[0m \u001b[0mrequest\u001b[0m\u001b[0;34m)\u001b[0m \u001b[0;32mas\u001b[0m \u001b[0mtrace\u001b[0m\u001b[0;34m:\u001b[0m\u001b[0;34m\u001b[0m\u001b[0;34m\u001b[0m\u001b[0m\n\u001b[1;32m    135\u001b[0m                     \u001b[0mself\u001b[0m\u001b[0;34m.\u001b[0m\u001b[0m_response_closed\u001b[0m\u001b[0;34m(\u001b[0m\u001b[0;34m)\u001b[0m\u001b[0;34m\u001b[0m\u001b[0;34m\u001b[0m\u001b[0m\n\u001b[0;32m--> 136\u001b[0;31m             \u001b[0;32mraise\u001b[0m \u001b[0mexc\u001b[0m\u001b[0;34m\u001b[0m\u001b[0;34m\u001b[0m\u001b[0m\n\u001b[0m\u001b[1;32m    137\u001b[0m \u001b[0;34m\u001b[0m\u001b[0m\n\u001b[1;32m    138\u001b[0m     \u001b[0;31m# Sending the request...\u001b[0m\u001b[0;34m\u001b[0m\u001b[0;34m\u001b[0m\u001b[0m\n",
            "\u001b[0;32m/content/packages/httpcore/_sync/http11.py\u001b[0m in \u001b[0;36mhandle_request\u001b[0;34m(self, request)\u001b[0m\n\u001b[1;32m    104\u001b[0m                     \u001b[0mheaders\u001b[0m\u001b[0;34m,\u001b[0m\u001b[0;34m\u001b[0m\u001b[0;34m\u001b[0m\u001b[0m\n\u001b[1;32m    105\u001b[0m                     \u001b[0mtrailing_data\u001b[0m\u001b[0;34m,\u001b[0m\u001b[0;34m\u001b[0m\u001b[0;34m\u001b[0m\u001b[0m\n\u001b[0;32m--> 106\u001b[0;31m                 ) = self._receive_response_headers(**kwargs)\n\u001b[0m\u001b[1;32m    107\u001b[0m                 trace.return_value = (\n\u001b[1;32m    108\u001b[0m                     \u001b[0mhttp_version\u001b[0m\u001b[0;34m,\u001b[0m\u001b[0;34m\u001b[0m\u001b[0;34m\u001b[0m\u001b[0m\n",
            "\u001b[0;32m/content/packages/httpcore/_sync/http11.py\u001b[0m in \u001b[0;36m_receive_response_headers\u001b[0;34m(self, request)\u001b[0m\n\u001b[1;32m    175\u001b[0m \u001b[0;34m\u001b[0m\u001b[0m\n\u001b[1;32m    176\u001b[0m         \u001b[0;32mwhile\u001b[0m \u001b[0;32mTrue\u001b[0m\u001b[0;34m:\u001b[0m\u001b[0;34m\u001b[0m\u001b[0;34m\u001b[0m\u001b[0m\n\u001b[0;32m--> 177\u001b[0;31m             \u001b[0mevent\u001b[0m \u001b[0;34m=\u001b[0m \u001b[0mself\u001b[0m\u001b[0;34m.\u001b[0m\u001b[0m_receive_event\u001b[0m\u001b[0;34m(\u001b[0m\u001b[0mtimeout\u001b[0m\u001b[0;34m=\u001b[0m\u001b[0mtimeout\u001b[0m\u001b[0;34m)\u001b[0m\u001b[0;34m\u001b[0m\u001b[0;34m\u001b[0m\u001b[0m\n\u001b[0m\u001b[1;32m    178\u001b[0m             \u001b[0;32mif\u001b[0m \u001b[0misinstance\u001b[0m\u001b[0;34m(\u001b[0m\u001b[0mevent\u001b[0m\u001b[0;34m,\u001b[0m \u001b[0mh11\u001b[0m\u001b[0;34m.\u001b[0m\u001b[0mResponse\u001b[0m\u001b[0;34m)\u001b[0m\u001b[0;34m:\u001b[0m\u001b[0;34m\u001b[0m\u001b[0;34m\u001b[0m\u001b[0m\n\u001b[1;32m    179\u001b[0m                 \u001b[0;32mbreak\u001b[0m\u001b[0;34m\u001b[0m\u001b[0;34m\u001b[0m\u001b[0m\n",
            "\u001b[0;32m/content/packages/httpcore/_sync/http11.py\u001b[0m in \u001b[0;36m_receive_event\u001b[0;34m(self, timeout)\u001b[0m\n\u001b[1;32m    215\u001b[0m \u001b[0;34m\u001b[0m\u001b[0m\n\u001b[1;32m    216\u001b[0m             \u001b[0;32mif\u001b[0m \u001b[0mevent\u001b[0m \u001b[0;32mis\u001b[0m \u001b[0mh11\u001b[0m\u001b[0;34m.\u001b[0m\u001b[0mNEED_DATA\u001b[0m\u001b[0;34m:\u001b[0m\u001b[0;34m\u001b[0m\u001b[0;34m\u001b[0m\u001b[0m\n\u001b[0;32m--> 217\u001b[0;31m                 data = self._network_stream.read(\n\u001b[0m\u001b[1;32m    218\u001b[0m                     \u001b[0mself\u001b[0m\u001b[0;34m.\u001b[0m\u001b[0mREAD_NUM_BYTES\u001b[0m\u001b[0;34m,\u001b[0m \u001b[0mtimeout\u001b[0m\u001b[0;34m=\u001b[0m\u001b[0mtimeout\u001b[0m\u001b[0;34m\u001b[0m\u001b[0;34m\u001b[0m\u001b[0m\n\u001b[1;32m    219\u001b[0m                 )\n",
            "\u001b[0;32m/content/packages/httpcore/_backends/sync.py\u001b[0m in \u001b[0;36mread\u001b[0;34m(self, max_bytes, timeout)\u001b[0m\n\u001b[1;32m    126\u001b[0m         \u001b[0;32mwith\u001b[0m \u001b[0mmap_exceptions\u001b[0m\u001b[0;34m(\u001b[0m\u001b[0mexc_map\u001b[0m\u001b[0;34m)\u001b[0m\u001b[0;34m:\u001b[0m\u001b[0;34m\u001b[0m\u001b[0;34m\u001b[0m\u001b[0m\n\u001b[1;32m    127\u001b[0m             \u001b[0mself\u001b[0m\u001b[0;34m.\u001b[0m\u001b[0m_sock\u001b[0m\u001b[0;34m.\u001b[0m\u001b[0msettimeout\u001b[0m\u001b[0;34m(\u001b[0m\u001b[0mtimeout\u001b[0m\u001b[0;34m)\u001b[0m\u001b[0;34m\u001b[0m\u001b[0;34m\u001b[0m\u001b[0m\n\u001b[0;32m--> 128\u001b[0;31m             \u001b[0;32mreturn\u001b[0m \u001b[0mself\u001b[0m\u001b[0;34m.\u001b[0m\u001b[0m_sock\u001b[0m\u001b[0;34m.\u001b[0m\u001b[0mrecv\u001b[0m\u001b[0;34m(\u001b[0m\u001b[0mmax_bytes\u001b[0m\u001b[0;34m)\u001b[0m\u001b[0;34m\u001b[0m\u001b[0;34m\u001b[0m\u001b[0m\n\u001b[0m\u001b[1;32m    129\u001b[0m \u001b[0;34m\u001b[0m\u001b[0m\n\u001b[1;32m    130\u001b[0m     \u001b[0;32mdef\u001b[0m \u001b[0mwrite\u001b[0m\u001b[0;34m(\u001b[0m\u001b[0mself\u001b[0m\u001b[0;34m,\u001b[0m \u001b[0mbuffer\u001b[0m\u001b[0;34m:\u001b[0m \u001b[0mbytes\u001b[0m\u001b[0;34m,\u001b[0m \u001b[0mtimeout\u001b[0m\u001b[0;34m:\u001b[0m \u001b[0mfloat\u001b[0m \u001b[0;34m|\u001b[0m \u001b[0;32mNone\u001b[0m \u001b[0;34m=\u001b[0m \u001b[0;32mNone\u001b[0m\u001b[0;34m)\u001b[0m \u001b[0;34m->\u001b[0m \u001b[0;32mNone\u001b[0m\u001b[0;34m:\u001b[0m\u001b[0;34m\u001b[0m\u001b[0;34m\u001b[0m\u001b[0m\n",
            "\u001b[0;31mKeyboardInterrupt\u001b[0m: "
          ]
        }
      ]
    },
    {
      "cell_type": "code",
      "source": [
        "grouped = group_paragraphs(relabeled)\n",
        "for i, tax in enumerate(grouped):\n",
        "  if i > 10:\n",
        "    break\n",
        "  print(f'Send to LLM:\\n\\n{tax.as_row()[\"description\"]}')\n",
        "  #sample message to turn data into json format\n",
        "  response = ollama.chat(model='mistral', messages=[{\n",
        "     'role': 'user',\n",
        "     'content': f'Please turn the following information into a json format: {tax.as_row()}',},\n",
        "  ])\n",
        "  print(response['message']['content'])"
      ],
      "metadata": {
        "colab": {
          "base_uri": "https://localhost:8080/"
        },
        "id": "UHO9EXYTiLD9",
        "outputId": "cb2235d3-ad6d-4b24-9a90-c68d5d81d777"
      },
      "execution_count": null,
      "outputs": [
        {
          "output_type": "stream",
          "name": "stdout",
          "text": [
            "Send to LLM:\n",
            "\n",
            "Coloniae eﬀusae, brunneae. Mycelium partim immersum, partim superﬁciale ex hyphis\n",
            "septatis, ramosis, laevibus, pallide brunneis, 2−4 µm latis, compositum. Conidiophora\n",
            "\n",
            "solitaria, macronemata, mononemata, recta vel ﬂexuosa, erecta, simplicia, multiseptata,\n",
            "laevia, brunnea, 135−410 × 4.5−8.5 µm. Cellulae conidiogenae monoblasticae,\n",
            "terminals, in conidiophoris incorporatae, cum proliferationibus percurrentes, cylindricae,\n",
            "laeviae, pallide brunneae. Secessio conidiorum rhexolytica. Conidia solitaria, acrogena,\n",
            "3-euseptata, ellipsoidea, clavata vel pyriformia, simplicia, sicca, laevia, brunnea vel\n",
            "atrobrunnea, cellula basalis 4.5−6 µm crassa, pallide brunneis, 31.5−42.5 ×14−16.5µm.\n",
            "\n",
            "Colonies on the natural substrate eﬀuse, brown. Mycelium partly immersed,\n",
            "partly superﬁcial, composed of septate, branched, smooth-walled, pale\n",
            "brown hyphae, 2–4 μm thick. Conidiophores solitary, macronematous,\n",
            "mononematous, straight or ﬂexuous, erect, simple, multiseptate, smooth,\n",
            "brown, 135–410 × 4.5–8.5 µm. Conidiogenous cells monoblastic, terminal,\n",
            "integrated, with conspicuous percurrent proliferations, cylindrical, smooth,\n",
            "pale brown. Conidial secession rhexolytic. Conidia solitary, acrogenous, 3euseptate, ellipsoid, clavate to pyriform, simple, dry, smooth, brown to dark\n",
            "brown, basal cells 4.5–6 µm wide, pale brown, 31.5–42.5 × 14–16.5 µm.\n",
            "\n",
            " {\n",
            "    \"taxon\": \"Endophragmiella clausenae L.G. Ma & X.G. Zhang, sp. nov.\",\n",
            "    \"description\": \"Coloniae eﬀusae, brunneae. Mycelium partim immersum, partim superﬁciale ex hyphis septatis, ramosis, laevibus, pallide brunneis, 2−4 µm latis, compositum. Conidiophora solitaria, macronemata, mononemata, recta vel ﬂexuosa, erecta, simplicia, multiseptata,\\nlaevia, brunnea, 135−410 × 4.5−8.5 µm. Cellulae conidiogenae monoblasticae,\\nterminals, in conidiophoris incorporatae, cum proliferationibus percurrentes, cylindricae,\\nlaeviae, pallide brunneae. Secessio conidiorum rhexolytica. Conidia solitaria, acrogena,\\n3-euseptata, ellipsoidea, clavata vel pyriformia, simplicia, sicca, laevia, brunnea vel\\natrobrunnea, cellula basalis 4.5−6 µm crassa, pallide brunneis, 31.5−42.5 ×14−16.5µm.\\n\\nColonies on the natural substrate eﬀuse, brown. Mycelium partly immersed,\\npartly superﬁcial, composed of septate, branched, smooth-walled, pale\\nbrown hyphae, 2–4 μm thick. Conidiophores solitary, macronematous,\\nmononematous, straight or ﬂexuous, erect, simple, multiseptate, smooth,\\nbrown, 135–410 × 4.5–8.5 µm. Conidiogenous cells monoblastic, terminal,\\nintegrated, with conspicuous percurrent proliferations, cylindrical, smooth,\\npale brown. Conidial secession rhexolytic. Conidia solitary, acrogenous, 3euseptate, ellipsoid, clavate to pyriform, simple, dry, smooth, brown to dark\\nbrown, basal cells 4.5–6 µm wide, pale brown, 31.5–42.5 × 14–16.5 µm.\",\n",
            "    \"paragraph_number\": 29,\n",
            "    \"page_number\": 2,\n",
            "    \"empirical_page_number\": \"280\"\n",
            "}\n",
            "Send to LLM:\n",
            "\n",
            "Coloniae eﬀusae, brunneae. Mycelium partim immersum, partim superﬁciale ex hyphis\n",
            "septatis, ramosis, laevibus, subhyalinis vel pallide brunneis, compositum. Conidiophora\n",
            "solitaria, macronemata, mononemata, recta, erecta, simplicia, septata, laevia, pallide\n",
            "brunnea vel brunnea, 56−92 × 4.5−7.5 µm. Cellulae conidiogenae monoblasticae,\n",
            "terminals, in conidiophoris incorporatae, cum proliferationibus percurrentes, cylindricae,\n",
            "laeviae, pallide brunneae. Secessio conidiorum rhexolytica. Conidia solitaria, acrogena,\n",
            "3-septata, late ellipsoidea vel pyriformia, simplicia, sicca, laevia, brunnea vel atrobrunnea,\n",
            "cellula basalis 2.5−5 µm crassa, pallide brunneis, 25−32.5 × 13−16.5µm.\n",
            "\n",
            "Colonies on the natural substrate eﬀuse, brown. Mycelium partly\n",
            "immersed, partly superﬁcial, composed of septate, branched, smooth-walled,\n",
            "subhyaline to pale brown hyphae. Conidiophores solitary, macronematous,\n",
            "\n",
            "mononematous, straight, erect, simple, septate, smooth, pale brown to brown,\n",
            "56−92 × 4.5−7.5 µm. Conidiogenous cells monoblastic, terminal, integrated,\n",
            "with conspicuous percurrent proliferations, cylindrical, smooth, pale brown.\n",
            "\n",
            "Conidial secession rhexolytic. Conidia solitary, acrogenous, 3-septate, broadly\n",
            "ellipsoid to pyriform, simple, dry, smooth, brown to dark brown, basal cells\n",
            "2.5–5 µm wide, pale brown, 25–32.5 × 13–16.5 µm.\n",
            "\n",
            " {\n",
            "    \"taxon\": \"Endophragmiella pentaphylacis L.G. Ma & X.G. Zhang, sp. nov.\",\n",
            "    \"description\": \"Coloniae eﬀusae, brunneae. Mycelium partim immersum, partim superﬁciale ex hyphis\\nseptatis, ramosis, laevibus, subhyalinis vel pallide brunneis, compositum. Conidiophora\\nsolitaria, macronemata, mononemata, recta, erecta, simplicia, septata, laevia, pallide\\nbrunnea vel brunnea, 56−92 × 4.5−7.5 µm. Cellulae conidiogenae monoblasticae,\\nterminals, in conidiophoris incorporatae, cum proliferationibus percurrentes, cylindricae,\\nlaeviae, pallide brunneae. Secessio conidiorum rhexolytica. Conidia solitaria, acrogena,\\n3-septata, late ellipsoidea vel pyriformia, simplicia, sicca, laevia, brunnea vel atrobrunnea,\\ncellula basalis 2.5−5 µm crassa, pallide brunneis, 25−32.5 × 13−16.5µm.\\n\\nColonies on the natural substrate eﬀuse, brown. Mycelium partly\\nimmersed, partly superﬁcial, composed of septate, branched, smooth-walled,\\nsubhyaline to pale brown hyphae. Conidiophores solitary, macronematous,\\n\\nmononematous, straight, erect, simple, septate, smooth, pale brown to brown,\\n56−92 × 4.5−7.5 µm. Conidiogenous cells monoblastic, terminal, integrated,\\nwith conspicuous percurrent proliferations, cylindrical, smooth, pale brown.\\n\\nConidial secession rhexolytic. Conidia solitary, acrogenous, 3-septate, broadly\\nellipsoid to pyriform, simple, dry, smooth, brown to dark brown, basal cells\\n2.5–5 µm wide, pale brown, 25–32.5 × 13–16.5 µm.\",\n",
            "    \"paragraph_number\": 43,\n",
            "    \"page_number\": 3,\n",
            "    \"empirical_page_number\": \"281\"\n",
            "}\n",
            "Send to LLM:\n",
            "\n",
            "Colonies on the natural substrate pale brown to brown, eﬀuse. Mycelium\n",
            "mostly superﬁcial composed of branched, septate, subhyaline to pale brown,\n",
            "smooth-walled hyphae, 1.5–3 μm thick. Conidiophores macronematous,\n",
            "\n",
            "mononematous, arising terminally and laterally from the mycelium, straight or\n",
            "ﬂexuous, erect, branched, septate, smooth, pale brown, up to 350 µm high, 2.5–4\n",
            "µm wide. Conidiogenous cells monoblastic, terminal, integrated, percurrent,\n",
            "cylindrical, tapered to a truncate apex, smooth, subhyaline. Conidial secession\n",
            "rhexolytic. Conidia solitary, acrogenous, 2–3-septate, narrowly obclavate to\n",
            "obclavate, simple, smooth, basal cells 1.5–3 µm wide, pale brown to brown,\n",
            "apical cells subhyaline, 16.5–25 × 5.5–7.5 µm.\n",
            "\n",
            " {\n",
            "    \"taxon\": \"Endophragmiella corticola P.M. Kirk, Trans. Br. Mycol. Soc. 78(1): 60, 1982. Fig. 3\",\n",
            "    \"description\": \"Colonies on the natural substrate pale brown to brown, eﬀuse. Mycelium mostly superﬁcial composed of branched, septate, subhyaline to pale brown, smooth-walled hyphae, 1.5–3 μm thick. Conidiophores macronematous, mononematous, arising terminally and laterally from the mycelium, straight or flexuous, erect, branched, septate, smooth, pale brown, up to 350 µm high, 2.5–4 µm wide. Conidiogenous cells monoblastic, terminal, integrated, percurrent, cylindrical, tapered to a truncate apex, smooth, subhyaline. Conidial secession rhexolytic. Conidia solitary, acrogenous, 2–3-septate, narrowly obclavate to obclavate, simple, smooth, basal cells 1.5–3 µm wide, pale brown to brown, apical cells subhyaline, 16.5–25 × 5.5–7.5 µm.\",\n",
            "    \"paragraph_number\": 61,\n",
            "    \"page_number\": 4,\n",
            "    \"empirical_page_number\": \"282\"\n",
            "}\n",
            "Send to LLM:\n",
            "\n",
            "Zone lines frequent, black, thin, surrounding the bleached spots.\n",
            "Conidiomata not observed.\n",
            "Ascomata on both sides of leaves, scattered in irregular, yellow-brown\n",
            "bleached spots. In surface view, ascomata (700−)1000−1600(−1800) µm diam.,\n",
            "triangular or quadrangular, black, shiny, slightly raising the substratum surface,\n",
            "opening by 3−4 radial splits. Lips present. In median vertical section, ascomata\n",
            "intraepidermal. Covering stroma up to 25−28 µm thick near the opening,\n",
            "black to dark-brown, becoming thinner or ﬁrstly thickening then becoming\n",
            "thinner towards the edge, composed of textura globulosa or angularis with cells\n",
            "4−7 µm diam. Lip cells fringed, 1.5−2.2 µm diam., immersed in a gel. Basal\n",
            "stroma slightly hollow or ﬂat, 4.0−6.5 µm thick, dark-brown, composed of\n",
            "textura globulosa or angularis with cells, connecting to the covering stroma.\n",
            "Internal matrix stroma only between the covering stroma and basal stroma.\n",
            "Subhymenium 15−20 µm thick, consisting of textura intricata and porrecta.\n",
            "Paraphyses 100−130 × 1.5−2.0 µm, ﬁliform, aseptate, gradually swollen to\n",
            "2.2−3.0 µm above, covered in a thin mucous coating. Asci ripening sequentially,\n",
            "85−120 × 7.5−9.5(−11) µm, cylindric-clavate or subclavate, somewhat longstalked, apex thin-walled, J−, 8-spored. Ascospores fasciculate, 52−85 ×\n",
            "1.5−1.8(−2.0) µm, ﬁliform, hyaline, aseptate, with a ca 1 µm thick gelatinous\n",
            "sheath.\n",
            "\n",
            " {\n",
            "     \"taxon\": \"Coccomyces delta (Kunze) Sacc., Boletím da Sociedade Broteriana 11: 13, 1893\\n\\n≡ Phacidium delta Kunze, Linnaea 5: 551, 1830\",\n",
            "     \"description\": \"Zone lines frequent, black, thin, surrounding the bleached spots.\\nConidiomata not observed.\\nAscomata on both sides of leaves, scattered in irregular, yellow-brown\\nbleached spots. In surface view, ascomata (700−)1000−1600(−1800) µm diam.,\\ntriangular or quadrangular, black, shiny, slightly raising the substratum surface,\\nopening by 3−4 radial splits. Lips present. In median vertical section, ascomata\\nintraepidermal. Covering stroma up to 25−28 µm thick near the opening,\\nblack to dark-brown, becoming thinner or firstly thickening then becoming\\nthinner towards the edge, composed of textura globulosa or angularis with cells\\n4−7 µm diam. Lip cells fringed, 1.5−2.2 µm diam., immersed in a gel. Basal\\nstroma slightly hollow or ﬂat, 4.0−6.5 µm thick, dark-brown, composed of\\ntextura globulosa or angularis with cells, connecting to the covering stroma.\\nInternal matrix stroma only between the covering stroma and basal stroma.\\nSubhymenium 15−20 µm thick, consisting of textura intricata and porrecta.\\nParaphyses 100−130 × 1.5−2.0 µm, ﬁliform, aseptate, gradually swollen to\\n2.2−3.0 µm above, covered in a thin mucous coating. Asci ripening sequentially,\\n85−120 × 7.5−9.5(−11) µm, cylindric-clavate or subclavate, somewhat longstalked, apex thin-walled, J−, 8-spored. Ascospores fasciculate, 52−85 ×\\n1.5−1.8(−2.0) µm, ﬁliform, hyaline, aseptate, with a ca 1 µm thick gelatinous\\nsheath.\",\n",
            "     \"paragraph_number\": 114,\n",
            "     \"page_number\": 2,\n",
            "     \"empirical_page_number\": \"312\"\n",
            "   }\n",
            "Send to LLM:\n",
            "\n",
            "Zone lines frequent, black-brown, thin, surrounding the bleached areas.\n",
            "Conidiomata with a distribution on the leaf similar to that of the\n",
            "ascomata. In surface view, conidiomata 180−330 × 150−260 µm, subcircular\n",
            "or elliptical, brown in the centre and at the perimeter line of the conidioma,\n",
            "concolorous with the substratum surface or light grey-brown over the rest\n",
            "of the appearance, slightly raising the surface of the leaf. In vertical section,\n",
            "conidiomata intraepidermal, double lens-shaped. Upper wall very thin, brown\n",
            "to dark-brown, with an indeﬁnite structure. Basal wall 4−7 µm thick, brown,\n",
            "composed of thick-walled, angular cells. Conidiogenous cells 5.5−9.0 ×\n",
            "1.5−2.0 µm, ﬂask-shape, holoblastic sympodially proliferating. Conidia 3.5−5.0\n",
            "× ca 0.8 µm, bacilliform, hyaline, aseptate.\n",
            "Ascomata on both sides of leaves, more on the upper side of the leaf,\n",
            "scattered in irregular bleached spots. In surface view, ascomata 700−1100 µm\n",
            "diam., triangular or quadrangular, black-brown, slightly raising the substratum\n",
            "surface, opening by 3−4 radial splits. Lips present at least in the early stages. In\n",
            "median vertical section, ascomata intraepidermal. Covering stroma 15−18\n",
            "µm thick near the opening, becoming thinner towards the edge, extending to\n",
            "the basal stroma, consisting of brown to dark-brown textura angularis with\n",
            "cells 3.5−6.5 µm diam. The opening often covered by the heavily carbonized\n",
            "tissue. Lip cells tend to disappear as the ascomata mature. Periphysoids present.\n",
            "Basal stroma 8−12 µm thick, dark-brown, consisting of textura angularis or\n",
            "globulosa with cells 5.5−8 µm diam. Internal matrix stroma only between\n",
            "covering stroma and basal stroma. Excipulum 22−30 µm thick, arising\n",
            "from the inner layer of the covering stroma. Subhymenium 10−18 µm thick,\n",
            "\n",
            "\n",
            "consisting of textura porrecta. Paraphyses 110−135 × 1.5−2.0 µm, ﬁliform,\n",
            "septate, slightly swollen at the apex. Asci ripening sequentially, 85−115 ×\n",
            "6.0−7.0 µm, cylindrical, short-stalked, apex obtuse, thin-walled, J−, 8-spored.\n",
            "Ascospores fasciculate, 60−90 × 1.2−1.5 µm, ﬁliform, hyaline, aseptate, with a\n",
            "thin gelatinous sheath, sometimes with a gelatinous cap at the top.\n",
            "\n",
            " {\n",
            "      \"taxon\": \"Coccomyces huangshanensis Y.R. Lin & Z.Z. Li, Mycosystema 19: 449, 2000\",\n",
            "      \"description\": \"Zone lines frequent, black-brown, thin, surrounding the bleached areas.\\nConidiomata with a distribution on the leaf similar to that of the\\nascomata. In surface view, conidiomata 180−330 × 150−260 µm, subcircular\\nor elliptical, brown in the centre and at the perimeter line of the conidioma,\\nconcolorous with the substratum surface or light grey-brown over the rest\\nof the appearance, slightly raising the surface of the leaf. In vertical section,\\nconidiomata intraepidermal, double lens-shaped. Upper wall very thin, brown\\nto dark-brown, with an indeﬁnite structure. Basal wall 4−7 µm thick, brown,\\ncomposed of thick-walled, angular cells. Conidiogenous cells 5.5−9.0 ×\\n1.5−2.0 µm, ﬂask-shape, holoblastic sympodially proliferating. Conidia 3.5−5.0\\n× ca 0.8 µm, bacilliform, hyaline, aseptate.\\nAscomata on both sides of leaves, more on the upper side of the leaf,\\nscattered in irregular bleached spots. In surface view, ascomata 700−1100 µm\\ndiam., triangular or quadrangular, black-brown, slightly raising the substratum\\nsurface, opening by 3−4 radial splits. Lips present at least in the early stages. In\\nmedian vertical section, ascomata intraepidermal. Covering stroma 15−18\\nµm thick near the opening, becoming thinner towards the edge, extending to\\nthe basal stroma, consisting of brown to dark-brown textura angularis with\\ncells 3.5−6.5 µm diam. The opening often covered by the heavily carbonized\\ntissue. Lip cells tend to disappear as the ascomata mature. Periphysoids present.\\nBasal stroma 8−12 µm thick, dark-brown, consisting of textura angularis or\\nglobulosa with cells 5.5−8 µm diam. Internal matrix stroma only between\\ncovering stroma and basal stroma. Excipulum 22−30 µm thick, arising\\nfrom the inner layer of the covering stroma. Subhymenium 10−18 µm thick,\\nconsisting of textura porrecta. Paraphyses 110−135 × 1.5−2.0 µm, ﬁliform,\\nseptate, slightly swollen at the apex. Asci ripening sequentially, 85−115 ×\\n6.0−7.0 µm, cylindrical, short-stalked, apex obtuse, thin-walled, J−, 8-spored.\\nAscospores fasciculate, 60−90 × 1.2−1.5 µm, ﬁliform, hyaline, aseptate, with a\\nthin gelatinous sheath, sometimes with a gelatinous cap at the top.\\n\",\n",
            "      \"paragraph_number\": 127,\n",
            "      \"page_number\": 3,\n",
            "      \"empirical_page_number\": \"313\"\n",
            "   }\n",
            "Send to LLM:\n",
            "\n",
            "Zone lines frequent, black-brown to black, thin, surrounding or separating\n",
            "the bleached spots.\n",
            "Conidiomata not observed.\n",
            "Ascomata on both sides of leaves, scattered in irregular, grey-yellow bleached\n",
            "spots. In surface view, ascomata 650−1200 µm diam., polygonal to subcircular,\n",
            "black-brown to black, slightly raising the substratum surface, opening by radial\n",
            "splits. Lips absent. In median vertical section, ascomata intraepidermal to\n",
            "subepidermal. Covering stroma 15−22 µm thick, consisting of grey-brown\n",
            "to dark-brown textura angularis and globulosa with cells 3.5−7 µm diam.,\n",
            "extending to the basal stroma. Periphysoids, 8−15 × 2.0−3.0 µm, cylindrical,\n",
            "hyaline, 0−3 septate. Basal stroma 8−12 µm thick, composed of dark-brown\n",
            "textura angularis and globulose. Internal matrix stroma poorly developed,\n",
            "10−20 µm thick in the center, hyaline, consisting of gelatinous textura intricata.\n",
            "Excipulum 40−70 µm thick in the upper, abruptly thinner towards the base,\n",
            "arising from the inner layer of the covering stroma. Subhymenium 15−20\n",
            "µm thick, composed of colourless textura porrecta or angularis. Paraphyses\n",
            "110−140 × 2.0−2.5 µm, ﬁliform, abruptly enlarged to 4.5−5.5 µm and subfusoidventricose above, with a 2.5−6.0 × 1.0−2.0 µm, subcylindrical mucro at the\n",
            "apex, often agglutinated. Asci ripening sequentially, 104−119 × 4.2−5.0 µm,\n",
            "cylindrical, short-stalked, apex round to obtuse, thin-walled, J−, 8-spored.\n",
            "Ascospores fasciculate, 60−86 × 0.6−0.8 µm, ﬁliform, hyaline, aseptate, with\n",
            "an indeﬁnite gelatinous sheath.\n",
            "\n",
            " {\n",
            "     \"taxon\": \"Coccomyces mucronatus Korf & W.Y. Zhuang, Mycotaxon 22: 487, 1985\",\n",
            "     \"description\": \"Zone lines frequent, black-brown to black, thin, surrounding or separating the bleached spots.\\nConidiomata not observed.\\nAscomata on both sides of leaves, scattered in irregular, grey-yellow bleached spots. In surface view, ascomata 650−1200 µm diam., polygonal to subcircular,\\nblack-brown to black, slightly raising the substratum surface, opening by radial splits. Lips absent. In median vertical section, ascomata intraepidermal to\\nsubepidermal. Covering stroma 15−22 µm thick, consisting of grey-brown to dark-brown textura angularis and globulosa with cells 3.5−7 µm diam., extending to the basal stroma. Periphysoids, 8−15 × 2.0−3.0 µm, cylindrical,\\nhyaline, 0−3 septate. Basal stroma 8−12 µm thick, composed of dark-brown textura angularis and globulose.\\nInternal matrix stroma poorly developed, 10−20 µm thick in the center, hyaline, consisting of gelatinous textura intricata.\\nExcipulum 40−70 µm thick in the upper, abruptly thinner towards the base,\\narising from the inner layer of the covering stroma. Subhymenium 15−20\\nµm thick, composed of colourless textura porrecta or angularis. Paraphyses\\n110−140 × 2.0−2.5 µm, ﬁliform, abruptly enlarged to 4.5−5.5 µm and subfusoidventricose above, with a 2.5−6.0 × 1.0−2.0 µm, subcylindrical mucro at the\\napex, often agglutinated. Asci ripening sequentially, 104−119 × 4.2−5.0 µm,\\ncylindrical, short-stalked, apex round to obtuse, thin-walled, J−, 8-spored.\\nAscospores fasciculate, 60−86 × 0.6−0.8 µm, ﬁliform, hyaline, aseptate, with\\nan indeﬁnite gelatinous sheath.\",\n",
            "     \"paragraph_number\": 138,\n",
            "     \"page_number\": 4,\n",
            "     \"empirical_page_number\": \"314\"\n",
            "   }\n",
            "Send to LLM:\n",
            "\n",
            "Ascomata (480−)600−1100 µm, trigona usque ad hexagona, ﬂavo-brunnea, subepidermalia.\n",
            "Periphysoidei rarissimi. Excipulum 10−15µm crassum, ex hyphis hyalinis septatis parallelis\n",
            "constatum. Paraphyses ﬁliformes, apice abrupte tumidae. Asci 85−120 × 4.5−5.0µm,\n",
            "cylindrico-clavati. Ascosporae 70−105 × 0.8−1.0 µm, ﬁliformes, hyalinae, vagina gelatinosa\n",
            "tenui indutae.\n",
            "\n",
            "Zone lines somewhat frequent, black-brown or yellow-brown, thin,\n",
            "surrounding the bleached spots.\n",
            "Conidiomata not observed.\n",
            "Ascomata developing on both sides of leaves, more on the upper side of\n",
            "the leaf, scattered in irregular, yellowish-white or yellowish beached spots. In\n",
            "surface view, ascomata (480−)600−1100 µm diam., triangular to hexagonal,\n",
            "yellow-brown, not shiny, with a clearly deﬁned edge, somewhat raising the\n",
            "substratum surface and ﬂattened or slightly concave in the central region, with\n",
            "an obvious preformed dehiscence mechanism, opening by 3−6 radial splits,\n",
            "which extend nearly to the edge of ascoma, to expose the sallow hymenium.\n",
            "Lips absent. In median vertical section, ascomata subepidermal. Covering\n",
            "stroma 25−32 µm thick near the opening and 8−15 µm thick in other parts,\n",
            "composed of an upper part of textura globulosa with black-brown cells 5−6 µm\n",
            "\n",
            "\n",
            "\n",
            "\n",
            "\n",
            "\n",
            "\n",
            "diam., an lower part of textura epidermoidea with dark-brown cells 3.0−4.5 µm\n",
            "diam., and a few yellowish angular cells almost connecting to the basal stroma.\n",
            "Periphysoids extremely sparse, (5−)8−15 × 2.0−2.5 µm, cylindrical, hyaline,\n",
            "(1−)3−5 septate. Basal stroma moderately developed, 10−15(−18) µm thick,\n",
            "composed of black-brown textura angularis or globulosa with thick-walled\n",
            "cells 5−7 µm diam. Internal matrix stroma well developed, 20−30(−45)\n",
            "µm thick, consisting of hyaline, gelatinised textura intricata. Excipulum 10−15\n",
            "µm wide, composed of rows of hyaline, septate, thin-walled, parallel hyphae.\n",
            "Subhymenium 15−22 µm thick, composed of hyaline textura intricata and\n",
            "angularis. Paraphyses 100−140 × 1.8−2.0 µm, ﬁliform, aseptate, abruptly\n",
            "enlarged to 4.0−6.0 µm and elliptical or subfusoid near the apex, cemented in\n",
            "a thin gel, forming an epithecium 15−20 µm thick. Asci ripening sequentially,\n",
            "85−120 × 4.5−5.0 µm, cylindrical, stalked, apex round to obtuse, thin-walled,\n",
            "J−, 8-spored. Ascospores arranged in a fascicle, 70−105 × 0.8−1.0 µm, ﬁliform,\n",
            "hyaline, aseptate, with a thin gelatinous sheath.\n",
            "\n",
            " {\n",
            "      \"taxon\": \"Coccomyces mucronatoides Y.R. Lin, Q. Zheng & S.M. Yu, sp. nov.\",\n",
            "      \"description\": \"Ascomata (480−)600−1100 µm, trigona usque ad hexagona, ﬂavo-brunnea, subepidermalia.\\nPeriphysoidei rarissimi. Excipulum 10−15µm crassum, ex hyphis hyalinis septatis parallelis\\nconstatum. Paraphyses ﬁliformes, apice abrupte tumidae. Asci 85−120 × 4.5−5.0µm,\\ncylindrico-clavati. Ascosporae 70−105 × 0.8−1.0 µm, ﬁliformes, hyalinae, vagina gelatinosa\\ntenui indutae.\\n\\nZone lines somewhat frequent, black-brown or yellow-brown, thin,\\nsurrounding the bleached spots.\\nConidiomata not observed.\\nAscomata developing on both sides of leaves, more on the upper side of\\nthe leaf, scattered in irregular, yellowish-white or yellowish beached spots. In\\nsurface view, ascomata (480−)600−1100 µm diam., triangular to hexagonal,\\nyellow-brown, not shiny, with a clearly deﬁned edge, somewhat raising the\\nsubstratum surface and ﬂattened or slightly concave in the central region, with\\nan obvious preformed dehiscence mechanism, opening by 3−6 radial splits,\\nwhich extend nearly to the edge of ascoma, to expose the sallow hymenium.\\nLips absent. In median vertical section, ascomata subepidermal. Covering\\nstroma 25−32 µm thick near the opening and 8−15 µm thick in other parts,\\ncomposed of an upper part of textura globulosa with black-brown cells 5−6 µm\\ndiam., an lower part of textura epidermoidea with dark-brown cells 3.0−4.5 µm\\ndiam., and a few yellowish angular cells almost connecting to the basal stroma.\\nPeriphysoids extremely sparse, (5−)8−15 × 2.0−2.5 µm, cylindrical, hyaline,\\n(1−)3−5 septate. Basal stroma moderately developed, 10−15(−18) µm thick,\\ncomposed of black-brown textura angularis or globulosa with thick-walled\\ncells 5−7 µm diam. Internal matrix stroma well developed, 20−30(−45)\\nµm thick, consisting of hyaline, gelatinised textura intricata. Excipulum 10−15\\nµm wide, composed of rows of hyaline, septate, thin-walled, parallel hyphae.\\nSubhymenium 15−22 µm thick, composed of hyaline textura intricata and\\nangularis. Paraphyses 100−140 × 1.8−2.0 µm, ﬁliform, aseptate, abruptly\\nenlarged to 4.0−6.0 µm and elliptical or subfusoid near the apex, cemented in\\na thin gel, forming an epithecium 15−20 µm thick. Asci ripening sequentially,\\n85−120 × 4.5−5.0 µm, cylindrical, stalked, apex round to obtuse, thin-walled,\\nJ−, 8-spored. Ascospores arranged in a fascicle, 70−105 × 0.8−1.0 µm, ﬁliform,\\nhyaline, aseptate, with a thin gelatinous sheath.\",\n",
            "      \"paragraph_number\": 150,\n",
            "      \"page_number\": 5,\n",
            "      \"empirical_page_number\": \"315\"\n",
            "   }\n",
            "Send to LLM:\n",
            "\n",
            "Zone lines usually frequent, surrounding the bleached spots.\n",
            "Conidiomata with a distribution on the leaf similar to that of the ascomata,\n",
            "scattered to crowded. In surface view, conidiomata 140−300 µm diam.,\n",
            "somewhat round, black-brown in the centre and at the perimeter line of the\n",
            "conidioma, concolorous with the substratum surface elsewhere, or grey-brown\n",
            "to black-brown as a whole. In vertical section, conidiomata subepidermal.\n",
            "Upper wall 4−7 µm thick, dark-brown, consisting of thick-walled angular\n",
            "cells 2−4 diam. Basal wall brown to dark-brown, composed of 1−2 layers of\n",
            "\n",
            "\n",
            "thin-walled angular cells 3−5 µm diam. Subconidiogenous layer 7−10 µm\n",
            "thick, consisting of thick-walled angular cells. Conidiogenous cells 10−16 ×\n",
            "2.0−3.0 µm, ﬂask-shape, proliferating sympodially. Conidia 3.0−4.0 × ca 1.0\n",
            "µm, elliptical, hyaline, aseptate.\n",
            "Ascomata on both sides of leaves scattered in irregular, yellow-brown\n",
            "bleached spots. In surface view, ascomata 800−1900(−2300) × 390−650 µm,\n",
            "elliptical to elongate-elliptical, black, slightly raising the substratum surface,\n",
            "opening by a longitudinal split. Lips light reddish-brown. In median vertical\n",
            "section, ascomata subepidermal. Covering stroma consisting of thick-walled\n",
            "aliform-angular cells 3−7 µm diam., 55−70 µm thick and heavily carbonized near\n",
            "the opening, other parts dark-brown, becoming suddenly thinner towards the\n",
            "edge. Lip cells arranged in a subparallel manner or slightly radially, cylindrical.\n",
            "Basal stroma 6−10 µm thick, dark-brown, consisting of thick-walled aliformangular cells 4−7 µm diam. Subhymenium ca 12 µm thick, hyaline, composed of\n",
            "angular cells. Paraphyses 110−160 × 1.5−2.0 µm, ﬁliform, irregularly swollen\n",
            "to 2.0−3.0 µm or occasionally branched above, covered with a mucous coating.\n",
            "Asci maturing sequentially, 100−145 × 6−7.5 µm, cylindrical, short-stalked,\n",
            "apex round, thin-walled, J−, 8-spored. Ascospores arranged in fascicles\n",
            "sometimes helically coiled, 70−95 × 1.2−1.6 µm, ﬁliform, hyaline, 0−1-septate,\n",
            "enveloped in a ca 0.5 µm thick gelatinous sheath.\n",
            "\n",
            " {\n",
            "     \"taxon\": \"Lophodermium agathidis Minter & Hettige, New Zealand Journal of Botany 21: 39, 1983\",\n",
            "     \"description\": \"Zone lines usually frequent, surrounding the bleached spots.\\nConidiomata with a distribution on the leaf similar to that of the ascomata,\\nscattered to crowded. In surface view, conidiomata 140-300 µm diam.,\\nsomewhat round, black-brown in the centre and at the perimeter line of the\\nconidioma, concolorous with the substratum surface elsewhere, or grey-brown\\nto black-brown as a whole. In vertical section, conidiomata subepidermal.\\nUpper wall 4-7 µm thick, dark-brown, consisting of thick-walled angular\\ncells 2-4 diam. Basal wall brown to dark-brown, composed of 1-2 layers of\\nthin-walled angular cells 3-5 µm diam. Subconidiogenous layer 7-10 µm\\nthick, consisting of thick-walled angular cells. Conidiogenous cells 10-16 ×\\n2.0-3.0 µm, ﬂask-shape, proliferating sympodially. Conidia 3.0-4.0 × ca 1.0\\nµm, elliptical, hyaline, aseptate.\\nAscomata on both sides of leaves scattered in irregular, yellow-brown\\nbleached spots. In surface view, ascomata 800-1900(-2300) × 390-650 µm,\\neliptical to elongate-elliptical, black, slightly raising the substratum surface,\\nopening by a longitudinal split. Lips light reddish-brown. In median vertical\\nsection, ascomata subepidermal. Covering stroma consisting of thick-walled\\naliform-angular cells 3-7 µm diam., 55-70 µm thick and heavily carbonized near\\nthe opening, other parts dark-brown, becoming suddenly thinner towards the\\nedge. Lip cells arranged in a subparallel manner or slightly radially, cylindrical.\\nBasal stroma 6-10 µm thick, dark-brown, consisting of thick-walled aliformangular cells 4-7 µm diam. Subhymenium ca 12 µm thick, hyaline, composed of\\nangular cells. Paraphyses 110-160 × 1.5-2.0 µm, ﬁliform, irregularly swollen\\nto 2.0-3.0 µm or occasionally branched above, covered with a mucous coating.\\nAsci maturing sequentially, 100-145 × 6-7.5 µm, cylindrical, short-stalked,\\napex round, thin-walled, J- , 8-spored. Ascospores arranged in fascicles\\nsometimes helically coiled, 70-95 × 1.2-1.6 µm, ﬁliform, hyaline, 0-1-septate,\\nenveloped in a ca 0.5 µm thick gelatinous sheath.\",\n",
            "     \"paragraph_number\": 168,\n",
            "     \"page_number\": 7,\n",
            "     \"empirical_page_number\": \"317\"\n",
            "   }\n",
            "Send to LLM:\n",
            "\n",
            "Ascomata coalescentia. Singula ascomata (650−)1000−1800(−2200) × 350−560 µm,\n",
            "plerumque elliptica, subepidermalia. Extentio valde carbonacea ad apicem stromatis\n",
            "tegentis aﬃxa. Excipulum maxime debiliter evolutum. Paraphyses ﬁliformes. Asci 90−130\n",
            "\n",
            "× 6.0−7.0 µm, cylindrici. Ascosporae 60−110 × 1.5−1.8 µm, ﬁliformes, hyalinae, vagina\n",
            "gelatinosa indutae.\n",
            "\n",
            "Zone lines infrequent, thin, grey-brown to brown, sometimes not deﬁned,\n",
            "surrounding or partly surrounding the bleached spots.\n",
            "Conidiomata absent.\n",
            "Ascomata developing on lower side of leaves, 2−9 ascomata coalescent in\n",
            "irregular, yellowish bleached spots 15−25 µm diam. In surface view, ascomata\n",
            "interlaced or accumulatively coalescent, forming multilocular fruit bodies.\n",
            "Single ascomata (650−)1000−1800(−2200) × 350−560 µm, elliptical, sometimes\n",
            "branching into lobed or polygonal shapes, black, slightly shiny, markedly raising\n",
            "the substratum surface, opening by a longitudinal split more than 4/5 the length\n",
            "of the ascoma or by not less than 3 lobes. Lips absent. In median vertical section,\n",
            "ascomata subepidermal with epidermal cells becoming ﬁlled with fungal tissue\n",
            "as ascomata develop. Covering stroma 20−30 µm thick, composed of blackbrown textura angularis-globulosa with thick-walled cells. Along the edge of\n",
            "the ascoma opening, there is a short extension, about 12 µm thick, adjacent to\n",
            "the covering stroma, which is comprised of strongly carbonized tissue with no\n",
            "obvious cellular structure. Basal stroma strongly concave, 10−18 µm thick,\n",
            "composed of 3−4 layers of black-brown, angular and globose cells 2.8−4.0 µm\n",
            "diam., extending to the covering stroma. Colorless to light grey-brown textura\n",
            "prismatica 10−22 µm thick exists between the covering stroma and basal\n",
            "stroma. Excipulum very poorly developed, arising from the inner layer of the\n",
            "basal stroma, consisting of hyaline textura porrecta. Subhymenium 8−12 µm\n",
            "thick, composed of hyaline textura angularis. Paraphyses 120−160 × 1.4−1.6\n",
            "µm, ﬁliform, usually gradually swollen to ca 2.0 µm at the apex, not branched,\n",
            "covered with a ca 0.8 µm thick mucous coating. Asci maturing sequentially,\n",
            "90−130 × 6.0−7.0 µm, cylindrical, short-stalked, apex round, J−, 8-spored.\n",
            "Ascospores arranged in a fascicle or helically coiled, 60−110 × 1.5−1.8 µm,\n",
            "ﬁliform, hyaline, aseptate, enveloped in a 1.0−1.5 µm thick gelatinous sheath.\n",
            "\n",
            " {\n",
            "     \"taxon\": \"Terriera coacervata Y.R. Lin & Q. Zheng, sp. nov.\",\n",
            "     \"description\": [\n",
            "         \"Ascomata coalescentia.\",\n",
            "         \"Singula ascomata (650−)1000−1800(−2200) × 350−560 µm, plerumque elliptica, subepidermalia.\",\n",
            "         \"Extentio valde carbonacea ad apicem stromatis tententis aﬃxa.\",\n",
            "         \"Excipulum maxime debiliter evolutum.\",\n",
            "         \"Paraphyses ﬁliformes.\",\n",
            "         \"Asci 90−130 × 6.0−7.0 µm, cylindrici.\",\n",
            "         \"Ascosporae 60−110 × 1.5−1.8 µm, ﬁliformes, hyalinae, vagina gelatinosa indutae.\",\n",
            "         \"Zone lines infrequent, thin, grey-brown to brown, sometimes not deﬁned, surrounding or partly surrounding the bleached spots.\",\n",
            "         \"Conidiomata absent.\",\n",
            "         \"Ascomata developing on lower side of leaves, 2−9 ascomata coalescent in irregular, yellowish bleached spots 15−25 µm diam. In surface view, ascomata interlaced or accumulatively coalescent, forming multilocular fruit bodies.\",\n",
            "         \"Single ascomata (650−)1000−1800(−2200) × 350−560 µm, elliptical, sometimes branching into lobed or polygonal shapes, black, slightly shiny, markedly raising the substratum surface, opening by a longitudinal split more than 4/5 the length of the ascoma or by not less than 3 lobes. Lips absent.\",\n",
            "         \"In median vertical section, ascomata subepidermal with epidermal cells becoming filled with fungal tissue as ascomata develop.\",\n",
            "         \"Covering stroma 20−30 µm thick, composed of blackbrown textura angularis-globulosa with thick-walled cells.\",\n",
            "         \"Along the edge of the ascoma opening, there is a short extension, about 12 µm thick, adjacent to the covering stroma, which is comprised of strongly carbonized tissue with no obvious cellular structure.\",\n",
            "         \"Basal stroma strongly concave, 10−18 µm thick, composed of black-brown, angular and globose cells 2.8−4.0 µm diam., extending to the covering stroma.\",\n",
            "         \"Colorless to light grey-brown textura prismatica 10−22 µm thick exists between the covering stroma and basal stroma.\",\n",
            "         \"Excipulum very poorly developed, arising from the inner layer of the basal stroma, consisting of hyaline textura porrecta.\",\n",
            "         \"Subhymenium 8−12 µm thick, composed of hyaline textura angularis.\",\n",
            "         \"Paraphyses 120−160 × 1.4−1.6 µm, ﬁliform, usually gradually swollen to ca 2.0 µm at the apex, not branched, covered with a ca 0.8 µm thick mucous coating.\",\n",
            "         \"Asci maturing sequentially, 90−130 × 6.0−7.0 µm, cylindrical, short-stalked, apex round, J−, 8-spored.\",\n",
            "         \"Ascospores arranged in a fascicle or helically coiled, 60−110 × 1.5−1.8 µm, ﬁliform, hyaline, aseptate, enveloped in a 1.0−1.5 µm thick gelatinous sheath.\"\n",
            "     ],\n",
            "     \"paragraph_number\": 180,\n",
            "     \"page_number\": 8,\n",
            "     \"empirical_page_number\": \"318\"\n",
            "   }\n",
            "Send to LLM:\n",
            "\n",
            "Zone lines frequent, black, thin, surrounding or partly surrounding the\n",
            "bleached spots.\n",
            "Conidiomata absent.\n",
            "Ascomata developing on the upper side of leaves, crowded in yellowish to\n",
            "yellow-brown bleached spots. In surface view, ascomata 300−380 × 280−330\n",
            "µm, subcircular to broad-elliptical, black, shiny, with a clearly deﬁned edge,\n",
            "moderately raising the surface of the substratum, opening by a longitudinal\n",
            "split. Lips absent. In median vertical section, ascomata subepidermal. Covering\n",
            "stroma 25−30 µm thick, consisting of black-brown textura angularis with\n",
            "cells 4.5−6.5 µm diam. Along the edge of the ascomatal opening, there is\n",
            "an extension, about 15 µm thick, adjacent to the covering stroma, which is\n",
            "comprised of strongly carbonized tissue with no obvious cellular structure and\n",
            "tends to disappear as the ascomata mature. Basal stroma concave and cupshaped, 12−18 µm thick, consisting of black-brown textura angularis with 2(−3)\n",
            "layers of cells 5.0−7.5 µm diam., extending to the covering stroma. Colorless or\n",
            "light brown textura prismatica 15−20 µm thick exists between the covering and\n",
            "basal stromata. Subhymenium 12−15 µm thick, consisting of textura angularisporrecta. Paraphyses 115−150 × 1.0−1.5 µm, ﬁliform, the top not swollen or\n",
            "branched, covered with an inconspicuous mucous coating. Asci maturing\n",
            "sequentially, 90−135 × 4.0−5.0 µm, narrow-cylindrical or cylindric-clavate,\n",
            "long-stalked, apex round, J−, 8-spored. Ascospores fasciculate, 65−95 × ca\n",
            "1.0 µm, ﬁliform, hyaline, aseptate, enveloped in an inconspicuous gelatinous\n",
            "sheath.\n",
            "\n",
            "Specimens examined: On Lithocarpus cleistocarpus: CHINA, Anhui, Mt Huangshan,\n",
            "Shibawan, alt. ca 1000 m, 22 September 2004, S.J. Wang, Y.F. He, Y.R. Lin 1806 (AAUF\n",
            "67914).\n",
            "\n",
            " {\n",
            "     \"taxon\": \"Terriera illiciicola (S.J. Wang, Y.F. He & Y.R. Lin) Q. Zheng & Y.R. Lin, comb. nov.\\n\\n≡ Lophodermium illiciicola S.J. Wang, Y.F. He & Y.R. Lin, Mycosystema 25: 1, 2006.\",\n",
            "     \"description\": \"Zone lines frequent, black, thin, surrounding or partly surrounding the\\nbleached spots.\\nConidiomata absent.\\nAscomata developing on the upper side of leaves, crowded in yellowish to\\nyellow-brown bleached spots. In surface view, ascomata 300−380 × 280−330\\nµm, subcircular to broad-elliptical, black, shiny, with a clearly defined edge,\\nmoderately raising the surface of the substratum, opening by a longitudinal\\nsplit. Lips absent. In median vertical section, ascomata subepidermal. Covering\\nstroma 25−30 µm thick, consisting of black-brown textura angularis with\\ncells 4.5−6.5 µm diam. Along the edge of the ascomatal opening, there is\\nan extension, about 15 µm thick, adjacent to the covering stroma, which is\\ncomprised of strongly carbonized tissue with no obvious cellular structure and\\ntends to disappear as the ascomata mature. Basal stroma concave and cupshaped, 12−18 µm thick, consisting of black-brown textura angularis with 2(−3)\\nlayers of cells 5.0−7.5 µm diam., extending to the covering stroma. Colorless or\\nlight brown textura prismatica 15−20 µm thick exists between the covering and\\nbasal stromata. Subhymenium 12−15 µm thick, consisting of textura angularisporrecta. Paraphyses 115−150 × 1.0−1.5 µm, ﬁliform, the top not swollen or\\nbranched, covered with an inconspicuous mucous coating. Asci maturing\\nsequentially, 90−135 × 4.0−5.0 µm, narrow-cylindrical or cylindric-clavate,\\nlong-stalked, apex round, J−, 8-spored. Ascospores fasciculate, 65−95 × ca\\n1.0 µm, filiform, hyaline, aseptate, enveloped in an inconspicuous gelatinous\\nsheath.\\n\\nSpecimens examined: On Lithocarpus cleistocarpus: CHINA, Anhui, Mt Huangshan,\\nShibawan, alt. ca 1000 m, 22 September 2004, S.J. Wang, Y.F. He, Y.R. Lin 1806 (AAUF\\n67914).\",\n",
            "     \"paragraph_number\": 201,\n",
            "     \"page_number\": 11,\n",
            "     \"empirical_page_number\": \"321\"\n",
            "   }\n",
            "Send to LLM:\n",
            "\n",
            "Coloniae in agaro 'V8 succus' cinereae vel brunneae, ﬂoccosae. Hyphae pallide brunneae,\n",
            "ramosae, septatae, laevis. Stromata absentia. Conidiophora singularia, erecta, vel ﬂexuosa,\n",
            "\n",
            "\n",
            "\n",
            "\n",
            "\n",
            "\n",
            "supra geniculata, laevia vel verruculosa, pallide brunnea, ad 340 μm longa, 5–10 μm lata.\n",
            "Conidia pallide brunnea vel brunnea, concoloria, lepto-obclavata vel rostrata, recta vel\n",
            "leviter curvata, laevia, ad vel infra septum basale constricta, apex obtusus, basis obconica,\n",
            "hilo protrudenti, 6–20(–26)-distoseptata, 80.5–285 × 12.5–27 μm. In foliis Neoregeliae\n",
            "carolinae.\n",
            "\n",
            "Colonies on V8 juice agar gray to brown, ﬂoccose. Hyphae pale brown, branched,\n",
            "septate, and smooth. Stromata not formed. Conidiophore solitary, straight, or\n",
            "ﬂexuous, sometimes geniculate above, smooth to verruculose, pale brown, up\n",
            "to 340 µm long, 5–10 µm wide. Conidia pale brown to brown, concolorous,\n",
            "narrowly obclavate or rostrate, straight or slightly curved, smooth, sometimes\n",
            "constricted at basal septum or below it, apex obtuse, basal cell obconic, with a\n",
            "distinctly protruding hilum, 6–20(–26)-distoseptate, 80.5–285 × 12.5–27 µm\n",
            "(av. 187.2 × 20.6).\n",
            "\n",
            " {\n",
            "    \"taxon\": \"Exserohilum neoregeliae Sakoda & Tsukib., sp. nov.\",\n",
            "    \"description\": \"Coloniae in agaro 'V8 succus' cinereae vel brunneae, ﬂoccosae.\\nHyphae pallide brunneae,\\nramosae, septatae, laevis. Stromata absentia. Conidiophora singularia, erecta, vel ﬂexuosa,\\n\\n\\n\\n\\n\\n\\nsupra geniculata, laevia vel verruculosa, pallide brunnea, ad 340 μm longa, 5–10 μm lata.\\nConidia pallide brunnea vel brunnea, concoloria, lepto-obclavata vel rostrata, recta vel\\nleviter curvata, laevia, ad vel infra septum basale constricta, apex obtusus, basis obconica,\\nhilo protrudenti, 6–20(–26)-distoseptata, 80.5–285 × 12.5–27 μm. In foliis Neoregeliae\\ncarolinae.\\n\\nColonies on V8 juice agar gray to brown, ﬂoccose. Hyphae pale brown, branched,\\nseptate, and smooth. Stromata not formed. Conidiophore solitary, straight, or\\nﬂexuous, sometimes geniculate above, smooth to verruculose, pale brown, up\\nto 340 µm long, 5–10 µm wide. Conidia pale brown to brown, concolorous,\\nnarrowly obclavate or rostrate, straight or slightly curved, smooth, sometimes\\nconstricted at basal septum or below it, apex obtuse, basal cell obconic, with a\\ndistinctly protruding hilum, 6–20(–26)-distoseptate, 80.5–285 × 12.5–27 µm (av. 187.2 × 20.6).\",\n",
            "    \"paragraph_number\": 261,\n",
            "    \"page_number\": 2,\n",
            "    \"empirical_page_number\": \"214\"\n",
            "}\n"
          ]
        }
      ]
    }
  ],
  "metadata": {
    "colab": {
      "provenance": [],
      "gpuType": "V28",
      "include_colab_link": true
    },
    "kernelspec": {
      "display_name": "Python 3",
      "name": "python3"
    },
    "language_info": {
      "name": "python"
    },
    "accelerator": "TPU"
  },
  "nbformat": 4,
  "nbformat_minor": 0
}