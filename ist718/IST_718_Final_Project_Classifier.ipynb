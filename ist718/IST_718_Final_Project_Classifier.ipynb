{
  "cells": [
    {
      "cell_type": "markdown",
      "source": [
        "# SKOL II: Preprocessing\n",
        "\n",
        "created by:\n",
        "* Christopher Murphy\n",
        "* La Monte Yarroll\n",
        "* David Caspers"
      ],
      "metadata": {
        "id": "vdUfyeOEulxm"
      }
    },
    {
      "cell_type": "code",
      "execution_count": 1,
      "metadata": {
        "id": "5tda4LKZUtUu"
      },
      "outputs": [],
      "source": [
        "# install PySpark\n",
        "! pip install pyspark >& /dev/null\n",
        "! pip install sparknlp >& /dev/null"
      ]
    },
    {
      "cell_type": "code",
      "execution_count": 43,
      "metadata": {
        "id": "IeMBGpu8rYXf"
      },
      "outputs": [],
      "source": [
        "#import needed modules\n",
        "import os\n",
        "import glob\n",
        "from typing import List\n",
        "from pathlib import Path\n",
        "\n",
        "import numpy as np\n",
        "import pandas as pd\n",
        "import matplotlib.pyplot as plt\n",
        "import seaborn as sns\n",
        "\n",
        "import sparknlp\n",
        "from sparknlp.pretrained import PretrainedPipeline\n",
        "from pyspark.sql.functions import (\n",
        "    input_file_name, collect_list, concat_ws, col, udf,\n",
        "    explode, collect_list, regexp_extract, regexp_replace,\n",
        "    split, flatten, transform)\n",
        "from pyspark.sql.types import ArrayType, StringType\n",
        "\n",
        "from pyspark.ml import Pipeline, Transformer\n",
        "from pyspark.ml.feature import Tokenizer, HashingTF, IDF, StringIndexer, CountVectorizer, PCA\n",
        "from pyspark.ml.classification import LogisticRegression, RandomForestClassifier, GBTClassifier\n",
        "from pyspark.ml.evaluation import MulticlassClassificationEvaluator\n",
        "from pyspark.sql.functions import split, row_number, min\n",
        "from pyspark.ml.linalg import Vectors, VectorUDT, DenseVector\n",
        "from pyspark.sql.types import DoubleType, StructField, StructType"
      ]
    },
    {
      "cell_type": "markdown",
      "metadata": {
        "id": "tn6VsuAXrh7D"
      },
      "source": [
        "# **Mapping Data Files: Google Drive**"
      ]
    },
    {
      "cell_type": "code",
      "execution_count": 3,
      "metadata": {
        "colab": {
          "base_uri": "https://localhost:8080/"
        },
        "id": "r5jGKzUfrwaV",
        "outputId": "621585ec-570c-4915-af26-128787461d47"
      },
      "outputs": [
        {
          "output_type": "stream",
          "name": "stdout",
          "text": [
            "Drive already mounted at /content/drive; to attempt to forcibly remount, call drive.mount(\"/content/drive\", force_remount=True).\n"
          ]
        }
      ],
      "source": [
        "from google.colab import drive\n",
        "drive.mount(\"/content/drive\")"
      ]
    },
    {
      "cell_type": "markdown",
      "metadata": {
        "id": "YUT4tUcDu4qR"
      },
      "source": [
        "# **Checking the file counts in the directories**"
      ]
    },
    {
      "cell_type": "code",
      "execution_count": 4,
      "metadata": {
        "id": "oFPefKgUuAWv"
      },
      "outputs": [],
      "source": [
        "raw_directory_path = '/content/drive/MyDrive/SKOL/raw_2025_02_05/'\n",
        "ann_directory_path = '/content/drive/MyDrive/SKOL/annotated_2025_02_27/journals'"
      ]
    },
    {
      "cell_type": "markdown",
      "metadata": {
        "id": "puPtns5oiHJr"
      },
      "source": [
        "## Checking the file counts in the directories"
      ]
    },
    {
      "cell_type": "code",
      "execution_count": 5,
      "metadata": {
        "id": "bsnHqX23dsxV"
      },
      "outputs": [],
      "source": [
        "# Function that reports file counts for a Google Drive folder path\n",
        "def listFiles(folder: str) -> List[str]:\n",
        "  # List all files in the folder\n",
        "  try:\n",
        "      files = [file for file in glob.glob(f'{folder}/**/*.txt*', recursive=True) if 'Sydowia' not in file]\n",
        "      return files\n",
        "  except FileNotFoundError:\n",
        "      print(f\"Folder '{folder}' not found.\")\n",
        "  except PermissionError:\n",
        "      print(f\"Permission denied to access folder '{folder}'.\")"
      ]
    },
    {
      "cell_type": "code",
      "execution_count": 6,
      "metadata": {
        "colab": {
          "base_uri": "https://localhost:8080/"
        },
        "id": "85IAP2WKhQYp",
        "outputId": "b92d707d-a85e-4b76-bbba-ba699ed5385f"
      },
      "outputs": [
        {
          "output_type": "execute_result",
          "data": {
            "text/plain": [
              "['/content/drive/MyDrive/SKOL/raw_2025_02_05/authors/FungalNameAuthors.txt',\n",
              " '/content/drive/MyDrive/SKOL/raw_2025_02_05/Mycologia/3753420.txt',\n",
              " '/content/drive/MyDrive/SKOL/raw_2025_02_05/Mycologia/3753372.txt',\n",
              " '/content/drive/MyDrive/SKOL/raw_2025_02_05/Mycologia/3753466.txt',\n",
              " '/content/drive/MyDrive/SKOL/raw_2025_02_05/Mycologia/3753104.txt',\n",
              " '/content/drive/MyDrive/SKOL/raw_2025_02_05/Mycologia/3753322.txt',\n",
              " '/content/drive/MyDrive/SKOL/raw_2025_02_05/Mycologia/mycologiaeuropa00persgoog.txt',\n",
              " '/content/drive/MyDrive/SKOL/raw_2025_02_05/Mycologia/3753038.txt',\n",
              " '/content/drive/MyDrive/SKOL/raw_2025_02_05/Mycologia/3753160.txt',\n",
              " '/content/drive/MyDrive/SKOL/raw_2025_02_05/Mycologia/3753583.txt']"
            ]
          },
          "metadata": {},
          "execution_count": 6
        }
      ],
      "source": [
        "# check file counts in raw directory\n",
        "listFiles(raw_directory_path)[:10]"
      ]
    },
    {
      "cell_type": "code",
      "execution_count": 7,
      "metadata": {
        "colab": {
          "base_uri": "https://localhost:8080/"
        },
        "id": "aLYkfNVyR_lR",
        "outputId": "aed46796-9f00-449a-e32a-2e2936cb1138"
      },
      "outputs": [
        {
          "output_type": "execute_result",
          "data": {
            "text/plain": [
              "['/content/drive/MyDrive/SKOL/annotated_2025_02_27/journals/Mycotaxon/Vol057/n1.txt.ann',\n",
              " '/content/drive/MyDrive/SKOL/annotated_2025_02_27/journals/Mycotaxon/Vol054/n1.txt.ann',\n",
              " '/content/drive/MyDrive/SKOL/annotated_2025_02_27/journals/Mycotaxon/Vol118/s17.txt.ann',\n",
              " '/content/drive/MyDrive/SKOL/annotated_2025_02_27/journals/Mycotaxon/Vol118/s29.txt.ann',\n",
              " '/content/drive/MyDrive/SKOL/annotated_2025_02_27/journals/Mycotaxon/Vol118/s30.txt.ann',\n",
              " '/content/drive/MyDrive/SKOL/annotated_2025_02_27/journals/Mycotaxon/Vol118/s7.txt.ann',\n",
              " '/content/drive/MyDrive/SKOL/annotated_2025_02_27/journals/Mycotaxon/Vol118/s21.txt.ann',\n",
              " '/content/drive/MyDrive/SKOL/annotated_2025_02_27/journals/Mycotaxon/Vol118/s13.txt.ann',\n",
              " '/content/drive/MyDrive/SKOL/annotated_2025_02_27/journals/Mycotaxon/Vol118/s1.txt.ann',\n",
              " '/content/drive/MyDrive/SKOL/annotated_2025_02_27/journals/Mycotaxon/Vol118/s46.txt.ann']"
            ]
          },
          "metadata": {},
          "execution_count": 7
        }
      ],
      "source": [
        "# check file counts in annotated directory\n",
        "listFiles(ann_directory_path)[:10]"
      ]
    },
    {
      "cell_type": "code",
      "execution_count": 8,
      "metadata": {
        "id": "zBswbvOcVmRo"
      },
      "outputs": [],
      "source": [
        "#start spark nlp session\n",
        "spark = sparknlp.start()"
      ]
    },
    {
      "cell_type": "code",
      "execution_count": 9,
      "metadata": {
        "id": "n9ggbOd7XKFS"
      },
      "outputs": [],
      "source": [
        "# read in the content into spark dataframes\n",
        "raw_df = spark.read.text(listFiles(raw_directory_path)).withColumn(\"filename\", input_file_name())"
      ]
    },
    {
      "cell_type": "code",
      "execution_count": 10,
      "metadata": {
        "colab": {
          "base_uri": "https://localhost:8080/"
        },
        "id": "_3CoOqWyeder",
        "outputId": "7ce5296d-a78d-41c4-993e-2fd5fb7ea6e7"
      },
      "outputs": [
        {
          "output_type": "stream",
          "name": "stdout",
          "text": [
            "+--------------------------------------------------------------------------------------------+---------------------------------------------------------------------------------------------------------------------------------------------------------------------------------------------------------------------------------------------------------------------------------------------------------------------------------------------------------------------------------------------------------------------------------------------------------------------------------------------------------------------------------------------------------------------------------------------------------------------------------------------------------------------------------------------------+---------------+\n",
            "|filename                                                                                    |value                                                                                                                                                                                                                                                                                                                                                                                                                                                                                                                                                                                                                                                                                              |label          |\n",
            "+--------------------------------------------------------------------------------------------+---------------------------------------------------------------------------------------------------------------------------------------------------------------------------------------------------------------------------------------------------------------------------------------------------------------------------------------------------------------------------------------------------------------------------------------------------------------------------------------------------------------------------------------------------------------------------------------------------------------------------------------------------------------------------------------------------+---------------+\n",
            "|file:///content/drive/MyDrive/SKOL/annotated_2025_02_27/journals/Persoonia/Vol016/n1.txt.ann|Published by Rijksherbarium / Hortus Botanicus, Leiden Volume 16, Part 1, pp. 1-80 (1995)                                                                                                                                                                                                                                                                                                                                                                                                                                                                                                                                                                                                          |Misc-exposition|\n",
            "|file:///content/drive/MyDrive/SKOL/annotated_2025_02_27/journals/Persoonia/Vol016/n1.txt.ann|The genus Crepidotus in Europe is considered. After an examination of 550 collections seventeen species and eight varieties are recognized. Two keys are supplied; all taxa accept- ed are typified.                                                                                                                                                                                                                                                                                                                                                                                                                                                                                               |Misc-exposition|\n",
            "|file:///content/drive/MyDrive/SKOL/annotated_2025_02_27/journals/Persoonia/Vol016/n1.txt.ann|Morphological, ecological and chorological characters are critically evaluated. Descrip- live statistics are used for basidiospore size. An infrageneric classification is proposed based on phenetic relationships using different cluster methods, The new combinations C. calo- lepis var. squamulosus and C. cesatii var. subsphaerosporus are introduced. The spore orna- mentation as seen in the scanning electron microscope provides the best character for species delimitation and classification.                                                                                                                                                                                      |Misc-exposition|\n",
            "|file:///content/drive/MyDrive/SKOL/annotated_2025_02_27/journals/Persoonia/Vol016/n1.txt.ann|Fries (1821: 272) established Agaricus series Derminus tribus Crepidotus for more or less pleurotoid species with ferruginous or pale argillaceous spores and an ephemeral, fibrillose veil (!). His fourteen species include such taxa as Paxillus atrotomentosus, Lentinellus vulpinus, Panellus violaceo-fulvus and Entoloma depluens which nowadays are placed in quite different genera and families. Only three of Fries' species belong to the genus Crepidotus as conceived now. This demonstrates the importance of microscopic characters, neglected by Fries, for the circumscription of species and genera.                                                                            |Misc-exposition|\n",
            "|file:///content/drive/MyDrive/SKOL/annotated_2025_02_27/journals/Persoonia/Vol016/n1.txt.ann|Staude (1857) raised the tribus Crepidotus to generic rank with C. mollis as the sole species. Hesler & Smith (1965) dealt with the history of the genus Crepidotus in more detail.                                                                                                                                                                                                                                                                                                                                                                                                                                                                                                                |Misc-exposition|\n",
            "|file:///content/drive/MyDrive/SKOL/annotated_2025_02_27/journals/Persoonia/Vol016/n1.txt.ann|In recent years several regional floras have been published, e.g. Ortega & Buendia (1989) for Spain, Watling & Gregory (1989) for the British Isles and Norstein (1990) for Norway. None of these includes critical revisions of type collections.                                                                                                                                                                                                                                                                                                                                                                                                                                                 |Misc-exposition|\n",
            "|file:///content/drive/MyDrive/SKOL/annotated_2025_02_27/journals/Persoonia/Vol016/n1.txt.ann|Pilát (1948) provided the first European monograph. Since then six new species have been described and new techniques and methods have been developed, e.g. the study of ultrastructures and numerical taxonomy, which allow a critical reassessment of the taxon- omy in this genus.                                                                                                                                                                                                                                                                                                                                                                                                              |Misc-exposition|\n",
            "|file:///content/drive/MyDrive/SKOL/annotated_2025_02_27/journals/Persoonia/Vol016/n1.txt.ann|I owe my best thanks to Kees Bas for many discussions and to Marijke Nauta and Leo Jalink for their kind hospitality during my stays in Leiden. I thank Thomas Kuyper (Wijster) for his comments on nomen- clature, Irene Bisang (Zürich) and Stein Norstein (Oslo) for helpful discussions, Lucia Wick (Bern) for preparing the SEM-pictures, Norbert Arnold (Regensburg) for chemical tests, Margrit Kummer for inking of text-figures, and the directors and curators of the various herbaria for loans, as well as all persons who provided me with fresh or dried material. Also I would like to express my appreciation to my husband, Roland, for help in writing several computer programs.|Misc-exposition|\n",
            "|file:///content/drive/MyDrive/SKOL/annotated_2025_02_27/journals/Persoonia/Vol016/n1.txt.ann|The microscopic structures were mainly observed in dried material. Fragments of lamellae were mounted in Congo red, heated and examined in 596 KOH. The structure of the pileipellis was examined in 10% ammonia or 5% KOH. The ornamentation and the colour of the spores were studied in 5% KOH.                                                                                                                                                                                                                                                                                                                                                                                                 |Misc-exposition|\n",
            "|file:///content/drive/MyDrive/SKOL/annotated_2025_02_27/journals/Persoonia/Vol016/n1.txt.ann|The spore sizes are given with an approximation of 0.5 µm; they are based on 20 spores measurements per collection. Spores measured were taken from the surface of the pileus. Q is the length-width ratio of spores.                                                                                                                                                                                                                                                                                                                                                                                                                                                                              |Misc-exposition|\n",
            "+--------------------------------------------------------------------------------------------+---------------------------------------------------------------------------------------------------------------------------------------------------------------------------------------------------------------------------------------------------------------------------------------------------------------------------------------------------------------------------------------------------------------------------------------------------------------------------------------------------------------------------------------------------------------------------------------------------------------------------------------------------------------------------------------------------+---------------+\n",
            "only showing top 10 rows\n",
            "\n"
          ]
        }
      ],
      "source": [
        "# Read the annotated dataframe\n",
        "ann_df_agg = spark.read.text(listFiles(ann_directory_path)).withColumn(\"filename\", input_file_name())\n",
        "\n",
        "# UDF to extract and aggregate text between '[' and ']'\n",
        "def extract_paragraphs(lines):\n",
        "    aggregated = []\n",
        "    temp = []\n",
        "    inside_brackets = False\n",
        "\n",
        "    for line in lines:\n",
        "        stripped_line = line.strip()\n",
        "        if stripped_line.startswith(\"[\"):\n",
        "            inside_brackets = True\n",
        "            temp = [stripped_line]  # Start a new paragraph\n",
        "        elif stripped_line.endswith(\"]\") and inside_brackets:\n",
        "            temp.append(stripped_line)\n",
        "            aggregated.append(\" \".join(temp))  # Store the completed paragraph\n",
        "            temp = []\n",
        "            inside_brackets = False\n",
        "        elif inside_brackets:\n",
        "            temp.append(stripped_line)\n",
        "\n",
        "    return aggregated\n",
        "\n",
        "extract_udf = udf(extract_paragraphs, ArrayType(StringType()))\n",
        "\n",
        "def collapse_labels(label):\n",
        "  if label not in ['Nomenclature', 'Description']:\n",
        "    return 'Misc-exposition'\n",
        "  return label\n",
        "\n",
        "collapse_udf = udf(collapse_labels, StringType())\n",
        "\n",
        "grouped_ann_df = (\n",
        "    ann_df_agg.groupBy(\"filename\")\n",
        "    .agg(collect_list(\"value\").alias(\"lines\"))\n",
        "    .withColumn(\"value\", explode(extract_udf(col(\"lines\"))))\n",
        "    .drop(\"lines\")\n",
        ")\n",
        "\n",
        "# Define regex pattern to extract label\n",
        "label_pattern = r\"#(\\S+?)(?:\\*)?]\"  # Captures text after '#' and removes trailing '*', if present\n",
        "lead_pattern = r\"^\\[@\"              # start of line with \"[@\" character\n",
        "trail_pattern = label_pattern+r\"$\"  # end of line\n",
        "clean_pattern = lead_pattern+r\"(.*)\"+trail_pattern  #trim lead and trail patterns\n",
        "\n",
        "grouped_ann_df = grouped_ann_df\\\n",
        "  .withColumn(\"label\", regexp_extract(col(\"value\"), label_pattern, 1))\\\n",
        "  .withColumn(\"value\", regexp_extract(col(\"value\"), clean_pattern, 1))\\\n",
        "  .withColumn(\"label\", collapse_udf(col(\"label\")))\n",
        "\n",
        "# *** Remove this code when move to github application code ***\n",
        "grouped_ann_df.show(10, truncate=False)"
      ]
    },
    {
      "cell_type": "markdown",
      "metadata": {
        "id": "G1FpSMtBQYVa"
      },
      "source": [
        "# Pipeline Code\n"
      ]
    },
    {
      "cell_type": "code",
      "execution_count": 49,
      "metadata": {
        "id": "eInMwjsuPLSW"
      },
      "outputs": [],
      "source": [
        "# Tokenizing documents using Tokenizer\n",
        "tokenizer = Tokenizer(inputCol=\"value\", outputCol=\"words\")\n",
        "\n",
        "# Using CountVectorizer for term frequency\n",
        "count_vectorizer = CountVectorizer(inputCol=\"words\", outputCol=\"tf\")\n",
        "\n",
        "# IDF for term frequency transformation\n",
        "idf = IDF(inputCol=\"tf\", outputCol=\"idf\", minDocFreq=10)\n",
        "\n",
        "# Converting text labels to index numbers\n",
        "indexer = StringIndexer(inputCol=\"label\", outputCol=\"label_indexed\")\n",
        "\n",
        "# Creating a Pipeline\n",
        "pipeline_feature_extraction = Pipeline(stages=[tokenizer, count_vectorizer, idf, indexer])\n",
        "\n",
        "#fit the model to the full dataset and capture the dataset created by the pipeline\n",
        "pipeline_model = pipeline_feature_extraction.fit(grouped_ann_df)\n",
        "features = pipeline_model.transform(grouped_ann_df)"
      ]
    },
    {
      "cell_type": "code",
      "execution_count": 12,
      "metadata": {
        "id": "ClbWGRTCN059"
      },
      "outputs": [],
      "source": [
        "# split the dataset between train (80% and test (20%)\n",
        "train_data, test_data = features.randomSplit([0.8, 0.2], seed=42)"
      ]
    },
    {
      "cell_type": "markdown",
      "metadata": {
        "id": "WTm63qJnhxTA"
      },
      "source": [
        "# Logistic Regression"
      ]
    },
    {
      "cell_type": "code",
      "execution_count": 13,
      "metadata": {
        "id": "upEpUGA0dVhP"
      },
      "outputs": [],
      "source": [
        "# Logistic Regression Model\n",
        "logistic_regression = LogisticRegression(family=\"multinomial\", maxIter=10, regParam=0.01,\n",
        "                                         featuresCol=\"idf\", labelCol=\"label_indexed\")\n",
        "\n",
        "# Creating a Pipeline for the regression step\n",
        "pipeline_lr = Pipeline(stages=[logistic_regression])\n",
        "\n",
        "# Fitting the pipeline to the dataset\n",
        "log_model = pipeline_lr.fit(train_data)\n",
        "\n",
        "# Making predictions on the test dataset\n",
        "predictions_lr = log_model.transform(test_data)"
      ]
    },
    {
      "cell_type": "code",
      "execution_count": 15,
      "metadata": {
        "id": "dtQiIaB8Pxvv",
        "colab": {
          "base_uri": "https://localhost:8080/"
        },
        "outputId": "3157a26c-c161-436e-c2fd-9374583c62a0"
      },
      "outputs": [
        {
          "output_type": "stream",
          "name": "stdout",
          "text": [
            "+-------------+----------+--------------------+\n",
            "|label_indexed|prediction|                 idf|\n",
            "+-------------+----------+--------------------+\n",
            "|          0.0|       0.0|(201112,[0,1,2,5,...|\n",
            "|          1.0|       1.0|(201112,[3,58,81,...|\n",
            "|          0.0|       0.0|(201112,[145,224,...|\n",
            "|          0.0|       0.0|(201112,[1,7,43,4...|\n",
            "|          1.0|       1.0|(201112,[2,4,5,7,...|\n",
            "|          0.0|       0.0|(201112,[0,1,2,4,...|\n",
            "|          0.0|       2.0|(201112,[0,1,2,3,...|\n",
            "|          1.0|       1.0|(201112,[0,1,2,3,...|\n",
            "|          0.0|       0.0|(201112,[1,5,12,2...|\n",
            "|          0.0|       0.0|(201112,[7,8,12,2...|\n",
            "+-------------+----------+--------------------+\n",
            "only showing top 10 rows\n",
            "\n"
          ]
        }
      ],
      "source": [
        "# Show sample predictions\n",
        "predictions_lr.select(\"label_indexed\", \"prediction\", \"idf\").show(10)"
      ]
    },
    {
      "cell_type": "code",
      "execution_count": 16,
      "metadata": {
        "id": "w1TtW_hrQP1h"
      },
      "outputs": [],
      "source": [
        "# Create evaluators for each Metric\n",
        "# MulticlassClassificationEvaluator is used for classification models\n",
        "# label_indexed specifies the labels from the dataset\n",
        "accuracy_evaluator = MulticlassClassificationEvaluator(\n",
        "    labelCol=\"label_indexed\", predictionCol=\"prediction\", metricName=\"accuracy\")\n",
        "\n",
        "precision_evaluator = MulticlassClassificationEvaluator(\n",
        "    labelCol=\"label_indexed\", predictionCol=\"prediction\", metricName=\"precisionByLabel\")\n",
        "\n",
        "recall_evaluator = MulticlassClassificationEvaluator(\n",
        "    labelCol=\"label_indexed\", predictionCol=\"prediction\", metricName=\"recallByLabel\")\n",
        "\n",
        "f1_evaluator = MulticlassClassificationEvaluator(\n",
        "    labelCol=\"label_indexed\", predictionCol=\"prediction\", metricName=\"f1\")\n",
        "\n",
        "def stats(prediction):\n",
        "  '''apply the evaluators to the prediction dataframe to calculate metric scores'''\n",
        "  accuracy = accuracy_evaluator.evaluate(predictions)\n",
        "  precision = precision_evaluator.evaluate(predictions)\n",
        "  recall = recall_evaluator.evaluate(predictions)\n",
        "  f1_score = f1_evaluator.evaluate(predictions)\n",
        "  # report performance measures\n",
        "  print(f\"Test Accuracy: {accuracy:.4f}\")\n",
        "  print(f\"Test Precision: {precision:.4f}\")\n",
        "  print(f\"Test Recall: {recall:.4f}\")\n",
        "  print(f\"Test F1 Score: {f1_score:.4f}\")"
      ]
    },
    {
      "cell_type": "code",
      "execution_count": 18,
      "metadata": {
        "id": "9ptENryWRlg4",
        "colab": {
          "base_uri": "https://localhost:8080/"
        },
        "outputId": "d91abbbb-0ea4-4330-a8f3-df26beed6c9e"
      },
      "outputs": [
        {
          "output_type": "stream",
          "name": "stdout",
          "text": [
            "Test Accuracy: 0.9418\n",
            "Test Precision: 0.9603\n",
            "Test Recall: 0.9666\n",
            "Test F1 Score: 0.9414\n"
          ]
        }
      ],
      "source": [
        "stats(predictions_lr)"
      ]
    },
    {
      "cell_type": "markdown",
      "metadata": {
        "id": "p3x6k5bghupu"
      },
      "source": [
        "# Random Forest Classifier"
      ]
    },
    {
      "cell_type": "code",
      "execution_count": 19,
      "metadata": {
        "id": "vK5MV110ht_6",
        "collapsed": true
      },
      "outputs": [],
      "source": [
        "#define the random forrest model\n",
        "random_forest = RandomForestClassifier(seed=42, labelCol=\"label_indexed\", featuresCol=\"idf\", numTrees=100)\n",
        "\n",
        "# Creating a Pipeline for the regression step\n",
        "pipeline_rf = Pipeline(stages=[random_forest])\n",
        "\n",
        "# Fitting the pipeline to the dataset\n",
        "rf_model = pipeline_rf.fit(train_data)\n",
        "\n",
        "# Making predictions on the test dataset\n",
        "predictions_rf = rf_model.transform(test_data)"
      ]
    },
    {
      "cell_type": "code",
      "execution_count": 20,
      "metadata": {
        "id": "3HmwpAyLkgT2",
        "colab": {
          "base_uri": "https://localhost:8080/"
        },
        "outputId": "bb507c80-d905-4549-8a95-c55ec8211122"
      },
      "outputs": [
        {
          "output_type": "stream",
          "name": "stdout",
          "text": [
            "+-------------+----------+--------------------+\n",
            "|label_indexed|prediction|                 idf|\n",
            "+-------------+----------+--------------------+\n",
            "|          0.0|       0.0|(201112,[0,1,2,5,...|\n",
            "|          1.0|       0.0|(201112,[3,58,81,...|\n",
            "|          0.0|       0.0|(201112,[145,224,...|\n",
            "|          0.0|       0.0|(201112,[1,7,43,4...|\n",
            "|          1.0|       0.0|(201112,[2,4,5,7,...|\n",
            "|          0.0|       0.0|(201112,[0,1,2,4,...|\n",
            "|          0.0|       0.0|(201112,[0,1,2,3,...|\n",
            "|          1.0|       0.0|(201112,[0,1,2,3,...|\n",
            "|          0.0|       0.0|(201112,[1,5,12,2...|\n",
            "|          0.0|       0.0|(201112,[7,8,12,2...|\n",
            "+-------------+----------+--------------------+\n",
            "only showing top 10 rows\n",
            "\n"
          ]
        }
      ],
      "source": [
        "# Show sample predictions\n",
        "predictions_rf.select(\"label_indexed\", \"prediction\", \"idf\").show(10)"
      ]
    },
    {
      "cell_type": "code",
      "execution_count": 21,
      "metadata": {
        "id": "wkR8eHvYklTc",
        "colab": {
          "base_uri": "https://localhost:8080/"
        },
        "outputId": "d5121df8-6099-477e-9ff8-015338320d52"
      },
      "outputs": [
        {
          "output_type": "stream",
          "name": "stdout",
          "text": [
            "Test Accuracy: 0.7878\n",
            "Test Precision: 0.7878\n",
            "Test Recall: 1.0000\n",
            "Test F1 Score: 0.6943\n"
          ]
        }
      ],
      "source": [
        "# report performance measures\n",
        "stats(predictions_rf)"
      ]
    },
    {
      "cell_type": "markdown",
      "metadata": {
        "id": "5stH_2kAomoF"
      },
      "source": [
        "# Principle Component Analysis"
      ]
    },
    {
      "cell_type": "code",
      "execution_count": 22,
      "metadata": {
        "id": "pa3rVa-wyxm1"
      },
      "outputs": [],
      "source": [
        "# Define a UDF to convert sparse vectors to dense vectors\n",
        "def sparse_to_dense_idf(sparse_idf):\n",
        "    #return (sparse_idf[0], Vectors.dense(sparse_idf[1].toArray()))\n",
        "    #return (sparse_idf[0], sparse_idf[1].toArray())\n",
        "    return sparse_idf.toArray()\n",
        "\n",
        "#sparse_to_dense_udf = udf(sparse_to_dense_idf, StructType(\n",
        "#    [StructField(\"index\", DoubleType()),\n",
        "#     StructField(\"denseidf\", VectorUDT())]))\n",
        "\n",
        "sparse_to_dense_udf = udf(sparse_to_dense_idf, VectorUDT())"
      ]
    },
    {
      "cell_type": "code",
      "execution_count": 23,
      "metadata": {
        "id": "Fx4AfQsx2gxB"
      },
      "outputs": [],
      "source": [
        "# Define a UDF to convert sparse vectors to dense vectors\n",
        "def sparse_to_dense(sparse_vector):\n",
        "    return Vectors.dense(sparse_vector.toArray())\n",
        "\n",
        "# Register the UDF with the correct return type\n",
        "sparse_to_dense_udf = udf(sparse_to_dense, VectorUDT())\n",
        "\n",
        "# Apply the UDF to convert sparse features to dense\n",
        "dense_features = features.withColumn(\"denseidf\", sparse_to_dense_udf(col(\"idf\")))"
      ]
    },
    {
      "cell_type": "markdown",
      "source": [
        "### This is not computationally feasible on colab. It ran for more than a day.\n",
        "```\n",
        "### execute PCA to reduce dimensions\n",
        "pca = PCA(k=10, inputCol=\"denseidf\", outputCol=\"pca_features\")\n",
        "\n",
        "### fit the model on the reduced PCA\n",
        "model = pca.fit(dense_features)\n",
        "\n",
        "### run the model\n",
        "result = model.transform(dense_features)\n",
        "```\n"
      ],
      "metadata": {
        "id": "52yeU0KEsSWL"
      }
    },
    {
      "cell_type": "markdown",
      "source": [
        "# Suffixes"
      ],
      "metadata": {
        "id": "-9PeAim-w97-"
      }
    },
    {
      "cell_type": "code",
      "source": [
        "def suffixes(words):\n",
        "  retval = []\n",
        "  for word in words:\n",
        "    retval.extend([word[-2:], word[-3:], word[-4:]])\n",
        "  return retval\n",
        "\n",
        "suffixes_udf = udf(suffixes, ArrayType(StringType()))\n",
        "\n",
        "class SuffixTransformer(Transformer):\n",
        "    def __init__(self, inputCol, outputCol):\n",
        "        super().__init__()\n",
        "        self.input_col = inputCol\n",
        "        self.output_col = outputCol\n",
        "\n",
        "    def _transform(self, df):\n",
        "      if isinstance(df.schema[self.input_col].dataType, ArrayType):\n",
        "        return df.withColumn(\n",
        "            self.output_col,\n",
        "            suffixes_udf(df[self.input_col]))\n",
        "      else:\n",
        "        raise ValueError(f\"Column '{self.input_col}' is not an array type but a {type(self.input_col)}.\")\n",
        "\n",
        "\n",
        "suffixer = SuffixTransformer(inputCol=\"words\", outputCol=\"suffixes\")\n",
        "\n",
        "# Using CountVectorizer for term frequency\n",
        "count_vectorizer = CountVectorizer(inputCol=\"suffixes\", outputCol=\"tf\")\n",
        "\n",
        "# Creating a Pipeline\n",
        "pipeline_feature_extraction = Pipeline(stages=[tokenizer, suffixer, count_vectorizer, idf, indexer])\n",
        "# pipeline_feature_extraction = Pipeline(stages=[tokenizer, suffixer])\n",
        "\n",
        "#fit the model to the full dataset and capture the dataset created by the pipeline\n",
        "pipeline_suffixes_model = pipeline_feature_extraction.fit(grouped_ann_df)\n",
        "features_suffixes = pipeline_suffixes_model.transform(grouped_ann_df)\n",
        "features_suffixes.show(10)"
      ],
      "metadata": {
        "colab": {
          "base_uri": "https://localhost:8080/"
        },
        "id": "9LhvRkMzw8lY",
        "outputId": "89cc84ab-1f36-4331-a408-ca3632e45b90"
      },
      "execution_count": 24,
      "outputs": [
        {
          "output_type": "stream",
          "name": "stdout",
          "text": [
            "+--------------------+--------------------+---------------+--------------------+--------------------+--------------------+--------------------+-------------+\n",
            "|            filename|               value|          label|               words|            suffixes|                  tf|                 idf|label_indexed|\n",
            "+--------------------+--------------------+---------------+--------------------+--------------------+--------------------+--------------------+-------------+\n",
            "|file:///content/d...|Published by Rijk...|Misc-exposition|[published, by, r...|[ed, hed, shed, b...|(75108,[9,17,20,2...|(75108,[9,17,20,2...|          0.0|\n",
            "|file:///content/d...|The genus Crepido...|Misc-exposition|[the, genus, crep...|[he, the, the, us...|(75108,[0,1,2,4,5...|(75108,[0,1,2,4,5...|          0.0|\n",
            "|file:///content/d...|Morphological, ec...|Misc-exposition|[morphological,, ...|[l,, al,, cal,, a...|(75108,[1,2,4,5,6...|(75108,[1,2,4,5,6...|          0.0|\n",
            "|file:///content/d...|Fries (1821: 272)...|Misc-exposition|[fries, (1821:, 2...|[es, ies, ries, 1...|(75108,[0,1,2,3,4...|(75108,[0,1,2,3,4...|          0.0|\n",
            "|file:///content/d...|Staude (1857) rai...|Misc-exposition|[staude, (1857), ...|[de, ude, aude, 7...|(75108,[0,1,2,3,5...|(75108,[0,1,2,3,5...|          0.0|\n",
            "|file:///content/d...|In recent years s...|Misc-exposition|[in, recent, year...|[in, in, in, nt, ...|(75108,[0,1,2,4,5...|(75108,[0,1,2,4,5...|          0.0|\n",
            "|file:///content/d...|Pilát (1948) prov...|Misc-exposition|[pilát, (1948), p...|[át, lát, ilát, 8...|(75108,[0,1,2,4,5...|(75108,[0,1,2,4,5...|          0.0|\n",
            "|file:///content/d...|I owe my best tha...|Misc-exposition|[i, owe, my, best...|[i, i, i, we, owe...|(75108,[0,1,2,3,4...|(75108,[0,1,2,3,4...|          0.0|\n",
            "|file:///content/d...|The microscopic s...|Misc-exposition|[the, microscopic...|[he, the, the, ic...|(75108,[0,1,2,4,5...|(75108,[0,1,2,4,5...|          0.0|\n",
            "|file:///content/d...|The spore sizes a...|Misc-exposition|[the, spore, size...|[he, the, the, re...|(75108,[0,1,5,6,8...|(75108,[0,1,5,6,8...|          0.0|\n",
            "+--------------------+--------------------+---------------+--------------------+--------------------+--------------------+--------------------+-------------+\n",
            "only showing top 10 rows\n",
            "\n"
          ]
        }
      ]
    },
    {
      "cell_type": "code",
      "source": [
        "# split the dataset between train (80% and test (20%)\n",
        "train_data_suffix, test_data_suffix = features_suffixes.randomSplit([0.8, 0.2], seed=42)"
      ],
      "metadata": {
        "id": "jKE5DZffNssf"
      },
      "execution_count": 25,
      "outputs": []
    },
    {
      "cell_type": "code",
      "execution_count": 26,
      "metadata": {
        "id": "PGRkZVboOuCn"
      },
      "outputs": [],
      "source": [
        "# Logistic Regression Model\n",
        "logistic_regression = LogisticRegression(family=\"multinomial\", maxIter=10, regParam=0.01,\n",
        "                                         featuresCol=\"idf\", labelCol=\"label_indexed\")\n",
        "\n",
        "# Creating a Pipeline for the regression step\n",
        "pipeline = Pipeline(stages=[logistic_regression])\n",
        "\n",
        "# Fitting the pipeline to the dataset\n",
        "log_model = pipeline.fit(train_data_suffix)\n",
        "\n",
        "# Making predictions on the test dataset\n",
        "predictions_suffix = log_model.transform(test_data_suffix)"
      ]
    },
    {
      "cell_type": "code",
      "source": [
        "stats(predictions_suffix)"
      ],
      "metadata": {
        "colab": {
          "base_uri": "https://localhost:8080/"
        },
        "id": "SI1agEGCNukC",
        "outputId": "242168a9-c0dc-4dcf-a442-110906f0e8f2"
      },
      "execution_count": 27,
      "outputs": [
        {
          "output_type": "stream",
          "name": "stdout",
          "text": [
            "Test Accuracy: 0.9396\n",
            "Test Precision: 0.9593\n",
            "Test Recall: 0.9649\n",
            "Test F1 Score: 0.9392\n"
          ]
        }
      ]
    },
    {
      "cell_type": "markdown",
      "source": [
        "# Process Raw Texts\n",
        "\n"
      ],
      "metadata": {
        "id": "TMTJoF1DH7w5"
      }
    },
    {
      "cell_type": "code",
      "source": [
        "from pyspark.sql import SparkSession\n",
        "from pyspark.sql.functions import col, udf, lit, sum, collect_list, explode, trim, monotonically_increasing_id, input_file_name\n",
        "from pyspark.sql.window import Window\n",
        "from pyspark.sql.types import ArrayType, StringType\n",
        "import regex as re\n",
        "from google.colab import drive"
      ],
      "metadata": {
        "id": "Y2IMxLbpr1Um"
      },
      "execution_count": 28,
      "outputs": []
    },
    {
      "cell_type": "markdown",
      "source": [
        "## Heuristically ID Paragraphs\n",
        "Steps:\n",
        "1. Import files (with unique id)\n",
        "2. group by file name\n",
        "3. Apply paragraph extractor udf\n",
        "4. Explode each paragraph to separate row\n",
        "5. Remove interstitial paragraphs\n"
      ],
      "metadata": {
        "id": "Yh0aM4RiEzKL"
      }
    },
    {
      "cell_type": "code",
      "source": [
        "# data_path = \"/content/drive/MyDrive/IST718_Final_Project/SKOL/Test_Data\"\n",
        "data_path = ann_directory_path\n",
        "# Recursively read all text files in the folder\n",
        "df = spark.read.option(\"recursiveFileLookup\", \"true\").text(data_path).withColumn(\"filename\", input_file_name()).withColumn(\"line_id\", monotonically_increasing_id())"
      ],
      "metadata": {
        "id": "VmVfTiTGEuJx"
      },
      "execution_count": 30,
      "outputs": []
    },
    {
      "cell_type": "code",
      "source": [
        "df.show(10, truncate = False)"
      ],
      "metadata": {
        "colab": {
          "base_uri": "https://localhost:8080/"
        },
        "id": "MHbEUj_DkNAG",
        "outputId": "432867d9-c77f-4f66-9c81-7efe7f328ce5"
      },
      "execution_count": 31,
      "outputs": [
        {
          "output_type": "stream",
          "name": "stdout",
          "text": [
            "+----------------------------------------------------+-------------------------------------------------------------------------------------------------------------------------------+-------+\n",
            "|value                                               |filename                                                                                                                       |line_id|\n",
            "+----------------------------------------------------+-------------------------------------------------------------------------------------------------------------------------------+-------+\n",
            "|[@IMPERIAL INSTITUTE                                |file:///content/drive/MyDrive/SKOL/annotated_2025_02_27/journals/Mycologia/Vol41/2015.28594.Mycologia-Vol-xli-1949_text.txt.ann|0      |\n",
            "|                                                    |file:///content/drive/MyDrive/SKOL/annotated_2025_02_27/journals/Mycologia/Vol41/2015.28594.Mycologia-Vol-xli-1949_text.txt.ann|1      |\n",
            "| OF                                                 |file:///content/drive/MyDrive/SKOL/annotated_2025_02_27/journals/Mycologia/Vol41/2015.28594.Mycologia-Vol-xli-1949_text.txt.ann|2      |\n",
            "|                                                    |file:///content/drive/MyDrive/SKOL/annotated_2025_02_27/journals/Mycologia/Vol41/2015.28594.Mycologia-Vol-xli-1949_text.txt.ann|3      |\n",
            "|AGRICULTURAL RESEARCH, Pusa#Misc-exposition*]       |file:///content/drive/MyDrive/SKOL/annotated_2025_02_27/journals/Mycologia/Vol41/2015.28594.Mycologia-Vol-xli-1949_text.txt.ann|4      |\n",
            "|                                                    |file:///content/drive/MyDrive/SKOL/annotated_2025_02_27/journals/Mycologia/Vol41/2015.28594.Mycologia-Vol-xli-1949_text.txt.ann|5      |\n",
            "|[@\\f#m*]                                            |file:///content/drive/MyDrive/SKOL/annotated_2025_02_27/journals/Mycologia/Vol41/2015.28594.Mycologia-Vol-xli-1949_text.txt.ann|6      |\n",
            "|[@MYCOLOGIA                                         |file:///content/drive/MyDrive/SKOL/annotated_2025_02_27/journals/Mycologia/Vol41/2015.28594.Mycologia-Vol-xli-1949_text.txt.ann|7      |\n",
            "|                                                    |file:///content/drive/MyDrive/SKOL/annotated_2025_02_27/journals/Mycologia/Vol41/2015.28594.Mycologia-Vol-xli-1949_text.txt.ann|8      |\n",
            "|OFFICIAL ORGAN OF THE Mycological Socıery of America|file:///content/drive/MyDrive/SKOL/annotated_2025_02_27/journals/Mycologia/Vol41/2015.28594.Mycologia-Vol-xli-1949_text.txt.ann|9      |\n",
            "+----------------------------------------------------+-------------------------------------------------------------------------------------------------------------------------------+-------+\n",
            "only showing top 10 rows\n",
            "\n"
          ]
        }
      ]
    },
    {
      "cell_type": "code",
      "source": [
        "#Define regex pattern to detect nomenclature\n",
        "NOMENCLATURE_RE = re.compile(\n",
        "    r'^([-\\w≡=.*|:]*\\s+)?'\n",
        "    r'('\n",
        "        r'([A-Z]\\w*(aceae|idae|iformes|ales|ineae|inae)?)'\n",
        "        r'|(\\w+\\b)'\n",
        "    r')'\n",
        "    r'\\s'\n",
        "    r'('\n",
        "        r'(\\w+(aceae|idae|iformes|ales|ineae|inae)?)'\n",
        "        r'|(\\w+\\b)'\n",
        "    r')'\n",
        "    r'.*'\n",
        "    r'('\n",
        "        r'nov\\.|'\n",
        "        r'nov\\.\\s?(comb\\.|sp\\.)|'\n",
        "        r'\\(?in\\.?\\s?ed\\.?\\)?|'\n",
        "        r'\\(?nom\\.\\s?(prov\\.|sanct\\.)\\)?|'\n",
        "        r'emend\\..*|'\n",
        "        r'\\(?\\b[12]\\d{3}\\b(?:\\s+.[12]\\d{3}\\b.)?\\)?[^\\n]{0,9}'\n",
        "    r')'\n",
        "    r'[-\\s—]*'\n",
        "    r'(\\(?Fig|Plate\\)?)?$'\n",
        ")\n",
        "\n",
        "TABLE_KEYWORDS = ['table', 'tab.', 'tab', 'tbl.', 'tbl']\n",
        "FIGURE_KEYWORDS = ['fig', 'fig.', 'figg.', 'figs', 'figs.', 'figure', 'photo', 'plate', 'plates']\n",
        "taxon_pattern = (\n",
        "    r'(nov\\.|nov\\.\\s?(comb\\.|sp\\.)|\\(?in\\.?\\s?ed\\.?\\)?|\\(?nom\\.\\s?sanct\\.?\\)?|emend\\..*)'\n",
        "    r'|\\b[12]\\d{3}\\b.{0,3}'\n",
        "    r'\\s*(\\(?Fig[^\\)]*\\)?)?$'\n",
        "  )"
      ],
      "metadata": {
        "id": "xUMMjQmnwvIv"
      },
      "execution_count": 32,
      "outputs": []
    },
    {
      "cell_type": "code",
      "source": [
        "test_cases = [\n",
        "    \"Agaricus bisporus (Lange) 1946\",\n",
        "    \"Psalliota campestris (Fr.) 1821\",\n",
        "    \"Boletus edulis nov. sp.\",\n",
        "    \"Fungus Xaceae (nom. prov.)\",\n",
        "    \"Agaricus campestris (L.) Fig. 2\",\n",
        "    \"Boletus edulis 2001, 2003\"\n",
        "]\n",
        "\n",
        "for text in test_cases:\n",
        "    match = NOMENCLATURE_RE.match(text)\n",
        "    print(f\"✅ Match: {text}\" if match else f\"❌ No match: {text}\")"
      ],
      "metadata": {
        "colab": {
          "base_uri": "https://localhost:8080/"
        },
        "id": "hCEoOMaaxrlJ",
        "outputId": "0b3b28f0-d45c-4da1-ebb6-07675f31de5e"
      },
      "execution_count": 33,
      "outputs": [
        {
          "output_type": "stream",
          "name": "stdout",
          "text": [
            "✅ Match: Agaricus bisporus (Lange) 1946\n",
            "✅ Match: Psalliota campestris (Fr.) 1821\n",
            "✅ Match: Boletus edulis nov. sp.\n",
            "✅ Match: Fungus Xaceae (nom. prov.)\n",
            "❌ No match: Agaricus campestris (L.) Fig. 2\n",
            "✅ Match: Boletus edulis 2001, 2003\n"
          ]
        }
      ]
    },
    {
      "cell_type": "code",
      "source": [
        "def heuristically_id_paragraphs(lines):\n",
        "  aggregated = []\n",
        "  temp = []\n",
        "  inside_table = False\n",
        "  inside_figure = False\n",
        "\n",
        "  for line in lines:\n",
        "\n",
        "    #if Table flag true, handle lines until table has ended\n",
        "    if inside_table:\n",
        "      #if line is short add it to the table\n",
        "      if len(line.strip())<45:\n",
        "        temp.append(line)\n",
        "        continue\n",
        "      else: # alternatively check if table lines are all long, if so the table continues and that line should be appended\n",
        "        if all(len(sentence.strip())>45 for sentence in temp):\n",
        "          temp.append(line)\n",
        "          continue\n",
        "      #if it doesn't fit either of these criteria, then table has ended\n",
        "      inside_table = False\n",
        "      #table is considered interstitial so commenting out adding table to paragraphs because we don't actually want those\n",
        "      #aggregated.append(\" \".join(temp))\n",
        "      temp = [line]\n",
        "      continue\n",
        "\n",
        "    #if Figure flag is true, handle lines until figure has ended\n",
        "    if inside_figure:\n",
        "      #continue appending until period, colon, or blank line is detected\n",
        "      if not (line.strip().endswith(\".\") or line.strip().endswith(\":\") or line.strip() == \"\"):\n",
        "        temp.append(line)\n",
        "      else:\n",
        "        inside_figure = False\n",
        "        #if temp:\n",
        "          #same as above with table.  We don't actually want the information from tables so not adding it to aggregated\n",
        "          #aggregated.append(\" \".join(temp))\n",
        "        temp = [line]\n",
        "        continue\n",
        "\n",
        "    #Detect Nomenclature\n",
        "    if NOMENCLATURE_RE.match(line):\n",
        "      #store the previous paragraph in aggregated (if it exists)\n",
        "      if temp:\n",
        "        aggregated.append(\" \".join(temp))\n",
        "      #start a new paragraph\n",
        "      temp = [line]\n",
        "      continue\n",
        "    #page break\n",
        "    if line.startswith('\\f'):\n",
        "      if temp:\n",
        "        aggregated.append(\" \".join(temp))\n",
        "      temp = [line]\n",
        "      continue\n",
        "\n",
        "    #Leading Tab\n",
        "    if line.startswith('\\t'):\n",
        "      if temp:\n",
        "        aggregated.append(\" \".join(temp))\n",
        "      temp = [line]\n",
        "      continue\n",
        "\n",
        "    #Detect Table\n",
        "    if any(line.lower().startswith(keyword) for keyword in TABLE_KEYWORDS):\n",
        "      #flag table\n",
        "      inside_table = True\n",
        "      if temp:\n",
        "        aggregated.append(\" \".join(temp))\n",
        "      temp = [line]\n",
        "      continue\n",
        "\n",
        "    # Blank Line ends a paragraph\n",
        "    if line.strip() == \"\":\n",
        "      #check if previous line was blank, if so skip this line without appending it\n",
        "      if temp and temp[-1] == \"\":\n",
        "        continue\n",
        "      else: #start a new paragraph\n",
        "        if temp:\n",
        "          aggregated.append(\" \".join(temp))\n",
        "        temp = [line]\n",
        "        continue\n",
        "\n",
        "    #Detect a Figure\n",
        "    if any(line.lower().startswith(keyword) for keyword in FIGURE_KEYWORDS):\n",
        "      if temp:\n",
        "        aggregated.append(\" \".join(temp))\n",
        "      temp = [line]\n",
        "      inside_figure = True\n",
        "      continue\n",
        "\n",
        "    # Detect a hypthen\n",
        "    if line.startswith('-'):\n",
        "      if temp:\n",
        "        aggregated.append(\" \".join(temp))\n",
        "      temp = [line]\n",
        "      continue\n",
        "\n",
        "    #Detect Synonym (ends the paragraph so this line should end up in the current paragraph and a new empty paragraph will start)\n",
        "    if re.search(r'\\([Ss]yn.*\\)$', line):\n",
        "      temp.append(line)\n",
        "      if temp:\n",
        "        aggregated.append(\" \".join(temp))\n",
        "      temp = []\n",
        "      continue\n",
        "\n",
        "    #Detect Taxon (same as above, taxon ends the paragraph)\n",
        "    if re.search(taxon_pattern, line):\n",
        "      temp.append(line)\n",
        "      if temp:\n",
        "        aggregated.append(\" \".join(temp))\n",
        "      temp = []\n",
        "      continue\n",
        "\n",
        "    #short line ends a paragraph\n",
        "    if len(line.strip()) < 45:\n",
        "      temp.append(line)\n",
        "      if temp:\n",
        "        aggregated.append(\" \".join(temp))\n",
        "      temp = []\n",
        "      continue\n",
        "\n",
        "    #if none of the above triggered a new paragraph, then line belongs to this paragraph and should be appended\n",
        "    temp.append(line)\n",
        "  return aggregated\n",
        "\n",
        "\n"
      ],
      "metadata": {
        "id": "G4H_NRZEIyhC"
      },
      "execution_count": 34,
      "outputs": []
    },
    {
      "cell_type": "code",
      "source": [
        "#Define UDF\n",
        "heuristic_paragraph_udf = udf(heuristically_id_paragraphs, ArrayType(StringType()))"
      ],
      "metadata": {
        "id": "5AefcQDziBVF"
      },
      "execution_count": 36,
      "outputs": []
    },
    {
      "cell_type": "code",
      "source": [
        "window_spec = Window.partitionBy(\"filename\").orderBy(\"start_line_id\")\n",
        "\n",
        "grouped_df = (\n",
        "    df\n",
        "    .orderBy(\"filename\",\"line_id\")\n",
        "    .groupBy(\"filename\") #process files together\n",
        "    .agg(collect_list(\"value\").alias(\"lines\"), min(\"line_id\").alias(\"start_line_id\")) #makes each file one row in spark with the field 'lines' containing a list of all the individual lines\n",
        "    .withColumn(\"value\", explode(heuristic_paragraph_udf(col(\"lines\")))) #applies udf, creates new line for each paragraph identified by udf\n",
        "    .drop(\"lines\")\n",
        "    .filter(trim(col(\"value\")) != \"\") #drop paragraphs that are only white space\n",
        "    .withColumn(\"row_number\", row_number().over(window_spec))  # TODO: confirm that this works.\n",
        "    )"
      ],
      "metadata": {
        "id": "bXJGCg4CFQJ-"
      },
      "execution_count": 45,
      "outputs": []
    },
    {
      "cell_type": "code",
      "source": [
        "grouped_df.count()"
      ],
      "metadata": {
        "colab": {
          "base_uri": "https://localhost:8080/"
        },
        "id": "EFrRdlw6sm47",
        "outputId": "c899cd08-9d35-41e8-c6e2-44df9b253450"
      },
      "execution_count": 46,
      "outputs": [
        {
          "output_type": "execute_result",
          "data": {
            "text/plain": [
              "210439"
            ]
          },
          "metadata": {},
          "execution_count": 46
        }
      ]
    },
    {
      "cell_type": "markdown",
      "source": [
        "#Pipeline for Trained Models Against Raw Processed Texts"
      ],
      "metadata": {
        "id": "-KCvPcZ2TfiR"
      }
    },
    {
      "cell_type": "code",
      "source": [
        "#Use already fit pipeline to tokenize raw paragraphs\n",
        "raw_features = pipeline_model.transform(grouped_df)\n",
        "\n",
        "# Making predictions on the raw dataset using logistic model\n",
        "raw_predictions = log_model.transform(raw_features)\n"
      ],
      "metadata": {
        "id": "DbEPtG8HTmmn"
      },
      "execution_count": 47,
      "outputs": []
    },
    {
      "cell_type": "code",
      "source": [
        "pipeline_model.stages[3].labels"
      ],
      "metadata": {
        "colab": {
          "base_uri": "https://localhost:8080/"
        },
        "id": "b5vAuy38kJj2",
        "outputId": "53461fb8-d08d-453f-b3ab-67982093fdc0"
      },
      "execution_count": 50,
      "outputs": [
        {
          "output_type": "execute_result",
          "data": {
            "text/plain": [
              "['Misc-exposition', 'Description', 'Nomenclature']"
            ]
          },
          "metadata": {},
          "execution_count": 50
        }
      ]
    },
    {
      "cell_type": "code",
      "source": [
        "raw_predictions.select(\"prediction\", \"value\").show(50, truncate=False)\n"
      ],
      "metadata": {
        "colab": {
          "base_uri": "https://localhost:8080/"
        },
        "collapsed": true,
        "id": "WDuXIXn7cvs6",
        "outputId": "55404000-baa2-4493-d505-cf6968613013"
      },
      "execution_count": 51,
      "outputs": [
        {
          "output_type": "stream",
          "name": "stdout",
          "text": [
            "+-----------------------------------------------------------------------------------------------------------------------------------------------------------------------------------------------------------------------------------------------------------------------------------------------------------------------------------------------------------------------------------------------------------------------------------------------------------------------------------------------------------------------------------------------------------------------------------------------------------------------------------------------------------------------------------------------------------------------------------------------------------------------------------------------------------------------------------------------------------------------------------------------------------------------------------------------------------------------------------------------------------------------------------------------------------------------------------------------------------------------------------------------------------------------------------------------------------------------------------------------------------------------------------------------------------------------------------------------------------------------------------------------------------------------------------------------------------------------------------------------------------------------------------------------------------------------------------------------------------------------------------------------------------------------------------------------------------------------------------------------------------------------------------------------------------------------------------------------------------------------------------------------------------------------------------------------------------------------------------------------------------------------------------------------------------------------------------------------------------------------------------------------------------------------------------------------------------------------------------------------------------------------------------------------------------------------------------------------------------------------------------------------------------------------------------------------------------------------------------------------------------------------------------------------------------------------------------------------------------------------------------------------------------------------------------------------------------------------------------------------------------------------------------------------------------------------------------------------------------------------------------------------------------------------------------------------------------------------------------------------------------------------------------------------------------------------------------------------------------------------------------------------------------------------------------------------------------------------------------------------------------------------------------------------------------------------------------------------------------------------+----------+\n",
            "|value                                                                                                                                                                                                                                                                                                                                                                                                                                                                                                                                                                                                                                                                                                                                                                                                                                                                                                                                                                                                                                                                                                                                                                                                                                                                                                                                                                                                                                                                                                                                                                                                                                                                                                                                                                                                                                                                                                                                                                                                                                                                                                                                                                                                                                                                                                                                                                                                                                                                                                                                                                                                                                                                                                                                                                                                                                                                                                                                                                                                                                                                                                                                                                                                                                                                                                                                                                  |prediction|\n",
            "+-----------------------------------------------------------------------------------------------------------------------------------------------------------------------------------------------------------------------------------------------------------------------------------------------------------------------------------------------------------------------------------------------------------------------------------------------------------------------------------------------------------------------------------------------------------------------------------------------------------------------------------------------------------------------------------------------------------------------------------------------------------------------------------------------------------------------------------------------------------------------------------------------------------------------------------------------------------------------------------------------------------------------------------------------------------------------------------------------------------------------------------------------------------------------------------------------------------------------------------------------------------------------------------------------------------------------------------------------------------------------------------------------------------------------------------------------------------------------------------------------------------------------------------------------------------------------------------------------------------------------------------------------------------------------------------------------------------------------------------------------------------------------------------------------------------------------------------------------------------------------------------------------------------------------------------------------------------------------------------------------------------------------------------------------------------------------------------------------------------------------------------------------------------------------------------------------------------------------------------------------------------------------------------------------------------------------------------------------------------------------------------------------------------------------------------------------------------------------------------------------------------------------------------------------------------------------------------------------------------------------------------------------------------------------------------------------------------------------------------------------------------------------------------------------------------------------------------------------------------------------------------------------------------------------------------------------------------------------------------------------------------------------------------------------------------------------------------------------------------------------------------------------------------------------------------------------------------------------------------------------------------------------------------------------------------------------------------------------------------------------+----------+\n",
            "|[@ISSN (print) 0093-4666#Misc-exposition*]                                                                                                                                                                                                                                                                                                                                                                                                                                                                                                                                                                                                                                                                                                                                                                                                                                                                                                                                                                                                                                                                                                                                                                                                                                                                                                                                                                                                                                                                                                                                                                                                                                                                                                                                                                                                                                                                                                                                                                                                                                                                                                                                                                                                                                                                                                                                                                                                                                                                                                                                                                                                                                                                                                                                                                                                                                                                                                                                                                                                                                                                                                                                                                                                                                                                                                                             |0.0       |\n",
            "| [@© 2011. Mycotaxon, Ltd.#Misc-exposition*]                                                                                                                                                                                                                                                                                                                                                                                                                                                                                                                                                                                                                                                                                                                                                                                                                                                                                                                                                                                                                                                                                                                                                                                                                                                                                                                                                                                                                                                                                                                                                                                                                                                                                                                                                                                                                                                                                                                                                                                                                                                                                                                                                                                                                                                                                                                                                                                                                                                                                                                                                                                                                                                                                                                                                                                                                                                                                                                                                                                                                                                                                                                                                                                                                                                                                                                           |0.0       |\n",
            "| [@ISSN (online) 2154-8889#Misc-exposition*]                                                                                                                                                                                                                                                                                                                                                                                                                                                                                                                                                                                                                                                                                                                                                                                                                                                                                                                                                                                                                                                                                                                                                                                                                                                                                                                                                                                                                                                                                                                                                                                                                                                                                                                                                                                                                                                                                                                                                                                                                                                                                                                                                                                                                                                                                                                                                                                                                                                                                                                                                                                                                                                                                                                                                                                                                                                                                                                                                                                                                                                                                                                                                                                                                                                                                                                           |0.0       |\n",
            "| [@MYCOTAXON                                                                                                                                                                                                                                                                                                                                                                                                                                                                                                                                                                                                                                                                                                                                                                                                                                                                                                                                                                                                                                                                                                                                                                                                                                                                                                                                                                                                                                                                                                                                                                                                                                                                                                                                                                                                                                                                                                                                                                                                                                                                                                                                                                                                                                                                                                                                                                                                                                                                                                                                                                                                                                                                                                                                                                                                                                                                                                                                                                                                                                                                                                                                                                                                                                                                                                                                                           |0.0       |\n",
            "|Volume 117, pp. 227–237#Misc-exposition*]                                                                                                                                                                                                                                                                                                                                                                                                                                                                                                                                                                                                                                                                                                                                                                                                                                                                                                                                                                                                                                                                                                                                                                                                                                                                                                                                                                                                                                                                                                                                                                                                                                                                                                                                                                                                                                                                                                                                                                                                                                                                                                                                                                                                                                                                                                                                                                                                                                                                                                                                                                                                                                                                                                                                                                                                                                                                                                                                                                                                                                                                                                                                                                                                                                                                                                                              |0.0       |\n",
            "| [@http://dx.doi.org/10.5248/117.227#Misc-exposition*]                                                                                                                                                                                                                                                                                                                                                                                                                                                                                                                                                                                                                                                                                                                                                                                                                                                                                                                                                                                                                                                                                                                                                                                                                                                                                                                                                                                                                                                                                                                                                                                                                                                                                                                                                                                                                                                                                                                                                                                                                                                                                                                                                                                                                                                                                                                                                                                                                                                                                                                                                                                                                                                                                                                                                                                                                                                                                                                                                                                                                                                                                                                                                                                                                                                                                                                 |0.0       |\n",
            "| [@July–September 2011#Misc-exposition*]                                                                                                                                                                                                                                                                                                                                                                                                                                                                                                                                                                                                                                                                                                                                                                                                                                                                                                                                                                                                                                                                                                                                                                                                                                                                                                                                                                                                                                                                                                                                                                                                                                                                                                                                                                                                                                                                                                                                                                                                                                                                                                                                                                                                                                                                                                                                                                                                                                                                                                                                                                                                                                                                                                                                                                                                                                                                                                                                                                                                                                                                                                                                                                                                                                                                                                                               |0.0       |\n",
            "| [@Morphology and phylogeny of Pseudocercospora kamalii sp. nov.,                                                                                                                                                                                                                                                                                                                                                                                                                                                                                                                                                                                                                                                                                                                                                                                                                                                                                                                                                                                                                                                                                                                                                                                                                                                                                                                                                                                                                                                                                                                                                                                                                                                                                                                                                                                                                                                                                                                                                                                                                                                                                                                                                                                                                                                                                                                                                                                                                                                                                                                                                                                                                                                                                                                                                                                                                                                                                                                                                                                                                                                                                                                                                                                                                                                                                                      |0.0       |\n",
            "|a foliar pathogen on Terminalia from India#Misc-exposition*] [@Kunhiraman C. Rajeshkumar1, Rahul Sharma, Rahul P. Hepat, Santosh V. Swami, Paras Nath Singh & Sanjay K. Singh2 National Facility for Culture Collection of Fungi, MACS’Agharkar Research Institute, G.G. Agarkar Road, Pune, India#Misc-exposition*] [@Correspondence to: 1rajeshfungi@gmail.com & 2singhsksingh@rediﬀmail.com#Misc-exposition*] [@Abstract — Pseudocercospora kamalii (Mycosphaerellaceae, Capnodiales) is associated with severe leaf spot disease of Terminalia chebula (Combretaceae) in natural forests of Mahabaleshwar in the Western Ghats of India. Morphological characterization reveals that the new species proposed has some aﬃnity with the species of genus Prathigada. However, based on the molecular sequence data (LSU and ITS 1-5.8S-ITS 2) generated in the present study, we established its identity as a species of Pseudocercospora. The species is also compared morphologically with other Pseudocercospora species reported on Terminalia from diﬀerent parts of the world.#Misc-exposition*]                                                                                                                                                                                                                                                                                                                                                                                                                                                                                                                                                                                                                                                                                                                                                                                                                                                                                                                                                                                                                                                                                                                                                                                                                                                                                                                                                                                                                                                                                                                                                                                                                                                                                                                                                                                                                                                                                                                                                                                                                                                                                                                                                                                                                                                             |0.0       |\n",
            "|[@Key words — anamorphic fungi, Mycosphaerella, plant pathogen#Misc-exposition*]                                                                                                                                                                                                                                                                                                                                                                                                                                                                                                                                                                                                                                                                                                                                                                                                                                                                                                                                                                                                                                                                                                                                                                                                                                                                                                                                                                                                                                                                                                                                                                                                                                                                                                                                                                                                                                                                                                                                                                                                                                                                                                                                                                                                                                                                                                                                                                                                                                                                                                                                                                                                                                                                                                                                                                                                                                                                                                                                                                                                                                                                                                                                                                                                                                                                                       |0.0       |\n",
            "| [@Introduction#Misc-exposition*]                                                                                                                                                                                                                                                                                                                                                                                                                                                                                                                                                                                                                                                                                                                                                                                                                                                                                                                                                                                                                                                                                                                                                                                                                                                                                                                                                                                                                                                                                                                                                                                                                                                                                                                                                                                                                                                                                                                                                                                                                                                                                                                                                                                                                                                                                                                                                                                                                                                                                                                                                                                                                                                                                                                                                                                                                                                                                                                                                                                                                                                                                                                                                                                                                                                                                                                                      |0.0       |\n",
            "| [@The microfungal diversity of northern Western Ghats has been well                                                                                                                                                                                                                                                                                                                                                                                                                                                                                                                                                                                                                                                                                                                                                                                                                                                                                                                                                                                                                                                                                                                                                                                                                                                                                                                                                                                                                                                                                                                                                                                                                                                                                                                                                                                                                                                                                                                                                                                                                                                                                                                                                                                                                                                                                                                                                                                                                                                                                                                                                                                                                                                                                                                                                                                                                                                                                                                                                                                                                                                                                                                                                                                                                                                                                                   |0.0       |\n",
            "|explored in the recent past (Karandikar & Singh 2010, Rajeshkumar et al. 2010, 2011; Singh et al. 2009, 2010; Waingankar et al. 2008). During January 2011                                                                                                                                                                                                                                                                                                                                                                                                                                                                                                                                                                                                                                                                                                                                                                                                                                                                                                                                                                                                                                                                                                                                                                                                                                                                                                                                                                                                                                                                                                                                                                                                                                                                                                                                                                                                                                                                                                                                                                                                                                                                                                                                                                                                                                                                                                                                                                                                                                                                                                                                                                                                                                                                                                                                                                                                                                                                                                                                                                                                                                                                                                                                                                                                             |0.0       |\n",
            "|a survey was conducted to explore the microfungal diversity in the natural forests of Mahabaleshwar, situated in the northern part of the Western Ghats, India, at 17°58′N 73°43′E. An unusual synnematous cercosporoid species was discovered that caused a severe foliar disease in Terminalia chebula. The present study aimed to identify the causal agent of the foliar infection on Terminalia in northern Western Ghats, India using morphological and molecular methods.#Misc-exposition*] [@Materials & methods#Misc-exposition*]                                                                                                                                                                                                                                                                                                                                                                                                                                                                                                                                                                                                                                                                                                                                                                                                                                                                                                                                                                                                                                                                                                                                                                                                                                                                                                                                                                                                                                                                                                                                                                                                                                                                                                                                                                                                                                                                                                                                                                                                                                                                                                                                                                                                                                                                                                                                                                                                                                                                                                                                                                                                                                                                                                                                                                                                                             |0.0       |\n",
            "|[@Isolates and morphology— Synnemata of the fungus were directly isolated from the surface of fallen fruits and observed under a Nikon Binocular stereo microscope (Model SMZ-1500 with Digi-CAM, Japan). Single conidial cultures were established#Misc-exposition*]                                                                                                                                                                                                                                                                                                                                                                                                                                                                                                                                                                                                                                                                                                                                                                                                                                                                                                                                                                                                                                                                                                                                                                                                                                                                                                                                                                                                                                                                                                                                                                                                                                                                                                                                                                                                                                                                                                                                                                                                                                                                                                                                                                                                                                                                                                                                                                                                                                                                                                                                                                                                                                                                                                                                                                                                                                                                                                                                                                                                                                                                                                  |0.0       |\n",
            "| [@\\f228 ... Rajeshkumar & al.#Page-header*]                                                                                                                                                                                                                                                                                                                                                                                                                                                                                                                                                                                                                                                                                                                                                                                                                                                                                                                                                                                                                                                                                                                                                                                                                                                                                                                                                                                                                                                                                                                                                                                                                                                                                                                                                                                                                                                                                                                                                                                                                                                                                                                                                                                                                                                                                                                                                                                                                                                                                                                                                                                                                                                                                                                                                                                                                                                                                                                                                                                                                                                                                                                                                                                                                                                                                                                           |0.0       |\n",
            "|[@on 2% potato dextrose agar plates (PDA; Crous et al. 2009a). For morphotaxonomic studies and photomicrographs an Olympus (Model CX-41, Japan) microscope was used. Conidia and conidiomata were mounted in lactic acid cotton blue and measured using an ocular micrometer, with 30 observations per structure. Colony characteristics in culture were studied on two diﬀerent media: 2% malt extract agar (MEA) and PDA (Crous et al. 2009a). Herbarium specimens were deposited in the Ajrekar Mycological Herbarium (AMH); the culture was accessioned and preserved in the National Fungal Culture Collection of India (NFCCI; WDCM-932), Agharkar Research Institute, Pune, India under accession number NFCCI 2344.#Misc-exposition*] [@Polymerase chain reaction (pcr) and sequencing— Total DNA was extracted from cultures grown on PDA plates for two weeks at 25 ºC, using a FastDNA® SPIN kit as per the manufacturer’s instructions (MP Biomedicals GmbH, Germany). Fragments containing the region encoding the 28S nrDNA (LSU) and ITS 1-5.8S nrDNA-ITS 2 (ITS) were ampliﬁed using primer pairs LROR (Rehner & Samuels 1994) and LR7 (Vilgalys & Hester 1990) for LSU; ITS4 and ITS5 (White et al. 1990) for ITS. DNA ampliﬁcation was performed in a 25 µl reaction using 2 µl of template DNA (10–25 ng), 0.5 U of Taq DNA polymerase (Genei, Bangalore, India), 2.5 µl of 10× Taq DNA polymerase buﬀer, 0.5 µl of 200 µM of each dNTPs (Genei, Bangalore, India), 0.5 µl of 10 pmol primer, H2O (Sterile Ultra Pure Water, Sigma) to make up 25 µl. Ampliﬁcation in an Eppendorf Mastercycler AG used the following parameters: 5 min at 95 °C; 30 cycles of 1 min at 95 °C, 30s at 56 °C, and 1 min at 72 °C for the ITS region ampliﬁcation; and ﬁnal 7-min extension step at 72 °C. DNA ampliﬁcation of LSU followed the ITS conditions except for a 52 °C annealing temperature. The PCR products were puriﬁed with an Axygen PCR cleanup kit (Axygen Scientiﬁc Inc, CA, USA) and sequenced with the same primers using the BigDye Terminator v3.1 Cycle Sequencing Kit (Applied Biosystems, USA). The sequencing reactions were run on an ABI 3100 automated DNA sequencer (Applied Biosystems, USA).#Misc-exposition*] [@Sequence alignment and phylogenetic analysis— LSU & ITS sequences from P. kamalii were aligned manually using the text editor option of the Molecular Evolutionary Genetics Analysis (MEGA) software v4.0. (Tamura et al. 2007). The manually edited NFCCI 2344 sequences were deposited in the NCBI sequence nucleotide database (ITS: JF 824126, LSU: JF 824127). They were also subjected to a BLAST search of the NCBI Genbank nucleotide database. The ITS sequences were aligned using Clustal W together with the homologous regions of ITS of closely related species of Pseudocercospora Speg. and Mycosphaerella s.l. For ITS, the matrix was analyzed with the Maximum Parsimony#Misc-exposition*] [@Fig. 1. Phylogenetic tree based on aligned LSU sequences of Pseudocercospora and its teleomorph, Mycosphaerella s.l. The consistency index (0.566343), the retention index (0.821571), and the composite index (0.479675) were calculated in MEGA for all sites and parsimony-informative sites (in parentheses). The percentage of replicate trees in which the associated taxa clustered together|0.0       |\n",
            "|in the bootstrap test (1000 replicates) is shown next to the branches. The MP tree was obtained using the Close-Neighbor-Interchange algorithm with search level 3 in which the initial trees were obtained with the random addition of sequences (10 replicates). The tree is drawn to scale, with                                                                                                                                                                                                                                                                                                                                                                                                                                                                                                                                                                                                                                                                                                                                                                                                                                                                                                                                                                                                                                                                                                                                                                                                                                                                                                                                                                                                                                                                                                                                                                                                                                                                                                                                                                                                                                                                                                                                                                                                                                                                                                                                                                                                                                                                                                                                                                                                                                                                                                                                                                                                                                                                                                                                                                                                                                                                                                                                                                                                                                                                    |0.0       |\n",
            "|branch lengths calculated using the average pathway method and are in the units of the number of changes over the whole sequence. All positions containing gaps and missing data were eliminated from the dataset (Complete Deletion option).#Figure*]                                                                                                                                                                                                                                                                                                                                                                                                                                                                                                                                                                                                                                                                                                                                                                                                                                                                                                                                                                                                                                                                                                                                                                                                                                                                                                                                                                                                                                                                                                                                                                                                                                                                                                                                                                                                                                                                                                                                                                                                                                                                                                                                                                                                                                                                                                                                                                                                                                                                                                                                                                                                                                                                                                                                                                                                                                                                                                                                                                                                                                                                                                                 |0.0       |\n",
            "| [@\\fPseudocercospora kamalii sp. nov. (India) ... 229#Page-header*]                                                                                                                                                                                                                                                                                                                                                                                                                                                                                                                                                                                                                                                                                                                                                                                                                                                                                                                                                                                                                                                                                                                                                                                                                                                                                                                                                                                                                                                                                                                                                                                                                                                                                                                                                                                                                                                                                                                                                                                                                                                                                                                                                                                                                                                                                                                                                                                                                                                                                                                                                                                                                                                                                                                                                                                                                                                                                                                                                                                                                                                                                                                                                                                                                                                                                                   |0.0       |\n",
            "| [@\\f230 ... Rajeshkumar & al.#Page-header*]                                                                                                                                                                                                                                                                                                                                                                                                                                                                                                                                                                                                                                                                                                                                                                                                                                                                                                                                                                                                                                                                                                                                                                                                                                                                                                                                                                                                                                                                                                                                                                                                                                                                                                                                                                                                                                                                                                                                                                                                                                                                                                                                                                                                                                                                                                                                                                                                                                                                                                                                                                                                                                                                                                                                                                                                                                                                                                                                                                                                                                                                                                                                                                                                                                                                                                                           |0.0       |\n",
            "|[@method using the Tamura model (Tamura et al. 2007) to calculate the sequence divergence, and the bootstrap consensus tree inferred from 1000 replicates is taken to represent the evolutionary history of the taxa analyzed. All positions containing gaps and missing data were eliminated from the dataset (Complete Deletion option in MEGA4).#Misc-exposition*] [@Results#Misc-exposition*]                                                                                                                                                                                                                                                                                                                                                                                                                                                                                                                                                                                                                                                                                                                                                                                                                                                                                                                                                                                                                                                                                                                                                                                                                                                                                                                                                                                                                                                                                                                                                                                                                                                                                                                                                                                                                                                                                                                                                                                                                                                                                                                                                                                                                                                                                                                                                                                                                                                                                                                                                                                                                                                                                                                                                                                                                                                                                                                                                                      |0.0       |\n",
            "|[@DNA phylogeny#Misc-exposition*]                                                                                                                                                                                                                                                                                                                                                                                                                                                                                                                                                                                                                                                                                                                                                                                                                                                                                                                                                                                                                                                                                                                                                                                                                                                                                                                                                                                                                                                                                                                                                                                                                                                                                                                                                                                                                                                                                                                                                                                                                                                                                                                                                                                                                                                                                                                                                                                                                                                                                                                                                                                                                                                                                                                                                                                                                                                                                                                                                                                                                                                                                                                                                                                                                                                                                                                                      |0.0       |\n",
            "| [@The alignment for the Pseudocercospora LSU phylogenetic analyses comprised a total of 481 positions in the ﬁnal dataset, of which 128 were parsimony informative. The LSU sequence analysis presented here (Fig. 1) reveals the systematic position of the new species within Pseudocercospora, along with its 11 closely allied sister genera in Mycosphaerellaceae. The LSU phylogenetic sequence analysis implied 12 main clades: Pseudocercospora, Dothistroma Hulbary, Ramularia Unger/Mycosphaerella s. str., Sonderhenia H.J. Swart & J. Walker, Cercosporella Sacc., Ramulispora Miura, Septoria Sacc., Cercospora Fresen., Lecanosticta Syd., Phaeophleospora Rangel, Zasmidium Fr., and Polythrincium Kunze. All Pseudocercospora species clustered together to form a major clade. The new species, P. kamalii, clustered close to Mycosphaerella musicola R. Leach ex J.L. Mulder in the major Pseudocercospora clade. Botryosphaeria visci (Kalchbr.) Arx & E. Müll. (DQ 377868.1) and B. rhodina (Berk. & M.A. Curtis) Arx (DQ 377858.1) in the Botryosphaeriaceae served as outgroup taxa.#Misc-exposition*]                                                                                                                                                                                                                                                                                                                                                                                                                                                                                                                                                                                                                                                                                                                                                                                                                                                                                                                                                                                                                                                                                                                                                                                                                                                                                                                                                                                                                                                                                                                                                                                                                                                                                                                                                                                                                                                                                                                                                                                                                                                                                                                                                                                                                                         |0.0       |\n",
            "|[@For the phylogenetic analysis of closely related Pseudocercospora species, the ITS sequence data alignment of 487 bp included 452 positions in the ﬁnal data set. The analysis of ITS sequence shown in Fig. 2 reveals a signiﬁcant association of Pseudocercospora representatives, some with Mycosphaerellalike teleomorphs. The ITS sequence analysis implied four major clades, with Pseudocercospora eumusae Crous & Mour. (= Mycosphaerella eumusae Crous & Mour.) forming a unique clade (94% bootstrap support). However, P. tereticornis Crous & Carnegie, P. cruenta (Sacc.) Deighton, P. pallida (Ellis & Everh.) H.D. Shin & U. Braun, P. casuarinae Crous & R.G. Shivas, P. elaeodendri (G.P. Agarwal & Hasija) Deighton, P. fuligena (Roldan) Deighton, P. chengtuensis (F.L. Tai) Deighton, and P. atromarginalis (G.F. Atk.) Deighton clustered together to form a major group in the Mycosphaerellaceae. Pseudocercospora musae (Zimm.) Deighton (= Mycosphaerella musicola) also formed a unique clade (100% bootstrap support). Our new species, P. kamalii, (66% bootstrap support), separated as sister to the Pseudocercospora musae (AY 646475.1 & AY 646474.1) clade. Cladosporium herbarum (Pers.) Link (= Davidiella tassiana (De Not.) Crous & U. Braun) (DQ 289799.2) was chosen as the outgroup, as it belongs to the family Davidiellaceae that is allied to the Mycosphaerellaceae (Crous et al. 2006).#Misc-exposition*]                                                                                                                                                                                                                                                                                                                                                                                                                                                                                                                                                                                                                                                                                                                                                                                                                                                                                                                                                                                                                                                                                                                                                                                                                                                                                                                                                                                                                                                                                                                                                                                                                                                                                                                                                                                                                                                                                                             |0.0       |\n",
            "| [@\\fPseudocercospora kamalii sp. nov. (India) ... 231#Page-header*]                                                                                                                                                                                                                                                                                                                                                                                                                                                                                                                                                                                                                                                                                                                                                                                                                                                                                                                                                                                                                                                                                                                                                                                                                                                                                                                                                                                                                                                                                                                                                                                                                                                                                                                                                                                                                                                                                                                                                                                                                                                                                                                                                                                                                                                                                                                                                                                                                                                                                                                                                                                                                                                                                                                                                                                                                                                                                                                                                                                                                                                                                                                                                                                                                                                                                                   |0.0       |\n",
            "| [@Fig. 2. Phylogenetic tree based on aligned ITS sequences of Pseudocercospora and its teleomorph, Mycosphaerella s.l. and inferred using the Neighbor-Joining method in MEGA. The optimal tree with the sum of branch length = 0.25106088 is shown. The percentage of replicate trees in which the associated taxa clustered together in the bootstrap test (1000 replicates) is shown next to the branches. The tree is drawn to scale, with branch lengths in the same units as those of the evolutionary distances used to infer the phylogenetic tree. The evolutionary distances were computed using the Maximum Composite Likelihood method and are in the units of the number of base substitutions per site. All positions containing gaps and missing data were eliminated from the dataset (Complete Deletion option).#Figure*] [@Taxonomy#Misc-exposition*]                                                                                                                                                                                                                                                                                                                                                                                                                                                                                                                                                                                                                                                                                                                                                                                                                                                                                                                                                                                                                                                                                                                                                                                                                                                                                                                                                                                                                                                                                                                                                                                                                                                                                                                                                                                                                                                                                                                                                                                                                                                                                                                                                                                                                                                                                                                                                                                                                                                                                               |0.0       |\n",
            "| [@The new cercosporoid species on Terminalia chebula is easily distinguishable from all Pseudocercospora species hitherto described on Terminalia by its synnematous conidiomata, and hence it is described here as new species.#Misc-exposition*]                                                                                                                                                                                                                                                                                                                                                                                                                                                                                                                                                                                                                                                                                                                                                                                                                                                                                                                                                                                                                                                                                                                                                                                                                                                                                                                                                                                                                                                                                                                                                                                                                                                                                                                                                                                                                                                                                                                                                                                                                                                                                                                                                                                                                                                                                                                                                                                                                                                                                                                                                                                                                                                                                                                                                                                                                                                                                                                                                                                                                                                                                                                    |0.0       |\n",
            "| [@\\f232 ... Rajeshkumar & al.#Page-header*]                                                                                                                                                                                                                                                                                                                                                                                                                                                                                                                                                                                                                                                                                                                                                                                                                                                                                                                                                                                                                                                                                                                                                                                                                                                                                                                                                                                                                                                                                                                                                                                                                                                                                                                                                                                                                                                                                                                                                                                                                                                                                                                                                                                                                                                                                                                                                                                                                                                                                                                                                                                                                                                                                                                                                                                                                                                                                                                                                                                                                                                                                                                                                                                                                                                                                                                           |0.0       |\n",
            "|[@Pseudocercospora kamalii Rajeshkumar, Rahul Sharma & S.K. Singh, sp. nov.#Nomenclature*]                                                                                                                                                                                                                                                                                                                                                                                                                                                                                                                                                                                                                                                                                                                                                                                                                                                                                                                                                                                                                                                                                                                                                                                                                                                                                                                                                                                                                                                                                                                                                                                                                                                                                                                                                                                                                                                                                                                                                                                                                                                                                                                                                                                                                                                                                                                                                                                                                                                                                                                                                                                                                                                                                                                                                                                                                                                                                                                                                                                                                                                                                                                                                                                                                                                                             |0.0       |\n",
            "|[@MycoBank MB 561201#Misc-exposition*]                                                                                                                                                                                                                                                                                                                                                                                                                                                                                                                                                                                                                                                                                                                                                                                                                                                                                                                                                                                                                                                                                                                                                                                                                                                                                                                                                                                                                                                                                                                                                                                                                                                                                                                                                                                                                                                                                                                                                                                                                                                                                                                                                                                                                                                                                                                                                                                                                                                                                                                                                                                                                                                                                                                                                                                                                                                                                                                                                                                                                                                                                                                                                                                                                                                                                                                                 |0.0       |\n",
            "| [@Figs. 3–4#Misc-exposition*]                                                                                                                                                                                                                                                                                                                                                                                                                                                                                                                                                                                                                                                                                                                                                                                                                                                                                                                                                                                                                                                                                                                                                                                                                                                                                                                                                                                                                                                                                                                                                                                                                                                                                                                                                                                                                                                                                                                                                                                                                                                                                                                                                                                                                                                                                                                                                                                                                                                                                                                                                                                                                                                                                                                                                                                                                                                                                                                                                                                                                                                                                                                                                                                                                                                                                                                                         |0.0       |\n",
            "| [@Synnemata 200–337.5 µm longa, ex stromatibus oriunda. Stromata bene evoluta, globosa, subglobosa vel irregularia, atrobrunnea. 50–72 µm diam., ex cellulis oblongis, cylindraceis composita. Conidiophora 130–263 × 5–6 µm, modice brunnea vel atrobrunnea, crassitunicata, pluriseptata. Conidia solitaria, sicca, in multitudine atro-brunnea, 25–57.5 × 5.5–8 µm, laevia, raro verruculosa, crassitunicata, 2–7 septis crassis, basi truncate.#Description*] [@Type: India, Mahabaleshwar, Western Ghats, Maharashtra, on leaves of Terminalia chebula Retz. (Combretaceae), January 2011, K.C. Rajeshkumar & Rahul Sharma (AMH 9425, holotype; ex-type culture NFCCI 2344.)#Misc-exposition*] [@Etymology: kamalii, named in honour of Prof. Dr. Kamal, Emeritus Professor, Department of Botany, D.D.U. Gorkhpur University for his major contribution to the cercosporoid fungi of India.#Misc-exposition*]                                                                                                                                                                                                                                                                                                                                                                                                                                                                                                                                                                                                                                                                                                                                                                                                                                                                                                                                                                                                                                                                                                                                                                                                                                                                                                                                                                                                                                                                                                                                                                                                                                                                                                                                                                                                                                                                                                                                                                                                                                                                                                                                                                                                                                                                                                                                                                                                                                                   |0.0       |\n",
            "| [@Leaf spots necrotic, amphigenous, circular, angular or irregular, forming concentric dark and pale brown patterns on the spots, spreading eventually covering most of the leaf, but not vein limited, 1–3 cm diam. Conidiomata synnematous and caespituli either exclusively hypogenous or amphigenous, synnemata blackish brown 200–337.5 µm long, arising from well developed stroma, globose, subglobose or irregular, dark brown or blackish brown, 50–72 µm diam, formed of elongated cylindrical cells. Conidiophores medium to dark brown, thick and dark-walled, formed as a continuation of stromatic cells, 130–263 µm long and 5–6 µm wide, 8–10 to multiseptate. Conidiogenous cells integrated, terminal, cylindrical or sometime doliiform, geniculate, slightly wider and paler towards truncate apex, which at times can be obtusely rounded; conidial scars 1–2 in number, 2–3 µm diam, slightly thicker and dark, conidial loci not usually protuberant. Conidia solitary, holoblastic, dry, dark brown to blackish brown in mass, pale brown when immature, later turning to medium to dark brown, 25–57.5 × 5.5–8 µm, straight or slightly curved, mostly smooth, rarely minutely verruculose, thick-walled, thick septate, 2–7-septate, conidial wall and septations are thicker and darker in the basal part, and pale and thin towards apex, conidial base truncate, 2.0–2.2 µm, and apex obtuse or subacute 2.5–3.5 µm#Description*]                                                                                                                                                                                                                                                                                                                                                                                                                                                                                                                                                                                                                                                                                                                                                                                                                                                                                                                                                                                                                                                                                                                                                                                                                                                                                                                                                                                                                                                                                                                                                                                                                                                                                                                                                                                                                                                                                                        |1.0       |\n",
            "|[@Teleomorph: not observed.#Description*]                                                                                                                                                                                                                                                                                                                                                                                                                                                                                                                                                                                                                                                                                                                                                                                                                                                                                                                                                                                                                                                                                                                                                                                                                                                                                                                                                                                                                                                                                                                                                                                                                                                                                                                                                                                                                                                                                                                                                                                                                                                                                                                                                                                                                                                                                                                                                                                                                                                                                                                                                                                                                                                                                                                                                                                                                                                                                                                                                                                                                                                                                                                                                                                                                                                                                                                              |0.0       |\n",
            "|[@Colonies on MEA (Fig. 5) very slow growing, 0.5 to 0.8 mm diam after 7 days, grayish white or white initially, later turning dark grayish black to blackish brown, velutinous, reverse blackish to dark blackish brown. Colonies become 2 to 2.3 mm after 30 days, forming a sulcate pattern, and sectored on MEA.#Description*] [@Fig. 3. Pseudocercospora kamalii (holotype). a. Habit. b. Symptoms on leaves and synnemata. c–d. Synnemata side view. e. Synnemata top view. f–h. Conidioma with stroma. i. Well developed stroma. j. Conidiophore tip and conidial scar. k–m. Conidia with thick wall and thick septations. Bars: k, l, m = 25 µm.#Figure*]                                                                                                                                                                                                                                                                                                                                                                                                                                                                                                                                                                                                                                                                                                                                                                                                                                                                                                                                                                                                                                                                                                                                                                                                                                                                                                                                                                                                                                                                                                                                                                                                                                                                                                                                                                                                                                                                                                                                                                                                                                                                                                                                                                                                                                                                                                                                                                                                                                                                                                                                                                                                                                                                                                      |0.0       |\n",
            "| [@\\fPseudocercospora kamalii sp. nov. (India) ... 233#Page-header*]                                                                                                                                                                                                                                                                                                                                                                                                                                                                                                                                                                                                                                                                                                                                                                                                                                                                                                                                                                                                                                                                                                                                                                                                                                                                                                                                                                                                                                                                                                                                                                                                                                                                                                                                                                                                                                                                                                                                                                                                                                                                                                                                                                                                                                                                                                                                                                                                                                                                                                                                                                                                                                                                                                                                                                                                                                                                                                                                                                                                                                                                                                                                                                                                                                                                                                   |0.0       |\n",
            "| [@\\f234 ... Rajeshkumar & al.#Page-header*]                                                                                                                                                                                                                                                                                                                                                                                                                                                                                                                                                                                                                                                                                                                                                                                                                                                                                                                                                                                                                                                                                                                                                                                                                                                                                                                                                                                                                                                                                                                                                                                                                                                                                                                                                                                                                                                                                                                                                                                                                                                                                                                                                                                                                                                                                                                                                                                                                                                                                                                                                                                                                                                                                                                                                                                                                                                                                                                                                                                                                                                                                                                                                                                                                                                                                                                           |0.0       |\n",
            "| [@Fig. 4. Pseudocercospora kamalii. (holotype). a. Conidiophore and conidial development. b. Conidia. c. Synnemata#Figure*]                                                                                                                                                                                                                                                                                                                                                                                                                                                                                                                                                                                                                                                                                                                                                                                                                                                                                                                                                                                                                                                                                                                                                                                                                                                                                                                                                                                                                                                                                                                                                                                                                                                                                                                                                                                                                                                                                                                                                                                                                                                                                                                                                                                                                                                                                                                                                                                                                                                                                                                                                                                                                                                                                                                                                                                                                                                                                                                                                                                                                                                                                                                                                                                                                                           |0.0       |\n",
            "| [@Culture on MEA not sporulating (lacking conidial development) but forming distinct synnemata-like bunches of conidiophores and dark celled stroma-like structures. The hyphae are medium to dark brown, highly verruculose and interwoven, forming a thick mat.#Misc-exposition*]                                                                                                                                                                                                                                                                                                                                                                                                                                                                                                                                                                                                                                                                                                                                                                                                                                                                                                                                                                                                                                                                                                                                                                                                                                                                                                                                                                                                                                                                                                                                                                                                                                                                                                                                                                                                                                                                                                                                                                                                                                                                                                                                                                                                                                                                                                                                                                                                                                                                                                                                                                                                                                                                                                                                                                                                                                                                                                                                                                                                                                                                                   |0.0       |\n",
            "| [@\\fPseudocercospora kamalii sp. nov. (India) ... 235#Page-header*]                                                                                                                                                                                                                                                                                                                                                                                                                                                                                                                                                                                                                                                                                                                                                                                                                                                                                                                                                                                                                                                                                                                                                                                                                                                                                                                                                                                                                                                                                                                                                                                                                                                                                                                                                                                                                                                                                                                                                                                                                                                                                                                                                                                                                                                                                                                                                                                                                                                                                                                                                                                                                                                                                                                                                                                                                                                                                                                                                                                                                                                                                                                                                                                                                                                                                                   |0.0       |\n",
            "| [@Fig. 5. Pseudocercospora kamalii. (holotype) Ex-type culture on MEA. a. Top view b. Reverse view.#Description*]                                                                                                                                                                                                                                                                                                                                                                                                                                                                                                                                                                                                                                                                                                                                                                                                                                                                                                                                                                                                                                                                                                                                                                                                                                                                                                                                                                                                                                                                                                                                                                                                                                                                                                                                                                                                                                                                                                                                                                                                                                                                                                                                                                                                                                                                                                                                                                                                                                                                                                                                                                                                                                                                                                                                                                                                                                                                                                                                                                                                                                                                                                                                                                                                                                                     |0.0       |\n",
            "| [@Discussion#Misc-exposition*]                                                                                                                                                                                                                                                                                                                                                                                                                                                                                                                                                                                                                                                                                                                                                                                                                                                                                                                                                                                                                                                                                                                                                                                                                                                                                                                                                                                                                                                                                                                                                                                                                                                                                                                                                                                                                                                                                                                                                                                                                                                                                                                                                                                                                                                                                                                                                                                                                                                                                                                                                                                                                                                                                                                                                                                                                                                                                                                                                                                                                                                                                                                                                                                                                                                                                                                                        |0.0       |\n",
            "| [@The new species, Pseudocercospora kamalii, is morphologically quite unusual and obscure within Pseudocercospora, as it exhibits many characters that match the genus Prathigada. Among these, the thick conidial septations and wall pattern are mostly identical with species of Prathigada. Only a few cercosporoid species with similar morphological characters (thick-walled, multi-septate, pigmented conidia containing slightly thickened and darkened scars) have been transferred to Prathigada (Braun 1996; Furlanetto & Dianese 1999; Sutton 1994), most being retained in Pseudocercospora. Thus far, 15                                                                                                                                                                                                                                                                                                                                                                                                                                                                                                                                                                                                                                                                                                                                                                                                                                                                                                                                                                                                                                                                                                                                                                                                                                                                                                                                                                                                                                                                                                                                                                                                                                                                                                                                                                                                                                                                                                                                                                                                                                                                                                                                                                                                                                                                                                                                                                                                                                                                                                                                                                                                                                                                                                                                               |0.0       |\n",
            "|species are recorded under the genus Prathigada. Initial morphological studies also made it evident that Pseudocercospora kamalii is morphologically close to Prathigada terminaliae (Syd.) B. Sutton recorded on Terminalia spp. (Sutton 1994). However, P. kamalii has synnematous conidiomata, smaller conidia, and fewer conidial septa. Furthermore, the LSU and ITS sequence analyses accurately deﬁned the species boundaries and placed P. kamalii into Pseudocercospora. Crous et al. (2009b) recently stated that due to the unavailability of cultures, no decision could yet be made on the phylogenetic placement of several less well-known genera such as Prathigada Subram. within the Mycosphaerellaceae. A recollection, epitypiﬁcation and detailed phylogenetic analysis of the type species, Prathigada cratevae (Syd.) Subram. on Crateva religiosa G. Forst. from India, is needed to reveal the exact relation of the genus Prathigada with Pseudocercospora and their placement in Mycosphaerellaceae.#Misc-exposition*] [@Sutton (1994) also reported six Pseudocercospora taxa on Terminalia spp. from India: P. arjunae B. Sutton (on T. arjuna), P. brevis B. Sutton (on T. bellerica), P. catappae (Henn.) Y.L. Guo & X.J. Liu (on T. catappa, T. tomentosa, T. arjuna), P. chebulae B. Sutton (on T. chebula), P. combretacearum#Misc-exposition*]                                                                                                                                                                                                                                                                                                                                                                                                                                                                                                                                                                                                                                                                                                                                                                                                                                                                                                                                                                                                                                                                                                                                                                                                                                                                                                                                                                                                                                                                                                                                                                                                                                                                                                                                                                                                                                                                                                                                                                                      |0.0       |\n",
            "| [@\\f236 ... Rajeshkumar & al.#Page-header*]                                                                                                                                                                                                                                                                                                                                                                                                                                                                                                                                                                                                                                                                                                                                                                                                                                                                                                                                                                                                                                                                                                                                                                                                                                                                                                                                                                                                                                                                                                                                                                                                                                                                                                                                                                                                                                                                                                                                                                                                                                                                                                                                                                                                                                                                                                                                                                                                                                                                                                                                                                                                                                                                                                                                                                                                                                                                                                                                                                                                                                                                                                                                                                                                                                                                                                                           |0.0       |\n",
            "|[@R.K. Verma & Kamal var. combretacearum (on T. bellerica, Terminalia sp.), and P. combretacearum var. minima B. Sutton (on T. bellerica); he also reported two other species: P. neodeightonii B. Sutton (on T. albida from Sierra Leone) and P. zambiensis (Deighton) B. Sutton (on T. mollis from Zambia). Kamal (2010:                                                                                                                                                                                                                                                                                                                                                                                                                                                                                                                                                                                                                                                                                                                                                                                                                                                                                                                                                                                                                                                                                                                                                                                                                                                                                                                                                                                                                                                                                                                                                                                                                                                                                                                                                                                                                                                                                                                                                                                                                                                                                                                                                                                                                                                                                                                                                                                                                                                                                                                                                                                                                                                                                                                                                                                                                                                                                                                                                                                                                                             |0.0       |\n",
            "|347) listed P. catappae, P. chebulae, and P. combretacearum var. combetacearum from Indian T. chebula. These three species diﬀer from P. kamalii in various morphological characters; most conspicuously, they have mononematous, fasciculate, or sporodochial conidiophores in contrast with the synnematous conidiophores of P. kamalii, which is the only synnematous Pseudocercospora species recorded on Terminalia.#Misc-exposition*] [@In the present study, P. kamalii is proposed as a new species based on the LSU & ITS sequence analysis (Fig. 1, 2) and morphological characterization (Fig. 3, 4). Phylogenetically, P. kamalii is closely related to Pseudocercospora musae (66% bootstrap support) on Musa spp. (Arzanlou et al. 2008, Braun et al. 1999). With its distinct synnemata with a well-developed basal stroma and larger conidiophores and conidia, P. kamalii is morphologically distinct from Pseudocercospora musae and all other taxa with higher phylogenetic similarity.#Misc-exposition*] [@Acknowledgements#Misc-exposition*]                                                                                                                                                                                                                                                                                                                                                                                                                                                                                                                                                                                                                                                                                                                                                                                                                                                                                                                                                                                                                                                                                                                                                                                                                                                                                                                                                                                                                                                                                                                                                                                                                                                                                                                                                                                                                                                                                                                                                                                                                                                                                                                                                                                                                                                                                                      |0.0       |\n",
            "| [@We are indebted to Pedro W. Crous and Johannes Zacharias Groenewald (Centraalbureau voor Schimmelcultures, Fungal Biodiversity Centre, Utrecht, The Netherlands) and Uwe Braun (Martin-Luther-University, Institute of Biology, Department of Geobotany and Botanical Garden, Herbarium, Halle (Saale), Germany) for reviewing this manuscript. Thanks are also due to Department of Science and Technology (DST), Government of India, New Delhi for providing ﬁnancial support for                                                                                                                                                                                                                                                                                                                                                                                                                                                                                                                                                                                                                                                                                                                                                                                                                                                                                                                                                                                                                                                                                                                                                                                                                                                                                                                                                                                                                                                                                                                                                                                                                                                                                                                                                                                                                                                                                                                                                                                                                                                                                                                                                                                                                                                                                                                                                                                                                                                                                                                                                                                                                                                                                                                                                                                                                                                                                |0.0       |\n",
            "|setting up the National Facility for Culture Collection of Fungi (No. SP/SO/PS-55/2005) at MACS’Agharkar Research Institute, Pune, India and the Director, MACS’ARI for providing facility.#Misc-exposition*]                                                                                                                                                                                                                                                                                                                                                                                                                                                                                                                                                                                                                                                                                                                                                                                                                                                                                                                                                                                                                                                                                                                                                                                                                                                                                                                                                                                                                                                                                                                                                                                                                                                                                                                                                                                                                                                                                                                                                                                                                                                                                                                                                                                                                                                                                                                                                                                                                                                                                                                                                                                                                                                                                                                                                                                                                                                                                                                                                                                                                                                                                                                                                          |0.0       |\n",
            "+-----------------------------------------------------------------------------------------------------------------------------------------------------------------------------------------------------------------------------------------------------------------------------------------------------------------------------------------------------------------------------------------------------------------------------------------------------------------------------------------------------------------------------------------------------------------------------------------------------------------------------------------------------------------------------------------------------------------------------------------------------------------------------------------------------------------------------------------------------------------------------------------------------------------------------------------------------------------------------------------------------------------------------------------------------------------------------------------------------------------------------------------------------------------------------------------------------------------------------------------------------------------------------------------------------------------------------------------------------------------------------------------------------------------------------------------------------------------------------------------------------------------------------------------------------------------------------------------------------------------------------------------------------------------------------------------------------------------------------------------------------------------------------------------------------------------------------------------------------------------------------------------------------------------------------------------------------------------------------------------------------------------------------------------------------------------------------------------------------------------------------------------------------------------------------------------------------------------------------------------------------------------------------------------------------------------------------------------------------------------------------------------------------------------------------------------------------------------------------------------------------------------------------------------------------------------------------------------------------------------------------------------------------------------------------------------------------------------------------------------------------------------------------------------------------------------------------------------------------------------------------------------------------------------------------------------------------------------------------------------------------------------------------------------------------------------------------------------------------------------------------------------------------------------------------------------------------------------------------------------------------------------------------------------------------------------------------------------------------------------------+----------+\n",
            "only showing top 50 rows\n",
            "\n"
          ]
        }
      ]
    }
  ],
  "metadata": {
    "colab": {
      "provenance": [],
      "machine_shape": "hm",
      "gpuType": "A100"
    },
    "kernelspec": {
      "display_name": "Python 3",
      "name": "python3"
    },
    "language_info": {
      "name": "python"
    },
    "accelerator": "GPU"
  },
  "nbformat": 4,
  "nbformat_minor": 0
}