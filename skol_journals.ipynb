{
 "cells": [
  {
   "cell_type": "code",
   "execution_count": 1,
   "metadata": {},
   "outputs": [],
   "source": [
    "import glob\n",
    "import pandas as pd\n",
    "import matplotlib.pyplot as plt\n",
    "\n",
    "from finder import read_files, parse_annotated, target_classes\n",
    "from label import Label"
   ]
  },
  {
   "cell_type": "code",
   "execution_count": 2,
   "metadata": {},
   "outputs": [],
   "source": [
    "SEED=12345\n",
    "default_label = Label('Misc-exposition')\n",
    "keep_labels = [Label('Description'), Label('Nomenclature')]"
   ]
  },
  {
   "cell_type": "code",
   "execution_count": 3,
   "metadata": {},
   "outputs": [],
   "source": [
    "training_files = [f for g in [\n",
    "    'data/annotated/journals/Mycotaxon/Vol*/*.ann'\n",
    "] for f in glob.glob(g)]\n"
   ]
  },
  {
   "cell_type": "code",
   "execution_count": 4,
   "metadata": {},
   "outputs": [],
   "source": [
    "paragraphs = list(parse_annotated(read_files(training_files)))"
   ]
  },
  {
   "cell_type": "code",
   "execution_count": 5,
   "metadata": {},
   "outputs": [],
   "source": [
    "relabeled = list(target_classes(default=default_label, keep=keep_labels, paragraphs=paragraphs))"
   ]
  },
  {
   "cell_type": "code",
   "execution_count": 6,
   "metadata": {},
   "outputs": [
    {
     "data": {
      "text/plain": [
       "68371"
      ]
     },
     "execution_count": 6,
     "metadata": {},
     "output_type": "execute_result"
    }
   ],
   "source": [
    "len(relabeled)"
   ]
  },
  {
   "cell_type": "code",
   "execution_count": 7,
   "metadata": {},
   "outputs": [],
   "source": [
    "df = pd.DataFrame({\n",
    "    'filename': [pp.filename for pp in relabeled],\n",
    "    'label': [pp.top_label().label if pp.top_label() else None for pp in relabeled],\n",
    "    'paragraph_number': [pp.paragraph_number for pp in relabeled],\n",
    "    'page_number': [pp.page_number for pp in relabeled],\n",
    "    'empirical_page_number': [pp.empirical_page_number for pp in relabeled],\n",
    "    'line_number': [pp.first_line.line_number if pp.first_line else None for pp in relabeled],\n",
    "    'body': [str(pp) for pp in relabeled]\n",
    "})\n",
    "df.label = pd.Categorical(df.label)\n",
    "df['label_code'] = df.label.cat.codes"
   ]
  },
  {
   "cell_type": "code",
   "execution_count": 8,
   "metadata": {},
   "outputs": [
    {
     "data": {
      "text/html": [
       "<div>\n",
       "<style scoped>\n",
       "    .dataframe tbody tr th:only-of-type {\n",
       "        vertical-align: middle;\n",
       "    }\n",
       "\n",
       "    .dataframe tbody tr th {\n",
       "        vertical-align: top;\n",
       "    }\n",
       "\n",
       "    .dataframe thead th {\n",
       "        text-align: right;\n",
       "    }\n",
       "</style>\n",
       "<table border=\"1\" class=\"dataframe\">\n",
       "  <thead>\n",
       "    <tr style=\"text-align: right;\">\n",
       "      <th></th>\n",
       "      <th>paragraph_number</th>\n",
       "      <th>page_number</th>\n",
       "      <th>line_number</th>\n",
       "      <th>label_code</th>\n",
       "    </tr>\n",
       "  </thead>\n",
       "  <tbody>\n",
       "    <tr>\n",
       "      <th>count</th>\n",
       "      <td>68371.000000</td>\n",
       "      <td>68371.000000</td>\n",
       "      <td>68370.000000</td>\n",
       "      <td>68371.000000</td>\n",
       "    </tr>\n",
       "    <tr>\n",
       "      <th>mean</th>\n",
       "      <td>34185.000000</td>\n",
       "      <td>227.817657</td>\n",
       "      <td>31.739491</td>\n",
       "      <td>0.997514</td>\n",
       "    </tr>\n",
       "    <tr>\n",
       "      <th>std</th>\n",
       "      <td>19737.151964</td>\n",
       "      <td>195.701461</td>\n",
       "      <td>29.224756</td>\n",
       "      <td>0.316888</td>\n",
       "    </tr>\n",
       "    <tr>\n",
       "      <th>min</th>\n",
       "      <td>0.000000</td>\n",
       "      <td>0.000000</td>\n",
       "      <td>1.000000</td>\n",
       "      <td>0.000000</td>\n",
       "    </tr>\n",
       "    <tr>\n",
       "      <th>25%</th>\n",
       "      <td>17092.500000</td>\n",
       "      <td>16.000000</td>\n",
       "      <td>10.000000</td>\n",
       "      <td>1.000000</td>\n",
       "    </tr>\n",
       "    <tr>\n",
       "      <th>50%</th>\n",
       "      <td>34185.000000</td>\n",
       "      <td>208.000000</td>\n",
       "      <td>25.000000</td>\n",
       "      <td>1.000000</td>\n",
       "    </tr>\n",
       "    <tr>\n",
       "      <th>75%</th>\n",
       "      <td>51277.500000</td>\n",
       "      <td>411.000000</td>\n",
       "      <td>43.000000</td>\n",
       "      <td>1.000000</td>\n",
       "    </tr>\n",
       "    <tr>\n",
       "      <th>max</th>\n",
       "      <td>68370.000000</td>\n",
       "      <td>572.000000</td>\n",
       "      <td>292.000000</td>\n",
       "      <td>2.000000</td>\n",
       "    </tr>\n",
       "  </tbody>\n",
       "</table>\n",
       "</div>"
      ],
      "text/plain": [
       "       paragraph_number   page_number   line_number    label_code\n",
       "count      68371.000000  68371.000000  68370.000000  68371.000000\n",
       "mean       34185.000000    227.817657     31.739491      0.997514\n",
       "std        19737.151964    195.701461     29.224756      0.316888\n",
       "min            0.000000      0.000000      1.000000      0.000000\n",
       "25%        17092.500000     16.000000     10.000000      1.000000\n",
       "50%        34185.000000    208.000000     25.000000      1.000000\n",
       "75%        51277.500000    411.000000     43.000000      1.000000\n",
       "max        68370.000000    572.000000    292.000000      2.000000"
      ]
     },
     "execution_count": 8,
     "metadata": {},
     "output_type": "execute_result"
    }
   ],
   "source": [
    "df.describe()"
   ]
  },
  {
   "cell_type": "code",
   "execution_count": 9,
   "metadata": {},
   "outputs": [
    {
     "data": {
      "text/plain": [
       "Index(['filename', 'label', 'paragraph_number', 'page_number',\n",
       "       'empirical_page_number', 'line_number', 'body', 'label_code'],\n",
       "      dtype='object')"
      ]
     },
     "execution_count": 9,
     "metadata": {},
     "output_type": "execute_result"
    }
   ],
   "source": [
    "df.keys()"
   ]
  },
  {
   "cell_type": "code",
   "execution_count": 10,
   "metadata": {},
   "outputs": [
    {
     "data": {
      "text/html": [
       "<div>\n",
       "<style scoped>\n",
       "    .dataframe tbody tr th:only-of-type {\n",
       "        vertical-align: middle;\n",
       "    }\n",
       "\n",
       "    .dataframe tbody tr th {\n",
       "        vertical-align: top;\n",
       "    }\n",
       "\n",
       "    .dataframe thead th {\n",
       "        text-align: right;\n",
       "    }\n",
       "</style>\n",
       "<table border=\"1\" class=\"dataframe\">\n",
       "  <thead>\n",
       "    <tr style=\"text-align: right;\">\n",
       "      <th></th>\n",
       "      <th>filename</th>\n",
       "      <th>label</th>\n",
       "      <th>paragraph_number</th>\n",
       "      <th>page_number</th>\n",
       "      <th>empirical_page_number</th>\n",
       "      <th>line_number</th>\n",
       "      <th>body</th>\n",
       "      <th>label_code</th>\n",
       "    </tr>\n",
       "    <tr>\n",
       "      <th>label</th>\n",
       "      <th></th>\n",
       "      <th></th>\n",
       "      <th></th>\n",
       "      <th></th>\n",
       "      <th></th>\n",
       "      <th></th>\n",
       "      <th></th>\n",
       "      <th></th>\n",
       "    </tr>\n",
       "  </thead>\n",
       "  <tbody>\n",
       "    <tr>\n",
       "      <th>Description</th>\n",
       "      <td>148</td>\n",
       "      <td>1</td>\n",
       "      <td>3518</td>\n",
       "      <td>469</td>\n",
       "      <td>492</td>\n",
       "      <td>81</td>\n",
       "      <td>2610</td>\n",
       "      <td>1</td>\n",
       "    </tr>\n",
       "    <tr>\n",
       "      <th>Misc-exposition</th>\n",
       "      <td>168</td>\n",
       "      <td>1</td>\n",
       "      <td>61505</td>\n",
       "      <td>573</td>\n",
       "      <td>581</td>\n",
       "      <td>191</td>\n",
       "      <td>35051</td>\n",
       "      <td>1</td>\n",
       "    </tr>\n",
       "    <tr>\n",
       "      <th>Nomenclature</th>\n",
       "      <td>151</td>\n",
       "      <td>1</td>\n",
       "      <td>3348</td>\n",
       "      <td>411</td>\n",
       "      <td>443</td>\n",
       "      <td>82</td>\n",
       "      <td>3235</td>\n",
       "      <td>1</td>\n",
       "    </tr>\n",
       "  </tbody>\n",
       "</table>\n",
       "</div>"
      ],
      "text/plain": [
       "                 filename  label  paragraph_number  page_number  \\\n",
       "label                                                             \n",
       "Description           148      1              3518          469   \n",
       "Misc-exposition       168      1             61505          573   \n",
       "Nomenclature          151      1              3348          411   \n",
       "\n",
       "                 empirical_page_number  line_number   body  label_code  \n",
       "label                                                                   \n",
       "Description                        492           81   2610           1  \n",
       "Misc-exposition                    581          191  35051           1  \n",
       "Nomenclature                       443           82   3235           1  "
      ]
     },
     "execution_count": 10,
     "metadata": {},
     "output_type": "execute_result"
    }
   ],
   "source": [
    "df.groupby('label').nunique()"
   ]
  },
  {
   "cell_type": "code",
   "execution_count": 11,
   "metadata": {},
   "outputs": [
    {
     "data": {
      "image/png": "[encoded data removed]",
      "text/plain": [
       "<Figure size 432x288 with 1 Axes>"
      ]
     },
     "metadata": {},
     "output_type": "display_data"
    }
   ],
   "source": [
    "df.plot(kind='line', x='paragraph_number', y='label_code', style='-o')\n",
    "x = 185\n",
    "plt.xlim(x,x+40)\n",
    "plt.show()"
   ]
  },
  {
   "cell_type": "code",
   "execution_count": 12,
   "metadata": {},
   "outputs": [
    {
     "data": {
      "text/plain": [
       "(filename                 data/annotated/journals/Mycotaxon/Vol119/s17.t...\n",
       " label                                                         Nomenclature\n",
       " paragraph_number                                                       187\n",
       " page_number                                                              4\n",
       " empirical_page_number                                                  152\n",
       " line_number                                                             17\n",
       " body                     Physcia phaea (Tuck.) J.W. Thomson, Beih. Nova...\n",
       " label_code                                                               2\n",
       " Name: 187, dtype: object,\n",
       " filename                 data/annotated/journals/Mycotaxon/Vol119/s17.t...\n",
       " label                                                          Description\n",
       " paragraph_number                                                       188\n",
       " page_number                                                              4\n",
       " empirical_page_number                                                  152\n",
       " line_number                                                             19\n",
       " body                     Thallus ± orbicular, or irregular, to 1.5–2.2 ...\n",
       " label_code                                                               0\n",
       " Name: 188, dtype: object,\n",
       " filename                 data/annotated/journals/Mycotaxon/Vol119/s17.t...\n",
       " label                                                          Description\n",
       " paragraph_number                                                       194\n",
       " page_number                                                              5\n",
       " empirical_page_number                                                  153\n",
       " line_number                                                              5\n",
       " body                     or sparse pale to brown rhizines, 0.3–1mm long...\n",
       " label_code                                                               0\n",
       " Name: 194, dtype: object)"
      ]
     },
     "execution_count": 12,
     "metadata": {},
     "output_type": "execute_result"
    }
   ],
   "source": [
    "df.loc[187], df.loc[188], df.loc[194]"
   ]
  },
  {
   "cell_type": "markdown",
   "metadata": {},
   "source": [
    "We're only interested in Nomeclature and Description paragraphs.\n",
    "\n",
    "The long list of Nomenclatures followed by a single Nomenclature is an article with just Nomenclatures, and then the next article has a Nomenclature and two Descriptions."
   ]
  },
  {
   "cell_type": "code",
   "execution_count": 13,
   "metadata": {},
   "outputs": [
    {
     "data": {
      "text/plain": [
       "6866"
      ]
     },
     "execution_count": 13,
     "metadata": {},
     "output_type": "execute_result"
    }
   ],
   "source": [
    "df2 = df.loc[df['label'].isin(['Nomenclature', 'Description'])]\n",
    "len(df2)"
   ]
  },
  {
   "cell_type": "code",
   "execution_count": 14,
   "metadata": {},
   "outputs": [
    {
     "data": {
      "image/png": "[encoded data removed]",
      "text/plain": [
       "<Figure size 432x288 with 1 Axes>"
      ]
     },
     "metadata": {},
     "output_type": "display_data"
    }
   ],
   "source": [
    "df2.plot(kind='line', x='paragraph_number', y='label_code', style='-o')\n",
    "x = 300\n",
    "plt.xlim(x,x+400)\n",
    "plt.show()"
   ]
  },
  {
   "cell_type": "markdown",
   "metadata": {},
   "source": [
    "Sensible cutoffs for max distance from Nomenclature to Description appear to be above 6 or maybe above 13."
   ]
  },
  {
   "cell_type": "code",
   "execution_count": 15,
   "metadata": {},
   "outputs": [
    {
     "data": {
      "text/plain": [
       "3958.0"
      ]
     },
     "execution_count": 15,
     "metadata": {},
     "output_type": "execute_result"
    },
    {
     "data": {
      "image/png": "[encoded data removed]",
      "text/plain": [
       "<Figure size 432x288 with 1 Axes>"
      ]
     },
     "metadata": {},
     "output_type": "display_data"
    }
   ],
   "source": [
    "diffs = df2['paragraph_number'].diff()\n",
    "diffs[diffs < 20].hist(bins=40)\n",
    "diffs.max()"
   ]
  },
  {
   "cell_type": "markdown",
   "metadata": {},
   "source": [
    "I have confirmed that the highest paragraph distance is the first nomenclature in a volume. The first and last few articles in Mycotaxon typically have no Nomenclatures."
   ]
  },
  {
   "cell_type": "code",
   "execution_count": 16,
   "metadata": {},
   "outputs": [
    {
     "data": {
      "text/html": [
       "<div>\n",
       "<style scoped>\n",
       "    .dataframe tbody tr th:only-of-type {\n",
       "        vertical-align: middle;\n",
       "    }\n",
       "\n",
       "    .dataframe tbody tr th {\n",
       "        vertical-align: top;\n",
       "    }\n",
       "\n",
       "    .dataframe thead th {\n",
       "        text-align: right;\n",
       "    }\n",
       "</style>\n",
       "<table border=\"1\" class=\"dataframe\">\n",
       "  <thead>\n",
       "    <tr style=\"text-align: right;\">\n",
       "      <th></th>\n",
       "      <th>filename</th>\n",
       "      <th>label</th>\n",
       "      <th>paragraph_number</th>\n",
       "      <th>page_number</th>\n",
       "      <th>empirical_page_number</th>\n",
       "      <th>line_number</th>\n",
       "      <th>body</th>\n",
       "      <th>label_code</th>\n",
       "    </tr>\n",
       "  </thead>\n",
       "  <tbody>\n",
       "    <tr>\n",
       "      <th>57414</th>\n",
       "      <td>data/annotated/journals/Mycotaxon/Vol057/n1.tx...</td>\n",
       "      <td>Nomenclature</td>\n",
       "      <td>57414</td>\n",
       "      <td>96</td>\n",
       "      <td>88</td>\n",
       "      <td>21.0</td>\n",
       "      <td>Appendiculella mauensis R. K. Mibey sp. nov. F...</td>\n",
       "      <td>2</td>\n",
       "    </tr>\n",
       "  </tbody>\n",
       "</table>\n",
       "</div>"
      ],
      "text/plain": [
       "                                                filename         label  \\\n",
       "57414  data/annotated/journals/Mycotaxon/Vol057/n1.tx...  Nomenclature   \n",
       "\n",
       "       paragraph_number  page_number empirical_page_number  line_number  \\\n",
       "57414             57414           96                    88         21.0   \n",
       "\n",
       "                                                    body  label_code  \n",
       "57414  Appendiculella mauensis R. K. Mibey sp. nov. F...           2  "
      ]
     },
     "execution_count": 16,
     "metadata": {},
     "output_type": "execute_result"
    }
   ],
   "source": [
    "df2.loc[diffs.index[diffs == 3958.0]]"
   ]
  },
  {
   "cell_type": "code",
   "execution_count": 18,
   "metadata": {},
   "outputs": [
    {
     "data": {
      "text/plain": [
       "filename                 data/annotated/journals/Mycotaxon/Vol057/n1.tx...\n",
       "label                                                         Nomenclature\n",
       "paragraph_number                                                     57414\n",
       "page_number                                                             96\n",
       "empirical_page_number                                                   88\n",
       "line_number                                                             21\n",
       "body                     Appendiculella mauensis R. K. Mibey sp. nov. F...\n",
       "label_code                                                               2\n",
       "Name: 57414, dtype: object"
      ]
     },
     "execution_count": 18,
     "metadata": {},
     "output_type": "execute_result"
    }
   ],
   "source": [
    "df2.loc[57414]"
   ]
  },
  {
   "cell_type": "code",
   "execution_count": 19,
   "metadata": {},
   "outputs": [
    {
     "data": {
      "text/plain": [
       "(<1x66569 sparse matrix of type '<class 'numpy.float64'>'\n",
       " \twith 0 stored elements in Compressed Sparse Row format>,\n",
       " <68371x66569 sparse matrix of type '<class 'numpy.float64'>'\n",
       " \twith 765238 stored elements in Compressed Sparse Row format>,\n",
       " array([[-5.99562706e-18,  3.31524166e-16,  4.81917232e-15, ...,\n",
       "         -1.31824513e-15, -1.99328481e-15, -9.16412873e-16],\n",
       "        [ 2.23990154e-03,  1.04315089e-01,  1.68186225e-02, ...,\n",
       "          4.77310757e-05,  1.20496157e-04,  5.01271672e-04],\n",
       "        [-3.76671078e-18, -1.41452299e-15,  1.12163158e-15, ...,\n",
       "          9.32460882e-16, -2.13482295e-15, -2.91093710e-16],\n",
       "        ...,\n",
       "        [ 3.89503800e-02,  3.76054558e-04,  2.54600130e-03, ...,\n",
       "          2.40028896e-02,  7.72857508e-03,  1.31438096e-03],\n",
       "        [ 3.20905536e-03,  6.83357336e-04, -1.28874410e-04, ...,\n",
       "          2.24489106e-02,  1.41850327e-02,  5.16306814e-02],\n",
       "        [ 0.00000000e+00, -0.00000000e+00, -0.00000000e+00, ...,\n",
       "         -0.00000000e+00, -0.00000000e+00,  0.00000000e+00]]))"
      ]
     },
     "execution_count": 19,
     "metadata": {},
     "output_type": "execute_result"
    }
   ],
   "source": [
    "from sklearn.feature_extraction.text import TfidfVectorizer\n",
    "from sklearn.calibration import CalibratedClassifierCV\n",
    "from sklearn.decomposition import PCA, SparsePCA, TruncatedSVD\n",
    "import numpy as np\n",
    "classifier = CalibratedClassifierCV()\n",
    "vectorizer = TfidfVectorizer()\n",
    "vectorize_text = vectorizer.fit_transform(df['body'])\n",
    "\n",
    "pca = TruncatedSVD(n_components=1000)\n",
    "vt2d = pca.fit_transform(vectorize_text)\n",
    "\n",
    "sample = vectorizer.transform([df.loc[57413]['body']])\n",
    "(sample, vectorize_text, vt2d)"
   ]
  },
  {
   "cell_type": "code",
   "execution_count": null,
   "metadata": {},
   "outputs": [],
   "source": [
    "pca.components_"
   ]
  },
  {
   "cell_type": "code",
   "execution_count": null,
   "metadata": {},
   "outputs": [],
   "source": [
    "pca.explained_variance_ratio_"
   ]
  },
  {
   "cell_type": "code",
   "execution_count": null,
   "metadata": {},
   "outputs": [],
   "source": [
    "cumsum = np.cumsum(pca.explained_variance_ratio_)\n",
    "d = np.argmax(cumsum >= 0.95) + 1\n",
    "cumsum"
   ]
  },
  {
   "cell_type": "code",
   "execution_count": null,
   "metadata": {},
   "outputs": [],
   "source": []
  }
 ],
 "metadata": {
  "kernelspec": {
   "display_name": "Python 3",
   "language": "python",
   "name": "python3"
  },
  "language_info": {
   "codemirror_mode": {
    "name": "ipython",
    "version": 3
   },
   "file_extension": ".py",
   "mimetype": "text/x-python",
   "name": "python",
   "nbconvert_exporter": "python",
   "pygments_lexer": "ipython3",
   "version": "3.6.8"
  }
 },
 "nbformat": 4,
 "nbformat_minor": 2
}
